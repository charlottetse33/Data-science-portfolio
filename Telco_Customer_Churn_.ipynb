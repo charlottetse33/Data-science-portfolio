{
  "nbformat": 4,
  "nbformat_minor": 0,
  "metadata": {
    "colab": {
      "name": "Telco Customer Churn .ipynb",
      "provenance": [],
      "collapsed_sections": [
        "BvMROCowwfVD",
        "zQtASMo83p0J",
        "lnHazPOH_ffN",
        "rLzTZ4Gv4E3h",
        "aTfMGyPgs4Yj",
        "_5YGzDS87ULn",
        "ncZPoZJtEetH",
        "rXVdFcOfMGRS",
        "6an5br-Es89-",
        "_j08cTncPUA6",
        "o4jMmDqhGjme",
        "kLp49qd7Dv-c",
        "DQnMT1uPGxxJ",
        "ABE8yvwy-nvv",
        "43byaK6wGCdf",
        "7ZZhLrtpjy0d",
        "iGTAOnoutdtU",
        "bnPeBYoptFPQ",
        "KLYflSwDNANH",
        "hiv8pLkfMMb3",
        "N4r8pCLhjo-E",
        "O-Mq2HcrtRPS",
        "eaOMwTtxL8xd",
        "yQAVpzGX9I93",
        "V_sVIsqGBZKH",
        "j1KAUmtWBYWS",
        "o1C9XoBXB-DK"
      ],
      "include_colab_link": true
    },
    "kernelspec": {
      "name": "python3",
      "display_name": "Python 3"
    },
    "language_info": {
      "name": "python"
    }
  },
  "cells": [
    {
      "cell_type": "markdown",
      "metadata": {
        "id": "view-in-github",
        "colab_type": "text"
      },
      "source": [
        "<a href=\"https://colab.research.google.com/github/charlottetse33/Data-science-portfolio/blob/main/Telco_Customer_Churn_.ipynb\" target=\"_parent\"><img src=\"https://colab.research.google.com/assets/colab-badge.svg\" alt=\"Open In Colab\"/></a>"
      ]
    },
    {
      "cell_type": "code",
      "metadata": {
        "id": "PBDOCh_XRcS4"
      },
      "source": [
        "#Importing data \n",
        "import pandas as pd\n",
        "url_data = \"https://raw.githubusercontent.com/charlottetse32/Telco-Customer-Churn-/main/WA_Fn-UseC_-Telco-Customer-Churn.csv\"\n",
        "data = pd.read_csv(url_data, index_col='customerID')"
      ],
      "execution_count": null,
      "outputs": []
    },
    {
      "cell_type": "markdown",
      "metadata": {
        "id": "U532pSh4rZdQ"
      },
      "source": [
        "# Foundation"
      ]
    },
    {
      "cell_type": "code",
      "metadata": {
        "colab": {
          "base_uri": "https://localhost:8080/"
        },
        "id": "JAxwnKcHL9rQ",
        "outputId": "375a389b-1574-4357-d894-6d9339c1c29f"
      },
      "source": [
        "!pip install git+https://github.com/MaxHalford/Prince"
      ],
      "execution_count": null,
      "outputs": [
        {
          "output_type": "stream",
          "text": [
            "Collecting git+https://github.com/MaxHalford/Prince\n",
            "  Cloning https://github.com/MaxHalford/Prince to /tmp/pip-req-build-983kzfaq\n",
            "  Running command git clone -q https://github.com/MaxHalford/Prince /tmp/pip-req-build-983kzfaq\n",
            "Requirement already satisfied: matplotlib>=3.0.2 in /usr/local/lib/python3.7/dist-packages (from prince==0.7.0) (3.2.2)\n",
            "Requirement already satisfied: numpy>=1.17.1 in /usr/local/lib/python3.7/dist-packages (from prince==0.7.0) (1.19.5)\n",
            "Requirement already satisfied: pandas>=1.0.3 in /usr/local/lib/python3.7/dist-packages (from prince==0.7.0) (1.1.5)\n",
            "Requirement already satisfied: scipy>=1.3.0 in /usr/local/lib/python3.7/dist-packages (from prince==0.7.0) (1.4.1)\n",
            "Requirement already satisfied: scikit-learn>=0.22.1 in /usr/local/lib/python3.7/dist-packages (from prince==0.7.0) (0.22.2.post1)\n",
            "Requirement already satisfied: kiwisolver>=1.0.1 in /usr/local/lib/python3.7/dist-packages (from matplotlib>=3.0.2->prince==0.7.0) (1.3.1)\n",
            "Requirement already satisfied: python-dateutil>=2.1 in /usr/local/lib/python3.7/dist-packages (from matplotlib>=3.0.2->prince==0.7.0) (2.8.1)\n",
            "Requirement already satisfied: pyparsing!=2.0.4,!=2.1.2,!=2.1.6,>=2.0.1 in /usr/local/lib/python3.7/dist-packages (from matplotlib>=3.0.2->prince==0.7.0) (2.4.7)\n",
            "Requirement already satisfied: cycler>=0.10 in /usr/local/lib/python3.7/dist-packages (from matplotlib>=3.0.2->prince==0.7.0) (0.10.0)\n",
            "Requirement already satisfied: pytz>=2017.2 in /usr/local/lib/python3.7/dist-packages (from pandas>=1.0.3->prince==0.7.0) (2018.9)\n",
            "Requirement already satisfied: joblib>=0.11 in /usr/local/lib/python3.7/dist-packages (from scikit-learn>=0.22.1->prince==0.7.0) (1.0.1)\n",
            "Requirement already satisfied: six>=1.5 in /usr/local/lib/python3.7/dist-packages (from python-dateutil>=2.1->matplotlib>=3.0.2->prince==0.7.0) (1.15.0)\n",
            "Building wheels for collected packages: prince\n",
            "  Building wheel for prince (setup.py) ... \u001b[?25l\u001b[?25hdone\n",
            "  Created wheel for prince: filename=prince-0.7.0-cp37-none-any.whl size=21609 sha256=c7f8810f27b3be5cbdc56afeec4111eafd8f19d5b2c975523dff2b2cd05a7a9d\n",
            "  Stored in directory: /tmp/pip-ephem-wheel-cache-rs2mu299/wheels/59/35/55/c6f9d6f898d74a07502ce2a3997c8c8ddc04dd54ba2391fc27\n",
            "Successfully built prince\n",
            "Installing collected packages: prince\n",
            "Successfully installed prince-0.7.0\n"
          ],
          "name": "stdout"
        }
      ]
    },
    {
      "cell_type": "code",
      "metadata": {
        "id": "qESSvKuGrcYS",
        "colab": {
          "base_uri": "https://localhost:8080/"
        },
        "outputId": "04282ab6-c426-432a-c809-d489c66c36c2"
      },
      "source": [
        "import numpy as np\n",
        "import seaborn as sns \n",
        "import matplotlib.pyplot as plt\n",
        "from scipy import stats\n",
        "from sklearn.linear_model import LogisticRegression\n",
        "from statsmodels.stats.outliers_influence import variance_inflation_factor\n",
        "# split train and test data\n",
        "from sklearn.model_selection import train_test_split\n",
        "# for data visualization\n",
        "import seaborn as sns\n",
        "import matplotlib.pyplot as plt\n",
        "# for normalization\n",
        "from sklearn import preprocessing\n",
        "# libraries for logistic regression\n",
        "from sklearn.linear_model import LogisticRegression\n",
        "from sklearn.model_selection import GridSearchCV\n",
        "from sklearn.model_selection import cross_val_score\n",
        "from sklearn.model_selection import cross_val_predict\n",
        "from sklearn.metrics import accuracy_score\n",
        "from sklearn.metrics import classification_report\n",
        "from sklearn.metrics import confusion_matrix\n",
        "from sklearn.metrics import roc_curve, auc\n",
        "from sklearn import metrics\n",
        "import matplotlib as mpl\n",
        "import matplotlib.pyplot as plt\n",
        "import prince"
      ],
      "execution_count": null,
      "outputs": [
        {
          "output_type": "stream",
          "text": [
            "/usr/local/lib/python3.7/dist-packages/statsmodels/tools/_testing.py:19: FutureWarning: pandas.util.testing is deprecated. Use the functions in the public API at pandas.testing instead.\n",
            "  import pandas.util.testing as tm\n"
          ],
          "name": "stderr"
        }
      ]
    },
    {
      "cell_type": "code",
      "metadata": {
        "id": "07KDOVURrfDQ"
      },
      "source": [
        "# Global Functions \n",
        "def cat_to_num_df(num_col, cat_col, df):\n",
        "  col_list = df[cat_col].unique()\n",
        "  df = pd.DataFrame({})\n",
        "  for col in col_list:\n",
        "    df[col] = []\n",
        "  return df\n",
        "\n",
        "def p_test(num_list, df):\n",
        "  comparison_df = pd.DataFrame({'Numerical Variable 1': [], 'Numerical Variable 2': [], 'R': [], 'P-value': []})\n",
        "  for i in range(len(num_list)):\n",
        "    for j in range(i+1, len(num_list)):\n",
        "      try:\n",
        "        r, p_value = stats.pearsonr(df[num_list[i]], df[num_list[j]])\n",
        "        new_row = {'Numerical Variable 1': num_list[i], 'Numerical Variable 2': num_list[j], 'R': r, 'P-value': p_value}\n",
        "        comparison_df = comparison_df.append(new_row, ignore_index=True)\n",
        "      except:\n",
        "        print(num_list[i], num_list[j])\n",
        "  return comparison_df\n",
        "\n",
        "def calc_vif(X):\n",
        "  vif = pd.DataFrame()\n",
        "  vif[\"variables\"] = X.columns\n",
        "  vif[\"VIF\"] = [variance_inflation_factor(X.values, i) for i in range(X.shape[1])]\n",
        "\n",
        "  return(vif)\n",
        "\n",
        "def chi_square_test(cat_list, df):\n",
        "  comparison_df = pd.DataFrame({'Categorical Variable 1': [], 'Categorical Variable 2': [], 'Test_statistic': [], 'P-value': [], 'DoF': []})\n",
        "  for i in range(len(cat_list)):\n",
        "    for j in range(i+1, len(cat_list)):\n",
        "      try:\n",
        "        table = pd.crosstab(df[cat_list[i]], df[cat_list[j]])\n",
        "        test_statistic, pvalue, dof, _ = stats.chi2_contingency(table)\n",
        "        new_row = {'Categorical Variable 1': cat_list[j], 'Categorical Variable 2': cat_list[i], \\\n",
        "                  'Test_statistic': test_statistic, 'P-value': pvalue, 'DoF': dof}\n",
        "        comparison_df = comparison_df.append(new_row, ignore_index=True)\n",
        "      except:\n",
        "        print(cat_list[i], cat_list[j])\n",
        "  return comparison_df\n",
        "   \n",
        "\n",
        "def point_biserial_correlation_test(indep_var_cat_list, indep_var_num_list, df):\n",
        "  comparison_df = pd.DataFrame({'Categorical Variable': [], 'Numerical Variable': [], 'Correlation': [], 'P-value': []})\n",
        "  for cat in indep_var_cat_list:\n",
        "    for num in indep_var_num_list:\n",
        "      cat_var = cat\n",
        "      num_var = num\n",
        "      try:\n",
        "        correlation, p_value = stats.pointbiserialr(df[cat], df[num])\n",
        "        new_row = {'Categorical Variable': cat_var, 'Numerical Variable': num_var, 'Correlation': correlation, 'P-value': p_value }\n",
        "        comparison_df = comparison_df.append(new_row, ignore_index=True)\n",
        "      except:\n",
        "        print(cat, num)\n",
        "  return comparison_df\n",
        "\n",
        "def one_way_anova_test(num_list, cat_list, df):\n",
        "  comparison_df = pd.DataFrame({'Numerical Variable': [], 'Categorical Variable': [], 'F': [], 'P-value': []})\n",
        "  for num in num_list:\n",
        "    for cat in cat_list:\n",
        "      try:\n",
        "        unqiue_values = set(df[cat])\n",
        "        to_collapse_nested_list = []\n",
        "        for unquie_attribute in unqiue_values:\n",
        "          to_collapse_nested_list.append((df[df[cat] == unquie_attribute][num]).tolist())\n",
        "        f, p_value = stats.f_oneway(*to_collapse_nested_list)\n",
        "        new_row = {'Numerical Variable': num, 'Categorical Variable': cat, 'F': f, 'P-value': p_value}\n",
        "        comparison_df = comparison_df.append(new_row, ignore_index=True)\n",
        "      except:\n",
        "        print(num, cat)\n",
        "  return comparison_df\n",
        "\n",
        "def two_way_anova_test(num_list, cat_list, df):\n",
        "  comparison_df = pd.DataFrame({'Indep_num_var':[], 'Indep_cat_var':[], 'Churn_F':[], 'Churn_p_val':[], \\\n",
        "                  'Cat_var_F':[], 'Cat_var_p_val':[], 'Interaction_F':[], 'Interaction_p_val':[]})\n",
        "  for num in num_list:\n",
        "    for cat in cat_list:\n",
        "      formula = num + ' ~ C(Churn) + C(' + cat + ') + C(Churn):C(' + cat + ')'\n",
        "      try:\n",
        "        model = ols(formula, data=df).fit()\n",
        "        temp_df = sm.stats.anova_lm(model, typ=2)\n",
        "        new_row = {'Indep_num_var':num,'Indep_cat_var':cat, 'Churn_F':temp_df.iloc[0,2], 'Churn_p_val':temp_df.iloc[0,3], \\\n",
        "              'Cat_var_F':temp_df.iloc[1,2], 'Cat_var_p_val':temp_df.iloc[1,3], \\\n",
        "              'Interaction_F':temp_df.iloc[2,2], 'Interaction_p_val':temp_df.iloc[2,3]}\n",
        "        comparison_df = comparison_df.append(new_row,ignore_index=True)\n",
        "      except:\n",
        "        print(num, cat)\n",
        "  return comparison_df\n",
        "\n",
        "def add_Interactive_variable(combinations_df, df, dfDrop):\n",
        "  for i in range(len(combinations_df)):\n",
        "    num_var = combinations_df['Numerical Variable'][i]\n",
        "    cat_var = combinations_df['Categorical Variable'][i]\n",
        "    temp_onehot_df = pd.get_dummies(X[cat_var],prefix = cat_var)\n",
        "    for j in range(len(temp_onehot_df)):\n",
        "      for k in range(len(temp_onehot_df.columns)):\n",
        "        if (temp_onehot_df.iloc[j,k] == 1):\n",
        "          temp_onehot_df.iloc[j,k] = df[num_var][j]\n",
        "    temp_onehot_df = temp_onehot_df.iloc[:, :-1]\n",
        "    for original_col_name in temp_onehot_df.columns:\n",
        "      temp_onehot_df = temp_onehot_df.rename(columns={original_col_name: original_col_name + '_' + num_var})\n",
        "    dfDrop[temp_onehot_df.columns] = temp_onehot_df\n",
        "  return dfDrop\n",
        "\n",
        "def group_same_type_row(df):\n",
        "  tuple_list = []\n",
        "  cat_col = []\n",
        "  num_col = []\n",
        "  for i in range(len(df)):\n",
        "    temp_tuple = (df['Categorical Variable'][i].split('_', 1)[0],df['Numerical Variable'][i])\n",
        "    tuple_list.append(temp_tuple)\n",
        "  tuple_list = list(set(tuple_list))\n",
        "  for j in range(len(tuple_list)):\n",
        "    cat_col.append(tuple_list[j][0])\n",
        "    num_col.append(tuple_list[j][1])    \n",
        "  return pd.DataFrame({'Categorical Variable':cat_col, 'Numerical Variable': num_col})\n",
        "\n",
        "def oneHotEncoding(df, cat_list):\n",
        "  _df = df.copy(deep=True)\n",
        "  for cat in cat_list:\n",
        "    temp_df = pd.get_dummies(_df[cat],prefix = cat)\n",
        "    if cat == 'SeniorCitizen':\n",
        "      temp_df = temp_df.drop(columns=['SeniorCitizen_1'])\n",
        "    elif cat == 'Contract':\n",
        "      temp_df = temp_df.drop(columns=['Contract_Two year'])\n",
        "    else:\n",
        "      temp_df = temp_df.iloc[:,:-1]\n",
        "    _df = _df.drop(columns=[cat])\n",
        "    _df[temp_df.columns] = temp_df\n",
        "    try:\n",
        "      _df = _df.rename(columns={'SeniorCitizen_0': 'SeniorCitizen'})\n",
        "    except:\n",
        "      print(\"Failed to rename Senior Citizen\")\n",
        "  return _df\n",
        "    \n",
        "\n",
        "    \n"
      ],
      "execution_count": null,
      "outputs": []
    },
    {
      "cell_type": "markdown",
      "metadata": {
        "id": "BvMROCowwfVD"
      },
      "source": [
        "# Data Understanding"
      ]
    },
    {
      "cell_type": "code",
      "metadata": {
        "colab": {
          "base_uri": "https://localhost:8080/"
        },
        "id": "JihS7SmywtTb",
        "outputId": "ae30e4b5-dffd-4b78-b159-2826778b8f3e"
      },
      "source": [
        "data.dtypes"
      ],
      "execution_count": null,
      "outputs": [
        {
          "output_type": "execute_result",
          "data": {
            "text/plain": [
              "gender               object\n",
              "SeniorCitizen         int64\n",
              "Partner              object\n",
              "Dependents           object\n",
              "tenure                int64\n",
              "PhoneService         object\n",
              "MultipleLines        object\n",
              "InternetService      object\n",
              "OnlineSecurity       object\n",
              "OnlineBackup         object\n",
              "DeviceProtection     object\n",
              "TechSupport          object\n",
              "StreamingTV          object\n",
              "StreamingMovies      object\n",
              "Contract             object\n",
              "PaperlessBilling     object\n",
              "PaymentMethod        object\n",
              "MonthlyCharges      float64\n",
              "TotalCharges         object\n",
              "Churn                object\n",
              "dtype: object"
            ]
          },
          "metadata": {
            "tags": []
          },
          "execution_count": 5
        }
      ]
    },
    {
      "cell_type": "code",
      "metadata": {
        "id": "DJ9IR8T1oQhQ"
      },
      "source": [
        "# convert to float datatype\n",
        "data.loc[:, 'TotalCharges'] = pd.to_numeric(data.loc[:, 'TotalCharges'], errors='coerce')"
      ],
      "execution_count": null,
      "outputs": []
    },
    {
      "cell_type": "code",
      "metadata": {
        "colab": {
          "base_uri": "https://localhost:8080/"
        },
        "id": "4ReHs87InvRp",
        "outputId": "3deccea6-2501-4ab5-80d4-16132a7d03bf"
      },
      "source": [
        "data[['tenure', 'MonthlyCharges']].hist()"
      ],
      "execution_count": null,
      "outputs": [
        {
          "output_type": "execute_result",
          "data": {
            "text/plain": [
              "array([[<matplotlib.axes._subplots.AxesSubplot object at 0x7f1513097e10>,\n",
              "        <matplotlib.axes._subplots.AxesSubplot object at 0x7f152e980950>]],\n",
              "      dtype=object)"
            ]
          },
          "metadata": {
            "tags": []
          },
          "execution_count": 76
        },
        {
          "output_type": "display_data",
          "data": {
            "image/png": "[encoded data removed]",
            "text/plain": [
              "<Figure size 432x288 with 2 Axes>"
            ]
          },
          "metadata": {
            "tags": [],
            "needs_background": "light"
          }
        }
      ]
    },
    {
      "cell_type": "code",
      "metadata": {
        "colab": {
          "base_uri": "https://localhost:8080/"
        },
        "id": "rku6Z30LEPRh",
        "outputId": "15b1094e-8aec-4087-9a91-64fac9e3cd77"
      },
      "source": [
        "data['tenure'].hist()"
      ],
      "execution_count": null,
      "outputs": [
        {
          "output_type": "execute_result",
          "data": {
            "text/plain": [
              "<matplotlib.axes._subplots.AxesSubplot at 0x7f152e4efa90>"
            ]
          },
          "metadata": {
            "tags": []
          },
          "execution_count": 77
        },
        {
          "output_type": "display_data",
          "data": {
            "image/png": "[encoded data removed]",
            "text/plain": [
              "<Figure size 432x288 with 1 Axes>"
            ]
          },
          "metadata": {
            "tags": [],
            "needs_background": "light"
          }
        }
      ]
    },
    {
      "cell_type": "code",
      "metadata": {
        "id": "iwrR0W2GYIK2",
        "colab": {
          "base_uri": "https://localhost:8080/"
        },
        "outputId": "d628a3f9-93ea-4a39-dabd-46d44c5ed053"
      },
      "source": [
        "sns.barplot(x = data['tenure'], y = data['Churn'])"
      ],
      "execution_count": null,
      "outputs": [
        {
          "output_type": "execute_result",
          "data": {
            "text/plain": [
              "<matplotlib.axes._subplots.AxesSubplot at 0x7f152e6b0410>"
            ]
          },
          "metadata": {
            "tags": []
          },
          "execution_count": 78
        },
        {
          "output_type": "display_data",
          "data": {
            "image/png": "[encoded data removed]",
            "text/plain": [
              "<Figure size 432x288 with 1 Axes>"
            ]
          },
          "metadata": {
            "tags": [],
            "needs_background": "light"
          }
        }
      ]
    },
    {
      "cell_type": "code",
      "metadata": {
        "colab": {
          "base_uri": "https://localhost:8080/",
          "height": 297
        },
        "id": "4y0ioOjI6eAj",
        "outputId": "9ebe0f98-c835-46b2-c613-a31c99d16e8d"
      },
      "source": [
        "sns.barplot(x = data['tenure'], y = data['MultipleLines'])"
      ],
      "execution_count": null,
      "outputs": [
        {
          "output_type": "execute_result",
          "data": {
            "text/plain": [
              "<matplotlib.axes._subplots.AxesSubplot at 0x7f298874cb90>"
            ]
          },
          "metadata": {
            "tags": []
          },
          "execution_count": 8
        },
        {
          "output_type": "display_data",
          "data": {
            "image/png": "[encoded data removed]",
            "text/plain": [
              "<Figure size 432x288 with 1 Axes>"
            ]
          },
          "metadata": {
            "tags": [],
            "needs_background": "light"
          }
        }
      ]
    },
    {
      "cell_type": "code",
      "metadata": {
        "colab": {
          "base_uri": "https://localhost:8080/",
          "height": 297
        },
        "id": "14geY0u3vWkg",
        "outputId": "ea99ea52-926e-4b94-e137-d33d435ab36f"
      },
      "source": [
        "sns.barplot(x = data['MonthlyCharges'], y = data['Contract'])"
      ],
      "execution_count": null,
      "outputs": [
        {
          "output_type": "execute_result",
          "data": {
            "text/plain": [
              "<matplotlib.axes._subplots.AxesSubplot at 0x7f2971a7a110>"
            ]
          },
          "metadata": {
            "tags": []
          },
          "execution_count": 31
        },
        {
          "output_type": "display_data",
          "data": {
            "image/png": "[encoded data removed]",
            "text/plain": [
              "<Figure size 432x288 with 1 Axes>"
            ]
          },
          "metadata": {
            "tags": [],
            "needs_background": "light"
          }
        }
      ]
    },
    {
      "cell_type": "code",
      "metadata": {
        "colab": {
          "base_uri": "https://localhost:8080/",
          "height": 293
        },
        "id": "gVCr55lomXYM",
        "outputId": "9aebaea2-478d-4710-c146-2c28b9be92bd"
      },
      "source": [
        "pd.crosstab(data['SeniorCitizen'], data['PaperlessBilling']).plot.bar(stacked=True)"
      ],
      "execution_count": null,
      "outputs": [
        {
          "output_type": "execute_result",
          "data": {
            "text/plain": [
              "<matplotlib.axes._subplots.AxesSubplot at 0x7f296f381d90>"
            ]
          },
          "metadata": {
            "tags": []
          },
          "execution_count": 33
        },
        {
          "output_type": "display_data",
          "data": {
            "image/png": "[encoded data removed]",
            "text/plain": [
              "<Figure size 432x288 with 1 Axes>"
            ]
          },
          "metadata": {
            "tags": [],
            "needs_background": "light"
          }
        }
      ]
    },
    {
      "cell_type": "code",
      "metadata": {
        "colab": {
          "base_uri": "https://localhost:8080/",
          "height": 297
        },
        "id": "KlCqEfc--tnI",
        "outputId": "bdb568cc-85fe-4ac2-e614-9925480af3a0"
      },
      "source": [
        "sns.barplot(x = data['tenure'], y = data['InternetService'])"
      ],
      "execution_count": null,
      "outputs": [
        {
          "output_type": "execute_result",
          "data": {
            "text/plain": [
              "<matplotlib.axes._subplots.AxesSubplot at 0x7f2987f8bad0>"
            ]
          },
          "metadata": {
            "tags": []
          },
          "execution_count": 16
        },
        {
          "output_type": "display_data",
          "data": {
            "image/png": "[encoded data removed]",
            "text/plain": [
              "<Figure size 432x288 with 1 Axes>"
            ]
          },
          "metadata": {
            "tags": [],
            "needs_background": "light"
          }
        }
      ]
    },
    {
      "cell_type": "code",
      "metadata": {
        "colab": {
          "base_uri": "https://localhost:8080/"
        },
        "id": "HoHSwSoJB_5m",
        "outputId": "ee80d83e-500f-4ad6-89e1-209a89c203af"
      },
      "source": [
        "data['SeniorCitizen'].hist()"
      ],
      "execution_count": null,
      "outputs": [
        {
          "output_type": "execute_result",
          "data": {
            "text/plain": [
              "<matplotlib.axes._subplots.AxesSubplot at 0x7f152e892890>"
            ]
          },
          "metadata": {
            "tags": []
          },
          "execution_count": 79
        },
        {
          "output_type": "display_data",
          "data": {
            "image/png": "[encoded data removed]",
            "text/plain": [
              "<Figure size 432x288 with 1 Axes>"
            ]
          },
          "metadata": {
            "tags": [],
            "needs_background": "light"
          }
        }
      ]
    },
    {
      "cell_type": "code",
      "metadata": {
        "colab": {
          "base_uri": "https://localhost:8080/"
        },
        "id": "DzjDJJhXZNw4",
        "outputId": "0c2a528e-b9f7-4538-d4ba-8874d02454f8"
      },
      "source": [
        "data.head()"
      ],
      "execution_count": null,
      "outputs": [
        {
          "output_type": "execute_result",
          "data": {
            "text/html": [
              "<div>\n",
              "<style scoped>\n",
              "    .dataframe tbody tr th:only-of-type {\n",
              "        vertical-align: middle;\n",
              "    }\n",
              "\n",
              "    .dataframe tbody tr th {\n",
              "        vertical-align: top;\n",
              "    }\n",
              "\n",
              "    .dataframe thead th {\n",
              "        text-align: right;\n",
              "    }\n",
              "</style>\n",
              "<table border=\"1\" class=\"dataframe\">\n",
              "  <thead>\n",
              "    <tr style=\"text-align: right;\">\n",
              "      <th></th>\n",
              "      <th>gender</th>\n",
              "      <th>SeniorCitizen</th>\n",
              "      <th>Partner</th>\n",
              "      <th>Dependents</th>\n",
              "      <th>tenure</th>\n",
              "      <th>PhoneService</th>\n",
              "      <th>MultipleLines</th>\n",
              "      <th>InternetService</th>\n",
              "      <th>OnlineSecurity</th>\n",
              "      <th>OnlineBackup</th>\n",
              "      <th>DeviceProtection</th>\n",
              "      <th>TechSupport</th>\n",
              "      <th>StreamingTV</th>\n",
              "      <th>StreamingMovies</th>\n",
              "      <th>Contract</th>\n",
              "      <th>PaperlessBilling</th>\n",
              "      <th>PaymentMethod</th>\n",
              "      <th>MonthlyCharges</th>\n",
              "      <th>TotalCharges</th>\n",
              "      <th>Churn</th>\n",
              "    </tr>\n",
              "    <tr>\n",
              "      <th>customerID</th>\n",
              "      <th></th>\n",
              "      <th></th>\n",
              "      <th></th>\n",
              "      <th></th>\n",
              "      <th></th>\n",
              "      <th></th>\n",
              "      <th></th>\n",
              "      <th></th>\n",
              "      <th></th>\n",
              "      <th></th>\n",
              "      <th></th>\n",
              "      <th></th>\n",
              "      <th></th>\n",
              "      <th></th>\n",
              "      <th></th>\n",
              "      <th></th>\n",
              "      <th></th>\n",
              "      <th></th>\n",
              "      <th></th>\n",
              "      <th></th>\n",
              "    </tr>\n",
              "  </thead>\n",
              "  <tbody>\n",
              "    <tr>\n",
              "      <th>7590-VHVEG</th>\n",
              "      <td>Female</td>\n",
              "      <td>0</td>\n",
              "      <td>Yes</td>\n",
              "      <td>No</td>\n",
              "      <td>1</td>\n",
              "      <td>No</td>\n",
              "      <td>No phone service</td>\n",
              "      <td>DSL</td>\n",
              "      <td>No</td>\n",
              "      <td>Yes</td>\n",
              "      <td>No</td>\n",
              "      <td>No</td>\n",
              "      <td>No</td>\n",
              "      <td>No</td>\n",
              "      <td>Month-to-month</td>\n",
              "      <td>Yes</td>\n",
              "      <td>Electronic check</td>\n",
              "      <td>29.85</td>\n",
              "      <td>29.85</td>\n",
              "      <td>No</td>\n",
              "    </tr>\n",
              "    <tr>\n",
              "      <th>5575-GNVDE</th>\n",
              "      <td>Male</td>\n",
              "      <td>0</td>\n",
              "      <td>No</td>\n",
              "      <td>No</td>\n",
              "      <td>34</td>\n",
              "      <td>Yes</td>\n",
              "      <td>No</td>\n",
              "      <td>DSL</td>\n",
              "      <td>Yes</td>\n",
              "      <td>No</td>\n",
              "      <td>Yes</td>\n",
              "      <td>No</td>\n",
              "      <td>No</td>\n",
              "      <td>No</td>\n",
              "      <td>One year</td>\n",
              "      <td>No</td>\n",
              "      <td>Mailed check</td>\n",
              "      <td>56.95</td>\n",
              "      <td>1889.50</td>\n",
              "      <td>No</td>\n",
              "    </tr>\n",
              "    <tr>\n",
              "      <th>3668-QPYBK</th>\n",
              "      <td>Male</td>\n",
              "      <td>0</td>\n",
              "      <td>No</td>\n",
              "      <td>No</td>\n",
              "      <td>2</td>\n",
              "      <td>Yes</td>\n",
              "      <td>No</td>\n",
              "      <td>DSL</td>\n",
              "      <td>Yes</td>\n",
              "      <td>Yes</td>\n",
              "      <td>No</td>\n",
              "      <td>No</td>\n",
              "      <td>No</td>\n",
              "      <td>No</td>\n",
              "      <td>Month-to-month</td>\n",
              "      <td>Yes</td>\n",
              "      <td>Mailed check</td>\n",
              "      <td>53.85</td>\n",
              "      <td>108.15</td>\n",
              "      <td>Yes</td>\n",
              "    </tr>\n",
              "    <tr>\n",
              "      <th>7795-CFOCW</th>\n",
              "      <td>Male</td>\n",
              "      <td>0</td>\n",
              "      <td>No</td>\n",
              "      <td>No</td>\n",
              "      <td>45</td>\n",
              "      <td>No</td>\n",
              "      <td>No phone service</td>\n",
              "      <td>DSL</td>\n",
              "      <td>Yes</td>\n",
              "      <td>No</td>\n",
              "      <td>Yes</td>\n",
              "      <td>Yes</td>\n",
              "      <td>No</td>\n",
              "      <td>No</td>\n",
              "      <td>One year</td>\n",
              "      <td>No</td>\n",
              "      <td>Bank transfer (automatic)</td>\n",
              "      <td>42.30</td>\n",
              "      <td>1840.75</td>\n",
              "      <td>No</td>\n",
              "    </tr>\n",
              "    <tr>\n",
              "      <th>9237-HQITU</th>\n",
              "      <td>Female</td>\n",
              "      <td>0</td>\n",
              "      <td>No</td>\n",
              "      <td>No</td>\n",
              "      <td>2</td>\n",
              "      <td>Yes</td>\n",
              "      <td>No</td>\n",
              "      <td>Fiber optic</td>\n",
              "      <td>No</td>\n",
              "      <td>No</td>\n",
              "      <td>No</td>\n",
              "      <td>No</td>\n",
              "      <td>No</td>\n",
              "      <td>No</td>\n",
              "      <td>Month-to-month</td>\n",
              "      <td>Yes</td>\n",
              "      <td>Electronic check</td>\n",
              "      <td>70.70</td>\n",
              "      <td>151.65</td>\n",
              "      <td>Yes</td>\n",
              "    </tr>\n",
              "  </tbody>\n",
              "</table>\n",
              "</div>"
            ],
            "text/plain": [
              "            gender  SeniorCitizen Partner  ... MonthlyCharges  TotalCharges Churn\n",
              "customerID                                 ...                                   \n",
              "7590-VHVEG  Female              0     Yes  ...          29.85         29.85    No\n",
              "5575-GNVDE    Male              0      No  ...          56.95       1889.50    No\n",
              "3668-QPYBK    Male              0      No  ...          53.85        108.15   Yes\n",
              "7795-CFOCW    Male              0      No  ...          42.30       1840.75    No\n",
              "9237-HQITU  Female              0      No  ...          70.70        151.65   Yes\n",
              "\n",
              "[5 rows x 20 columns]"
            ]
          },
          "metadata": {
            "tags": []
          },
          "execution_count": 80
        }
      ]
    },
    {
      "cell_type": "code",
      "metadata": {
        "colab": {
          "base_uri": "https://localhost:8080/"
        },
        "id": "rLtKTxswrMqZ",
        "outputId": "1a37c658-7610-4ae9-9c14-ef69375566ef"
      },
      "source": [
        "data['TotalCharges'].hist()"
      ],
      "execution_count": null,
      "outputs": [
        {
          "output_type": "execute_result",
          "data": {
            "text/plain": [
              "<matplotlib.axes._subplots.AxesSubplot at 0x7f152e799490>"
            ]
          },
          "metadata": {
            "tags": []
          },
          "execution_count": 81
        },
        {
          "output_type": "display_data",
          "data": {
            "image/png": "[encoded data removed]",
            "text/plain": [
              "<Figure size 432x288 with 1 Axes>"
            ]
          },
          "metadata": {
            "tags": [],
            "needs_background": "light"
          }
        }
      ]
    },
    {
      "cell_type": "code",
      "metadata": {
        "colab": {
          "base_uri": "https://localhost:8080/"
        },
        "id": "2tr9xAqpoNiS",
        "outputId": "e39279d9-9bf7-4eff-aa90-e3c4f9af9c46"
      },
      "source": [
        "pd.crosstab(data['gender'], data['Churn']).plot.bar(stacked=True)\n",
        "pd.crosstab(data['SeniorCitizen'], data['Churn']).plot.bar(stacked=True)\n",
        "pd.crosstab(data['Partner'], data['Churn']).plot.bar(stacked=True)\n",
        "pd.crosstab(data['Dependents'], data['Churn']).plot.bar(stacked=True)\n",
        "pd.crosstab(data['tenure'], data['Churn']).plot.bar(stacked=True)\n",
        "pd.crosstab(data['PhoneService'], data['Churn']).plot.bar(stacked=True)\n",
        "pd.crosstab(data['MultipleLines'], data['Churn']).plot.bar(stacked=True)\n",
        "pd.crosstab(data['InternetService'], data['Churn']).plot.bar(stacked=True)\n",
        "pd.crosstab(data['OnlineSecurity'], data['Churn']).plot.bar(stacked=True)\n",
        "pd.crosstab(data['OnlineBackup'], data['Churn']).plot.bar(stacked=True)\n",
        "pd.crosstab(data['DeviceProtection'], data['Churn']).plot.bar(stacked=True)\n",
        "pd.crosstab(data['TechSupport'], data['Churn']).plot.bar(stacked=True)\n",
        "pd.crosstab(data['StreamingTV'], data['Churn']).plot.bar(stacked=True)\n",
        "pd.crosstab(data['StreamingMovies'], data['Churn']).plot.bar(stacked=True)\n",
        "pd.crosstab(data['Contract'], data['Churn']).plot.bar(stacked=True)\n",
        "pd.crosstab(data['PaperlessBilling'], data['Churn']).plot.bar(stacked=True)\n",
        "pd.crosstab(data['PaymentMethod'], data['Churn']).plot.bar(stacked=True)"
      ],
      "execution_count": null,
      "outputs": [
        {
          "output_type": "execute_result",
          "data": {
            "text/plain": [
              "<matplotlib.axes._subplots.AxesSubplot at 0x7f1512950810>"
            ]
          },
          "metadata": {
            "tags": []
          },
          "execution_count": 82
        },
        {
          "output_type": "display_data",
          "data": {
            "image/png": "[encoded data removed]",
            "text/plain": [
              "<Figure size 432x288 with 1 Axes>"
            ]
          },
          "metadata": {
            "tags": [],
            "needs_background": "light"
          }
        },
        {
          "output_type": "display_data",
          "data": {
            "image/png": "[encoded data removed]",
            "text/plain": [
              "<Figure size 432x288 with 1 Axes>"
            ]
          },
          "metadata": {
            "tags": [],
            "needs_background": "light"
          }
        },
        {
          "output_type": "display_data",
          "data": {
            "image/png": "[encoded data removed]",
            "text/plain": [
              "<Figure size 432x288 with 1 Axes>"
            ]
          },
          "metadata": {
            "tags": [],
            "needs_background": "light"
          }
        },
        {
          "output_type": "display_data",
          "data": {
            "image/png": "[encoded data removed]",
            "text/plain": [
              "<Figure size 432x288 with 1 Axes>"
            ]
          },
          "metadata": {
            "tags": [],
            "needs_background": "light"
          }
        },
        {
          "output_type": "display_data",
          "data": {
            "image/png": "[encoded data removed]",
            "text/plain": [
              "<Figure size 432x288 with 1 Axes>"
            ]
          },
          "metadata": {
            "tags": [],
            "needs_background": "light"
          }
        },
        {
          "output_type": "display_data",
          "data": {
            "image/png": "[encoded data removed]",
            "text/plain": [
              "<Figure size 432x288 with 1 Axes>"
            ]
          },
          "metadata": {
            "tags": [],
            "needs_background": "light"
          }
        },
        {
          "output_type": "display_data",
          "data": {
            "image/png": "[encoded data removed]",
            "text/plain": [
              "<Figure size 432x288 with 1 Axes>"
            ]
          },
          "metadata": {
            "tags": [],
            "needs_background": "light"
          }
        },
        {
          "output_type": "display_data",
          "data": {
            "image/png": "[encoded data removed]",
            "text/plain": [
              "<Figure size 432x288 with 1 Axes>"
            ]
          },
          "metadata": {
            "tags": [],
            "needs_background": "light"
          }
        },
        {
          "output_type": "display_data",
          "data": {
            "image/png": "[encoded data removed]",
            "text/plain": [
              "<Figure size 432x288 with 1 Axes>"
            ]
          },
          "metadata": {
            "tags": [],
            "needs_background": "light"
          }
        },
        {
          "output_type": "display_data",
          "data": {
            "image/png": "[encoded data removed]",
            "text/plain": [
              "<Figure size 432x288 with 1 Axes>"
            ]
          },
          "metadata": {
            "tags": [],
            "needs_background": "light"
          }
        },
        {
          "output_type": "display_data",
          "data": {
            "image/png": "[encoded data removed]",
            "text/plain": [
              "<Figure size 432x288 with 1 Axes>"
            ]
          },
          "metadata": {
            "tags": [],
            "needs_background": "light"
          }
        },
        {
          "output_type": "display_data",
          "data": {
            "image/png": "[encoded data removed]",
            "text/plain": [
              "<Figure size 432x288 with 1 Axes>"
            ]
          },
          "metadata": {
            "tags": [],
            "needs_background": "light"
          }
        },
        {
          "output_type": "display_data",
          "data": {
            "image/png": "[encoded data removed]",
            "text/plain": [
              "<Figure size 432x288 with 1 Axes>"
            ]
          },
          "metadata": {
            "tags": [],
            "needs_background": "light"
          }
        },
        {
          "output_type": "display_data",
          "data": {
            "image/png": "[encoded data removed]",
            "text/plain": [
              "<Figure size 432x288 with 1 Axes>"
            ]
          },
          "metadata": {
            "tags": [],
            "needs_background": "light"
          }
        },
        {
          "output_type": "display_data",
          "data": {
            "image/png": "[encoded data removed]",
            "text/plain": [
              "<Figure size 432x288 with 1 Axes>"
            ]
          },
          "metadata": {
            "tags": [],
            "needs_background": "light"
          }
        },
        {
          "output_type": "display_data",
          "data": {
            "image/png": "[encoded data removed]",
            "text/plain": [
              "<Figure size 432x288 with 1 Axes>"
            ]
          },
          "metadata": {
            "tags": [],
            "needs_background": "light"
          }
        },
        {
          "output_type": "display_data",
          "data": {
            "image/png": "[encoded data removed]",
            "text/plain": [
              "<Figure size 432x288 with 1 Axes>"
            ]
          },
          "metadata": {
            "tags": [],
            "needs_background": "light"
          }
        }
      ]
    },
    {
      "cell_type": "markdown",
      "metadata": {
        "id": "zQtASMo83p0J"
      },
      "source": [
        "## Data Cleaning"
      ]
    },
    {
      "cell_type": "code",
      "metadata": {
        "id": "sr1zEXB7CO03"
      },
      "source": [
        "#For label encoding\n",
        "from sklearn import preprocessing"
      ],
      "execution_count": null,
      "outputs": []
    },
    {
      "cell_type": "code",
      "metadata": {
        "id": "X7UVy-HMTlid"
      },
      "source": [
        "features = list(data.columns)\n",
        "features.remove('Churn')\n",
        "target = ['Churn']\n",
        "X = data[features]\n",
        "y = data[target]"
      ],
      "execution_count": null,
      "outputs": []
    },
    {
      "cell_type": "code",
      "metadata": {
        "id": "nsaOgHG0TljJ",
        "colab": {
          "base_uri": "https://localhost:8080/"
        },
        "outputId": "69333fa2-c26c-4d7d-bc8d-4afdd5e7bc7c"
      },
      "source": [
        "# convert yes, no to 1, 0\n",
        "y.loc[:,'Churn'] = y.loc[:,'Churn'].map({'Yes': 1, 'No': 0})\n",
        "# replace missing value in \"TotalCharges\" with mean\n",
        "X['TotalCharges'].fillna(X['TotalCharges'].mean(),inplace = True)"
      ],
      "execution_count": null,
      "outputs": [
        {
          "output_type": "stream",
          "text": [
            "/usr/local/lib/python3.7/dist-packages/pandas/core/indexing.py:1781: SettingWithCopyWarning: \n",
            "A value is trying to be set on a copy of a slice from a DataFrame.\n",
            "Try using .loc[row_indexer,col_indexer] = value instead\n",
            "\n",
            "See the caveats in the documentation: https://pandas.pydata.org/pandas-docs/stable/user_guide/indexing.html#returning-a-view-versus-a-copy\n",
            "  self.obj[item_labels[indexer[info_axis]]] = value\n",
            "/usr/local/lib/python3.7/dist-packages/pandas/core/series.py:4536: SettingWithCopyWarning: \n",
            "A value is trying to be set on a copy of a slice from a DataFrame\n",
            "\n",
            "See the caveats in the documentation: https://pandas.pydata.org/pandas-docs/stable/user_guide/indexing.html#returning-a-view-versus-a-copy\n",
            "  downcast=downcast,\n"
          ],
          "name": "stderr"
        }
      ]
    },
    {
      "cell_type": "code",
      "metadata": {
        "id": "64o6xyFSTlj9"
      },
      "source": [
        "# Apply min-max normalization on MonthlyCharges & TotalCharges\n",
        "minmax_scaler = preprocessing.MinMaxScaler().fit(X[['MonthlyCharges']])\n",
        "minmax_scaler = preprocessing.MinMaxScaler().fit(X[['TotalCharges']])\n",
        "\n",
        "X['MonthlyCharges_minmax']=minmax_scaler.transform(X[['MonthlyCharges']])\n",
        "X['TotalCharges_minmax']=minmax_scaler.transform(X[['TotalCharges']])"
      ],
      "execution_count": null,
      "outputs": []
    },
    {
      "cell_type": "code",
      "metadata": {
        "colab": {
          "base_uri": "https://localhost:8080/"
        },
        "id": "w6VHgmz94OpZ",
        "outputId": "9737e3c1-ff05-42c2-cff9-8c810a256f97"
      },
      "source": [
        "X.pop(\"MonthlyCharges\")\n",
        "X.pop(\"TotalCharges\")"
      ],
      "execution_count": null,
      "outputs": [
        {
          "output_type": "execute_result",
          "data": {
            "text/plain": [
              "customerID\n",
              "7590-VHVEG      29.85\n",
              "5575-GNVDE    1889.50\n",
              "3668-QPYBK     108.15\n",
              "7795-CFOCW    1840.75\n",
              "9237-HQITU     151.65\n",
              "               ...   \n",
              "6840-RESVB    1990.50\n",
              "2234-XADUH    7362.90\n",
              "4801-JZAZL     346.45\n",
              "8361-LTMKD     306.60\n",
              "3186-AJIEK    6844.50\n",
              "Name: TotalCharges, Length: 7043, dtype: float64"
            ]
          },
          "metadata": {
            "tags": []
          },
          "execution_count": 87
        }
      ]
    },
    {
      "cell_type": "markdown",
      "metadata": {
        "id": "lnHazPOH_ffN"
      },
      "source": [
        "# Create dataset with label encoding (Xencode)"
      ]
    },
    {
      "cell_type": "markdown",
      "metadata": {
        "id": "4pvHrnbcjI4q"
      },
      "source": [
        "For categorical variables in the data, a lot of them are not label encoded. Therefore, we performed\n",
        "label encoding on the variables first to perform preliminary analysis for convenience purpose. \\\n",
        "\n",
        "In Point-biserial correlation onwards, we used dummy variables instead. Since point-biserial\n",
        "correlation requires one variable to be dichotomous (mutually exclusive), we added dummy variables\n",
        "for each categorical variable. In general, regression requires (c-1) dummy variables to distinguish the\n",
        "observations associated with c categories. If there are dummy variables, columns in the matrix would\n",
        "be linearly dependent,for either least square or maximum likelihood, there will be multiple solutions\n",
        "to the matrix. Thus, we cannot use c dummy variables. \\\n",
        "\n",
        "Dummy variable is used in logistic regression instead of label encoding because label encoding\n",
        "implies the categorical independent variables are ordinal. In fact, most categorical variables are not\n",
        "ordered. Hence, dummy variables are used."
      ]
    },
    {
      "cell_type": "code",
      "metadata": {
        "id": "eQHZU9IoBQ0V"
      },
      "source": [
        "label_encoder = preprocessing.LabelEncoder()\n",
        "indep_var_cat_list = ['SeniorCitizen', 'gender','Partner','Dependents','PhoneService','MultipleLines','InternetService',\\\n",
        "            'OnlineSecurity','OnlineBackup','DeviceProtection','TechSupport','StreamingTV','StreamingMovies',\\\n",
        "            'Contract','PaperlessBilling','PaymentMethod']"
      ],
      "execution_count": null,
      "outputs": []
    },
    {
      "cell_type": "code",
      "metadata": {
        "id": "xij4uHdCDSti"
      },
      "source": [
        "Xencode = X.copy(deep=True)\n",
        "for col in indep_var_cat_list:\n",
        "  Xencode[col]= label_encoder.fit_transform(Xencode[col])"
      ],
      "execution_count": null,
      "outputs": []
    },
    {
      "cell_type": "code",
      "metadata": {
        "id": "V7_SvvFHS8Ez"
      },
      "source": [
        "#Later use of data creation\n",
        "XbeforeDrop = X.copy(deep=True)\n",
        "XnoDrop = X.copy(deep=True)"
      ],
      "execution_count": null,
      "outputs": []
    },
    {
      "cell_type": "markdown",
      "metadata": {
        "id": "rLzTZ4Gv4E3h"
      },
      "source": [
        "# Correlation Tests"
      ]
    },
    {
      "cell_type": "markdown",
      "metadata": {
        "id": "T9qTsAkejRui"
      },
      "source": [
        "One assumption of Logistics regression is that there is no dependency among independent variables.\n",
        "Even if this is violated, but we do not need to interpret the coefficients, we could live with the\n",
        "multicollinearity problem from the data. The reason why the effect of multicollinearity would be\n",
        "detrimental for our project is as follows: \\\n",
        "\n",
        "When we fit an independent variable with logistics regression, the coefficient of the independent\n",
        "variable is called a marginal regression coefficient. When we fit multiple independent variables, the\n",
        "coefficient of independent variables are called partial regression coefficients. When there is a\n",
        "multicollinearity problem, the marginal coefficient might be negative, while the partial coefficient\n",
        "might be positive. Such effects come from proxy effects, which captures the interaction between\n",
        "independent variables. Variables that exhibit such behavior would be called a confounding variable.\n",
        "Marginal effect = Partial effect + Proxy effect. In this case, the proxy effect is negative, thus the\n",
        "marginal effect is negative. \\\n",
        "\n",
        "We would like to get some accurate business insights from the coefficients of logistics regression, thus\n",
        "we would perform the following tests to solve the multicollinearity problem."
      ]
    },
    {
      "cell_type": "code",
      "metadata": {
        "id": "6LmHxAZjeVBZ"
      },
      "source": [
        "import scipy.stats as stats\n",
        "indep_var_cat_list = ['SeniorCitizen', 'gender','Partner','Dependents','PhoneService','MultipleLines','InternetService',\\\n",
        "            'OnlineSecurity','OnlineBackup','DeviceProtection','TechSupport','StreamingTV','StreamingMovies',\\\n",
        "            'Contract','PaperlessBilling','PaymentMethod']\n",
        "'''\n",
        "indep_var_cat_list = ['SeniorCitizen', 'gender_Male','Partner_Yes','Dependents_Yes','PhoneService_Yes','MultipleLines_No',\\\n",
        "                      'MultipleLines_Yes','InternetService_DSL','InternetService_Fiber optic',\\\n",
        "                      'OnlineSecurity_No','OnlineSecurity_Yes','OnlineBackup_No','OnlineBackup_Yes',\\\n",
        "                      'DeviceProtection_No','DeviceProtection_Yes','TechSupport_No','TechSupport_Yes',\\\n",
        "                      'StreamingTV_No','StreamingTV_Yes','StreamingMovies_No','StreamingMovies_Yes',\\\n",
        "                      'Contract_Month-to-month','Contract_Two year','PaperlessBilling_Yes',\\\n",
        "                      'PaymentMethod_Bank transfer (automatic)','PaymentMethod_Electronic check','PaymentMethod_Mailed check']\n",
        "'''\n",
        "indep_var_num_list = ['MonthlyCharges_minmax', 'TotalCharges_minmax','tenure']\n",
        "dep_var_cat_list = ['Churn']"
      ],
      "execution_count": null,
      "outputs": []
    },
    {
      "cell_type": "markdown",
      "metadata": {
        "id": "aTfMGyPgs4Yj"
      },
      "source": [
        "# Pearson Correlation Test (num + num)(on all columns)"
      ]
    },
    {
      "cell_type": "markdown",
      "metadata": {
        "id": "JYuhs-tYjtXw"
      },
      "source": [
        "Pearson correlation coefficient measures the linear correlation between two numerical variables. One\n",
        "concern is that the numerical variables might not be linear, thus we also used Variable Inflation factor\n",
        "as a backup test. Furthermore, we only have 3 numerical independent variables in the dataset, it would\n",
        "not be necessary to do a Spearman’s rank correlation coefficient test, which assesses the correlation\n",
        "using a monotonic function."
      ]
    },
    {
      "cell_type": "code",
      "metadata": {
        "id": "NzrhuGPgNNza"
      },
      "source": [
        "#Pearson Correlation Test\n",
        "nn_comparison_df = p_test(indep_var_num_list, X).sort_values(by ='R', ascending=False)\\\n",
        "  .reset_index(drop=True)"
      ],
      "execution_count": null,
      "outputs": []
    },
    {
      "cell_type": "code",
      "metadata": {
        "colab": {
          "base_uri": "https://localhost:8080/"
        },
        "id": "tIfAUg2kz5IJ",
        "outputId": "360eb6ec-9453-4af8-b62b-3d353cb08fdf"
      },
      "source": [
        "#there is relationship, > 0.05\n",
        "display(nn_comparison_df)"
      ],
      "execution_count": null,
      "outputs": [
        {
          "output_type": "display_data",
          "data": {
            "text/html": [
              "<div>\n",
              "<style scoped>\n",
              "    .dataframe tbody tr th:only-of-type {\n",
              "        vertical-align: middle;\n",
              "    }\n",
              "\n",
              "    .dataframe tbody tr th {\n",
              "        vertical-align: top;\n",
              "    }\n",
              "\n",
              "    .dataframe thead th {\n",
              "        text-align: right;\n",
              "    }\n",
              "</style>\n",
              "<table border=\"1\" class=\"dataframe\">\n",
              "  <thead>\n",
              "    <tr style=\"text-align: right;\">\n",
              "      <th></th>\n",
              "      <th>Numerical Variable 1</th>\n",
              "      <th>Numerical Variable 2</th>\n",
              "      <th>R</th>\n",
              "      <th>P-value</th>\n",
              "    </tr>\n",
              "  </thead>\n",
              "  <tbody>\n",
              "    <tr>\n",
              "      <th>0</th>\n",
              "      <td>TotalCharges_minmax</td>\n",
              "      <td>tenure</td>\n",
              "      <td>0.824757</td>\n",
              "      <td>0.000000e+00</td>\n",
              "    </tr>\n",
              "    <tr>\n",
              "      <th>1</th>\n",
              "      <td>MonthlyCharges_minmax</td>\n",
              "      <td>TotalCharges_minmax</td>\n",
              "      <td>0.650468</td>\n",
              "      <td>0.000000e+00</td>\n",
              "    </tr>\n",
              "    <tr>\n",
              "      <th>2</th>\n",
              "      <td>MonthlyCharges_minmax</td>\n",
              "      <td>tenure</td>\n",
              "      <td>0.247900</td>\n",
              "      <td>4.094045e-99</td>\n",
              "    </tr>\n",
              "  </tbody>\n",
              "</table>\n",
              "</div>"
            ],
            "text/plain": [
              "    Numerical Variable 1 Numerical Variable 2         R       P-value\n",
              "0    TotalCharges_minmax               tenure  0.824757  0.000000e+00\n",
              "1  MonthlyCharges_minmax  TotalCharges_minmax  0.650468  0.000000e+00\n",
              "2  MonthlyCharges_minmax               tenure  0.247900  4.094045e-99"
            ]
          },
          "metadata": {
            "tags": []
          }
        }
      ]
    },
    {
      "cell_type": "markdown",
      "metadata": {
        "id": "h1_6pIhhjxdP"
      },
      "source": [
        "It can be seen from the result that the p-value of these 3 combinations are below 0.05, it indicates\n",
        "there is dependency among all 2 variables. \\\n",
        "\n",
        "We have to decide whether we should drop TotalCharges_minmax or tenure. Thus, we proceed to do\n",
        "Variable Inflation factor to decide which variable we should drop."
      ]
    },
    {
      "cell_type": "markdown",
      "metadata": {
        "id": "_5YGzDS87ULn"
      },
      "source": [
        "# Variance inflation factor test"
      ]
    },
    {
      "cell_type": "markdown",
      "metadata": {
        "id": "Fnk1a8Hqj3DP"
      },
      "source": [
        "Variable Inflation factor (VIF) quantifies the severity of multicollinearity through coefficient of\n",
        "determination (R-squared). It can only be applied to numerical variables. Generally, VIF below 5 is a\n",
        "good indication that the problem of multicollinearity does not exist."
      ]
    },
    {
      "cell_type": "code",
      "metadata": {
        "colab": {
          "base_uri": "https://localhost:8080/"
        },
        "id": "x-iTj9wp7dco",
        "outputId": "13c5c530-481e-4518-95c4-1a2b3ece0eb0"
      },
      "source": [
        "#test on all numerical variables (including the dropped one)\n",
        "vif = calc_vif(X[indep_var_num_list])\n",
        "display(vif)"
      ],
      "execution_count": null,
      "outputs": [
        {
          "output_type": "display_data",
          "data": {
            "text/html": [
              "<div>\n",
              "<style scoped>\n",
              "    .dataframe tbody tr th:only-of-type {\n",
              "        vertical-align: middle;\n",
              "    }\n",
              "\n",
              "    .dataframe tbody tr th {\n",
              "        vertical-align: top;\n",
              "    }\n",
              "\n",
              "    .dataframe thead th {\n",
              "        text-align: right;\n",
              "    }\n",
              "</style>\n",
              "<table border=\"1\" class=\"dataframe\">\n",
              "  <thead>\n",
              "    <tr style=\"text-align: right;\">\n",
              "      <th></th>\n",
              "      <th>variables</th>\n",
              "      <th>VIF</th>\n",
              "    </tr>\n",
              "  </thead>\n",
              "  <tbody>\n",
              "    <tr>\n",
              "      <th>0</th>\n",
              "      <td>MonthlyCharges_minmax</td>\n",
              "      <td>3.509203</td>\n",
              "    </tr>\n",
              "    <tr>\n",
              "      <th>1</th>\n",
              "      <td>TotalCharges_minmax</td>\n",
              "      <td>9.562677</td>\n",
              "    </tr>\n",
              "    <tr>\n",
              "      <th>2</th>\n",
              "      <td>tenure</td>\n",
              "      <td>6.276250</td>\n",
              "    </tr>\n",
              "  </tbody>\n",
              "</table>\n",
              "</div>"
            ],
            "text/plain": [
              "               variables       VIF\n",
              "0  MonthlyCharges_minmax  3.509203\n",
              "1    TotalCharges_minmax  9.562677\n",
              "2                 tenure  6.276250"
            ]
          },
          "metadata": {
            "tags": []
          }
        }
      ]
    },
    {
      "cell_type": "markdown",
      "metadata": {
        "id": "NxvC2vyfj5zb"
      },
      "source": [
        "From the above, TotalCharges_minmax and tenure both have VIF above 5, but we won’t drop both at\n",
        "the same since dropping one will usually subsequently decrease the VIF for the rest. Since\n",
        "TotalCharges_minmax has the largest VIF, we decided to drop TotalCharges_minmax."
      ]
    },
    {
      "cell_type": "markdown",
      "metadata": {
        "id": "ncZPoZJtEetH"
      },
      "source": [
        "#Drop Column (base on results from Pearson correlation test; create XbeforeDrop)"
      ]
    },
    {
      "cell_type": "code",
      "metadata": {
        "id": "H92_l164sRyl"
      },
      "source": [
        "#The drop is due to the Pearson correlation test\n",
        "XbeforeDrop = X.copy(deep=True)\n",
        "\n",
        "X = X.drop(\"TotalCharges_minmax\", axis=1)\n",
        "Xencode = Xencode.drop(\"TotalCharges_minmax\", axis=1)\n",
        "try:\n",
        "  indep_var_num_list.remove(\"TotalCharges_minmax\")\n",
        "except:\n",
        "  print(\"removed already\")"
      ],
      "execution_count": null,
      "outputs": []
    },
    {
      "cell_type": "markdown",
      "metadata": {
        "id": "rXVdFcOfMGRS"
      },
      "source": [
        "# MCA"
      ]
    },
    {
      "cell_type": "markdown",
      "metadata": {
        "id": "Mi8FD0tuirMm"
      },
      "source": [
        "Multiple correspondence analysis (MCA) is a method that detects and represents underlying\n",
        "associations between categorical variables that are related to Euclidean classification. \\\n",
        "\n",
        "MCA is similar to Principal component analysis (PCA), a widely used technique for dimensionality\n",
        "reduction in data. Similar to PCA, MCA is also a method of dimension reduction. PCA are generally\n",
        "performed in continuous variables, it is possible to use PCA on categorical variables, however, MCA\n",
        "would be more suitable. Furthermore, MCA could transform categorical data into numerical data. \n",
        "\n",
        "PCA projects data to a 2 dimensional plane through a change of basis involving eigenvectors (linear\n",
        "transformation in matrix operations) and covariance matrix. The calculation of covariance matrix\n",
        "would be a problem for qualitative variables. Whereas, MCA uses a symmetric matrix of all two-way\n",
        "cross-tabulations instead of a covariance matrix. \\\n",
        "\n",
        "In layman’s terms, covariance is a measure of joint variability of two numerical variables. If we\n",
        "directly use covariance on categorical data, it would treat the categorical variables as numerical\n",
        "variables and the result might not be accurate. While two-way cross-tabulation uses the frequency of\n",
        "categorical variables, which is a more appropriate way for categorical variables.Thus, MCA is a more\n",
        "suitable technique for categorical data. \\\n",
        "\n",
        "PCA was not employed for numerical variables because our data only have 3 numerical variables to\n",
        "begin with, projecting a 3 dimensional data to 2 dimensions seems redundant."
      ]
    },
    {
      "cell_type": "code",
      "metadata": {
        "colab": {
          "base_uri": "https://localhost:8080/"
        },
        "id": "qqscVXS5MJkC",
        "outputId": "acb35cb6-ca2e-43e2-bf79-5c5f0799a859"
      },
      "source": [
        "test = X[indep_var_cat_list]\n",
        "test['Churn'] = pd.Series(y['Churn'])\n",
        "test.reset_index(drop=True, inplace = True)"
      ],
      "execution_count": null,
      "outputs": [
        {
          "output_type": "stream",
          "text": [
            "/usr/local/lib/python3.7/dist-packages/ipykernel_launcher.py:2: SettingWithCopyWarning: \n",
            "A value is trying to be set on a copy of a slice from a DataFrame.\n",
            "Try using .loc[row_indexer,col_indexer] = value instead\n",
            "\n",
            "See the caveats in the documentation: https://pandas.pydata.org/pandas-docs/stable/user_guide/indexing.html#returning-a-view-versus-a-copy\n",
            "  \n"
          ],
          "name": "stderr"
        }
      ]
    },
    {
      "cell_type": "code",
      "metadata": {
        "colab": {
          "base_uri": "https://localhost:8080/"
        },
        "id": "gv2kfNcaiM5L",
        "outputId": "fe3e6711-63e8-4492-8cbb-e2b69bfe3399"
      },
      "source": [
        "test.head()"
      ],
      "execution_count": null,
      "outputs": [
        {
          "output_type": "execute_result",
          "data": {
            "text/html": [
              "<div>\n",
              "<style scoped>\n",
              "    .dataframe tbody tr th:only-of-type {\n",
              "        vertical-align: middle;\n",
              "    }\n",
              "\n",
              "    .dataframe tbody tr th {\n",
              "        vertical-align: top;\n",
              "    }\n",
              "\n",
              "    .dataframe thead th {\n",
              "        text-align: right;\n",
              "    }\n",
              "</style>\n",
              "<table border=\"1\" class=\"dataframe\">\n",
              "  <thead>\n",
              "    <tr style=\"text-align: right;\">\n",
              "      <th></th>\n",
              "      <th>SeniorCitizen</th>\n",
              "      <th>gender</th>\n",
              "      <th>Partner</th>\n",
              "      <th>Dependents</th>\n",
              "      <th>PhoneService</th>\n",
              "      <th>MultipleLines</th>\n",
              "      <th>InternetService</th>\n",
              "      <th>OnlineSecurity</th>\n",
              "      <th>OnlineBackup</th>\n",
              "      <th>DeviceProtection</th>\n",
              "      <th>TechSupport</th>\n",
              "      <th>StreamingTV</th>\n",
              "      <th>StreamingMovies</th>\n",
              "      <th>Contract</th>\n",
              "      <th>PaperlessBilling</th>\n",
              "      <th>PaymentMethod</th>\n",
              "      <th>Churn</th>\n",
              "    </tr>\n",
              "  </thead>\n",
              "  <tbody>\n",
              "    <tr>\n",
              "      <th>0</th>\n",
              "      <td>0</td>\n",
              "      <td>Female</td>\n",
              "      <td>Yes</td>\n",
              "      <td>No</td>\n",
              "      <td>No</td>\n",
              "      <td>No phone service</td>\n",
              "      <td>DSL</td>\n",
              "      <td>No</td>\n",
              "      <td>Yes</td>\n",
              "      <td>No</td>\n",
              "      <td>No</td>\n",
              "      <td>No</td>\n",
              "      <td>No</td>\n",
              "      <td>Month-to-month</td>\n",
              "      <td>Yes</td>\n",
              "      <td>Electronic check</td>\n",
              "      <td>0</td>\n",
              "    </tr>\n",
              "    <tr>\n",
              "      <th>1</th>\n",
              "      <td>0</td>\n",
              "      <td>Male</td>\n",
              "      <td>No</td>\n",
              "      <td>No</td>\n",
              "      <td>Yes</td>\n",
              "      <td>No</td>\n",
              "      <td>DSL</td>\n",
              "      <td>Yes</td>\n",
              "      <td>No</td>\n",
              "      <td>Yes</td>\n",
              "      <td>No</td>\n",
              "      <td>No</td>\n",
              "      <td>No</td>\n",
              "      <td>One year</td>\n",
              "      <td>No</td>\n",
              "      <td>Mailed check</td>\n",
              "      <td>0</td>\n",
              "    </tr>\n",
              "    <tr>\n",
              "      <th>2</th>\n",
              "      <td>0</td>\n",
              "      <td>Male</td>\n",
              "      <td>No</td>\n",
              "      <td>No</td>\n",
              "      <td>Yes</td>\n",
              "      <td>No</td>\n",
              "      <td>DSL</td>\n",
              "      <td>Yes</td>\n",
              "      <td>Yes</td>\n",
              "      <td>No</td>\n",
              "      <td>No</td>\n",
              "      <td>No</td>\n",
              "      <td>No</td>\n",
              "      <td>Month-to-month</td>\n",
              "      <td>Yes</td>\n",
              "      <td>Mailed check</td>\n",
              "      <td>1</td>\n",
              "    </tr>\n",
              "    <tr>\n",
              "      <th>3</th>\n",
              "      <td>0</td>\n",
              "      <td>Male</td>\n",
              "      <td>No</td>\n",
              "      <td>No</td>\n",
              "      <td>No</td>\n",
              "      <td>No phone service</td>\n",
              "      <td>DSL</td>\n",
              "      <td>Yes</td>\n",
              "      <td>No</td>\n",
              "      <td>Yes</td>\n",
              "      <td>Yes</td>\n",
              "      <td>No</td>\n",
              "      <td>No</td>\n",
              "      <td>One year</td>\n",
              "      <td>No</td>\n",
              "      <td>Bank transfer (automatic)</td>\n",
              "      <td>0</td>\n",
              "    </tr>\n",
              "    <tr>\n",
              "      <th>4</th>\n",
              "      <td>0</td>\n",
              "      <td>Female</td>\n",
              "      <td>No</td>\n",
              "      <td>No</td>\n",
              "      <td>Yes</td>\n",
              "      <td>No</td>\n",
              "      <td>Fiber optic</td>\n",
              "      <td>No</td>\n",
              "      <td>No</td>\n",
              "      <td>No</td>\n",
              "      <td>No</td>\n",
              "      <td>No</td>\n",
              "      <td>No</td>\n",
              "      <td>Month-to-month</td>\n",
              "      <td>Yes</td>\n",
              "      <td>Electronic check</td>\n",
              "      <td>1</td>\n",
              "    </tr>\n",
              "  </tbody>\n",
              "</table>\n",
              "</div>"
            ],
            "text/plain": [
              "   SeniorCitizen  gender  ...              PaymentMethod Churn\n",
              "0              0  Female  ...           Electronic check     0\n",
              "1              0    Male  ...               Mailed check     0\n",
              "2              0    Male  ...               Mailed check     1\n",
              "3              0    Male  ...  Bank transfer (automatic)     0\n",
              "4              0  Female  ...           Electronic check     1\n",
              "\n",
              "[5 rows x 17 columns]"
            ]
          },
          "metadata": {
            "tags": []
          },
          "execution_count": 97
        }
      ]
    },
    {
      "cell_type": "code",
      "metadata": {
        "id": "ZDmheN_qnWa5"
      },
      "source": [
        "mca = prince.MCA(\n",
        "      n_components=2,\n",
        "      n_iter=3,\n",
        "      random_state=1)\n",
        "mca = mca.fit(test)\n",
        "mca_transformed = mca.fit_transform(test)"
      ],
      "execution_count": null,
      "outputs": []
    },
    {
      "cell_type": "code",
      "metadata": {
        "colab": {
          "base_uri": "https://localhost:8080/"
        },
        "id": "OXsCB51xY_JH",
        "outputId": "8d401b0c-55c9-45dc-ad27-65f332eca47a"
      },
      "source": [
        "print(mca_transformed)"
      ],
      "execution_count": null,
      "outputs": [
        {
          "output_type": "stream",
          "text": [
            "             0         1\n",
            "0    -0.560379 -0.106556\n",
            "1    -0.175667 -0.030285\n",
            "2    -0.303995 -0.351689\n",
            "3    -0.392488  0.533862\n",
            "4    -0.425068 -0.811613\n",
            "...        ...       ...\n",
            "7038 -0.259668  0.759626\n",
            "7039 -0.341625  0.533536\n",
            "7040 -0.517160  0.055478\n",
            "7041 -0.391396 -0.565152\n",
            "7042 -0.275751  0.495745\n",
            "\n",
            "[7043 rows x 2 columns]\n"
          ],
          "name": "stdout"
        }
      ]
    },
    {
      "cell_type": "code",
      "metadata": {
        "colab": {
          "base_uri": "https://localhost:8080/"
        },
        "id": "-BRU-QODa0Nh",
        "outputId": "073c0dff-ba5b-49dc-ce99-9a3a73df58a9"
      },
      "source": [
        "mca.eigenvalues_"
      ],
      "execution_count": null,
      "outputs": [
        {
          "output_type": "execute_result",
          "data": {
            "text/plain": [
              "[0.5007073181733013, 0.1933870319351406]"
            ]
          },
          "metadata": {
            "tags": []
          },
          "execution_count": 100
        }
      ]
    },
    {
      "cell_type": "code",
      "metadata": {
        "colab": {
          "base_uri": "https://localhost:8080/"
        },
        "id": "oRfLVxKJhxVx",
        "outputId": "e7cc658f-1441-4025-fd70-55f3175b5b2b"
      },
      "source": [
        "mca.total_inertia_"
      ],
      "execution_count": null,
      "outputs": [
        {
          "output_type": "execute_result",
          "data": {
            "text/plain": [
              "1.5294117647058822"
            ]
          },
          "metadata": {
            "tags": []
          },
          "execution_count": 101
        }
      ]
    },
    {
      "cell_type": "code",
      "metadata": {
        "colab": {
          "base_uri": "https://localhost:8080/"
        },
        "id": "5yBFpL1neviX",
        "outputId": "56e7ee60-11b5-48ba-d314-457be6052e88"
      },
      "source": [
        "mca.explained_inertia_"
      ],
      "execution_count": null,
      "outputs": [
        {
          "output_type": "execute_result",
          "data": {
            "text/plain": [
              "[0.32738555419023546, 0.126445367034515]"
            ]
          },
          "metadata": {
            "tags": []
          },
          "execution_count": 102
        }
      ]
    },
    {
      "cell_type": "markdown",
      "metadata": {
        "id": "yX1P77hXkqKD"
      },
      "source": [
        "Inertia of a component is the amount of variation the component explains, the components are ranked\n",
        "according to inertia. Thus, the first dimension (component 0) in MCA is always more important than\n",
        "the second dimension (component 1). With 2 components, it contributes 45.38% to the total inertia."
      ]
    },
    {
      "cell_type": "code",
      "metadata": {
        "colab": {
          "base_uri": "https://localhost:8080/"
        },
        "id": "9ZCSFa_hhhEc",
        "outputId": "ced27cc2-4ffb-4537-8b4a-730a9fd4e6bc"
      },
      "source": [
        "mca.column_coordinates(test)"
      ],
      "execution_count": null,
      "outputs": [
        {
          "output_type": "execute_result",
          "data": {
            "text/html": [
              "<div>\n",
              "<style scoped>\n",
              "    .dataframe tbody tr th:only-of-type {\n",
              "        vertical-align: middle;\n",
              "    }\n",
              "\n",
              "    .dataframe tbody tr th {\n",
              "        vertical-align: top;\n",
              "    }\n",
              "\n",
              "    .dataframe thead th {\n",
              "        text-align: right;\n",
              "    }\n",
              "</style>\n",
              "<table border=\"1\" class=\"dataframe\">\n",
              "  <thead>\n",
              "    <tr style=\"text-align: right;\">\n",
              "      <th></th>\n",
              "      <th>0</th>\n",
              "      <th>1</th>\n",
              "    </tr>\n",
              "  </thead>\n",
              "  <tbody>\n",
              "    <tr>\n",
              "      <th>SeniorCitizen</th>\n",
              "      <td>-0.485597</td>\n",
              "      <td>-0.317708</td>\n",
              "    </tr>\n",
              "    <tr>\n",
              "      <th>Churn</th>\n",
              "      <td>-0.442843</td>\n",
              "      <td>-0.725554</td>\n",
              "    </tr>\n",
              "    <tr>\n",
              "      <th>gender_Female</th>\n",
              "      <td>0.005209</td>\n",
              "      <td>0.026344</td>\n",
              "    </tr>\n",
              "    <tr>\n",
              "      <th>gender_Male</th>\n",
              "      <td>0.020810</td>\n",
              "      <td>0.006386</td>\n",
              "    </tr>\n",
              "    <tr>\n",
              "      <th>Partner_No</th>\n",
              "      <td>-0.012097</td>\n",
              "      <td>-0.450361</td>\n",
              "    </tr>\n",
              "    <tr>\n",
              "      <th>Partner_Yes</th>\n",
              "      <td>0.040034</td>\n",
              "      <td>0.515683</td>\n",
              "    </tr>\n",
              "    <tr>\n",
              "      <th>Dependents_No</th>\n",
              "      <td>-0.108186</td>\n",
              "      <td>-0.234915</td>\n",
              "    </tr>\n",
              "    <tr>\n",
              "      <th>Dependents_Yes</th>\n",
              "      <td>0.296601</td>\n",
              "      <td>0.603520</td>\n",
              "    </tr>\n",
              "    <tr>\n",
              "      <th>PhoneService_No</th>\n",
              "      <td>-0.631807</td>\n",
              "      <td>0.638934</td>\n",
              "    </tr>\n",
              "    <tr>\n",
              "      <th>PhoneService_Yes</th>\n",
              "      <td>0.082226</td>\n",
              "      <td>-0.050489</td>\n",
              "    </tr>\n",
              "    <tr>\n",
              "      <th>MultipleLines_No</th>\n",
              "      <td>0.383081</td>\n",
              "      <td>-0.300361</td>\n",
              "    </tr>\n",
              "    <tr>\n",
              "      <th>MultipleLines_No phone service</th>\n",
              "      <td>-0.631807</td>\n",
              "      <td>0.638934</td>\n",
              "    </tr>\n",
              "    <tr>\n",
              "      <th>MultipleLines_Yes</th>\n",
              "      <td>-0.261058</td>\n",
              "      <td>0.234622</td>\n",
              "    </tr>\n",
              "    <tr>\n",
              "      <th>InternetService_DSL</th>\n",
              "      <td>-0.477611</td>\n",
              "      <td>0.424422</td>\n",
              "    </tr>\n",
              "    <tr>\n",
              "      <th>InternetService_Fiber optic</th>\n",
              "      <td>-0.539700</td>\n",
              "      <td>-0.247018</td>\n",
              "    </tr>\n",
              "    <tr>\n",
              "      <th>InternetService_No</th>\n",
              "      <td>1.913077</td>\n",
              "      <td>-0.097094</td>\n",
              "    </tr>\n",
              "    <tr>\n",
              "      <th>OnlineSecurity_No</th>\n",
              "      <td>-0.545527</td>\n",
              "      <td>-0.408498</td>\n",
              "    </tr>\n",
              "    <tr>\n",
              "      <th>OnlineSecurity_No internet service</th>\n",
              "      <td>1.913077</td>\n",
              "      <td>-0.097094</td>\n",
              "    </tr>\n",
              "    <tr>\n",
              "      <th>OnlineSecurity_Yes</th>\n",
              "      <td>-0.455154</td>\n",
              "      <td>0.837882</td>\n",
              "    </tr>\n",
              "    <tr>\n",
              "      <th>OnlineBackup_No</th>\n",
              "      <td>-0.528491</td>\n",
              "      <td>-0.399683</td>\n",
              "    </tr>\n",
              "    <tr>\n",
              "      <th>OnlineBackup_No internet service</th>\n",
              "      <td>1.913077</td>\n",
              "      <td>-0.097094</td>\n",
              "    </tr>\n",
              "    <tr>\n",
              "      <th>OnlineBackup_Yes</th>\n",
              "      <td>-0.492066</td>\n",
              "      <td>0.616294</td>\n",
              "    </tr>\n",
              "    <tr>\n",
              "      <th>DeviceProtection_No</th>\n",
              "      <td>-0.530583</td>\n",
              "      <td>-0.485582</td>\n",
              "    </tr>\n",
              "    <tr>\n",
              "      <th>DeviceProtection_No internet service</th>\n",
              "      <td>1.913077</td>\n",
              "      <td>-0.097094</td>\n",
              "    </tr>\n",
              "    <tr>\n",
              "      <th>DeviceProtection_Yes</th>\n",
              "      <td>-0.489287</td>\n",
              "      <td>0.728999</td>\n",
              "    </tr>\n",
              "    <tr>\n",
              "      <th>TechSupport_No</th>\n",
              "      <td>-0.545069</td>\n",
              "      <td>-0.465444</td>\n",
              "    </tr>\n",
              "    <tr>\n",
              "      <th>TechSupport_No internet service</th>\n",
              "      <td>1.913077</td>\n",
              "      <td>-0.097094</td>\n",
              "    </tr>\n",
              "    <tr>\n",
              "      <th>TechSupport_Yes</th>\n",
              "      <td>-0.457036</td>\n",
              "      <td>0.919396</td>\n",
              "    </tr>\n",
              "    <tr>\n",
              "      <th>StreamingTV_No</th>\n",
              "      <td>-0.508818</td>\n",
              "      <td>-0.369045</td>\n",
              "    </tr>\n",
              "    <tr>\n",
              "      <th>StreamingTV_No internet service</th>\n",
              "      <td>1.913077</td>\n",
              "      <td>-0.097094</td>\n",
              "    </tr>\n",
              "    <tr>\n",
              "      <th>StreamingTV_Yes</th>\n",
              "      <td>-0.516227</td>\n",
              "      <td>0.480153</td>\n",
              "    </tr>\n",
              "    <tr>\n",
              "      <th>StreamingMovies_No</th>\n",
              "      <td>-0.508463</td>\n",
              "      <td>-0.378585</td>\n",
              "    </tr>\n",
              "    <tr>\n",
              "      <th>StreamingMovies_No internet service</th>\n",
              "      <td>1.913077</td>\n",
              "      <td>-0.097094</td>\n",
              "    </tr>\n",
              "    <tr>\n",
              "      <th>StreamingMovies_Yes</th>\n",
              "      <td>-0.516522</td>\n",
              "      <td>0.482107</td>\n",
              "    </tr>\n",
              "    <tr>\n",
              "      <th>Contract_Month-to-month</th>\n",
              "      <td>-0.233246</td>\n",
              "      <td>-0.626011</td>\n",
              "    </tr>\n",
              "    <tr>\n",
              "      <th>Contract_One year</th>\n",
              "      <td>0.119294</td>\n",
              "      <td>0.500937</td>\n",
              "    </tr>\n",
              "    <tr>\n",
              "      <th>Contract_Two year</th>\n",
              "      <td>0.483928</td>\n",
              "      <td>1.063425</td>\n",
              "    </tr>\n",
              "    <tr>\n",
              "      <th>PaperlessBilling_No</th>\n",
              "      <td>0.473203</td>\n",
              "      <td>0.148722</td>\n",
              "    </tr>\n",
              "    <tr>\n",
              "      <th>PaperlessBilling_Yes</th>\n",
              "      <td>-0.303738</td>\n",
              "      <td>-0.074931</td>\n",
              "    </tr>\n",
              "    <tr>\n",
              "      <th>PaymentMethod_Bank transfer (automatic)</th>\n",
              "      <td>0.029540</td>\n",
              "      <td>0.509527</td>\n",
              "    </tr>\n",
              "    <tr>\n",
              "      <th>PaymentMethod_Credit card (automatic)</th>\n",
              "      <td>0.039784</td>\n",
              "      <td>0.577121</td>\n",
              "    </tr>\n",
              "    <tr>\n",
              "      <th>PaymentMethod_Electronic check</th>\n",
              "      <td>-0.476246</td>\n",
              "      <td>-0.520482</td>\n",
              "    </tr>\n",
              "    <tr>\n",
              "      <th>PaymentMethod_Mailed check</th>\n",
              "      <td>0.690018</td>\n",
              "      <td>-0.198236</td>\n",
              "    </tr>\n",
              "  </tbody>\n",
              "</table>\n",
              "</div>"
            ],
            "text/plain": [
              "                                                0         1\n",
              "SeniorCitizen                           -0.485597 -0.317708\n",
              "Churn                                   -0.442843 -0.725554\n",
              "gender_Female                            0.005209  0.026344\n",
              "gender_Male                              0.020810  0.006386\n",
              "Partner_No                              -0.012097 -0.450361\n",
              "Partner_Yes                              0.040034  0.515683\n",
              "Dependents_No                           -0.108186 -0.234915\n",
              "Dependents_Yes                           0.296601  0.603520\n",
              "PhoneService_No                         -0.631807  0.638934\n",
              "PhoneService_Yes                         0.082226 -0.050489\n",
              "MultipleLines_No                         0.383081 -0.300361\n",
              "MultipleLines_No phone service          -0.631807  0.638934\n",
              "MultipleLines_Yes                       -0.261058  0.234622\n",
              "InternetService_DSL                     -0.477611  0.424422\n",
              "InternetService_Fiber optic             -0.539700 -0.247018\n",
              "InternetService_No                       1.913077 -0.097094\n",
              "OnlineSecurity_No                       -0.545527 -0.408498\n",
              "OnlineSecurity_No internet service       1.913077 -0.097094\n",
              "OnlineSecurity_Yes                      -0.455154  0.837882\n",
              "OnlineBackup_No                         -0.528491 -0.399683\n",
              "OnlineBackup_No internet service         1.913077 -0.097094\n",
              "OnlineBackup_Yes                        -0.492066  0.616294\n",
              "DeviceProtection_No                     -0.530583 -0.485582\n",
              "DeviceProtection_No internet service     1.913077 -0.097094\n",
              "DeviceProtection_Yes                    -0.489287  0.728999\n",
              "TechSupport_No                          -0.545069 -0.465444\n",
              "TechSupport_No internet service          1.913077 -0.097094\n",
              "TechSupport_Yes                         -0.457036  0.919396\n",
              "StreamingTV_No                          -0.508818 -0.369045\n",
              "StreamingTV_No internet service          1.913077 -0.097094\n",
              "StreamingTV_Yes                         -0.516227  0.480153\n",
              "StreamingMovies_No                      -0.508463 -0.378585\n",
              "StreamingMovies_No internet service      1.913077 -0.097094\n",
              "StreamingMovies_Yes                     -0.516522  0.482107\n",
              "Contract_Month-to-month                 -0.233246 -0.626011\n",
              "Contract_One year                        0.119294  0.500937\n",
              "Contract_Two year                        0.483928  1.063425\n",
              "PaperlessBilling_No                      0.473203  0.148722\n",
              "PaperlessBilling_Yes                    -0.303738 -0.074931\n",
              "PaymentMethod_Bank transfer (automatic)  0.029540  0.509527\n",
              "PaymentMethod_Credit card (automatic)    0.039784  0.577121\n",
              "PaymentMethod_Electronic check          -0.476246 -0.520482\n",
              "PaymentMethod_Mailed check               0.690018 -0.198236"
            ]
          },
          "metadata": {
            "tags": []
          },
          "execution_count": 103
        }
      ]
    },
    {
      "cell_type": "code",
      "metadata": {
        "colab": {
          "base_uri": "https://localhost:8080/"
        },
        "id": "0e6eDkpjZSss",
        "outputId": "96ab7d6b-599b-4f26-dfc6-28f0db3804dd"
      },
      "source": [
        "ax = mca.plot_coordinates(\n",
        "     X = test,\n",
        "     ax=None,\n",
        "     figsize=(15, 15),\n",
        "     show_row_points=False,\n",
        "     row_points_size=10,\n",
        "     show_row_labels=False,\n",
        "     show_column_points=True,\n",
        "     column_points_size=30,\n",
        "     show_column_labels=True,\n",
        "     legend_n_cols=1)"
      ],
      "execution_count": null,
      "outputs": [
        {
          "output_type": "display_data",
          "data": {
            "image/png": "[encoded data removed]",
            "text/plain": [
              "<Figure size 1080x1080 with 1 Axes>"
            ]
          },
          "metadata": {
            "tags": [],
            "needs_background": "light"
          }
        }
      ]
    },
    {
      "cell_type": "markdown",
      "metadata": {
        "id": "62pMqaM6izOa"
      },
      "source": [
        "One possible way to interpret it is that the closer the independent categorical variable is to the\n",
        "dependent categorical variable (churn) implies a higher risk of churning. Since the first dimension is\n",
        "always more important than the second dimension, and so on. \\\n",
        "\n",
        "Component 0 (x-axis) is more powerful than Component 1(y-axis). To illustrate this idea, let “a” be 1\n",
        "unit away from the original point by horizontal distance, “b” be 1 unit away from the original point by\n",
        "vertical distance, the association between “a” and the original point would be stronger than “b”. \n",
        "\n",
        "Those with month to month contractual agreements, and customers that do not pay for other services\n",
        "by Telco are the most likely to churn."
      ]
    },
    {
      "cell_type": "markdown",
      "metadata": {
        "id": "6an5br-Es89-"
      },
      "source": [
        "# Chi-square Test of Independence (cat + cat)(not include to be dropped columns from Pearson test)"
      ]
    },
    {
      "cell_type": "markdown",
      "metadata": {
        "id": "vFFutcijk0x9"
      },
      "source": [
        "Since categorical variables have no such thing as “correlation test”, therefore we test dependency\n",
        "among categorical variables. Chi-square test is a statistical hypothesis test, it’s a nonparametric test\n",
        "that does not assume any underlying distribution (e.g. linearity). \\\n",
        "\n",
        "H0: Independent\n",
        "\n",
        "HA: Dependent\n",
        "\n",
        "0.05 is used as the critical value, if p-value < 0.05, we will reject the null hypothesis, thus the\n",
        "variables are dependent. \\\n",
        "\n",
        "We also tested dependency among the independent variable (churn) and all the other dependent\n",
        "variables. We found that all categories except PhoneService and gender have dependency on Churn."
      ]
    },
    {
      "cell_type": "code",
      "metadata": {
        "colab": {
          "base_uri": "https://localhost:8080/"
        },
        "id": "T6H2Bb0DEuG3",
        "outputId": "7841448c-3f23-4feb-af34-064575b58ab5"
      },
      "source": [
        "print(indep_var_cat_list)\n",
        "print(X.columns)\n",
        "print(len(indep_var_cat_list))\n",
        "print(len(X.columns))"
      ],
      "execution_count": null,
      "outputs": [
        {
          "output_type": "stream",
          "text": [
            "['SeniorCitizen', 'gender', 'Partner', 'Dependents', 'PhoneService', 'MultipleLines', 'InternetService', 'OnlineSecurity', 'OnlineBackup', 'DeviceProtection', 'TechSupport', 'StreamingTV', 'StreamingMovies', 'Contract', 'PaperlessBilling', 'PaymentMethod']\n",
            "Index(['gender', 'SeniorCitizen', 'Partner', 'Dependents', 'tenure',\n",
            "       'PhoneService', 'MultipleLines', 'InternetService', 'OnlineSecurity',\n",
            "       'OnlineBackup', 'DeviceProtection', 'TechSupport', 'StreamingTV',\n",
            "       'StreamingMovies', 'Contract', 'PaperlessBilling', 'PaymentMethod',\n",
            "       'MonthlyCharges_minmax'],\n",
            "      dtype='object')\n",
            "16\n",
            "18\n"
          ],
          "name": "stdout"
        }
      ]
    },
    {
      "cell_type": "code",
      "metadata": {
        "id": "FX5DyP_3wZou"
      },
      "source": [
        "#Chi-Square Test of Independence\n",
        "cc_comparison_df = chi_square_test(indep_var_cat_list + ['Churn'], X.assign(Churn = y['Churn']))"
      ],
      "execution_count": null,
      "outputs": []
    },
    {
      "cell_type": "markdown",
      "metadata": {
        "id": "e2PRQGXilGxS"
      },
      "source": [
        "Since there are 16 categorical independent variables, meaning that there are 16C2 = 120 possible\n",
        "pairs.\n",
        "We drop the variables one by one and then run the regression again until no variables left have\n",
        "dependency with each other. We drop variables by dropping one the variables of the pair which has\n",
        "the highest F-statistics."
      ]
    },
    {
      "cell_type": "code",
      "metadata": {
        "id": "MofMN6YlAZWm"
      },
      "source": [
        "dep_cc_comparison_df = cc_comparison_df[cc_comparison_df.apply(lambda x: x['Categorical Variable 1'] == 'Churn', axis=1)].sort_values(by ='Test_statistic', ascending=False)\\\n",
        "  .reset_index(drop=True)\n",
        "indep_cc_comparison_df = cc_comparison_df[cc_comparison_df.apply(lambda x: x['Categorical Variable 1'] != 'Churn', axis=1)].sort_values(by ='Test_statistic', ascending=False)\\\n",
        "  .reset_index(drop=True)\n",
        "try:\n",
        "  dep_cc_comparison_df.pop(\"DoF\")\n",
        "  indep_cc_comparison_df.pop(\"DoF\")\n",
        "except:\n",
        "  print(\"Dropped column already\")"
      ],
      "execution_count": null,
      "outputs": []
    },
    {
      "cell_type": "code",
      "metadata": {
        "id": "NVVlN64uEGt9"
      },
      "source": [
        "dep_filtered_cc_comparison_df = dep_cc_comparison_df[dep_cc_comparison_df.apply(lambda x: (x['P-value']) > 0.05, axis=1)].sort_values(by ='Test_statistic', ascending=False)\\\n",
        "  .reset_index(drop=True)\n",
        "indep_filtered_cc_comparison_df = indep_cc_comparison_df[indep_cc_comparison_df.apply(lambda x: (x['P-value']) < 0.05, axis=1)].sort_values(by ='Test_statistic', ascending=False)\\\n",
        "  .reset_index(drop=True)\n",
        "dep_filtered_cc_comparison_df = dep_filtered_cc_comparison_df[dep_filtered_cc_comparison_df.apply(lambda x: (x['Test_statistic']) >= 000, axis=1)].sort_values(by ='Test_statistic', ascending=False)\\\n",
        "  .reset_index(drop=True)\n",
        "indep_filtered_cc_comparison_df = indep_filtered_cc_comparison_df[indep_filtered_cc_comparison_df.apply(lambda x: (x['Test_statistic']) >= 1000, axis=1)].sort_values(by ='Test_statistic', ascending=False)\\\n",
        "  .reset_index(drop=True)\n",
        "no_dep_indep_fileterd_cc_comparison_df = indep_cc_comparison_df[indep_cc_comparison_df.apply(lambda x: (x['P-value']) > 0.05, axis=1)].sort_values(by ='Test_statistic', ascending=False)\\\n",
        "  .reset_index(drop=True)"
      ],
      "execution_count": null,
      "outputs": []
    },
    {
      "cell_type": "code",
      "metadata": {
        "id": "PvKNZbhi1Orc",
        "colab": {
          "base_uri": "https://localhost:8080/"
        },
        "outputId": "cbb66cb6-ec51-43e2-f85b-695635401583"
      },
      "source": [
        "#Filter data with p-value > 0.05 (find no relationship columns)\n",
        "#Churn has no relationship with PhoneService_Yes and gender_Male\n",
        "display(dep_filtered_cc_comparison_df)\n",
        "#Filter data with p-value < 0.05 and test-statistic > 1000\n",
        "display(indep_filtered_cc_comparison_df)\n",
        "#Filter data with p-value > 0.05\n",
        "display(no_dep_indep_fileterd_cc_comparison_df)"
      ],
      "execution_count": null,
      "outputs": [
        {
          "output_type": "display_data",
          "data": {
            "text/html": [
              "<div>\n",
              "<style scoped>\n",
              "    .dataframe tbody tr th:only-of-type {\n",
              "        vertical-align: middle;\n",
              "    }\n",
              "\n",
              "    .dataframe tbody tr th {\n",
              "        vertical-align: top;\n",
              "    }\n",
              "\n",
              "    .dataframe thead th {\n",
              "        text-align: right;\n",
              "    }\n",
              "</style>\n",
              "<table border=\"1\" class=\"dataframe\">\n",
              "  <thead>\n",
              "    <tr style=\"text-align: right;\">\n",
              "      <th></th>\n",
              "      <th>Categorical Variable 1</th>\n",
              "      <th>Categorical Variable 2</th>\n",
              "      <th>Test_statistic</th>\n",
              "      <th>P-value</th>\n",
              "    </tr>\n",
              "  </thead>\n",
              "  <tbody>\n",
              "    <tr>\n",
              "      <th>0</th>\n",
              "      <td>Churn</td>\n",
              "      <td>PhoneService</td>\n",
              "      <td>0.915033</td>\n",
              "      <td>0.338783</td>\n",
              "    </tr>\n",
              "    <tr>\n",
              "      <th>1</th>\n",
              "      <td>Churn</td>\n",
              "      <td>gender</td>\n",
              "      <td>0.484083</td>\n",
              "      <td>0.486579</td>\n",
              "    </tr>\n",
              "  </tbody>\n",
              "</table>\n",
              "</div>"
            ],
            "text/plain": [
              "  Categorical Variable 1 Categorical Variable 2  Test_statistic   P-value\n",
              "0                  Churn           PhoneService        0.915033  0.338783\n",
              "1                  Churn                 gender        0.484083  0.486579"
            ]
          },
          "metadata": {
            "tags": []
          }
        },
        {
          "output_type": "display_data",
          "data": {
            "text/html": [
              "<div>\n",
              "<style scoped>\n",
              "    .dataframe tbody tr th:only-of-type {\n",
              "        vertical-align: middle;\n",
              "    }\n",
              "\n",
              "    .dataframe tbody tr th {\n",
              "        vertical-align: top;\n",
              "    }\n",
              "\n",
              "    .dataframe thead th {\n",
              "        text-align: right;\n",
              "    }\n",
              "</style>\n",
              "<table border=\"1\" class=\"dataframe\">\n",
              "  <thead>\n",
              "    <tr style=\"text-align: right;\">\n",
              "      <th></th>\n",
              "      <th>Categorical Variable 1</th>\n",
              "      <th>Categorical Variable 2</th>\n",
              "      <th>Test_statistic</th>\n",
              "      <th>P-value</th>\n",
              "    </tr>\n",
              "  </thead>\n",
              "  <tbody>\n",
              "    <tr>\n",
              "      <th>0</th>\n",
              "      <td>StreamingMovies</td>\n",
              "      <td>StreamingTV</td>\n",
              "      <td>8374.206314</td>\n",
              "      <td>0.000000e+00</td>\n",
              "    </tr>\n",
              "    <tr>\n",
              "      <th>1</th>\n",
              "      <td>StreamingMovies</td>\n",
              "      <td>DeviceProtection</td>\n",
              "      <td>7631.314396</td>\n",
              "      <td>0.000000e+00</td>\n",
              "    </tr>\n",
              "    <tr>\n",
              "      <th>2</th>\n",
              "      <td>StreamingTV</td>\n",
              "      <td>DeviceProtection</td>\n",
              "      <td>7581.909452</td>\n",
              "      <td>0.000000e+00</td>\n",
              "    </tr>\n",
              "    <tr>\n",
              "      <th>3</th>\n",
              "      <td>TechSupport</td>\n",
              "      <td>OnlineSecurity</td>\n",
              "      <td>7569.722977</td>\n",
              "      <td>0.000000e+00</td>\n",
              "    </tr>\n",
              "    <tr>\n",
              "      <th>4</th>\n",
              "      <td>TechSupport</td>\n",
              "      <td>DeviceProtection</td>\n",
              "      <td>7434.321766</td>\n",
              "      <td>0.000000e+00</td>\n",
              "    </tr>\n",
              "    <tr>\n",
              "      <th>5</th>\n",
              "      <td>OnlineSecurity</td>\n",
              "      <td>InternetService</td>\n",
              "      <td>7393.058146</td>\n",
              "      <td>0.000000e+00</td>\n",
              "    </tr>\n",
              "    <tr>\n",
              "      <th>6</th>\n",
              "      <td>TechSupport</td>\n",
              "      <td>InternetService</td>\n",
              "      <td>7361.215210</td>\n",
              "      <td>0.000000e+00</td>\n",
              "    </tr>\n",
              "    <tr>\n",
              "      <th>7</th>\n",
              "      <td>TechSupport</td>\n",
              "      <td>OnlineBackup</td>\n",
              "      <td>7298.822720</td>\n",
              "      <td>0.000000e+00</td>\n",
              "    </tr>\n",
              "    <tr>\n",
              "      <th>8</th>\n",
              "      <td>DeviceProtection</td>\n",
              "      <td>OnlineBackup</td>\n",
              "      <td>7284.450039</td>\n",
              "      <td>0.000000e+00</td>\n",
              "    </tr>\n",
              "    <tr>\n",
              "      <th>9</th>\n",
              "      <td>OnlineBackup</td>\n",
              "      <td>OnlineSecurity</td>\n",
              "      <td>7270.460647</td>\n",
              "      <td>0.000000e+00</td>\n",
              "    </tr>\n",
              "    <tr>\n",
              "      <th>10</th>\n",
              "      <td>DeviceProtection</td>\n",
              "      <td>OnlineSecurity</td>\n",
              "      <td>7247.346889</td>\n",
              "      <td>0.000000e+00</td>\n",
              "    </tr>\n",
              "    <tr>\n",
              "      <th>11</th>\n",
              "      <td>StreamingTV</td>\n",
              "      <td>InternetService</td>\n",
              "      <td>7243.457840</td>\n",
              "      <td>0.000000e+00</td>\n",
              "    </tr>\n",
              "    <tr>\n",
              "      <th>12</th>\n",
              "      <td>StreamingMovies</td>\n",
              "      <td>TechSupport</td>\n",
              "      <td>7227.861930</td>\n",
              "      <td>0.000000e+00</td>\n",
              "    </tr>\n",
              "    <tr>\n",
              "      <th>13</th>\n",
              "      <td>StreamingTV</td>\n",
              "      <td>TechSupport</td>\n",
              "      <td>7226.647348</td>\n",
              "      <td>0.000000e+00</td>\n",
              "    </tr>\n",
              "    <tr>\n",
              "      <th>14</th>\n",
              "      <td>StreamingMovies</td>\n",
              "      <td>InternetService</td>\n",
              "      <td>7221.427329</td>\n",
              "      <td>0.000000e+00</td>\n",
              "    </tr>\n",
              "    <tr>\n",
              "      <th>15</th>\n",
              "      <td>StreamingTV</td>\n",
              "      <td>OnlineBackup</td>\n",
              "      <td>7195.057831</td>\n",
              "      <td>0.000000e+00</td>\n",
              "    </tr>\n",
              "    <tr>\n",
              "      <th>16</th>\n",
              "      <td>StreamingMovies</td>\n",
              "      <td>OnlineBackup</td>\n",
              "      <td>7174.586977</td>\n",
              "      <td>0.000000e+00</td>\n",
              "    </tr>\n",
              "    <tr>\n",
              "      <th>17</th>\n",
              "      <td>StreamingMovies</td>\n",
              "      <td>OnlineSecurity</td>\n",
              "      <td>7064.962676</td>\n",
              "      <td>0.000000e+00</td>\n",
              "    </tr>\n",
              "    <tr>\n",
              "      <th>18</th>\n",
              "      <td>StreamingTV</td>\n",
              "      <td>OnlineSecurity</td>\n",
              "      <td>7056.584665</td>\n",
              "      <td>0.000000e+00</td>\n",
              "    </tr>\n",
              "    <tr>\n",
              "      <th>19</th>\n",
              "      <td>OnlineBackup</td>\n",
              "      <td>InternetService</td>\n",
              "      <td>7044.539402</td>\n",
              "      <td>0.000000e+00</td>\n",
              "    </tr>\n",
              "    <tr>\n",
              "      <th>20</th>\n",
              "      <td>DeviceProtection</td>\n",
              "      <td>InternetService</td>\n",
              "      <td>7043.017879</td>\n",
              "      <td>0.000000e+00</td>\n",
              "    </tr>\n",
              "    <tr>\n",
              "      <th>21</th>\n",
              "      <td>MultipleLines</td>\n",
              "      <td>PhoneService</td>\n",
              "      <td>7043.000000</td>\n",
              "      <td>0.000000e+00</td>\n",
              "    </tr>\n",
              "    <tr>\n",
              "      <th>22</th>\n",
              "      <td>InternetService</td>\n",
              "      <td>MultipleLines</td>\n",
              "      <td>2217.014120</td>\n",
              "      <td>0.000000e+00</td>\n",
              "    </tr>\n",
              "    <tr>\n",
              "      <th>23</th>\n",
              "      <td>Contract</td>\n",
              "      <td>TechSupport</td>\n",
              "      <td>1543.471308</td>\n",
              "      <td>0.000000e+00</td>\n",
              "    </tr>\n",
              "    <tr>\n",
              "      <th>24</th>\n",
              "      <td>InternetService</td>\n",
              "      <td>PhoneService</td>\n",
              "      <td>1441.623387</td>\n",
              "      <td>0.000000e+00</td>\n",
              "    </tr>\n",
              "    <tr>\n",
              "      <th>25</th>\n",
              "      <td>Dependents</td>\n",
              "      <td>Partner</td>\n",
              "      <td>1441.245221</td>\n",
              "      <td>0.000000e+00</td>\n",
              "    </tr>\n",
              "    <tr>\n",
              "      <th>26</th>\n",
              "      <td>PaymentMethod</td>\n",
              "      <td>InternetService</td>\n",
              "      <td>1381.076162</td>\n",
              "      <td>3.031971e-295</td>\n",
              "    </tr>\n",
              "    <tr>\n",
              "      <th>27</th>\n",
              "      <td>PaymentMethod</td>\n",
              "      <td>TechSupport</td>\n",
              "      <td>1326.626133</td>\n",
              "      <td>1.864284e-283</td>\n",
              "    </tr>\n",
              "    <tr>\n",
              "      <th>28</th>\n",
              "      <td>PaymentMethod</td>\n",
              "      <td>OnlineSecurity</td>\n",
              "      <td>1309.995701</td>\n",
              "      <td>7.427177e-280</td>\n",
              "    </tr>\n",
              "    <tr>\n",
              "      <th>29</th>\n",
              "      <td>Contract</td>\n",
              "      <td>OnlineSecurity</td>\n",
              "      <td>1279.164571</td>\n",
              "      <td>1.095261e-275</td>\n",
              "    </tr>\n",
              "    <tr>\n",
              "      <th>30</th>\n",
              "      <td>Contract</td>\n",
              "      <td>DeviceProtection</td>\n",
              "      <td>1242.315298</td>\n",
              "      <td>1.067975e-267</td>\n",
              "    </tr>\n",
              "    <tr>\n",
              "      <th>31</th>\n",
              "      <td>PaymentMethod</td>\n",
              "      <td>DeviceProtection</td>\n",
              "      <td>1160.420830</td>\n",
              "      <td>1.759772e-247</td>\n",
              "    </tr>\n",
              "    <tr>\n",
              "      <th>32</th>\n",
              "      <td>PaymentMethod</td>\n",
              "      <td>OnlineBackup</td>\n",
              "      <td>1124.283278</td>\n",
              "      <td>1.161970e-239</td>\n",
              "    </tr>\n",
              "    <tr>\n",
              "      <th>33</th>\n",
              "      <td>PaymentMethod</td>\n",
              "      <td>StreamingMovies</td>\n",
              "      <td>1062.611542</td>\n",
              "      <td>2.559348e-226</td>\n",
              "    </tr>\n",
              "    <tr>\n",
              "      <th>34</th>\n",
              "      <td>PaymentMethod</td>\n",
              "      <td>StreamingTV</td>\n",
              "      <td>1054.982913</td>\n",
              "      <td>1.143981e-224</td>\n",
              "    </tr>\n",
              "    <tr>\n",
              "      <th>35</th>\n",
              "      <td>PaperlessBilling</td>\n",
              "      <td>InternetService</td>\n",
              "      <td>1008.608809</td>\n",
              "      <td>9.624539e-220</td>\n",
              "    </tr>\n",
              "    <tr>\n",
              "      <th>36</th>\n",
              "      <td>PaymentMethod</td>\n",
              "      <td>Contract</td>\n",
              "      <td>1001.581571</td>\n",
              "      <td>4.067638e-213</td>\n",
              "    </tr>\n",
              "  </tbody>\n",
              "</table>\n",
              "</div>"
            ],
            "text/plain": [
              "   Categorical Variable 1 Categorical Variable 2  Test_statistic        P-value\n",
              "0         StreamingMovies            StreamingTV     8374.206314   0.000000e+00\n",
              "1         StreamingMovies       DeviceProtection     7631.314396   0.000000e+00\n",
              "2             StreamingTV       DeviceProtection     7581.909452   0.000000e+00\n",
              "3             TechSupport         OnlineSecurity     7569.722977   0.000000e+00\n",
              "4             TechSupport       DeviceProtection     7434.321766   0.000000e+00\n",
              "5          OnlineSecurity        InternetService     7393.058146   0.000000e+00\n",
              "6             TechSupport        InternetService     7361.215210   0.000000e+00\n",
              "7             TechSupport           OnlineBackup     7298.822720   0.000000e+00\n",
              "8        DeviceProtection           OnlineBackup     7284.450039   0.000000e+00\n",
              "9            OnlineBackup         OnlineSecurity     7270.460647   0.000000e+00\n",
              "10       DeviceProtection         OnlineSecurity     7247.346889   0.000000e+00\n",
              "11            StreamingTV        InternetService     7243.457840   0.000000e+00\n",
              "12        StreamingMovies            TechSupport     7227.861930   0.000000e+00\n",
              "13            StreamingTV            TechSupport     7226.647348   0.000000e+00\n",
              "14        StreamingMovies        InternetService     7221.427329   0.000000e+00\n",
              "15            StreamingTV           OnlineBackup     7195.057831   0.000000e+00\n",
              "16        StreamingMovies           OnlineBackup     7174.586977   0.000000e+00\n",
              "17        StreamingMovies         OnlineSecurity     7064.962676   0.000000e+00\n",
              "18            StreamingTV         OnlineSecurity     7056.584665   0.000000e+00\n",
              "19           OnlineBackup        InternetService     7044.539402   0.000000e+00\n",
              "20       DeviceProtection        InternetService     7043.017879   0.000000e+00\n",
              "21          MultipleLines           PhoneService     7043.000000   0.000000e+00\n",
              "22        InternetService          MultipleLines     2217.014120   0.000000e+00\n",
              "23               Contract            TechSupport     1543.471308   0.000000e+00\n",
              "24        InternetService           PhoneService     1441.623387   0.000000e+00\n",
              "25             Dependents                Partner     1441.245221   0.000000e+00\n",
              "26          PaymentMethod        InternetService     1381.076162  3.031971e-295\n",
              "27          PaymentMethod            TechSupport     1326.626133  1.864284e-283\n",
              "28          PaymentMethod         OnlineSecurity     1309.995701  7.427177e-280\n",
              "29               Contract         OnlineSecurity     1279.164571  1.095261e-275\n",
              "30               Contract       DeviceProtection     1242.315298  1.067975e-267\n",
              "31          PaymentMethod       DeviceProtection     1160.420830  1.759772e-247\n",
              "32          PaymentMethod           OnlineBackup     1124.283278  1.161970e-239\n",
              "33          PaymentMethod        StreamingMovies     1062.611542  2.559348e-226\n",
              "34          PaymentMethod            StreamingTV     1054.982913  1.143981e-224\n",
              "35       PaperlessBilling        InternetService     1008.608809  9.624539e-220\n",
              "36          PaymentMethod               Contract     1001.581571  4.067638e-213"
            ]
          },
          "metadata": {
            "tags": []
          }
        },
        {
          "output_type": "display_data",
          "data": {
            "text/html": [
              "<div>\n",
              "<style scoped>\n",
              "    .dataframe tbody tr th:only-of-type {\n",
              "        vertical-align: middle;\n",
              "    }\n",
              "\n",
              "    .dataframe tbody tr th {\n",
              "        vertical-align: top;\n",
              "    }\n",
              "\n",
              "    .dataframe thead th {\n",
              "        text-align: right;\n",
              "    }\n",
              "</style>\n",
              "<table border=\"1\" class=\"dataframe\">\n",
              "  <thead>\n",
              "    <tr style=\"text-align: right;\">\n",
              "      <th></th>\n",
              "      <th>Categorical Variable 1</th>\n",
              "      <th>Categorical Variable 2</th>\n",
              "      <th>Test_statistic</th>\n",
              "      <th>P-value</th>\n",
              "    </tr>\n",
              "  </thead>\n",
              "  <tbody>\n",
              "    <tr>\n",
              "      <th>0</th>\n",
              "      <td>MultipleLines</td>\n",
              "      <td>Dependents</td>\n",
              "      <td>4.435045</td>\n",
              "      <td>0.108879</td>\n",
              "    </tr>\n",
              "    <tr>\n",
              "      <th>1</th>\n",
              "      <td>PaymentMethod</td>\n",
              "      <td>gender</td>\n",
              "      <td>2.448621</td>\n",
              "      <td>0.484648</td>\n",
              "    </tr>\n",
              "    <tr>\n",
              "      <th>2</th>\n",
              "      <td>PhoneService</td>\n",
              "      <td>Partner</td>\n",
              "      <td>2.089728</td>\n",
              "      <td>0.148292</td>\n",
              "    </tr>\n",
              "    <tr>\n",
              "      <th>3</th>\n",
              "      <td>OnlineSecurity</td>\n",
              "      <td>gender</td>\n",
              "      <td>2.041386</td>\n",
              "      <td>0.360345</td>\n",
              "    </tr>\n",
              "    <tr>\n",
              "      <th>4</th>\n",
              "      <td>Partner</td>\n",
              "      <td>SeniorCitizen</td>\n",
              "      <td>1.824079</td>\n",
              "      <td>0.176829</td>\n",
              "    </tr>\n",
              "    <tr>\n",
              "      <th>5</th>\n",
              "      <td>PaperlessBilling</td>\n",
              "      <td>PhoneService</td>\n",
              "      <td>1.806686</td>\n",
              "      <td>0.178906</td>\n",
              "    </tr>\n",
              "    <tr>\n",
              "      <th>6</th>\n",
              "      <td>PaperlessBilling</td>\n",
              "      <td>Partner</td>\n",
              "      <td>1.498722</td>\n",
              "      <td>0.220868</td>\n",
              "    </tr>\n",
              "    <tr>\n",
              "      <th>7</th>\n",
              "      <td>OnlineBackup</td>\n",
              "      <td>gender</td>\n",
              "      <td>1.340950</td>\n",
              "      <td>0.511466</td>\n",
              "    </tr>\n",
              "    <tr>\n",
              "      <th>8</th>\n",
              "      <td>PaperlessBilling</td>\n",
              "      <td>gender</td>\n",
              "      <td>0.925736</td>\n",
              "      <td>0.335973</td>\n",
              "    </tr>\n",
              "    <tr>\n",
              "      <th>9</th>\n",
              "      <td>InternetService</td>\n",
              "      <td>gender</td>\n",
              "      <td>0.902478</td>\n",
              "      <td>0.636839</td>\n",
              "    </tr>\n",
              "    <tr>\n",
              "      <th>10</th>\n",
              "      <td>StreamingMovies</td>\n",
              "      <td>gender</td>\n",
              "      <td>0.797450</td>\n",
              "      <td>0.671175</td>\n",
              "    </tr>\n",
              "    <tr>\n",
              "      <th>11</th>\n",
              "      <td>PaymentMethod</td>\n",
              "      <td>PhoneService</td>\n",
              "      <td>0.746789</td>\n",
              "      <td>0.862147</td>\n",
              "    </tr>\n",
              "    <tr>\n",
              "      <th>12</th>\n",
              "      <td>Dependents</td>\n",
              "      <td>gender</td>\n",
              "      <td>0.733708</td>\n",
              "      <td>0.391684</td>\n",
              "    </tr>\n",
              "    <tr>\n",
              "      <th>13</th>\n",
              "      <td>TechSupport</td>\n",
              "      <td>gender</td>\n",
              "      <td>0.665718</td>\n",
              "      <td>0.716871</td>\n",
              "    </tr>\n",
              "    <tr>\n",
              "      <th>14</th>\n",
              "      <td>MultipleLines</td>\n",
              "      <td>gender</td>\n",
              "      <td>0.629179</td>\n",
              "      <td>0.730088</td>\n",
              "    </tr>\n",
              "    <tr>\n",
              "      <th>15</th>\n",
              "      <td>StreamingTV</td>\n",
              "      <td>gender</td>\n",
              "      <td>0.550919</td>\n",
              "      <td>0.759223</td>\n",
              "    </tr>\n",
              "    <tr>\n",
              "      <th>16</th>\n",
              "      <td>Contract</td>\n",
              "      <td>gender</td>\n",
              "      <td>0.468107</td>\n",
              "      <td>0.791319</td>\n",
              "    </tr>\n",
              "    <tr>\n",
              "      <th>17</th>\n",
              "      <td>PhoneService</td>\n",
              "      <td>SeniorCitizen</td>\n",
              "      <td>0.442352</td>\n",
              "      <td>0.505989</td>\n",
              "    </tr>\n",
              "    <tr>\n",
              "      <th>18</th>\n",
              "      <td>DeviceProtection</td>\n",
              "      <td>gender</td>\n",
              "      <td>0.256026</td>\n",
              "      <td>0.879842</td>\n",
              "    </tr>\n",
              "    <tr>\n",
              "      <th>19</th>\n",
              "      <td>PhoneService</td>\n",
              "      <td>gender</td>\n",
              "      <td>0.254185</td>\n",
              "      <td>0.614143</td>\n",
              "    </tr>\n",
              "    <tr>\n",
              "      <th>20</th>\n",
              "      <td>Contract</td>\n",
              "      <td>PhoneService</td>\n",
              "      <td>0.111346</td>\n",
              "      <td>0.945848</td>\n",
              "    </tr>\n",
              "    <tr>\n",
              "      <th>21</th>\n",
              "      <td>Partner</td>\n",
              "      <td>gender</td>\n",
              "      <td>0.016356</td>\n",
              "      <td>0.898234</td>\n",
              "    </tr>\n",
              "    <tr>\n",
              "      <th>22</th>\n",
              "      <td>gender</td>\n",
              "      <td>SeniorCitizen</td>\n",
              "      <td>0.015604</td>\n",
              "      <td>0.900589</td>\n",
              "    </tr>\n",
              "    <tr>\n",
              "      <th>23</th>\n",
              "      <td>PhoneService</td>\n",
              "      <td>Dependents</td>\n",
              "      <td>0.010788</td>\n",
              "      <td>0.917277</td>\n",
              "    </tr>\n",
              "    <tr>\n",
              "      <th>24</th>\n",
              "      <td>InternetService</td>\n",
              "      <td>Partner</td>\n",
              "      <td>0.005798</td>\n",
              "      <td>0.997105</td>\n",
              "    </tr>\n",
              "  </tbody>\n",
              "</table>\n",
              "</div>"
            ],
            "text/plain": [
              "   Categorical Variable 1 Categorical Variable 2  Test_statistic   P-value\n",
              "0           MultipleLines             Dependents        4.435045  0.108879\n",
              "1           PaymentMethod                 gender        2.448621  0.484648\n",
              "2            PhoneService                Partner        2.089728  0.148292\n",
              "3          OnlineSecurity                 gender        2.041386  0.360345\n",
              "4                 Partner          SeniorCitizen        1.824079  0.176829\n",
              "5        PaperlessBilling           PhoneService        1.806686  0.178906\n",
              "6        PaperlessBilling                Partner        1.498722  0.220868\n",
              "7            OnlineBackup                 gender        1.340950  0.511466\n",
              "8        PaperlessBilling                 gender        0.925736  0.335973\n",
              "9         InternetService                 gender        0.902478  0.636839\n",
              "10        StreamingMovies                 gender        0.797450  0.671175\n",
              "11          PaymentMethod           PhoneService        0.746789  0.862147\n",
              "12             Dependents                 gender        0.733708  0.391684\n",
              "13            TechSupport                 gender        0.665718  0.716871\n",
              "14          MultipleLines                 gender        0.629179  0.730088\n",
              "15            StreamingTV                 gender        0.550919  0.759223\n",
              "16               Contract                 gender        0.468107  0.791319\n",
              "17           PhoneService          SeniorCitizen        0.442352  0.505989\n",
              "18       DeviceProtection                 gender        0.256026  0.879842\n",
              "19           PhoneService                 gender        0.254185  0.614143\n",
              "20               Contract           PhoneService        0.111346  0.945848\n",
              "21                Partner                 gender        0.016356  0.898234\n",
              "22                 gender          SeniorCitizen        0.015604  0.900589\n",
              "23           PhoneService             Dependents        0.010788  0.917277\n",
              "24        InternetService                Partner        0.005798  0.997105"
            ]
          },
          "metadata": {
            "tags": []
          }
        }
      ]
    },
    {
      "cell_type": "markdown",
      "metadata": {
        "id": "_j08cTncPUA6"
      },
      "source": [
        "# Chi-square test of Independence (on dropped columns)"
      ]
    },
    {
      "cell_type": "code",
      "metadata": {
        "id": "XNLKuMdQPYW9"
      },
      "source": [
        "dropped_indep_var_cat_list = ['StreamingMovies','StreamingTV','TechSupport','OnlineSecurity','OnlineBackup',\\\n",
        "                'InternetService','PhoneService','Dependents','DeviceProtection','PaymentMethod']"
      ],
      "execution_count": null,
      "outputs": []
    },
    {
      "cell_type": "code",
      "metadata": {
        "id": "le_bEIPqQH0g"
      },
      "source": [
        "dropped_indep_cc_comparison_df = chi_square_test(dropped_indep_var_cat_list, X)"
      ],
      "execution_count": null,
      "outputs": []
    },
    {
      "cell_type": "code",
      "metadata": {
        "colab": {
          "base_uri": "https://localhost:8080/"
        },
        "id": "S24Il75fT4Uc",
        "outputId": "0268ece1-bcf4-4cf4-c8d3-7ca5d95fac05"
      },
      "source": [
        "display(dropped_indep_cc_comparison_df)"
      ],
      "execution_count": null,
      "outputs": [
        {
          "output_type": "display_data",
          "data": {
            "text/html": [
              "<div>\n",
              "<style scoped>\n",
              "    .dataframe tbody tr th:only-of-type {\n",
              "        vertical-align: middle;\n",
              "    }\n",
              "\n",
              "    .dataframe tbody tr th {\n",
              "        vertical-align: top;\n",
              "    }\n",
              "\n",
              "    .dataframe thead th {\n",
              "        text-align: right;\n",
              "    }\n",
              "</style>\n",
              "<table border=\"1\" class=\"dataframe\">\n",
              "  <thead>\n",
              "    <tr style=\"text-align: right;\">\n",
              "      <th></th>\n",
              "      <th>Categorical Variable 1</th>\n",
              "      <th>Categorical Variable 2</th>\n",
              "      <th>Test_statistic</th>\n",
              "      <th>P-value</th>\n",
              "      <th>DoF</th>\n",
              "    </tr>\n",
              "  </thead>\n",
              "  <tbody>\n",
              "    <tr>\n",
              "      <th>0</th>\n",
              "      <td>StreamingTV</td>\n",
              "      <td>StreamingMovies</td>\n",
              "      <td>8374.206314</td>\n",
              "      <td>0.000000e+00</td>\n",
              "      <td>4.0</td>\n",
              "    </tr>\n",
              "    <tr>\n",
              "      <th>1</th>\n",
              "      <td>TechSupport</td>\n",
              "      <td>StreamingMovies</td>\n",
              "      <td>7227.861930</td>\n",
              "      <td>0.000000e+00</td>\n",
              "      <td>4.0</td>\n",
              "    </tr>\n",
              "    <tr>\n",
              "      <th>2</th>\n",
              "      <td>OnlineSecurity</td>\n",
              "      <td>StreamingMovies</td>\n",
              "      <td>7064.962676</td>\n",
              "      <td>0.000000e+00</td>\n",
              "      <td>4.0</td>\n",
              "    </tr>\n",
              "    <tr>\n",
              "      <th>3</th>\n",
              "      <td>OnlineBackup</td>\n",
              "      <td>StreamingMovies</td>\n",
              "      <td>7174.586977</td>\n",
              "      <td>0.000000e+00</td>\n",
              "      <td>4.0</td>\n",
              "    </tr>\n",
              "    <tr>\n",
              "      <th>4</th>\n",
              "      <td>InternetService</td>\n",
              "      <td>StreamingMovies</td>\n",
              "      <td>7221.427329</td>\n",
              "      <td>0.000000e+00</td>\n",
              "      <td>4.0</td>\n",
              "    </tr>\n",
              "    <tr>\n",
              "      <th>5</th>\n",
              "      <td>PhoneService</td>\n",
              "      <td>StreamingMovies</td>\n",
              "      <td>221.949347</td>\n",
              "      <td>6.372528e-49</td>\n",
              "      <td>2.0</td>\n",
              "    </tr>\n",
              "    <tr>\n",
              "      <th>6</th>\n",
              "      <td>Dependents</td>\n",
              "      <td>StreamingMovies</td>\n",
              "      <td>140.688770</td>\n",
              "      <td>2.817226e-31</td>\n",
              "      <td>2.0</td>\n",
              "    </tr>\n",
              "    <tr>\n",
              "      <th>7</th>\n",
              "      <td>DeviceProtection</td>\n",
              "      <td>StreamingMovies</td>\n",
              "      <td>7631.314396</td>\n",
              "      <td>0.000000e+00</td>\n",
              "      <td>4.0</td>\n",
              "    </tr>\n",
              "    <tr>\n",
              "      <th>8</th>\n",
              "      <td>PaymentMethod</td>\n",
              "      <td>StreamingMovies</td>\n",
              "      <td>1062.611542</td>\n",
              "      <td>2.559348e-226</td>\n",
              "      <td>6.0</td>\n",
              "    </tr>\n",
              "    <tr>\n",
              "      <th>9</th>\n",
              "      <td>TechSupport</td>\n",
              "      <td>StreamingTV</td>\n",
              "      <td>7226.647348</td>\n",
              "      <td>0.000000e+00</td>\n",
              "      <td>4.0</td>\n",
              "    </tr>\n",
              "    <tr>\n",
              "      <th>10</th>\n",
              "      <td>OnlineSecurity</td>\n",
              "      <td>StreamingTV</td>\n",
              "      <td>7056.584665</td>\n",
              "      <td>0.000000e+00</td>\n",
              "      <td>4.0</td>\n",
              "    </tr>\n",
              "    <tr>\n",
              "      <th>11</th>\n",
              "      <td>OnlineBackup</td>\n",
              "      <td>StreamingTV</td>\n",
              "      <td>7195.057831</td>\n",
              "      <td>0.000000e+00</td>\n",
              "      <td>4.0</td>\n",
              "    </tr>\n",
              "    <tr>\n",
              "      <th>12</th>\n",
              "      <td>InternetService</td>\n",
              "      <td>StreamingTV</td>\n",
              "      <td>7243.457840</td>\n",
              "      <td>0.000000e+00</td>\n",
              "      <td>4.0</td>\n",
              "    </tr>\n",
              "    <tr>\n",
              "      <th>13</th>\n",
              "      <td>PhoneService</td>\n",
              "      <td>StreamingTV</td>\n",
              "      <td>229.296157</td>\n",
              "      <td>1.617976e-50</td>\n",
              "      <td>2.0</td>\n",
              "    </tr>\n",
              "    <tr>\n",
              "      <th>14</th>\n",
              "      <td>Dependents</td>\n",
              "      <td>StreamingTV</td>\n",
              "      <td>152.362938</td>\n",
              "      <td>8.218801e-34</td>\n",
              "      <td>2.0</td>\n",
              "    </tr>\n",
              "    <tr>\n",
              "      <th>15</th>\n",
              "      <td>DeviceProtection</td>\n",
              "      <td>StreamingTV</td>\n",
              "      <td>7581.909452</td>\n",
              "      <td>0.000000e+00</td>\n",
              "      <td>4.0</td>\n",
              "    </tr>\n",
              "    <tr>\n",
              "      <th>16</th>\n",
              "      <td>PaymentMethod</td>\n",
              "      <td>StreamingTV</td>\n",
              "      <td>1054.982913</td>\n",
              "      <td>1.143981e-224</td>\n",
              "      <td>6.0</td>\n",
              "    </tr>\n",
              "    <tr>\n",
              "      <th>17</th>\n",
              "      <td>OnlineSecurity</td>\n",
              "      <td>TechSupport</td>\n",
              "      <td>7569.722977</td>\n",
              "      <td>0.000000e+00</td>\n",
              "      <td>4.0</td>\n",
              "    </tr>\n",
              "    <tr>\n",
              "      <th>18</th>\n",
              "      <td>OnlineBackup</td>\n",
              "      <td>TechSupport</td>\n",
              "      <td>7298.822720</td>\n",
              "      <td>0.000000e+00</td>\n",
              "      <td>4.0</td>\n",
              "    </tr>\n",
              "    <tr>\n",
              "      <th>19</th>\n",
              "      <td>InternetService</td>\n",
              "      <td>TechSupport</td>\n",
              "      <td>7361.215210</td>\n",
              "      <td>0.000000e+00</td>\n",
              "      <td>4.0</td>\n",
              "    </tr>\n",
              "    <tr>\n",
              "      <th>20</th>\n",
              "      <td>PhoneService</td>\n",
              "      <td>TechSupport</td>\n",
              "      <td>220.591797</td>\n",
              "      <td>1.256319e-48</td>\n",
              "      <td>2.0</td>\n",
              "    </tr>\n",
              "    <tr>\n",
              "      <th>21</th>\n",
              "      <td>Dependents</td>\n",
              "      <td>TechSupport</td>\n",
              "      <td>234.260961</td>\n",
              "      <td>1.351695e-51</td>\n",
              "      <td>2.0</td>\n",
              "    </tr>\n",
              "    <tr>\n",
              "      <th>22</th>\n",
              "      <td>DeviceProtection</td>\n",
              "      <td>TechSupport</td>\n",
              "      <td>7434.321766</td>\n",
              "      <td>0.000000e+00</td>\n",
              "      <td>4.0</td>\n",
              "    </tr>\n",
              "    <tr>\n",
              "      <th>23</th>\n",
              "      <td>PaymentMethod</td>\n",
              "      <td>TechSupport</td>\n",
              "      <td>1326.626133</td>\n",
              "      <td>1.864284e-283</td>\n",
              "      <td>6.0</td>\n",
              "    </tr>\n",
              "    <tr>\n",
              "      <th>24</th>\n",
              "      <td>OnlineBackup</td>\n",
              "      <td>OnlineSecurity</td>\n",
              "      <td>7270.460647</td>\n",
              "      <td>0.000000e+00</td>\n",
              "      <td>4.0</td>\n",
              "    </tr>\n",
              "    <tr>\n",
              "      <th>25</th>\n",
              "      <td>InternetService</td>\n",
              "      <td>OnlineSecurity</td>\n",
              "      <td>7393.058146</td>\n",
              "      <td>0.000000e+00</td>\n",
              "      <td>4.0</td>\n",
              "    </tr>\n",
              "    <tr>\n",
              "      <th>26</th>\n",
              "      <td>PhoneService</td>\n",
              "      <td>OnlineSecurity</td>\n",
              "      <td>218.839709</td>\n",
              "      <td>3.016900e-48</td>\n",
              "      <td>2.0</td>\n",
              "    </tr>\n",
              "    <tr>\n",
              "      <th>27</th>\n",
              "      <td>Dependents</td>\n",
              "      <td>OnlineSecurity</td>\n",
              "      <td>266.655601</td>\n",
              "      <td>1.248740e-58</td>\n",
              "      <td>2.0</td>\n",
              "    </tr>\n",
              "    <tr>\n",
              "      <th>28</th>\n",
              "      <td>DeviceProtection</td>\n",
              "      <td>OnlineSecurity</td>\n",
              "      <td>7247.346889</td>\n",
              "      <td>0.000000e+00</td>\n",
              "      <td>4.0</td>\n",
              "    </tr>\n",
              "    <tr>\n",
              "      <th>29</th>\n",
              "      <td>PaymentMethod</td>\n",
              "      <td>OnlineSecurity</td>\n",
              "      <td>1309.995701</td>\n",
              "      <td>7.427177e-280</td>\n",
              "      <td>6.0</td>\n",
              "    </tr>\n",
              "    <tr>\n",
              "      <th>30</th>\n",
              "      <td>InternetService</td>\n",
              "      <td>OnlineBackup</td>\n",
              "      <td>7044.539402</td>\n",
              "      <td>0.000000e+00</td>\n",
              "      <td>4.0</td>\n",
              "    </tr>\n",
              "    <tr>\n",
              "      <th>31</th>\n",
              "      <td>PhoneService</td>\n",
              "      <td>OnlineBackup</td>\n",
              "      <td>210.346724</td>\n",
              "      <td>2.107605e-46</td>\n",
              "      <td>2.0</td>\n",
              "    </tr>\n",
              "    <tr>\n",
              "      <th>32</th>\n",
              "      <td>Dependents</td>\n",
              "      <td>OnlineBackup</td>\n",
              "      <td>186.575153</td>\n",
              "      <td>3.059993e-41</td>\n",
              "      <td>2.0</td>\n",
              "    </tr>\n",
              "    <tr>\n",
              "      <th>33</th>\n",
              "      <td>DeviceProtection</td>\n",
              "      <td>OnlineBackup</td>\n",
              "      <td>7284.450039</td>\n",
              "      <td>0.000000e+00</td>\n",
              "      <td>4.0</td>\n",
              "    </tr>\n",
              "    <tr>\n",
              "      <th>34</th>\n",
              "      <td>PaymentMethod</td>\n",
              "      <td>OnlineBackup</td>\n",
              "      <td>1124.283278</td>\n",
              "      <td>1.161970e-239</td>\n",
              "      <td>6.0</td>\n",
              "    </tr>\n",
              "    <tr>\n",
              "      <th>35</th>\n",
              "      <td>PhoneService</td>\n",
              "      <td>InternetService</td>\n",
              "      <td>1441.623387</td>\n",
              "      <td>0.000000e+00</td>\n",
              "      <td>2.0</td>\n",
              "    </tr>\n",
              "    <tr>\n",
              "      <th>36</th>\n",
              "      <td>Dependents</td>\n",
              "      <td>InternetService</td>\n",
              "      <td>228.871305</td>\n",
              "      <td>2.000910e-50</td>\n",
              "      <td>2.0</td>\n",
              "    </tr>\n",
              "    <tr>\n",
              "      <th>37</th>\n",
              "      <td>DeviceProtection</td>\n",
              "      <td>InternetService</td>\n",
              "      <td>7043.017879</td>\n",
              "      <td>0.000000e+00</td>\n",
              "      <td>4.0</td>\n",
              "    </tr>\n",
              "    <tr>\n",
              "      <th>38</th>\n",
              "      <td>PaymentMethod</td>\n",
              "      <td>InternetService</td>\n",
              "      <td>1381.076162</td>\n",
              "      <td>3.031971e-295</td>\n",
              "      <td>6.0</td>\n",
              "    </tr>\n",
              "    <tr>\n",
              "      <th>39</th>\n",
              "      <td>Dependents</td>\n",
              "      <td>PhoneService</td>\n",
              "      <td>0.010788</td>\n",
              "      <td>9.172768e-01</td>\n",
              "      <td>1.0</td>\n",
              "    </tr>\n",
              "    <tr>\n",
              "      <th>40</th>\n",
              "      <td>DeviceProtection</td>\n",
              "      <td>PhoneService</td>\n",
              "      <td>209.129889</td>\n",
              "      <td>3.872770e-46</td>\n",
              "      <td>2.0</td>\n",
              "    </tr>\n",
              "    <tr>\n",
              "      <th>41</th>\n",
              "      <td>PaymentMethod</td>\n",
              "      <td>PhoneService</td>\n",
              "      <td>0.746789</td>\n",
              "      <td>8.621474e-01</td>\n",
              "      <td>3.0</td>\n",
              "    </tr>\n",
              "    <tr>\n",
              "      <th>42</th>\n",
              "      <td>DeviceProtection</td>\n",
              "      <td>Dependents</td>\n",
              "      <td>174.865989</td>\n",
              "      <td>1.067414e-38</td>\n",
              "      <td>2.0</td>\n",
              "    </tr>\n",
              "    <tr>\n",
              "      <th>43</th>\n",
              "      <td>PaymentMethod</td>\n",
              "      <td>Dependents</td>\n",
              "      <td>160.043631</td>\n",
              "      <td>1.793556e-34</td>\n",
              "      <td>3.0</td>\n",
              "    </tr>\n",
              "    <tr>\n",
              "      <th>44</th>\n",
              "      <td>PaymentMethod</td>\n",
              "      <td>DeviceProtection</td>\n",
              "      <td>1160.420830</td>\n",
              "      <td>1.759772e-247</td>\n",
              "      <td>6.0</td>\n",
              "    </tr>\n",
              "  </tbody>\n",
              "</table>\n",
              "</div>"
            ],
            "text/plain": [
              "   Categorical Variable 1 Categorical Variable 2  ...        P-value  DoF\n",
              "0             StreamingTV        StreamingMovies  ...   0.000000e+00  4.0\n",
              "1             TechSupport        StreamingMovies  ...   0.000000e+00  4.0\n",
              "2          OnlineSecurity        StreamingMovies  ...   0.000000e+00  4.0\n",
              "3            OnlineBackup        StreamingMovies  ...   0.000000e+00  4.0\n",
              "4         InternetService        StreamingMovies  ...   0.000000e+00  4.0\n",
              "5            PhoneService        StreamingMovies  ...   6.372528e-49  2.0\n",
              "6              Dependents        StreamingMovies  ...   2.817226e-31  2.0\n",
              "7        DeviceProtection        StreamingMovies  ...   0.000000e+00  4.0\n",
              "8           PaymentMethod        StreamingMovies  ...  2.559348e-226  6.0\n",
              "9             TechSupport            StreamingTV  ...   0.000000e+00  4.0\n",
              "10         OnlineSecurity            StreamingTV  ...   0.000000e+00  4.0\n",
              "11           OnlineBackup            StreamingTV  ...   0.000000e+00  4.0\n",
              "12        InternetService            StreamingTV  ...   0.000000e+00  4.0\n",
              "13           PhoneService            StreamingTV  ...   1.617976e-50  2.0\n",
              "14             Dependents            StreamingTV  ...   8.218801e-34  2.0\n",
              "15       DeviceProtection            StreamingTV  ...   0.000000e+00  4.0\n",
              "16          PaymentMethod            StreamingTV  ...  1.143981e-224  6.0\n",
              "17         OnlineSecurity            TechSupport  ...   0.000000e+00  4.0\n",
              "18           OnlineBackup            TechSupport  ...   0.000000e+00  4.0\n",
              "19        InternetService            TechSupport  ...   0.000000e+00  4.0\n",
              "20           PhoneService            TechSupport  ...   1.256319e-48  2.0\n",
              "21             Dependents            TechSupport  ...   1.351695e-51  2.0\n",
              "22       DeviceProtection            TechSupport  ...   0.000000e+00  4.0\n",
              "23          PaymentMethod            TechSupport  ...  1.864284e-283  6.0\n",
              "24           OnlineBackup         OnlineSecurity  ...   0.000000e+00  4.0\n",
              "25        InternetService         OnlineSecurity  ...   0.000000e+00  4.0\n",
              "26           PhoneService         OnlineSecurity  ...   3.016900e-48  2.0\n",
              "27             Dependents         OnlineSecurity  ...   1.248740e-58  2.0\n",
              "28       DeviceProtection         OnlineSecurity  ...   0.000000e+00  4.0\n",
              "29          PaymentMethod         OnlineSecurity  ...  7.427177e-280  6.0\n",
              "30        InternetService           OnlineBackup  ...   0.000000e+00  4.0\n",
              "31           PhoneService           OnlineBackup  ...   2.107605e-46  2.0\n",
              "32             Dependents           OnlineBackup  ...   3.059993e-41  2.0\n",
              "33       DeviceProtection           OnlineBackup  ...   0.000000e+00  4.0\n",
              "34          PaymentMethod           OnlineBackup  ...  1.161970e-239  6.0\n",
              "35           PhoneService        InternetService  ...   0.000000e+00  2.0\n",
              "36             Dependents        InternetService  ...   2.000910e-50  2.0\n",
              "37       DeviceProtection        InternetService  ...   0.000000e+00  4.0\n",
              "38          PaymentMethod        InternetService  ...  3.031971e-295  6.0\n",
              "39             Dependents           PhoneService  ...   9.172768e-01  1.0\n",
              "40       DeviceProtection           PhoneService  ...   3.872770e-46  2.0\n",
              "41          PaymentMethod           PhoneService  ...   8.621474e-01  3.0\n",
              "42       DeviceProtection             Dependents  ...   1.067414e-38  2.0\n",
              "43          PaymentMethod             Dependents  ...   1.793556e-34  3.0\n",
              "44          PaymentMethod       DeviceProtection  ...  1.759772e-247  6.0\n",
              "\n",
              "[45 rows x 5 columns]"
            ]
          },
          "metadata": {
            "tags": []
          }
        }
      ]
    },
    {
      "cell_type": "markdown",
      "metadata": {
        "id": "o4jMmDqhGjme"
      },
      "source": [
        "# Chi-square test of Independence (not include to be dropped columns from Chi test)"
      ]
    },
    {
      "cell_type": "code",
      "metadata": {
        "id": "gelEQC3JGjnS"
      },
      "source": [
        "indep_var_cat_list = ['SeniorCitizen','gender','Partner','MultipleLines','Contract','PaperlessBilling']\n"
      ],
      "execution_count": null,
      "outputs": []
    },
    {
      "cell_type": "code",
      "metadata": {
        "id": "DADtalC2GjnU"
      },
      "source": [
        "indep_cc_comparison_df_v2 = chi_square_test(indep_var_cat_list, X)"
      ],
      "execution_count": null,
      "outputs": []
    },
    {
      "cell_type": "code",
      "metadata": {
        "colab": {
          "base_uri": "https://localhost:8080/"
        },
        "id": "686YCRTQGjnW",
        "outputId": "40fb90b1-35f6-440b-a17f-a692ffadb6de"
      },
      "source": [
        "display(indep_cc_comparison_df_v2)"
      ],
      "execution_count": null,
      "outputs": [
        {
          "output_type": "display_data",
          "data": {
            "text/html": [
              "<div>\n",
              "<style scoped>\n",
              "    .dataframe tbody tr th:only-of-type {\n",
              "        vertical-align: middle;\n",
              "    }\n",
              "\n",
              "    .dataframe tbody tr th {\n",
              "        vertical-align: top;\n",
              "    }\n",
              "\n",
              "    .dataframe thead th {\n",
              "        text-align: right;\n",
              "    }\n",
              "</style>\n",
              "<table border=\"1\" class=\"dataframe\">\n",
              "  <thead>\n",
              "    <tr style=\"text-align: right;\">\n",
              "      <th></th>\n",
              "      <th>Categorical Variable 1</th>\n",
              "      <th>Categorical Variable 2</th>\n",
              "      <th>Test_statistic</th>\n",
              "      <th>P-value</th>\n",
              "      <th>DoF</th>\n",
              "    </tr>\n",
              "  </thead>\n",
              "  <tbody>\n",
              "    <tr>\n",
              "      <th>0</th>\n",
              "      <td>gender</td>\n",
              "      <td>SeniorCitizen</td>\n",
              "      <td>0.015604</td>\n",
              "      <td>9.005893e-01</td>\n",
              "      <td>1.0</td>\n",
              "    </tr>\n",
              "    <tr>\n",
              "      <th>1</th>\n",
              "      <td>Partner</td>\n",
              "      <td>SeniorCitizen</td>\n",
              "      <td>1.824079</td>\n",
              "      <td>1.768285e-01</td>\n",
              "      <td>1.0</td>\n",
              "    </tr>\n",
              "    <tr>\n",
              "      <th>2</th>\n",
              "      <td>MultipleLines</td>\n",
              "      <td>SeniorCitizen</td>\n",
              "      <td>151.453655</td>\n",
              "      <td>1.294961e-33</td>\n",
              "      <td>2.0</td>\n",
              "    </tr>\n",
              "    <tr>\n",
              "      <th>3</th>\n",
              "      <td>Contract</td>\n",
              "      <td>SeniorCitizen</td>\n",
              "      <td>145.776767</td>\n",
              "      <td>2.212979e-32</td>\n",
              "      <td>2.0</td>\n",
              "    </tr>\n",
              "    <tr>\n",
              "      <th>4</th>\n",
              "      <td>PaperlessBilling</td>\n",
              "      <td>SeniorCitizen</td>\n",
              "      <td>171.700988</td>\n",
              "      <td>3.145315e-39</td>\n",
              "      <td>1.0</td>\n",
              "    </tr>\n",
              "    <tr>\n",
              "      <th>5</th>\n",
              "      <td>Partner</td>\n",
              "      <td>gender</td>\n",
              "      <td>0.016356</td>\n",
              "      <td>8.982341e-01</td>\n",
              "      <td>1.0</td>\n",
              "    </tr>\n",
              "    <tr>\n",
              "      <th>6</th>\n",
              "      <td>MultipleLines</td>\n",
              "      <td>gender</td>\n",
              "      <td>0.629179</td>\n",
              "      <td>7.300884e-01</td>\n",
              "      <td>2.0</td>\n",
              "    </tr>\n",
              "    <tr>\n",
              "      <th>7</th>\n",
              "      <td>Contract</td>\n",
              "      <td>gender</td>\n",
              "      <td>0.468107</td>\n",
              "      <td>7.913194e-01</td>\n",
              "      <td>2.0</td>\n",
              "    </tr>\n",
              "    <tr>\n",
              "      <th>8</th>\n",
              "      <td>PaperlessBilling</td>\n",
              "      <td>gender</td>\n",
              "      <td>0.925736</td>\n",
              "      <td>3.359735e-01</td>\n",
              "      <td>1.0</td>\n",
              "    </tr>\n",
              "    <tr>\n",
              "      <th>9</th>\n",
              "      <td>MultipleLines</td>\n",
              "      <td>Partner</td>\n",
              "      <td>145.836188</td>\n",
              "      <td>2.148197e-32</td>\n",
              "      <td>2.0</td>\n",
              "    </tr>\n",
              "    <tr>\n",
              "      <th>10</th>\n",
              "      <td>Contract</td>\n",
              "      <td>Partner</td>\n",
              "      <td>617.244092</td>\n",
              "      <td>9.271466e-135</td>\n",
              "      <td>2.0</td>\n",
              "    </tr>\n",
              "    <tr>\n",
              "      <th>11</th>\n",
              "      <td>PaperlessBilling</td>\n",
              "      <td>Partner</td>\n",
              "      <td>1.498722</td>\n",
              "      <td>2.208681e-01</td>\n",
              "      <td>1.0</td>\n",
              "    </tr>\n",
              "    <tr>\n",
              "      <th>12</th>\n",
              "      <td>Contract</td>\n",
              "      <td>MultipleLines</td>\n",
              "      <td>91.071514</td>\n",
              "      <td>7.795766e-19</td>\n",
              "      <td>4.0</td>\n",
              "    </tr>\n",
              "    <tr>\n",
              "      <th>13</th>\n",
              "      <td>PaperlessBilling</td>\n",
              "      <td>MultipleLines</td>\n",
              "      <td>194.874218</td>\n",
              "      <td>4.826155e-43</td>\n",
              "      <td>2.0</td>\n",
              "    </tr>\n",
              "    <tr>\n",
              "      <th>14</th>\n",
              "      <td>PaperlessBilling</td>\n",
              "      <td>Contract</td>\n",
              "      <td>222.261756</td>\n",
              "      <td>5.450960e-49</td>\n",
              "      <td>2.0</td>\n",
              "    </tr>\n",
              "  </tbody>\n",
              "</table>\n",
              "</div>"
            ],
            "text/plain": [
              "   Categorical Variable 1 Categorical Variable 2  ...        P-value  DoF\n",
              "0                  gender          SeniorCitizen  ...   9.005893e-01  1.0\n",
              "1                 Partner          SeniorCitizen  ...   1.768285e-01  1.0\n",
              "2           MultipleLines          SeniorCitizen  ...   1.294961e-33  2.0\n",
              "3                Contract          SeniorCitizen  ...   2.212979e-32  2.0\n",
              "4        PaperlessBilling          SeniorCitizen  ...   3.145315e-39  1.0\n",
              "5                 Partner                 gender  ...   8.982341e-01  1.0\n",
              "6           MultipleLines                 gender  ...   7.300884e-01  2.0\n",
              "7                Contract                 gender  ...   7.913194e-01  2.0\n",
              "8        PaperlessBilling                 gender  ...   3.359735e-01  1.0\n",
              "9           MultipleLines                Partner  ...   2.148197e-32  2.0\n",
              "10               Contract                Partner  ...  9.271466e-135  2.0\n",
              "11       PaperlessBilling                Partner  ...   2.208681e-01  1.0\n",
              "12               Contract          MultipleLines  ...   7.795766e-19  4.0\n",
              "13       PaperlessBilling          MultipleLines  ...   4.826155e-43  2.0\n",
              "14       PaperlessBilling               Contract  ...   5.450960e-49  2.0\n",
              "\n",
              "[15 rows x 5 columns]"
            ]
          },
          "metadata": {
            "tags": []
          }
        }
      ]
    },
    {
      "cell_type": "markdown",
      "metadata": {
        "id": "kLp49qd7Dv-c"
      },
      "source": [
        "# Drop columns (base on results from Chi-square)"
      ]
    },
    {
      "cell_type": "code",
      "metadata": {
        "id": "lioZ8h9cDv-g"
      },
      "source": [
        "XnoDrop = X.copy(deep=True)"
      ],
      "execution_count": null,
      "outputs": []
    },
    {
      "cell_type": "code",
      "metadata": {
        "colab": {
          "base_uri": "https://localhost:8080/"
        },
        "id": "g0AiFyiyDv-j",
        "outputId": "306b7df6-6bde-4efd-b9ec-fb656d739f68"
      },
      "source": [
        "X = X.drop(\"StreamingMovies\", axis=1)\n",
        "Xencode = Xencode.drop(\"StreamingMovies\", axis=1)\n",
        "try:\n",
        "  indep_var_cat_list.remove(\"StreamingMovies\")\n",
        "except:\n",
        "  print(\"removed already\")"
      ],
      "execution_count": null,
      "outputs": [
        {
          "output_type": "stream",
          "text": [
            "removed already\n"
          ],
          "name": "stdout"
        }
      ]
    },
    {
      "cell_type": "code",
      "metadata": {
        "colab": {
          "base_uri": "https://localhost:8080/"
        },
        "id": "Cwn1FcSZDv-m",
        "outputId": "ff9570d4-b55c-44fe-8f01-0e30c47fea1a"
      },
      "source": [
        "X = X.drop(\"StreamingTV\", axis=1)\n",
        "Xencode = Xencode.drop(\"StreamingTV\", axis=1)\n",
        "try:\n",
        "  indep_var_cat_list.remove(\"StreamingTV\")\n",
        "except:\n",
        "  print(\"removed already\")"
      ],
      "execution_count": null,
      "outputs": [
        {
          "output_type": "stream",
          "text": [
            "removed already\n"
          ],
          "name": "stdout"
        }
      ]
    },
    {
      "cell_type": "code",
      "metadata": {
        "colab": {
          "base_uri": "https://localhost:8080/"
        },
        "id": "OFU4TPlrDv-n",
        "outputId": "fec9a3e2-7e5c-4c4e-a2dd-076da86ae06e"
      },
      "source": [
        "X = X.drop(\"TechSupport\", axis=1)\n",
        "Xencode = Xencode.drop(\"TechSupport\", axis=1)\n",
        "try:\n",
        "  indep_var_cat_list.remove(\"TechSupport\")\n",
        "except:\n",
        "  print(\"removed already\")"
      ],
      "execution_count": null,
      "outputs": [
        {
          "output_type": "stream",
          "text": [
            "removed already\n"
          ],
          "name": "stdout"
        }
      ]
    },
    {
      "cell_type": "code",
      "metadata": {
        "colab": {
          "base_uri": "https://localhost:8080/"
        },
        "id": "_dnuXkanDv-1",
        "outputId": "ed797a1a-4a5c-44f6-c4fd-b3390fb1a882"
      },
      "source": [
        "X = X.drop(\"OnlineSecurity\", axis=1)\n",
        "Xencode = Xencode.drop(\"OnlineSecurity\", axis=1)\n",
        "try:\n",
        "  indep_var_cat_list.remove(\"OnlineSecurity\")\n",
        "except:\n",
        "  print(\"removed already\")"
      ],
      "execution_count": null,
      "outputs": [
        {
          "output_type": "stream",
          "text": [
            "removed already\n"
          ],
          "name": "stdout"
        }
      ]
    },
    {
      "cell_type": "code",
      "metadata": {
        "colab": {
          "base_uri": "https://localhost:8080/"
        },
        "id": "-yvxULJKDv-2",
        "outputId": "72c35bea-1fb8-4586-da5d-10f2de81800d"
      },
      "source": [
        "X = X.drop(\"OnlineBackup\", axis=1)\n",
        "Xencode = Xencode.drop(\"OnlineBackup\", axis=1)\n",
        "try:\n",
        "  indep_var_cat_list.remove(\"OnlineBackup\")\n",
        "except:\n",
        "  print(\"removed already\")"
      ],
      "execution_count": null,
      "outputs": [
        {
          "output_type": "stream",
          "text": [
            "removed already\n"
          ],
          "name": "stdout"
        }
      ]
    },
    {
      "cell_type": "code",
      "metadata": {
        "colab": {
          "base_uri": "https://localhost:8080/"
        },
        "id": "V6g9SGHdDv-3",
        "outputId": "ce9dcb12-1fa6-45c8-b5d1-8cdac8115209"
      },
      "source": [
        "X = X.drop(\"InternetService\", axis=1)\n",
        "Xencode = Xencode.drop(\"InternetService\", axis=1)\n",
        "try:\n",
        "  indep_var_cat_list.remove(\"InternetService\")\n",
        "except:\n",
        "  print(\"removed already\")"
      ],
      "execution_count": null,
      "outputs": [
        {
          "output_type": "stream",
          "text": [
            "removed already\n"
          ],
          "name": "stdout"
        }
      ]
    },
    {
      "cell_type": "code",
      "metadata": {
        "colab": {
          "base_uri": "https://localhost:8080/"
        },
        "id": "gKerN36jDv-4",
        "outputId": "6b23ac3c-42d6-442e-bfc8-3100469c987f"
      },
      "source": [
        "X = X.drop(\"PhoneService\", axis=1)\n",
        "Xencode = Xencode.drop(\"PhoneService\", axis=1)\n",
        "try:\n",
        "  indep_var_cat_list.remove(\"PhoneService\")\n",
        "except:\n",
        "  print(\"removed already\")"
      ],
      "execution_count": null,
      "outputs": [
        {
          "output_type": "stream",
          "text": [
            "removed already\n"
          ],
          "name": "stdout"
        }
      ]
    },
    {
      "cell_type": "code",
      "metadata": {
        "colab": {
          "base_uri": "https://localhost:8080/"
        },
        "id": "24BFMYxsDv-5",
        "outputId": "c68c97c5-59d6-4eed-e5ef-cdb7e4b5abf7"
      },
      "source": [
        "X = X.drop(\"Dependents\", axis=1)\n",
        "Xencode = Xencode.drop(\"Dependents\", axis=1)\n",
        "try:\n",
        "  indep_var_cat_list.remove(\"Dependents\")\n",
        "except:\n",
        "  print(\"removed already\")"
      ],
      "execution_count": null,
      "outputs": [
        {
          "output_type": "stream",
          "text": [
            "removed already\n"
          ],
          "name": "stdout"
        }
      ]
    },
    {
      "cell_type": "code",
      "metadata": {
        "colab": {
          "base_uri": "https://localhost:8080/"
        },
        "id": "fwdqoR7pDv-6",
        "outputId": "a451c6ac-8a36-487b-e88b-3f77df9255c4"
      },
      "source": [
        "X = X.drop(\"DeviceProtection\", axis=1)\n",
        "Xencode = Xencode.drop(\"DeviceProtection\", axis=1)\n",
        "try:\n",
        "  indep_var_cat_list.remove(\"DeviceProtection\")\n",
        "except:\n",
        "  print(\"removed already\")"
      ],
      "execution_count": null,
      "outputs": [
        {
          "output_type": "stream",
          "text": [
            "removed already\n"
          ],
          "name": "stdout"
        }
      ]
    },
    {
      "cell_type": "code",
      "metadata": {
        "colab": {
          "base_uri": "https://localhost:8080/"
        },
        "id": "z5KHSXIADv-7",
        "outputId": "40621344-38bb-4049-8449-67e6b3b2fcc4"
      },
      "source": [
        "X = X.drop(\"PaymentMethod\", axis=1)\n",
        "Xencode = Xencode.drop(\"PaymentMethod\", axis=1)\n",
        "try:\n",
        "  indep_var_cat_list.remove(\"PaymentMethod\")\n",
        "except:\n",
        "  print(\"removed already\")"
      ],
      "execution_count": null,
      "outputs": [
        {
          "output_type": "stream",
          "text": [
            "removed already\n"
          ],
          "name": "stdout"
        }
      ]
    },
    {
      "cell_type": "markdown",
      "metadata": {
        "id": "DQnMT1uPGxxJ"
      },
      "source": [
        "# One-way ANOVA (cat + num)(not include to be dropped columns from Pearson + Chi test)"
      ]
    },
    {
      "cell_type": "markdown",
      "metadata": {
        "id": "ZqEMyWtT3-kH"
      },
      "source": [
        "One way analysis of variance (ANOVA) is performed on independent categorical variables and\n",
        "numerical variables.\n",
        "\n",
        "H0: μ1 = μ2\n",
        "\n",
        "HA: μ1 ≠ μ2"
      ]
    },
    {
      "cell_type": "code",
      "metadata": {
        "id": "3kZt6e1DGxxW",
        "colab": {
          "base_uri": "https://localhost:8080/"
        },
        "outputId": "8ebc7bde-7e68-4966-eb68-776cef9fc68d"
      },
      "source": [
        "print(indep_var_cat_list)\n",
        "print(indep_var_num_list)\n",
        "print(list(X.columns))\n",
        "print(len(indep_var_cat_list))\n",
        "print(len(indep_var_num_list))\n",
        "print(len(X.columns))"
      ],
      "execution_count": null,
      "outputs": [
        {
          "output_type": "stream",
          "text": [
            "['SeniorCitizen', 'gender', 'Partner', 'MultipleLines', 'Contract', 'PaperlessBilling']\n",
            "['MonthlyCharges_minmax', 'tenure']\n",
            "['gender', 'SeniorCitizen', 'Partner', 'tenure', 'MultipleLines', 'Contract', 'PaperlessBilling', 'MonthlyCharges_minmax']\n",
            "6\n",
            "2\n",
            "8\n"
          ],
          "name": "stdout"
        }
      ]
    },
    {
      "cell_type": "code",
      "metadata": {
        "id": "SItD0rXJMRes"
      },
      "source": [
        "one_way_anova_df = one_way_anova_test(indep_var_num_list,indep_var_cat_list,X)"
      ],
      "execution_count": null,
      "outputs": []
    },
    {
      "cell_type": "code",
      "metadata": {
        "id": "bN_JKi3B9QHE",
        "colab": {
          "base_uri": "https://localhost:8080/"
        },
        "outputId": "a56776ae-50a8-44fe-fdbf-3c57c5a1596a"
      },
      "source": [
        "filtered_one_way_anova_df = one_way_anova_df[one_way_anova_df.apply(lambda x: (x['P-value']) < 0.05, axis=1)].sort_values(by ='F', ascending=False)\\\n",
        "  .reset_index(drop=True)\n",
        "display(filtered_one_way_anova_df)"
      ],
      "execution_count": null,
      "outputs": [
        {
          "output_type": "display_data",
          "data": {
            "text/html": [
              "<div>\n",
              "<style scoped>\n",
              "    .dataframe tbody tr th:only-of-type {\n",
              "        vertical-align: middle;\n",
              "    }\n",
              "\n",
              "    .dataframe tbody tr th {\n",
              "        vertical-align: top;\n",
              "    }\n",
              "\n",
              "    .dataframe thead th {\n",
              "        text-align: right;\n",
              "    }\n",
              "</style>\n",
              "<table border=\"1\" class=\"dataframe\">\n",
              "  <thead>\n",
              "    <tr style=\"text-align: right;\">\n",
              "      <th></th>\n",
              "      <th>Numerical Variable</th>\n",
              "      <th>Categorical Variable</th>\n",
              "      <th>F</th>\n",
              "      <th>P-value</th>\n",
              "    </tr>\n",
              "  </thead>\n",
              "  <tbody>\n",
              "    <tr>\n",
              "      <th>0</th>\n",
              "      <td>tenure</td>\n",
              "      <td>Contract</td>\n",
              "      <td>2960.015118</td>\n",
              "      <td>0.000000e+00</td>\n",
              "    </tr>\n",
              "    <tr>\n",
              "      <th>1</th>\n",
              "      <td>MonthlyCharges_minmax</td>\n",
              "      <td>MultipleLines</td>\n",
              "      <td>1196.645748</td>\n",
              "      <td>0.000000e+00</td>\n",
              "    </tr>\n",
              "    <tr>\n",
              "      <th>2</th>\n",
              "      <td>tenure</td>\n",
              "      <td>Partner</td>\n",
              "      <td>1186.102734</td>\n",
              "      <td>2.334695e-240</td>\n",
              "    </tr>\n",
              "    <tr>\n",
              "      <th>3</th>\n",
              "      <td>MonthlyCharges_minmax</td>\n",
              "      <td>PaperlessBilling</td>\n",
              "      <td>996.759316</td>\n",
              "      <td>9.997603e-205</td>\n",
              "    </tr>\n",
              "    <tr>\n",
              "      <th>4</th>\n",
              "      <td>tenure</td>\n",
              "      <td>MultipleLines</td>\n",
              "      <td>470.527023</td>\n",
              "      <td>1.598357e-192</td>\n",
              "    </tr>\n",
              "    <tr>\n",
              "      <th>5</th>\n",
              "      <td>MonthlyCharges_minmax</td>\n",
              "      <td>SeniorCitizen</td>\n",
              "      <td>358.710583</td>\n",
              "      <td>4.574872e-78</td>\n",
              "    </tr>\n",
              "    <tr>\n",
              "      <th>6</th>\n",
              "      <td>MonthlyCharges_minmax</td>\n",
              "      <td>Partner</td>\n",
              "      <td>66.666520</td>\n",
              "      <td>3.779077e-16</td>\n",
              "    </tr>\n",
              "    <tr>\n",
              "      <th>7</th>\n",
              "      <td>MonthlyCharges_minmax</td>\n",
              "      <td>Contract</td>\n",
              "      <td>20.828045</td>\n",
              "      <td>9.575271e-10</td>\n",
              "    </tr>\n",
              "  </tbody>\n",
              "</table>\n",
              "</div>"
            ],
            "text/plain": [
              "      Numerical Variable Categorical Variable            F        P-value\n",
              "0                 tenure             Contract  2960.015118   0.000000e+00\n",
              "1  MonthlyCharges_minmax        MultipleLines  1196.645748   0.000000e+00\n",
              "2                 tenure              Partner  1186.102734  2.334695e-240\n",
              "3  MonthlyCharges_minmax     PaperlessBilling   996.759316  9.997603e-205\n",
              "4                 tenure        MultipleLines   470.527023  1.598357e-192\n",
              "5  MonthlyCharges_minmax        SeniorCitizen   358.710583   4.574872e-78\n",
              "6  MonthlyCharges_minmax              Partner    66.666520   3.779077e-16\n",
              "7  MonthlyCharges_minmax             Contract    20.828045   9.575271e-10"
            ]
          },
          "metadata": {
            "tags": []
          }
        }
      ]
    },
    {
      "cell_type": "markdown",
      "metadata": {
        "id": "W5QbefKl4FiY"
      },
      "source": [
        "The higher F score value is, the lower the p-value is and the higher chance that the null hypothesis\n",
        "will be rejected. \\\n",
        "\n",
        "A higher F score implies a higher correlation between the two variables exhibited. \\\n",
        "\n",
        "If p-value < 0.05, null hypothesis will be rejected, thus there is correlation between the variables.\n",
        "Take tenure and Contract as an example, there are only 3 levels in contract, month-to-month, one year,\n",
        "two year. The p-value is < 0.05 with the highest F-value, we have to reject the null hypothesis, it\n",
        "means that the means corresponding to tenure of the different categories in Contract are different. This\n",
        "implies that there is correlation among tenure and Contract. \\\n",
        "\n",
        "To verify this, we will perform two-way ANOVA for a further analysis."
      ]
    },
    {
      "cell_type": "markdown",
      "metadata": {
        "id": "ABE8yvwy-nvv"
      },
      "source": [
        "# Two-way ANOVA (Churn + cat + num)(not include to be dropped columns from Pearson + Chi test)"
      ]
    },
    {
      "cell_type": "markdown",
      "metadata": {
        "id": "rvEoh5415-Dt"
      },
      "source": [
        "Two-way ANOVA is performed on the dependent categorical variable (churn) , independent\n",
        "categorical and numerical variables. We want to see how the independent numerical and categorical\n",
        "variables affect churn.\n"
      ]
    },
    {
      "cell_type": "code",
      "metadata": {
        "id": "BXSkpAn2-3KD"
      },
      "source": [
        "import statsmodels.api as sm\n",
        "from statsmodels.formula.api import ols"
      ],
      "execution_count": null,
      "outputs": []
    },
    {
      "cell_type": "code",
      "metadata": {
        "id": "N8rZRHNu3huh",
        "colab": {
          "base_uri": "https://localhost:8080/"
        },
        "outputId": "c2143a4d-9d22-4e23-cc2a-349ddc2448dc"
      },
      "source": [
        "print(indep_var_cat_list)\n",
        "print(indep_var_num_list)\n",
        "print(list(X.columns))\n",
        "print(len(indep_var_cat_list))\n",
        "print(len(indep_var_num_list))\n",
        "print(len(X.columns))"
      ],
      "execution_count": null,
      "outputs": [
        {
          "output_type": "stream",
          "text": [
            "['SeniorCitizen', 'gender', 'Partner', 'MultipleLines', 'Contract', 'PaperlessBilling']\n",
            "['MonthlyCharges_minmax', 'tenure']\n",
            "['gender', 'SeniorCitizen', 'Partner', 'tenure', 'MultipleLines', 'Contract', 'PaperlessBilling', 'MonthlyCharges_minmax']\n",
            "6\n",
            "2\n",
            "8\n"
          ],
          "name": "stdout"
        }
      ]
    },
    {
      "cell_type": "code",
      "metadata": {
        "id": "vq3SVaPy3GdA"
      },
      "source": [
        "two_way_anova_df = two_way_anova_test(indep_var_num_list, indep_var_cat_list, X.assign(Churn = y['Churn']))"
      ],
      "execution_count": null,
      "outputs": []
    },
    {
      "cell_type": "code",
      "metadata": {
        "id": "fUT9UeOA_Yk1",
        "colab": {
          "base_uri": "https://localhost:8080/"
        },
        "outputId": "5d07a229-dd3e-47fc-93a2-8320b67fa62a"
      },
      "source": [
        "# filter combinations that two factors (churn and indep cat var) do interact to affect the indep_num_var ..??\n",
        "filtered_two_way_anova_df = two_way_anova_df[two_way_anova_df.apply(lambda x: (x['Interaction_p_val']) < 0.05, axis=1)].sort_values(by ='Interaction_F', ascending=False)\\\n",
        "  .reset_index(drop=True)\n",
        "filtered_two_way_anova_df"
      ],
      "execution_count": null,
      "outputs": [
        {
          "output_type": "execute_result",
          "data": {
            "text/html": [
              "<div>\n",
              "<style scoped>\n",
              "    .dataframe tbody tr th:only-of-type {\n",
              "        vertical-align: middle;\n",
              "    }\n",
              "\n",
              "    .dataframe tbody tr th {\n",
              "        vertical-align: top;\n",
              "    }\n",
              "\n",
              "    .dataframe thead th {\n",
              "        text-align: right;\n",
              "    }\n",
              "</style>\n",
              "<table border=\"1\" class=\"dataframe\">\n",
              "  <thead>\n",
              "    <tr style=\"text-align: right;\">\n",
              "      <th></th>\n",
              "      <th>Indep_num_var</th>\n",
              "      <th>Indep_cat_var</th>\n",
              "      <th>Churn_F</th>\n",
              "      <th>Churn_p_val</th>\n",
              "      <th>Cat_var_F</th>\n",
              "      <th>Cat_var_p_val</th>\n",
              "      <th>Interaction_F</th>\n",
              "      <th>Interaction_p_val</th>\n",
              "    </tr>\n",
              "  </thead>\n",
              "  <tbody>\n",
              "    <tr>\n",
              "      <th>0</th>\n",
              "      <td>MonthlyCharges_minmax</td>\n",
              "      <td>MultipleLines</td>\n",
              "      <td>300.725186</td>\n",
              "      <td>5.316892e-66</td>\n",
              "      <td>1227.887593</td>\n",
              "      <td>0.000000e+00</td>\n",
              "      <td>48.540198</td>\n",
              "      <td>1.157039e-21</td>\n",
              "    </tr>\n",
              "    <tr>\n",
              "      <th>1</th>\n",
              "      <td>MonthlyCharges_minmax</td>\n",
              "      <td>SeniorCitizen</td>\n",
              "      <td>200.727802</td>\n",
              "      <td>5.984327e-45</td>\n",
              "      <td>285.558015</td>\n",
              "      <td>7.903662e-63</td>\n",
              "      <td>38.984615</td>\n",
              "      <td>4.519932e-10</td>\n",
              "    </tr>\n",
              "    <tr>\n",
              "      <th>2</th>\n",
              "      <td>tenure</td>\n",
              "      <td>Contract</td>\n",
              "      <td>96.616840</td>\n",
              "      <td>1.176570e-22</td>\n",
              "      <td>2250.504692</td>\n",
              "      <td>0.000000e+00</td>\n",
              "      <td>28.494317</td>\n",
              "      <td>4.730587e-13</td>\n",
              "    </tr>\n",
              "    <tr>\n",
              "      <th>3</th>\n",
              "      <td>MonthlyCharges_minmax</td>\n",
              "      <td>PaperlessBilling</td>\n",
              "      <td>134.830455</td>\n",
              "      <td>6.867587e-31</td>\n",
              "      <td>845.621219</td>\n",
              "      <td>1.140656e-175</td>\n",
              "      <td>14.175615</td>\n",
              "      <td>1.678707e-04</td>\n",
              "    </tr>\n",
              "    <tr>\n",
              "      <th>4</th>\n",
              "      <td>MonthlyCharges_minmax</td>\n",
              "      <td>Contract</td>\n",
              "      <td>243.357460</td>\n",
              "      <td>5.797360e-54</td>\n",
              "      <td>5.883128</td>\n",
              "      <td>2.799778e-03</td>\n",
              "      <td>13.732096</td>\n",
              "      <td>1.116437e-06</td>\n",
              "    </tr>\n",
              "    <tr>\n",
              "      <th>5</th>\n",
              "      <td>tenure</td>\n",
              "      <td>Partner</td>\n",
              "      <td>819.325832</td>\n",
              "      <td>1.476969e-170</td>\n",
              "      <td>1004.197315</td>\n",
              "      <td>3.872527e-206</td>\n",
              "      <td>11.235949</td>\n",
              "      <td>8.065089e-04</td>\n",
              "    </tr>\n",
              "    <tr>\n",
              "      <th>6</th>\n",
              "      <td>tenure</td>\n",
              "      <td>MultipleLines</td>\n",
              "      <td>1260.672631</td>\n",
              "      <td>3.736224e-254</td>\n",
              "      <td>601.341462</td>\n",
              "      <td>7.980043e-242</td>\n",
              "      <td>7.140764</td>\n",
              "      <td>7.979000e-04</td>\n",
              "    </tr>\n",
              "    <tr>\n",
              "      <th>7</th>\n",
              "      <td>tenure</td>\n",
              "      <td>gender</td>\n",
              "      <td>997.402866</td>\n",
              "      <td>7.603611e-205</td>\n",
              "      <td>0.034550</td>\n",
              "      <td>8.525480e-01</td>\n",
              "      <td>4.153834</td>\n",
              "      <td>4.157768e-02</td>\n",
              "    </tr>\n",
              "  </tbody>\n",
              "</table>\n",
              "</div>"
            ],
            "text/plain": [
              "           Indep_num_var     Indep_cat_var  ...  Interaction_F  Interaction_p_val\n",
              "0  MonthlyCharges_minmax     MultipleLines  ...      48.540198       1.157039e-21\n",
              "1  MonthlyCharges_minmax     SeniorCitizen  ...      38.984615       4.519932e-10\n",
              "2                 tenure          Contract  ...      28.494317       4.730587e-13\n",
              "3  MonthlyCharges_minmax  PaperlessBilling  ...      14.175615       1.678707e-04\n",
              "4  MonthlyCharges_minmax          Contract  ...      13.732096       1.116437e-06\n",
              "5                 tenure           Partner  ...      11.235949       8.065089e-04\n",
              "6                 tenure     MultipleLines  ...       7.140764       7.979000e-04\n",
              "7                 tenure            gender  ...       4.153834       4.157768e-02\n",
              "\n",
              "[8 rows x 8 columns]"
            ]
          },
          "metadata": {
            "tags": []
          },
          "execution_count": 133
        }
      ]
    },
    {
      "cell_type": "markdown",
      "metadata": {
        "id": "xb4D4EW-6Dq8"
      },
      "source": [
        "All of the combinations with interaction are exactly pairs that are deemed correlated by one way\n",
        "ANOVA."
      ]
    },
    {
      "cell_type": "markdown",
      "metadata": {
        "id": "43byaK6wGCdf"
      },
      "source": [
        "# Create dataset with one-hot encoding (Xdrop)"
      ]
    },
    {
      "cell_type": "code",
      "metadata": {
        "id": "G41GmQtViuPY"
      },
      "source": [
        "Xdrop = oneHotEncoding(X, ['SeniorCitizen', 'gender', 'Partner', 'MultipleLines', 'Contract', 'PaperlessBilling'])\n",
        "Xdrop = Xdrop.copy(deep=True)\n",
        "ydrop = y[:]"
      ],
      "execution_count": null,
      "outputs": []
    },
    {
      "cell_type": "code",
      "metadata": {
        "colab": {
          "base_uri": "https://localhost:8080/"
        },
        "id": "hdyFLRLasdFz",
        "outputId": "c02e88e6-172f-495a-e125-b1ddede98a1a"
      },
      "source": [
        "Xdrop.head()"
      ],
      "execution_count": null,
      "outputs": [
        {
          "output_type": "execute_result",
          "data": {
            "text/html": [
              "<div>\n",
              "<style scoped>\n",
              "    .dataframe tbody tr th:only-of-type {\n",
              "        vertical-align: middle;\n",
              "    }\n",
              "\n",
              "    .dataframe tbody tr th {\n",
              "        vertical-align: top;\n",
              "    }\n",
              "\n",
              "    .dataframe thead th {\n",
              "        text-align: right;\n",
              "    }\n",
              "</style>\n",
              "<table border=\"1\" class=\"dataframe\">\n",
              "  <thead>\n",
              "    <tr style=\"text-align: right;\">\n",
              "      <th></th>\n",
              "      <th>tenure</th>\n",
              "      <th>MonthlyCharges_minmax</th>\n",
              "      <th>SeniorCitizen</th>\n",
              "      <th>gender_Female</th>\n",
              "      <th>Partner_No</th>\n",
              "      <th>MultipleLines_No</th>\n",
              "      <th>MultipleLines_No phone service</th>\n",
              "      <th>Contract_Month-to-month</th>\n",
              "      <th>Contract_One year</th>\n",
              "      <th>PaperlessBilling_No</th>\n",
              "    </tr>\n",
              "    <tr>\n",
              "      <th>customerID</th>\n",
              "      <th></th>\n",
              "      <th></th>\n",
              "      <th></th>\n",
              "      <th></th>\n",
              "      <th></th>\n",
              "      <th></th>\n",
              "      <th></th>\n",
              "      <th></th>\n",
              "      <th></th>\n",
              "      <th></th>\n",
              "    </tr>\n",
              "  </thead>\n",
              "  <tbody>\n",
              "    <tr>\n",
              "      <th>7590-VHVEG</th>\n",
              "      <td>1</td>\n",
              "      <td>0.001275</td>\n",
              "      <td>1</td>\n",
              "      <td>1</td>\n",
              "      <td>0</td>\n",
              "      <td>0</td>\n",
              "      <td>1</td>\n",
              "      <td>1</td>\n",
              "      <td>0</td>\n",
              "      <td>0</td>\n",
              "    </tr>\n",
              "    <tr>\n",
              "      <th>5575-GNVDE</th>\n",
              "      <td>34</td>\n",
              "      <td>0.004402</td>\n",
              "      <td>1</td>\n",
              "      <td>0</td>\n",
              "      <td>1</td>\n",
              "      <td>1</td>\n",
              "      <td>0</td>\n",
              "      <td>0</td>\n",
              "      <td>1</td>\n",
              "      <td>1</td>\n",
              "    </tr>\n",
              "    <tr>\n",
              "      <th>3668-QPYBK</th>\n",
              "      <td>2</td>\n",
              "      <td>0.004045</td>\n",
              "      <td>1</td>\n",
              "      <td>0</td>\n",
              "      <td>1</td>\n",
              "      <td>1</td>\n",
              "      <td>0</td>\n",
              "      <td>1</td>\n",
              "      <td>0</td>\n",
              "      <td>0</td>\n",
              "    </tr>\n",
              "    <tr>\n",
              "      <th>7795-CFOCW</th>\n",
              "      <td>45</td>\n",
              "      <td>0.002712</td>\n",
              "      <td>1</td>\n",
              "      <td>0</td>\n",
              "      <td>1</td>\n",
              "      <td>0</td>\n",
              "      <td>1</td>\n",
              "      <td>0</td>\n",
              "      <td>1</td>\n",
              "      <td>1</td>\n",
              "    </tr>\n",
              "    <tr>\n",
              "      <th>9237-HQITU</th>\n",
              "      <td>2</td>\n",
              "      <td>0.005989</td>\n",
              "      <td>1</td>\n",
              "      <td>1</td>\n",
              "      <td>1</td>\n",
              "      <td>1</td>\n",
              "      <td>0</td>\n",
              "      <td>1</td>\n",
              "      <td>0</td>\n",
              "      <td>0</td>\n",
              "    </tr>\n",
              "  </tbody>\n",
              "</table>\n",
              "</div>"
            ],
            "text/plain": [
              "            tenure  ...  PaperlessBilling_No\n",
              "customerID          ...                     \n",
              "7590-VHVEG       1  ...                    0\n",
              "5575-GNVDE      34  ...                    1\n",
              "3668-QPYBK       2  ...                    0\n",
              "7795-CFOCW      45  ...                    1\n",
              "9237-HQITU       2  ...                    0\n",
              "\n",
              "[5 rows x 10 columns]"
            ]
          },
          "metadata": {
            "tags": []
          },
          "execution_count": 135
        }
      ]
    },
    {
      "cell_type": "markdown",
      "metadata": {
        "id": "7ZZhLrtpjy0d"
      },
      "source": [
        "# Create dataset for dropped column with one-hot encoding (Xdropped)"
      ]
    },
    {
      "cell_type": "code",
      "metadata": {
        "id": "u9q-tnz0mR9J"
      },
      "source": [
        "XafterDrop = XbeforeDrop.drop(columns =['tenure','MonthlyCharges_minmax','SeniorCitizen','gender','Partner','MultipleLines','Contract','PaperlessBilling'])"
      ],
      "execution_count": null,
      "outputs": []
    },
    {
      "cell_type": "code",
      "metadata": {
        "id": "tsZoDtYqqaU-"
      },
      "source": [
        "Xdropped = oneHotEncoding(XafterDrop, ['StreamingMovies','StreamingTV','TechSupport','OnlineSecurity','OnlineBackup','InternetService','PhoneService',\\\n",
        "                              'Dependents','DeviceProtection','PaymentMethod'])\n",
        "Xdropped = Xdropped.copy(deep=True)\n",
        "ydropped = y[:]"
      ],
      "execution_count": null,
      "outputs": []
    },
    {
      "cell_type": "code",
      "metadata": {
        "colab": {
          "base_uri": "https://localhost:8080/",
          "height": 361
        },
        "id": "IfXGLpEyn-6G",
        "outputId": "5ac997ad-bf2e-43ad-e943-bcdd146bfd97"
      },
      "source": [
        "Xdropped.head()"
      ],
      "execution_count": null,
      "outputs": [
        {
          "output_type": "execute_result",
          "data": {
            "text/html": [
              "<div>\n",
              "<style scoped>\n",
              "    .dataframe tbody tr th:only-of-type {\n",
              "        vertical-align: middle;\n",
              "    }\n",
              "\n",
              "    .dataframe tbody tr th {\n",
              "        vertical-align: top;\n",
              "    }\n",
              "\n",
              "    .dataframe thead th {\n",
              "        text-align: right;\n",
              "    }\n",
              "</style>\n",
              "<table border=\"1\" class=\"dataframe\">\n",
              "  <thead>\n",
              "    <tr style=\"text-align: right;\">\n",
              "      <th></th>\n",
              "      <th>TotalCharges_minmax</th>\n",
              "      <th>StreamingMovies_No</th>\n",
              "      <th>StreamingMovies_No internet service</th>\n",
              "      <th>StreamingTV_No</th>\n",
              "      <th>StreamingTV_No internet service</th>\n",
              "      <th>TechSupport_No</th>\n",
              "      <th>TechSupport_No internet service</th>\n",
              "      <th>OnlineSecurity_No</th>\n",
              "      <th>OnlineSecurity_No internet service</th>\n",
              "      <th>OnlineBackup_No</th>\n",
              "      <th>OnlineBackup_No internet service</th>\n",
              "      <th>InternetService_DSL</th>\n",
              "      <th>InternetService_Fiber optic</th>\n",
              "      <th>PhoneService_No</th>\n",
              "      <th>Dependents_No</th>\n",
              "      <th>DeviceProtection_No</th>\n",
              "      <th>DeviceProtection_No internet service</th>\n",
              "      <th>PaymentMethod_Bank transfer (automatic)</th>\n",
              "      <th>PaymentMethod_Credit card (automatic)</th>\n",
              "      <th>PaymentMethod_Electronic check</th>\n",
              "    </tr>\n",
              "    <tr>\n",
              "      <th>customerID</th>\n",
              "      <th></th>\n",
              "      <th></th>\n",
              "      <th></th>\n",
              "      <th></th>\n",
              "      <th></th>\n",
              "      <th></th>\n",
              "      <th></th>\n",
              "      <th></th>\n",
              "      <th></th>\n",
              "      <th></th>\n",
              "      <th></th>\n",
              "      <th></th>\n",
              "      <th></th>\n",
              "      <th></th>\n",
              "      <th></th>\n",
              "      <th></th>\n",
              "      <th></th>\n",
              "      <th></th>\n",
              "      <th></th>\n",
              "      <th></th>\n",
              "    </tr>\n",
              "  </thead>\n",
              "  <tbody>\n",
              "    <tr>\n",
              "      <th>7590-VHVEG</th>\n",
              "      <td>0.001275</td>\n",
              "      <td>1</td>\n",
              "      <td>0</td>\n",
              "      <td>1</td>\n",
              "      <td>0</td>\n",
              "      <td>1</td>\n",
              "      <td>0</td>\n",
              "      <td>1</td>\n",
              "      <td>0</td>\n",
              "      <td>0</td>\n",
              "      <td>0</td>\n",
              "      <td>1</td>\n",
              "      <td>0</td>\n",
              "      <td>1</td>\n",
              "      <td>1</td>\n",
              "      <td>1</td>\n",
              "      <td>0</td>\n",
              "      <td>0</td>\n",
              "      <td>0</td>\n",
              "      <td>1</td>\n",
              "    </tr>\n",
              "    <tr>\n",
              "      <th>5575-GNVDE</th>\n",
              "      <td>0.215867</td>\n",
              "      <td>1</td>\n",
              "      <td>0</td>\n",
              "      <td>1</td>\n",
              "      <td>0</td>\n",
              "      <td>1</td>\n",
              "      <td>0</td>\n",
              "      <td>0</td>\n",
              "      <td>0</td>\n",
              "      <td>1</td>\n",
              "      <td>0</td>\n",
              "      <td>1</td>\n",
              "      <td>0</td>\n",
              "      <td>0</td>\n",
              "      <td>1</td>\n",
              "      <td>0</td>\n",
              "      <td>0</td>\n",
              "      <td>0</td>\n",
              "      <td>0</td>\n",
              "      <td>0</td>\n",
              "    </tr>\n",
              "    <tr>\n",
              "      <th>3668-QPYBK</th>\n",
              "      <td>0.010310</td>\n",
              "      <td>1</td>\n",
              "      <td>0</td>\n",
              "      <td>1</td>\n",
              "      <td>0</td>\n",
              "      <td>1</td>\n",
              "      <td>0</td>\n",
              "      <td>0</td>\n",
              "      <td>0</td>\n",
              "      <td>0</td>\n",
              "      <td>0</td>\n",
              "      <td>1</td>\n",
              "      <td>0</td>\n",
              "      <td>0</td>\n",
              "      <td>1</td>\n",
              "      <td>1</td>\n",
              "      <td>0</td>\n",
              "      <td>0</td>\n",
              "      <td>0</td>\n",
              "      <td>0</td>\n",
              "    </tr>\n",
              "    <tr>\n",
              "      <th>7795-CFOCW</th>\n",
              "      <td>0.210241</td>\n",
              "      <td>1</td>\n",
              "      <td>0</td>\n",
              "      <td>1</td>\n",
              "      <td>0</td>\n",
              "      <td>0</td>\n",
              "      <td>0</td>\n",
              "      <td>0</td>\n",
              "      <td>0</td>\n",
              "      <td>1</td>\n",
              "      <td>0</td>\n",
              "      <td>1</td>\n",
              "      <td>0</td>\n",
              "      <td>1</td>\n",
              "      <td>1</td>\n",
              "      <td>0</td>\n",
              "      <td>0</td>\n",
              "      <td>1</td>\n",
              "      <td>0</td>\n",
              "      <td>0</td>\n",
              "    </tr>\n",
              "    <tr>\n",
              "      <th>9237-HQITU</th>\n",
              "      <td>0.015330</td>\n",
              "      <td>1</td>\n",
              "      <td>0</td>\n",
              "      <td>1</td>\n",
              "      <td>0</td>\n",
              "      <td>1</td>\n",
              "      <td>0</td>\n",
              "      <td>1</td>\n",
              "      <td>0</td>\n",
              "      <td>1</td>\n",
              "      <td>0</td>\n",
              "      <td>0</td>\n",
              "      <td>1</td>\n",
              "      <td>0</td>\n",
              "      <td>1</td>\n",
              "      <td>1</td>\n",
              "      <td>0</td>\n",
              "      <td>0</td>\n",
              "      <td>0</td>\n",
              "      <td>1</td>\n",
              "    </tr>\n",
              "  </tbody>\n",
              "</table>\n",
              "</div>"
            ],
            "text/plain": [
              "            TotalCharges_minmax  ...  PaymentMethod_Electronic check\n",
              "customerID                       ...                                \n",
              "7590-VHVEG             0.001275  ...                               1\n",
              "5575-GNVDE             0.215867  ...                               0\n",
              "3668-QPYBK             0.010310  ...                               0\n",
              "7795-CFOCW             0.210241  ...                               0\n",
              "9237-HQITU             0.015330  ...                               1\n",
              "\n",
              "[5 rows x 20 columns]"
            ]
          },
          "metadata": {
            "tags": []
          },
          "execution_count": 138
        }
      ]
    },
    {
      "cell_type": "markdown",
      "metadata": {
        "id": "iGTAOnoutdtU"
      },
      "source": [
        "# Create dataset all column with one-hot encoding (XnoDrop)"
      ]
    },
    {
      "cell_type": "code",
      "metadata": {
        "id": "2xEClhgrt_aD"
      },
      "source": [
        "XnoDrop = oneHotEncoding(XbeforeDrop, ['SeniorCitizen', 'gender', 'Partner', 'MultipleLines', 'Contract', 'PaperlessBilling','StreamingMovies',\\\n",
        "                      'StreamingTV','TechSupport','OnlineSecurity','OnlineBackup','InternetService','PhoneService',\\\n",
        "                      'Dependents','DeviceProtection','PaymentMethod'])\n",
        "XnoDrop = XnoDrop.copy(deep=True)\n",
        "ynoDrop = y[:]"
      ],
      "execution_count": null,
      "outputs": []
    },
    {
      "cell_type": "markdown",
      "metadata": {
        "id": "bnPeBYoptFPQ"
      },
      "source": [
        "# Point Biserial Correlation Test (cat + num)(not include to be dropped columns from Pearson + Chi test)(use to compare with Chi-squared test)"
      ]
    },
    {
      "cell_type": "markdown",
      "metadata": {
        "id": "xxYBfZuH6UY5"
      },
      "source": [
        "Point Biserial correlation is a correlation test for when one variable is dichotomous. Thus, we use it to\n",
        "test correlation with categorical and continuous variables."
      ]
    },
    {
      "cell_type": "code",
      "metadata": {
        "id": "XChSVcmcnlqI"
      },
      "source": [
        "oneHot_indep_var_cat_list = ['SeniorCitizen','gender_Male','Partner_Yes','MultipleLines_No','MultipleLines_Yes',\\\n",
        "                'Contract_Month-to-month','Contract_Two year','PaperlessBilling_Yes']              "
      ],
      "execution_count": null,
      "outputs": []
    },
    {
      "cell_type": "code",
      "metadata": {
        "id": "YJ-gTmsEJzAS",
        "colab": {
          "base_uri": "https://localhost:8080/"
        },
        "outputId": "7843422d-3880-4dec-dbee-2ca996b37ddc"
      },
      "source": [
        "print(oneHot_indep_var_cat_list)\n",
        "print(list(Xdrop.columns))\n",
        "print(len(oneHot_indep_var_cat_list))\n",
        "print(len(Xdrop.columns))"
      ],
      "execution_count": null,
      "outputs": [
        {
          "output_type": "stream",
          "text": [
            "['SeniorCitizen', 'gender_Male', 'Partner_Yes', 'MultipleLines_No', 'MultipleLines_Yes', 'Contract_Month-to-month', 'Contract_Two year', 'PaperlessBilling_Yes']\n",
            "['tenure', 'MonthlyCharges_minmax', 'SeniorCitizen', 'gender_Female', 'Partner_No', 'MultipleLines_No', 'MultipleLines_No phone service', 'Contract_Month-to-month', 'Contract_One year', 'PaperlessBilling_No']\n",
            "8\n",
            "10\n"
          ],
          "name": "stdout"
        }
      ]
    },
    {
      "cell_type": "code",
      "metadata": {
        "id": "9vetrBEKepKA"
      },
      "source": [
        "#Between Dependent categorical variable and independent numerical variable\n",
        "dep_cn_comparison_df = point_biserial_correlation_test(['Churn'], indep_var_num_list, Xdrop.assign(Churn = y['Churn'])).sort_values(by ='Correlation', ascending=False)\\\n",
        "  .reset_index(drop=True)\n"
      ],
      "execution_count": null,
      "outputs": []
    },
    {
      "cell_type": "code",
      "metadata": {
        "id": "fkJknZl3eqhK",
        "colab": {
          "base_uri": "https://localhost:8080/"
        },
        "outputId": "070ca8ee-19af-470c-bc66-0bce9e2d7424"
      },
      "source": [
        "#Between Independent categorical variable and independent numerical variable\n",
        "#Rearrange dataframe to show correlation in descending order \n",
        "\n",
        "indep_cn_comparison_df = point_biserial_correlation_test(oneHot_indep_var_cat_list, indep_var_num_list, Xdrop).sort_values(by ='Correlation', ascending=False)\\\n",
        "  .reset_index(drop=True)\n"
      ],
      "execution_count": null,
      "outputs": [
        {
          "output_type": "stream",
          "text": [
            "gender_Male MonthlyCharges_minmax\n",
            "gender_Male tenure\n",
            "Partner_Yes MonthlyCharges_minmax\n",
            "Partner_Yes tenure\n",
            "MultipleLines_Yes MonthlyCharges_minmax\n",
            "MultipleLines_Yes tenure\n",
            "Contract_Two year MonthlyCharges_minmax\n",
            "Contract_Two year tenure\n",
            "PaperlessBilling_Yes MonthlyCharges_minmax\n",
            "PaperlessBilling_Yes tenure\n"
          ],
          "name": "stdout"
        }
      ]
    },
    {
      "cell_type": "code",
      "metadata": {
        "id": "edVVPHGdvMbn"
      },
      "source": [
        "#filter the data with correlation > 0.5 and p-value < 0.05\n",
        "indep_filtered_cn_comparison_df = indep_cn_comparison_df[indep_cn_comparison_df.apply(lambda x: abs(x['Correlation']) >= 0, axis=1)].sort_values(by ='Correlation', ascending=False)\\\n",
        "  .reset_index(drop=True)\n",
        "indep_filtered_cn_comparison_df = indep_filtered_cn_comparison_df[indep_filtered_cn_comparison_df.apply(lambda x: abs(x['P-value']) <= 0.05, axis=1)].reset_index(drop=True)"
      ],
      "execution_count": null,
      "outputs": []
    },
    {
      "cell_type": "code",
      "metadata": {
        "id": "fUxuLIE1o1df"
      },
      "source": [
        "dep_filtered_cn_comparison_df_v2 = group_same_type_row(dep_cn_comparison_df[['Categorical Variable','Numerical Variable']])\n",
        "indep_filtered_cn_comparison_df_v2 = group_same_type_row(indep_filtered_cn_comparison_df[['Categorical Variable','Numerical Variable']])"
      ],
      "execution_count": null,
      "outputs": []
    },
    {
      "cell_type": "code",
      "metadata": {
        "id": "kQNAt3ySufSA",
        "colab": {
          "base_uri": "https://localhost:8080/"
        },
        "outputId": "79b38c53-5103-46e8-e076-9af0c9f99708"
      },
      "source": [
        "#filter the data with correlation < 0.5 and p-value < 0.05\n",
        "display(dep_cn_comparison_df)\n",
        "#display(dep_filtered_cn_comparison_df_v2) \n",
        "#filter the data with correlation > 0.5 and p-value < 0.05\n",
        "display(indep_filtered_cn_comparison_df)\n",
        "display(indep_filtered_cn_comparison_df_v2)"
      ],
      "execution_count": null,
      "outputs": [
        {
          "output_type": "display_data",
          "data": {
            "text/html": [
              "<div>\n",
              "<style scoped>\n",
              "    .dataframe tbody tr th:only-of-type {\n",
              "        vertical-align: middle;\n",
              "    }\n",
              "\n",
              "    .dataframe tbody tr th {\n",
              "        vertical-align: top;\n",
              "    }\n",
              "\n",
              "    .dataframe thead th {\n",
              "        text-align: right;\n",
              "    }\n",
              "</style>\n",
              "<table border=\"1\" class=\"dataframe\">\n",
              "  <thead>\n",
              "    <tr style=\"text-align: right;\">\n",
              "      <th></th>\n",
              "      <th>Categorical Variable</th>\n",
              "      <th>Numerical Variable</th>\n",
              "      <th>Correlation</th>\n",
              "      <th>P-value</th>\n",
              "    </tr>\n",
              "  </thead>\n",
              "  <tbody>\n",
              "    <tr>\n",
              "      <th>0</th>\n",
              "      <td>Churn</td>\n",
              "      <td>MonthlyCharges_minmax</td>\n",
              "      <td>0.193356</td>\n",
              "      <td>2.706646e-60</td>\n",
              "    </tr>\n",
              "    <tr>\n",
              "      <th>1</th>\n",
              "      <td>Churn</td>\n",
              "      <td>tenure</td>\n",
              "      <td>-0.352229</td>\n",
              "      <td>7.999058e-205</td>\n",
              "    </tr>\n",
              "  </tbody>\n",
              "</table>\n",
              "</div>"
            ],
            "text/plain": [
              "  Categorical Variable     Numerical Variable  Correlation        P-value\n",
              "0                Churn  MonthlyCharges_minmax     0.193356   2.706646e-60\n",
              "1                Churn                 tenure    -0.352229  7.999058e-205"
            ]
          },
          "metadata": {
            "tags": []
          }
        },
        {
          "output_type": "display_data",
          "data": {
            "text/html": [
              "<div>\n",
              "<style scoped>\n",
              "    .dataframe tbody tr th:only-of-type {\n",
              "        vertical-align: middle;\n",
              "    }\n",
              "\n",
              "    .dataframe tbody tr th {\n",
              "        vertical-align: top;\n",
              "    }\n",
              "\n",
              "    .dataframe thead th {\n",
              "        text-align: right;\n",
              "    }\n",
              "</style>\n",
              "<table border=\"1\" class=\"dataframe\">\n",
              "  <thead>\n",
              "    <tr style=\"text-align: right;\">\n",
              "      <th></th>\n",
              "      <th>Categorical Variable</th>\n",
              "      <th>Numerical Variable</th>\n",
              "      <th>Correlation</th>\n",
              "      <th>P-value</th>\n",
              "    </tr>\n",
              "  </thead>\n",
              "  <tbody>\n",
              "    <tr>\n",
              "      <th>0</th>\n",
              "      <td>Contract_Month-to-month</td>\n",
              "      <td>MonthlyCharges_minmax</td>\n",
              "      <td>0.060165</td>\n",
              "      <td>4.351265e-07</td>\n",
              "    </tr>\n",
              "    <tr>\n",
              "      <th>1</th>\n",
              "      <td>SeniorCitizen</td>\n",
              "      <td>MonthlyCharges_minmax</td>\n",
              "      <td>-0.220173</td>\n",
              "      <td>4.574872e-78</td>\n",
              "    </tr>\n",
              "    <tr>\n",
              "      <th>2</th>\n",
              "      <td>MultipleLines_No</td>\n",
              "      <td>tenure</td>\n",
              "      <td>-0.323088</td>\n",
              "      <td>8.127223e-171</td>\n",
              "    </tr>\n",
              "    <tr>\n",
              "      <th>3</th>\n",
              "      <td>MultipleLines_No</td>\n",
              "      <td>MonthlyCharges_minmax</td>\n",
              "      <td>-0.338314</td>\n",
              "      <td>3.993167e-188</td>\n",
              "    </tr>\n",
              "    <tr>\n",
              "      <th>4</th>\n",
              "      <td>Contract_Month-to-month</td>\n",
              "      <td>tenure</td>\n",
              "      <td>-0.645561</td>\n",
              "      <td>0.000000e+00</td>\n",
              "    </tr>\n",
              "  </tbody>\n",
              "</table>\n",
              "</div>"
            ],
            "text/plain": [
              "      Categorical Variable     Numerical Variable  Correlation        P-value\n",
              "0  Contract_Month-to-month  MonthlyCharges_minmax     0.060165   4.351265e-07\n",
              "1            SeniorCitizen  MonthlyCharges_minmax    -0.220173   4.574872e-78\n",
              "2         MultipleLines_No                 tenure    -0.323088  8.127223e-171\n",
              "3         MultipleLines_No  MonthlyCharges_minmax    -0.338314  3.993167e-188\n",
              "4  Contract_Month-to-month                 tenure    -0.645561   0.000000e+00"
            ]
          },
          "metadata": {
            "tags": []
          }
        },
        {
          "output_type": "display_data",
          "data": {
            "text/html": [
              "<div>\n",
              "<style scoped>\n",
              "    .dataframe tbody tr th:only-of-type {\n",
              "        vertical-align: middle;\n",
              "    }\n",
              "\n",
              "    .dataframe tbody tr th {\n",
              "        vertical-align: top;\n",
              "    }\n",
              "\n",
              "    .dataframe thead th {\n",
              "        text-align: right;\n",
              "    }\n",
              "</style>\n",
              "<table border=\"1\" class=\"dataframe\">\n",
              "  <thead>\n",
              "    <tr style=\"text-align: right;\">\n",
              "      <th></th>\n",
              "      <th>Categorical Variable</th>\n",
              "      <th>Numerical Variable</th>\n",
              "    </tr>\n",
              "  </thead>\n",
              "  <tbody>\n",
              "    <tr>\n",
              "      <th>0</th>\n",
              "      <td>MultipleLines</td>\n",
              "      <td>tenure</td>\n",
              "    </tr>\n",
              "    <tr>\n",
              "      <th>1</th>\n",
              "      <td>Contract</td>\n",
              "      <td>tenure</td>\n",
              "    </tr>\n",
              "    <tr>\n",
              "      <th>2</th>\n",
              "      <td>SeniorCitizen</td>\n",
              "      <td>MonthlyCharges_minmax</td>\n",
              "    </tr>\n",
              "    <tr>\n",
              "      <th>3</th>\n",
              "      <td>MultipleLines</td>\n",
              "      <td>MonthlyCharges_minmax</td>\n",
              "    </tr>\n",
              "    <tr>\n",
              "      <th>4</th>\n",
              "      <td>Contract</td>\n",
              "      <td>MonthlyCharges_minmax</td>\n",
              "    </tr>\n",
              "  </tbody>\n",
              "</table>\n",
              "</div>"
            ],
            "text/plain": [
              "  Categorical Variable     Numerical Variable\n",
              "0        MultipleLines                 tenure\n",
              "1             Contract                 tenure\n",
              "2        SeniorCitizen  MonthlyCharges_minmax\n",
              "3        MultipleLines  MonthlyCharges_minmax\n",
              "4             Contract  MonthlyCharges_minmax"
            ]
          },
          "metadata": {
            "tags": []
          }
        }
      ]
    },
    {
      "cell_type": "markdown",
      "metadata": {
        "id": "3LAULx8M6mNc"
      },
      "source": [
        "This groups the highest frequency for correlation > 0.2 and p-value <0.05 variables. Despite the\n",
        "benchmark being rather arbitrary, the result is the same as the ANOVA tests. \\\n",
        "\n",
        "To capture the interaction between the independent categorical variable and numerical variable,\n",
        "interaction variables are added to fit the logistics regression."
      ]
    },
    {
      "cell_type": "markdown",
      "metadata": {
        "id": "KLYflSwDNANH"
      },
      "source": [
        "# Create Interaction variable column based on one-way ANOVA and point biserial "
      ]
    },
    {
      "cell_type": "code",
      "metadata": {
        "id": "BlaWCbedNBQ6"
      },
      "source": [
        "Xdrop = add_Interactive_variable(indep_filtered_cn_comparison_df_v2,X,Xdrop)"
      ],
      "execution_count": null,
      "outputs": []
    },
    {
      "cell_type": "code",
      "metadata": {
        "id": "yFh7LDGzhmxg",
        "colab": {
          "base_uri": "https://localhost:8080/"
        },
        "outputId": "d0c34a97-161b-40bc-8dc5-fc1237f6d19d"
      },
      "source": [
        "indep_filtered_cn_comparison_df_v2"
      ],
      "execution_count": null,
      "outputs": [
        {
          "output_type": "execute_result",
          "data": {
            "text/html": [
              "<div>\n",
              "<style scoped>\n",
              "    .dataframe tbody tr th:only-of-type {\n",
              "        vertical-align: middle;\n",
              "    }\n",
              "\n",
              "    .dataframe tbody tr th {\n",
              "        vertical-align: top;\n",
              "    }\n",
              "\n",
              "    .dataframe thead th {\n",
              "        text-align: right;\n",
              "    }\n",
              "</style>\n",
              "<table border=\"1\" class=\"dataframe\">\n",
              "  <thead>\n",
              "    <tr style=\"text-align: right;\">\n",
              "      <th></th>\n",
              "      <th>Categorical Variable</th>\n",
              "      <th>Numerical Variable</th>\n",
              "    </tr>\n",
              "  </thead>\n",
              "  <tbody>\n",
              "    <tr>\n",
              "      <th>0</th>\n",
              "      <td>MultipleLines</td>\n",
              "      <td>tenure</td>\n",
              "    </tr>\n",
              "    <tr>\n",
              "      <th>1</th>\n",
              "      <td>Contract</td>\n",
              "      <td>tenure</td>\n",
              "    </tr>\n",
              "    <tr>\n",
              "      <th>2</th>\n",
              "      <td>SeniorCitizen</td>\n",
              "      <td>MonthlyCharges_minmax</td>\n",
              "    </tr>\n",
              "    <tr>\n",
              "      <th>3</th>\n",
              "      <td>MultipleLines</td>\n",
              "      <td>MonthlyCharges_minmax</td>\n",
              "    </tr>\n",
              "    <tr>\n",
              "      <th>4</th>\n",
              "      <td>Contract</td>\n",
              "      <td>MonthlyCharges_minmax</td>\n",
              "    </tr>\n",
              "  </tbody>\n",
              "</table>\n",
              "</div>"
            ],
            "text/plain": [
              "  Categorical Variable     Numerical Variable\n",
              "0        MultipleLines                 tenure\n",
              "1             Contract                 tenure\n",
              "2        SeniorCitizen  MonthlyCharges_minmax\n",
              "3        MultipleLines  MonthlyCharges_minmax\n",
              "4             Contract  MonthlyCharges_minmax"
            ]
          },
          "metadata": {
            "tags": []
          },
          "execution_count": 148
        }
      ]
    },
    {
      "cell_type": "code",
      "metadata": {
        "id": "MXrnw55oialR",
        "colab": {
          "base_uri": "https://localhost:8080/"
        },
        "outputId": "d2bcb4a5-a3bd-4c13-ae2b-559138fce8f1"
      },
      "source": [
        "Xdrop.head()"
      ],
      "execution_count": null,
      "outputs": [
        {
          "output_type": "execute_result",
          "data": {
            "text/html": [
              "<div>\n",
              "<style scoped>\n",
              "    .dataframe tbody tr th:only-of-type {\n",
              "        vertical-align: middle;\n",
              "    }\n",
              "\n",
              "    .dataframe tbody tr th {\n",
              "        vertical-align: top;\n",
              "    }\n",
              "\n",
              "    .dataframe thead th {\n",
              "        text-align: right;\n",
              "    }\n",
              "</style>\n",
              "<table border=\"1\" class=\"dataframe\">\n",
              "  <thead>\n",
              "    <tr style=\"text-align: right;\">\n",
              "      <th></th>\n",
              "      <th>tenure</th>\n",
              "      <th>MonthlyCharges_minmax</th>\n",
              "      <th>SeniorCitizen</th>\n",
              "      <th>gender_Female</th>\n",
              "      <th>Partner_No</th>\n",
              "      <th>MultipleLines_No</th>\n",
              "      <th>MultipleLines_No phone service</th>\n",
              "      <th>Contract_Month-to-month</th>\n",
              "      <th>Contract_One year</th>\n",
              "      <th>PaperlessBilling_No</th>\n",
              "      <th>MultipleLines_No_tenure</th>\n",
              "      <th>MultipleLines_No phone service_tenure</th>\n",
              "      <th>Contract_Month-to-month_tenure</th>\n",
              "      <th>Contract_One year_tenure</th>\n",
              "      <th>SeniorCitizen_0_MonthlyCharges_minmax</th>\n",
              "      <th>MultipleLines_No_MonthlyCharges_minmax</th>\n",
              "      <th>MultipleLines_No phone service_MonthlyCharges_minmax</th>\n",
              "      <th>Contract_Month-to-month_MonthlyCharges_minmax</th>\n",
              "      <th>Contract_One year_MonthlyCharges_minmax</th>\n",
              "    </tr>\n",
              "    <tr>\n",
              "      <th>customerID</th>\n",
              "      <th></th>\n",
              "      <th></th>\n",
              "      <th></th>\n",
              "      <th></th>\n",
              "      <th></th>\n",
              "      <th></th>\n",
              "      <th></th>\n",
              "      <th></th>\n",
              "      <th></th>\n",
              "      <th></th>\n",
              "      <th></th>\n",
              "      <th></th>\n",
              "      <th></th>\n",
              "      <th></th>\n",
              "      <th></th>\n",
              "      <th></th>\n",
              "      <th></th>\n",
              "      <th></th>\n",
              "      <th></th>\n",
              "    </tr>\n",
              "  </thead>\n",
              "  <tbody>\n",
              "    <tr>\n",
              "      <th>7590-VHVEG</th>\n",
              "      <td>1</td>\n",
              "      <td>0.001275</td>\n",
              "      <td>1</td>\n",
              "      <td>1</td>\n",
              "      <td>0</td>\n",
              "      <td>0</td>\n",
              "      <td>1</td>\n",
              "      <td>1</td>\n",
              "      <td>0</td>\n",
              "      <td>0</td>\n",
              "      <td>0</td>\n",
              "      <td>1</td>\n",
              "      <td>1</td>\n",
              "      <td>0</td>\n",
              "      <td>0.001275</td>\n",
              "      <td>0.000000</td>\n",
              "      <td>0.001275</td>\n",
              "      <td>0.001275</td>\n",
              "      <td>0.000000</td>\n",
              "    </tr>\n",
              "    <tr>\n",
              "      <th>5575-GNVDE</th>\n",
              "      <td>34</td>\n",
              "      <td>0.004402</td>\n",
              "      <td>1</td>\n",
              "      <td>0</td>\n",
              "      <td>1</td>\n",
              "      <td>1</td>\n",
              "      <td>0</td>\n",
              "      <td>0</td>\n",
              "      <td>1</td>\n",
              "      <td>1</td>\n",
              "      <td>34</td>\n",
              "      <td>0</td>\n",
              "      <td>0</td>\n",
              "      <td>34</td>\n",
              "      <td>0.004402</td>\n",
              "      <td>0.004402</td>\n",
              "      <td>0.000000</td>\n",
              "      <td>0.000000</td>\n",
              "      <td>0.004402</td>\n",
              "    </tr>\n",
              "    <tr>\n",
              "      <th>3668-QPYBK</th>\n",
              "      <td>2</td>\n",
              "      <td>0.004045</td>\n",
              "      <td>1</td>\n",
              "      <td>0</td>\n",
              "      <td>1</td>\n",
              "      <td>1</td>\n",
              "      <td>0</td>\n",
              "      <td>1</td>\n",
              "      <td>0</td>\n",
              "      <td>0</td>\n",
              "      <td>2</td>\n",
              "      <td>0</td>\n",
              "      <td>2</td>\n",
              "      <td>0</td>\n",
              "      <td>0.004045</td>\n",
              "      <td>0.004045</td>\n",
              "      <td>0.000000</td>\n",
              "      <td>0.004045</td>\n",
              "      <td>0.000000</td>\n",
              "    </tr>\n",
              "    <tr>\n",
              "      <th>7795-CFOCW</th>\n",
              "      <td>45</td>\n",
              "      <td>0.002712</td>\n",
              "      <td>1</td>\n",
              "      <td>0</td>\n",
              "      <td>1</td>\n",
              "      <td>0</td>\n",
              "      <td>1</td>\n",
              "      <td>0</td>\n",
              "      <td>1</td>\n",
              "      <td>1</td>\n",
              "      <td>0</td>\n",
              "      <td>45</td>\n",
              "      <td>0</td>\n",
              "      <td>45</td>\n",
              "      <td>0.002712</td>\n",
              "      <td>0.000000</td>\n",
              "      <td>0.002712</td>\n",
              "      <td>0.000000</td>\n",
              "      <td>0.002712</td>\n",
              "    </tr>\n",
              "    <tr>\n",
              "      <th>9237-HQITU</th>\n",
              "      <td>2</td>\n",
              "      <td>0.005989</td>\n",
              "      <td>1</td>\n",
              "      <td>1</td>\n",
              "      <td>1</td>\n",
              "      <td>1</td>\n",
              "      <td>0</td>\n",
              "      <td>1</td>\n",
              "      <td>0</td>\n",
              "      <td>0</td>\n",
              "      <td>2</td>\n",
              "      <td>0</td>\n",
              "      <td>2</td>\n",
              "      <td>0</td>\n",
              "      <td>0.005989</td>\n",
              "      <td>0.005989</td>\n",
              "      <td>0.000000</td>\n",
              "      <td>0.005989</td>\n",
              "      <td>0.000000</td>\n",
              "    </tr>\n",
              "  </tbody>\n",
              "</table>\n",
              "</div>"
            ],
            "text/plain": [
              "            tenure  ...  Contract_One year_MonthlyCharges_minmax\n",
              "customerID          ...                                         \n",
              "7590-VHVEG       1  ...                                 0.000000\n",
              "5575-GNVDE      34  ...                                 0.004402\n",
              "3668-QPYBK       2  ...                                 0.000000\n",
              "7795-CFOCW      45  ...                                 0.002712\n",
              "9237-HQITU       2  ...                                 0.000000\n",
              "\n",
              "[5 rows x 19 columns]"
            ]
          },
          "metadata": {
            "tags": []
          },
          "execution_count": 149
        }
      ]
    },
    {
      "cell_type": "markdown",
      "metadata": {
        "id": "hiv8pLkfMMb3"
      },
      "source": [
        "# Logistic Regression (on remained columns)- L2-regularization"
      ]
    },
    {
      "cell_type": "markdown",
      "metadata": {
        "id": "BOWHdEXl7hm-"
      },
      "source": [
        "After data cleaning, we generate 3 models on the basis of dropped variables, remaining variables, and\n",
        "all variables(without dropping any variables) respectively. The remaining variables model consist of\n",
        "variables that do not have any associations with each other. \n",
        "\n",
        "As we mentioned before, one of the assumptions of the logistic regression model is that there is no\n",
        "collinearity among features. The dropped variables and all variables models violate such assumptions.\n",
        "However, it does not mean the dropped variables are useless. Therefore, we also fitted a logistics\n",
        "regression model for the dropped variables to examine and compare the coefficients.\n",
        "\n",
        "Furthermore, we did not disregard the dropped variables from the association tests above for the full\n",
        "model since they would be useful in improving the prediction power of the models. Nevertheless, we\n",
        "have to handle the coefficients with caution on the dropped variables and full model.\n",
        "\n",
        "In order to compare the difference between with and without regularization, we also generate the\n",
        "models with L1-regularization, L2-regularization and without regularization. L1 regularization, which\n",
        "is used in Lasso Regression, adds an L1-penalty equal to the absolute value of the magnitude of\n",
        "coefficients. It implies that the size of coefficients is limited. It can yield sparse models which are\n",
        "models with few coefficients. Some coefficients can become zero and are eliminated.\n",
        "L2-regularization adds an L2 penalty equal to the square of the magnitude of coefficients. L2 will not\n",
        "yield sparse models and all coefficients are shrunk by the same factor. No coefficients are eliminated.\n"
      ]
    },
    {
      "cell_type": "markdown",
      "metadata": {
        "id": "gT8d12038R5d"
      },
      "source": [
        "The criteria to evaluate the performance are cross validation score, precision, recall, Area Under\n",
        "Curve (AUC) and accuracy.\n",
        "\n",
        "Cross-validation (CV) is a resampling procedure used to evaluate machine learning models. The\n",
        "procedure has a single parameter called k that refers to the number of groups that a given data sample\n",
        "is to be split into. As such, the procedure is often called k-fold cross-validation. To generate CV, first\n",
        "randomly split your training dataset into k folds. Then, test the model performance on the hold-out\n",
        "validation fold. Repeat this until each of the k folds has served as the validation set. The average\n",
        "performance is called the average cross-validation score.\n",
        "\n",
        "Precision is the number of correctly classified positive examples divided by the total number of\n",
        "examples that are classified as positive. Recall is the number of correctly classified positive examples\n",
        "divided by the total number of actual positive examples in the test set.\n",
        "\n",
        "AUC measures the entire two-dimensional area underneath the entire ROC curve from (0,0) to (1,1).\n",
        "The bigger AUC, the better the model is. Accuracy is the percentage of correct predictions."
      ]
    },
    {
      "cell_type": "code",
      "metadata": {
        "id": "eYh5YGOOyzs3"
      },
      "source": [
        "#split the data\n",
        "Xdrop = Xdrop.sort_values(['customerID'])\n",
        "ydrop = ydrop.sort_values(['customerID'])\n",
        "\n",
        "X, X_test, y, y_test = train_test_split(Xdrop, ydrop, test_size=0.2, random_state = 10)\n"
      ],
      "execution_count": null,
      "outputs": []
    },
    {
      "cell_type": "code",
      "metadata": {
        "id": "B0gIuCnVQlF9",
        "colab": {
          "base_uri": "https://localhost:8080/"
        },
        "outputId": "5e675bcc-acac-48db-bab5-ea0770c706eb"
      },
      "source": [
        "Xdrop.head()"
      ],
      "execution_count": null,
      "outputs": [
        {
          "output_type": "execute_result",
          "data": {
            "text/html": [
              "<div>\n",
              "<style scoped>\n",
              "    .dataframe tbody tr th:only-of-type {\n",
              "        vertical-align: middle;\n",
              "    }\n",
              "\n",
              "    .dataframe tbody tr th {\n",
              "        vertical-align: top;\n",
              "    }\n",
              "\n",
              "    .dataframe thead th {\n",
              "        text-align: right;\n",
              "    }\n",
              "</style>\n",
              "<table border=\"1\" class=\"dataframe\">\n",
              "  <thead>\n",
              "    <tr style=\"text-align: right;\">\n",
              "      <th></th>\n",
              "      <th>tenure</th>\n",
              "      <th>MonthlyCharges_minmax</th>\n",
              "      <th>SeniorCitizen</th>\n",
              "      <th>gender_Female</th>\n",
              "      <th>Partner_No</th>\n",
              "      <th>MultipleLines_No</th>\n",
              "      <th>MultipleLines_No phone service</th>\n",
              "      <th>Contract_Month-to-month</th>\n",
              "      <th>Contract_One year</th>\n",
              "      <th>PaperlessBilling_No</th>\n",
              "      <th>MultipleLines_No_tenure</th>\n",
              "      <th>MultipleLines_No phone service_tenure</th>\n",
              "      <th>Contract_Month-to-month_tenure</th>\n",
              "      <th>Contract_One year_tenure</th>\n",
              "      <th>SeniorCitizen_0_MonthlyCharges_minmax</th>\n",
              "      <th>MultipleLines_No_MonthlyCharges_minmax</th>\n",
              "      <th>MultipleLines_No phone service_MonthlyCharges_minmax</th>\n",
              "      <th>Contract_Month-to-month_MonthlyCharges_minmax</th>\n",
              "      <th>Contract_One year_MonthlyCharges_minmax</th>\n",
              "    </tr>\n",
              "    <tr>\n",
              "      <th>customerID</th>\n",
              "      <th></th>\n",
              "      <th></th>\n",
              "      <th></th>\n",
              "      <th></th>\n",
              "      <th></th>\n",
              "      <th></th>\n",
              "      <th></th>\n",
              "      <th></th>\n",
              "      <th></th>\n",
              "      <th></th>\n",
              "      <th></th>\n",
              "      <th></th>\n",
              "      <th></th>\n",
              "      <th></th>\n",
              "      <th></th>\n",
              "      <th></th>\n",
              "      <th></th>\n",
              "      <th></th>\n",
              "      <th></th>\n",
              "    </tr>\n",
              "  </thead>\n",
              "  <tbody>\n",
              "    <tr>\n",
              "      <th>0002-ORFBO</th>\n",
              "      <td>9</td>\n",
              "      <td>0.005400</td>\n",
              "      <td>1</td>\n",
              "      <td>1</td>\n",
              "      <td>0</td>\n",
              "      <td>1</td>\n",
              "      <td>0</td>\n",
              "      <td>0</td>\n",
              "      <td>1</td>\n",
              "      <td>0</td>\n",
              "      <td>9</td>\n",
              "      <td>0</td>\n",
              "      <td>0</td>\n",
              "      <td>9</td>\n",
              "      <td>0.005400</td>\n",
              "      <td>0.005400</td>\n",
              "      <td>0.0</td>\n",
              "      <td>0.000000</td>\n",
              "      <td>0.0054</td>\n",
              "    </tr>\n",
              "    <tr>\n",
              "      <th>0003-MKNFE</th>\n",
              "      <td>9</td>\n",
              "      <td>0.004743</td>\n",
              "      <td>1</td>\n",
              "      <td>0</td>\n",
              "      <td>1</td>\n",
              "      <td>0</td>\n",
              "      <td>0</td>\n",
              "      <td>1</td>\n",
              "      <td>0</td>\n",
              "      <td>1</td>\n",
              "      <td>0</td>\n",
              "      <td>0</td>\n",
              "      <td>9</td>\n",
              "      <td>0</td>\n",
              "      <td>0.004743</td>\n",
              "      <td>0.000000</td>\n",
              "      <td>0.0</td>\n",
              "      <td>0.004743</td>\n",
              "      <td>0.0000</td>\n",
              "    </tr>\n",
              "    <tr>\n",
              "      <th>0004-TLHLJ</th>\n",
              "      <td>4</td>\n",
              "      <td>0.006358</td>\n",
              "      <td>1</td>\n",
              "      <td>0</td>\n",
              "      <td>1</td>\n",
              "      <td>1</td>\n",
              "      <td>0</td>\n",
              "      <td>1</td>\n",
              "      <td>0</td>\n",
              "      <td>0</td>\n",
              "      <td>4</td>\n",
              "      <td>0</td>\n",
              "      <td>4</td>\n",
              "      <td>0</td>\n",
              "      <td>0.006358</td>\n",
              "      <td>0.006358</td>\n",
              "      <td>0.0</td>\n",
              "      <td>0.006358</td>\n",
              "      <td>0.0000</td>\n",
              "    </tr>\n",
              "    <tr>\n",
              "      <th>0011-IGKFF</th>\n",
              "      <td>13</td>\n",
              "      <td>0.009139</td>\n",
              "      <td>0</td>\n",
              "      <td>0</td>\n",
              "      <td>0</td>\n",
              "      <td>1</td>\n",
              "      <td>0</td>\n",
              "      <td>1</td>\n",
              "      <td>0</td>\n",
              "      <td>0</td>\n",
              "      <td>13</td>\n",
              "      <td>0</td>\n",
              "      <td>13</td>\n",
              "      <td>0</td>\n",
              "      <td>0.000000</td>\n",
              "      <td>0.009139</td>\n",
              "      <td>0.0</td>\n",
              "      <td>0.009139</td>\n",
              "      <td>0.0000</td>\n",
              "    </tr>\n",
              "    <tr>\n",
              "      <th>0013-EXCHZ</th>\n",
              "      <td>3</td>\n",
              "      <td>0.007512</td>\n",
              "      <td>0</td>\n",
              "      <td>1</td>\n",
              "      <td>0</td>\n",
              "      <td>1</td>\n",
              "      <td>0</td>\n",
              "      <td>1</td>\n",
              "      <td>0</td>\n",
              "      <td>0</td>\n",
              "      <td>3</td>\n",
              "      <td>0</td>\n",
              "      <td>3</td>\n",
              "      <td>0</td>\n",
              "      <td>0.000000</td>\n",
              "      <td>0.007512</td>\n",
              "      <td>0.0</td>\n",
              "      <td>0.007512</td>\n",
              "      <td>0.0000</td>\n",
              "    </tr>\n",
              "  </tbody>\n",
              "</table>\n",
              "</div>"
            ],
            "text/plain": [
              "            tenure  ...  Contract_One year_MonthlyCharges_minmax\n",
              "customerID          ...                                         \n",
              "0002-ORFBO       9  ...                                   0.0054\n",
              "0003-MKNFE       9  ...                                   0.0000\n",
              "0004-TLHLJ       4  ...                                   0.0000\n",
              "0011-IGKFF      13  ...                                   0.0000\n",
              "0013-EXCHZ       3  ...                                   0.0000\n",
              "\n",
              "[5 rows x 19 columns]"
            ]
          },
          "metadata": {
            "tags": []
          },
          "execution_count": 151
        }
      ]
    },
    {
      "cell_type": "code",
      "metadata": {
        "id": "kieXqP7zTlm9"
      },
      "source": [
        "# define the model\n",
        "LRM = LogisticRegression(penalty='l2', C=1,random_state=50, solver='newton-cg')\n",
        "# change y column to datatype array\n",
        "array_y = y.values.ravel()\n",
        "# define cross val score\n",
        "score_cv = cross_val_score(LRM, X, array_y, cv=10)"
      ],
      "execution_count": null,
      "outputs": []
    },
    {
      "cell_type": "code",
      "metadata": {
        "id": "IRC598kUTlnD"
      },
      "source": [
        "#predict value of target based on cross validation\n",
        "predict_y = cross_val_predict(LRM, X, array_y, cv=10)"
      ],
      "execution_count": null,
      "outputs": []
    },
    {
      "cell_type": "code",
      "metadata": {
        "id": "sGye22mCTlnF",
        "colab": {
          "base_uri": "https://localhost:8080/"
        },
        "outputId": "02427c81-4fff-4636-9986-4416f239c5be"
      },
      "source": [
        "# Confusion matrix\n",
        "print(confusion_matrix(array_y, predict_y))"
      ],
      "execution_count": null,
      "outputs": [
        {
          "output_type": "stream",
          "text": [
            "[[3726  423]\n",
            " [ 803  682]]\n"
          ],
          "name": "stdout"
        }
      ]
    },
    {
      "cell_type": "code",
      "metadata": {
        "id": "Mf5sU0qKTlnK",
        "colab": {
          "base_uri": "https://localhost:8080/"
        },
        "outputId": "3acc6ba4-d272-401e-abbf-181d6847b248"
      },
      "source": [
        "print(classification_report(array_y, predict_y))"
      ],
      "execution_count": null,
      "outputs": [
        {
          "output_type": "stream",
          "text": [
            "              precision    recall  f1-score   support\n",
            "\n",
            "           0       0.82      0.90      0.86      4149\n",
            "           1       0.62      0.46      0.53      1485\n",
            "\n",
            "    accuracy                           0.78      5634\n",
            "   macro avg       0.72      0.68      0.69      5634\n",
            "weighted avg       0.77      0.78      0.77      5634\n",
            "\n"
          ],
          "name": "stdout"
        }
      ]
    },
    {
      "cell_type": "code",
      "metadata": {
        "id": "iVrRvF6xTlnM",
        "colab": {
          "base_uri": "https://localhost:8080/"
        },
        "outputId": "56b7f539-6c50-44f2-995a-1b1426d0fa86"
      },
      "source": [
        "# probablities for each prediction\n",
        "proba_y = cross_val_predict(LRM, X, array_y, cv=10, method='predict_proba')\n",
        "proba_y"
      ],
      "execution_count": null,
      "outputs": [
        {
          "output_type": "execute_result",
          "data": {
            "text/plain": [
              "array([[0.55238091, 0.44761909],\n",
              "       [0.90626905, 0.09373095],\n",
              "       [0.93498584, 0.06501416],\n",
              "       ...,\n",
              "       [0.97630627, 0.02369373],\n",
              "       [0.64928814, 0.35071186],\n",
              "       [0.68285076, 0.31714924]])"
            ]
          },
          "metadata": {
            "tags": []
          },
          "execution_count": 156
        }
      ]
    },
    {
      "cell_type": "code",
      "metadata": {
        "id": "aJ3IcjxYTlnP"
      },
      "source": [
        "# Get the probabilities of being '0' for all instances at default threshold of 0.5\n",
        "proba_y_0 = proba_y[:,0]"
      ],
      "execution_count": null,
      "outputs": []
    },
    {
      "cell_type": "code",
      "metadata": {
        "id": "gnWflRV9TlnQ"
      },
      "source": [
        "# Set threshold for '0' to be 0.7\n",
        "proba_y_0_thresold7= [0 if i >= 0.7 else 1 for i in proba_y_0]"
      ],
      "execution_count": null,
      "outputs": []
    },
    {
      "cell_type": "code",
      "metadata": {
        "id": "l0HrLnyVTlnT",
        "colab": {
          "base_uri": "https://localhost:8080/"
        },
        "outputId": "afb0c6c8-c3a6-43fa-f919-65ed4760d87d"
      },
      "source": [
        "print(\"Confusion Matrix:\", '\\n',confusion_matrix(y, proba_y_0_thresold7))"
      ],
      "execution_count": null,
      "outputs": [
        {
          "output_type": "stream",
          "text": [
            "Confusion Matrix: \n",
            " [[2923 1226]\n",
            " [ 326 1159]]\n"
          ],
          "name": "stdout"
        }
      ]
    },
    {
      "cell_type": "code",
      "metadata": {
        "id": "ozlDvVuNTlnU",
        "colab": {
          "base_uri": "https://localhost:8080/"
        },
        "outputId": "de9874ee-2c50-4967-a722-5397decacdc1"
      },
      "source": [
        "print(\"Accuracy:\",accuracy_score(y, proba_y_0_thresold7, normalize=True, sample_weight=None))"
      ],
      "execution_count": null,
      "outputs": [
        {
          "output_type": "stream",
          "text": [
            "Accuracy: 0.7245296414625488\n"
          ],
          "name": "stdout"
        }
      ]
    },
    {
      "cell_type": "code",
      "metadata": {
        "id": "f3Rk4-dbTlnb"
      },
      "source": [
        "# calculate tpr and fpr based on different thresholds\n",
        "fpr, tpr, thresholds = metrics.roc_curve(array_y,proba_y_0,pos_label=0)"
      ],
      "execution_count": null,
      "outputs": []
    },
    {
      "cell_type": "code",
      "metadata": {
        "id": "VY6vjlRpTlnf",
        "colab": {
          "base_uri": "https://localhost:8080/"
        },
        "outputId": "75788bda-d35d-4c2d-8681-079c142ae874"
      },
      "source": [
        "display(\"Area under curve: \" + str(metrics.auc(fpr, tpr)), plt.plot(fpr,tpr))"
      ],
      "execution_count": null,
      "outputs": [
        {
          "output_type": "display_data",
          "data": {
            "application/vnd.google.colaboratory.intrinsic+json": {
              "type": "string"
            },
            "text/plain": [
              "'Area under curve: 0.8155787813054625'"
            ]
          },
          "metadata": {
            "tags": []
          }
        },
        {
          "output_type": "display_data",
          "data": {
            "text/plain": [
              "[<matplotlib.lines.Line2D at 0x7f1512aee710>]"
            ]
          },
          "metadata": {
            "tags": []
          }
        },
        {
          "output_type": "display_data",
          "data": {
            "image/png": "[encoded data removed]",
            "text/plain": [
              "<Figure size 432x288 with 1 Axes>"
            ]
          },
          "metadata": {
            "tags": [],
            "needs_background": "light"
          }
        }
      ]
    },
    {
      "cell_type": "code",
      "metadata": {
        "id": "f2Yii9PzTlni",
        "colab": {
          "base_uri": "https://localhost:8080/"
        },
        "outputId": "3ed545be-785a-43da-e914-31f8b321c595"
      },
      "source": [
        "LRM.fit(X, array_y)"
      ],
      "execution_count": null,
      "outputs": [
        {
          "output_type": "execute_result",
          "data": {
            "text/plain": [
              "LogisticRegression(C=1, class_weight=None, dual=False, fit_intercept=True,\n",
              "                   intercept_scaling=1, l1_ratio=None, max_iter=100,\n",
              "                   multi_class='auto', n_jobs=None, penalty='l2',\n",
              "                   random_state=50, solver='newton-cg', tol=0.0001, verbose=0,\n",
              "                   warm_start=False)"
            ]
          },
          "metadata": {
            "tags": []
          },
          "execution_count": 163
        }
      ]
    },
    {
      "cell_type": "code",
      "metadata": {
        "id": "Zk6zqyJ7Tlnj",
        "colab": {
          "base_uri": "https://localhost:8080/"
        },
        "outputId": "91e6e03b-89b8-4bf3-b92b-8965f3e0391f"
      },
      "source": [
        "# show the intercept of the trained model (Theta_0)\n",
        "LRM.intercept_"
      ],
      "execution_count": null,
      "outputs": [
        {
          "output_type": "execute_result",
          "data": {
            "text/plain": [
              "array([-1.84498621])"
            ]
          },
          "metadata": {
            "tags": []
          },
          "execution_count": 164
        }
      ]
    },
    {
      "cell_type": "code",
      "metadata": {
        "id": "p21Pa0hMTlnm",
        "colab": {
          "base_uri": "https://localhost:8080/"
        },
        "outputId": "acc84213-be75-4054-9aac-25518188604b"
      },
      "source": [
        "# show the coefficients of independent attributes\n",
        "coeff_df = pd.DataFrame(LRM.coef_.flatten(), X.columns, columns=['Coefficient'])  \n",
        "coeff_df"
      ],
      "execution_count": null,
      "outputs": [
        {
          "output_type": "execute_result",
          "data": {
            "text/html": [
              "<div>\n",
              "<style scoped>\n",
              "    .dataframe tbody tr th:only-of-type {\n",
              "        vertical-align: middle;\n",
              "    }\n",
              "\n",
              "    .dataframe tbody tr th {\n",
              "        vertical-align: top;\n",
              "    }\n",
              "\n",
              "    .dataframe thead th {\n",
              "        text-align: right;\n",
              "    }\n",
              "</style>\n",
              "<table border=\"1\" class=\"dataframe\">\n",
              "  <thead>\n",
              "    <tr style=\"text-align: right;\">\n",
              "      <th></th>\n",
              "      <th>Coefficient</th>\n",
              "    </tr>\n",
              "  </thead>\n",
              "  <tbody>\n",
              "    <tr>\n",
              "      <th>tenure</th>\n",
              "      <td>-0.010570</td>\n",
              "    </tr>\n",
              "    <tr>\n",
              "      <th>MonthlyCharges_minmax</th>\n",
              "      <td>1.060228</td>\n",
              "    </tr>\n",
              "    <tr>\n",
              "      <th>SeniorCitizen</th>\n",
              "      <td>-0.578496</td>\n",
              "    </tr>\n",
              "    <tr>\n",
              "      <th>gender_Female</th>\n",
              "      <td>0.010135</td>\n",
              "    </tr>\n",
              "    <tr>\n",
              "      <th>Partner_No</th>\n",
              "      <td>0.039347</td>\n",
              "    </tr>\n",
              "    <tr>\n",
              "      <th>MultipleLines_No</th>\n",
              "      <td>-0.604212</td>\n",
              "    </tr>\n",
              "    <tr>\n",
              "      <th>MultipleLines_No phone service</th>\n",
              "      <td>-0.330137</td>\n",
              "    </tr>\n",
              "    <tr>\n",
              "      <th>Contract_Month-to-month</th>\n",
              "      <td>3.160049</td>\n",
              "    </tr>\n",
              "    <tr>\n",
              "      <th>Contract_One year</th>\n",
              "      <td>0.967990</td>\n",
              "    </tr>\n",
              "    <tr>\n",
              "      <th>PaperlessBilling_No</th>\n",
              "      <td>-0.629632</td>\n",
              "    </tr>\n",
              "    <tr>\n",
              "      <th>MultipleLines_No_tenure</th>\n",
              "      <td>-0.005107</td>\n",
              "    </tr>\n",
              "    <tr>\n",
              "      <th>MultipleLines_No phone service_tenure</th>\n",
              "      <td>-0.000907</td>\n",
              "    </tr>\n",
              "    <tr>\n",
              "      <th>Contract_Month-to-month_tenure</th>\n",
              "      <td>-0.025593</td>\n",
              "    </tr>\n",
              "    <tr>\n",
              "      <th>Contract_One year_tenure</th>\n",
              "      <td>0.007861</td>\n",
              "    </tr>\n",
              "    <tr>\n",
              "      <th>SeniorCitizen_0_MonthlyCharges_minmax</th>\n",
              "      <td>1.022267</td>\n",
              "    </tr>\n",
              "    <tr>\n",
              "      <th>MultipleLines_No_MonthlyCharges_minmax</th>\n",
              "      <td>0.645588</td>\n",
              "    </tr>\n",
              "    <tr>\n",
              "      <th>MultipleLines_No phone service_MonthlyCharges_minmax</th>\n",
              "      <td>0.012137</td>\n",
              "    </tr>\n",
              "    <tr>\n",
              "      <th>Contract_Month-to-month_MonthlyCharges_minmax</th>\n",
              "      <td>0.814902</td>\n",
              "    </tr>\n",
              "    <tr>\n",
              "      <th>Contract_One year_MonthlyCharges_minmax</th>\n",
              "      <td>0.191260</td>\n",
              "    </tr>\n",
              "  </tbody>\n",
              "</table>\n",
              "</div>"
            ],
            "text/plain": [
              "                                                    Coefficient\n",
              "tenure                                                -0.010570\n",
              "MonthlyCharges_minmax                                  1.060228\n",
              "SeniorCitizen                                         -0.578496\n",
              "gender_Female                                          0.010135\n",
              "Partner_No                                             0.039347\n",
              "MultipleLines_No                                      -0.604212\n",
              "MultipleLines_No phone service                        -0.330137\n",
              "Contract_Month-to-month                                3.160049\n",
              "Contract_One year                                      0.967990\n",
              "PaperlessBilling_No                                   -0.629632\n",
              "MultipleLines_No_tenure                               -0.005107\n",
              "MultipleLines_No phone service_tenure                 -0.000907\n",
              "Contract_Month-to-month_tenure                        -0.025593\n",
              "Contract_One year_tenure                               0.007861\n",
              "SeniorCitizen_0_MonthlyCharges_minmax                  1.022267\n",
              "MultipleLines_No_MonthlyCharges_minmax                 0.645588\n",
              "MultipleLines_No phone service_MonthlyCharges_m...     0.012137\n",
              "Contract_Month-to-month_MonthlyCharges_minmax          0.814902\n",
              "Contract_One year_MonthlyCharges_minmax                0.191260"
            ]
          },
          "metadata": {
            "tags": []
          },
          "execution_count": 165
        }
      ]
    },
    {
      "cell_type": "code",
      "metadata": {
        "id": "hQOK79_JTlnp",
        "colab": {
          "base_uri": "https://localhost:8080/"
        },
        "outputId": "9d2616a5-28d7-44d8-84ce-c29164a38c17"
      },
      "source": [
        "print('Area Under Curve:', \"%.4f\" % metrics.auc(fpr, tpr))\n",
        "print('Cross Validation Score:', \"%.4f\" % score_cv.mean())\n",
        "for j in range(4, 7):\n",
        "    print('Confusion Matrix', 'with thresold', float(j)/float(10), ':', '\\n',\n",
        "          confusion_matrix(y, [0 if i >= float(j)/float(10) else 1 for i in proba_y_0]))\n",
        "    print(classification_report(y, [0 if i >= float(j)/float(10) else 1 for i in proba_y_0]))"
      ],
      "execution_count": null,
      "outputs": [
        {
          "output_type": "stream",
          "text": [
            "Area Under Curve: 0.8156\n",
            "Cross Validation Score: 0.7824\n",
            "Confusion Matrix with thresold 0.4 : \n",
            " [[4011  138]\n",
            " [1166  319]]\n",
            "              precision    recall  f1-score   support\n",
            "\n",
            "           0       0.77      0.97      0.86      4149\n",
            "           1       0.70      0.21      0.33      1485\n",
            "\n",
            "    accuracy                           0.77      5634\n",
            "   macro avg       0.74      0.59      0.59      5634\n",
            "weighted avg       0.75      0.77      0.72      5634\n",
            "\n",
            "Confusion Matrix with thresold 0.5 : \n",
            " [[3726  423]\n",
            " [ 803  682]]\n",
            "              precision    recall  f1-score   support\n",
            "\n",
            "           0       0.82      0.90      0.86      4149\n",
            "           1       0.62      0.46      0.53      1485\n",
            "\n",
            "    accuracy                           0.78      5634\n",
            "   macro avg       0.72      0.68      0.69      5634\n",
            "weighted avg       0.77      0.78      0.77      5634\n",
            "\n",
            "Confusion Matrix with thresold 0.6 : \n",
            " [[3405  744]\n",
            " [ 589  896]]\n",
            "              precision    recall  f1-score   support\n",
            "\n",
            "           0       0.85      0.82      0.84      4149\n",
            "           1       0.55      0.60      0.57      1485\n",
            "\n",
            "    accuracy                           0.76      5634\n",
            "   macro avg       0.70      0.71      0.70      5634\n",
            "weighted avg       0.77      0.76      0.77      5634\n",
            "\n"
          ],
          "name": "stdout"
        }
      ]
    },
    {
      "cell_type": "markdown",
      "metadata": {
        "id": "zZc60ofDTlnr"
      },
      "source": [
        "## Predict testing data"
      ]
    },
    {
      "cell_type": "code",
      "metadata": {
        "id": "Mvt1xqMWTlnr"
      },
      "source": [
        "pred_val_test = LRM.predict(X_test)"
      ],
      "execution_count": null,
      "outputs": []
    },
    {
      "cell_type": "code",
      "metadata": {
        "id": "g8BpK228Tlnt",
        "colab": {
          "base_uri": "https://localhost:8080/"
        },
        "outputId": "e3c10b5c-c6b3-4ef6-9328-bef817ba4f4e"
      },
      "source": [
        "print(\"Accuracy from testing data: \", accuracy_score(y_test, pred_val_test, normalize = True, sample_weight = None))\n",
        "print(confusion_matrix(y_test, pred_val_test))\n",
        "print(\"Classification Report of Naive Bayes Model:\",\"\\n\",classification_report(y_test, pred_val_test))"
      ],
      "execution_count": null,
      "outputs": [
        {
          "output_type": "stream",
          "text": [
            "Accuracy from testing data:  0.7814052519517388\n",
            "[[909 116]\n",
            " [192 192]]\n",
            "Classification Report of Naive Bayes Model: \n",
            "               precision    recall  f1-score   support\n",
            "\n",
            "           0       0.83      0.89      0.86      1025\n",
            "           1       0.62      0.50      0.55       384\n",
            "\n",
            "    accuracy                           0.78      1409\n",
            "   macro avg       0.72      0.69      0.71      1409\n",
            "weighted avg       0.77      0.78      0.77      1409\n",
            "\n"
          ],
          "name": "stdout"
        }
      ]
    },
    {
      "cell_type": "markdown",
      "metadata": {
        "id": "N4r8pCLhjo-E"
      },
      "source": [
        "# Logistic Regression (on dropped columns)-L2-regularization\n",
        "\n"
      ]
    },
    {
      "cell_type": "code",
      "metadata": {
        "id": "_SjtML0ejo-E"
      },
      "source": [
        "#split the data\n",
        "Xdropped = Xdropped.sort_values(['customerID'])\n",
        "ydropped = ydropped.sort_values(['customerID'])\n",
        "\n",
        "X, X_test, y, y_test = train_test_split(Xdropped, ydropped, test_size=0.2, random_state = 10)\n"
      ],
      "execution_count": null,
      "outputs": []
    },
    {
      "cell_type": "code",
      "metadata": {
        "id": "PhXyI87Yjo-E"
      },
      "source": [
        "# define the model\n",
        "LRM = LogisticRegression(penalty='l2', C=1,random_state=50, solver='newton-cg')\n",
        "# change y column to datatype array\n",
        "array_y = y.values.ravel()\n",
        "# define cross val score\n",
        "score_cv = cross_val_score(LRM, X, array_y, cv=10)"
      ],
      "execution_count": null,
      "outputs": []
    },
    {
      "cell_type": "code",
      "metadata": {
        "id": "p9dM1Kpljo-F"
      },
      "source": [
        "#predict value of target based on cross validation\n",
        "predict_y = cross_val_predict(LRM, X, array_y, cv=10)"
      ],
      "execution_count": null,
      "outputs": []
    },
    {
      "cell_type": "code",
      "metadata": {
        "id": "hQZCySK4jo-F",
        "colab": {
          "base_uri": "https://localhost:8080/"
        },
        "outputId": "5aaa1eb9-bc2d-432c-dd00-e22f5ba45ab0"
      },
      "source": [
        "# Confusion matrix\n",
        "print(confusion_matrix(array_y, predict_y))"
      ],
      "execution_count": null,
      "outputs": [
        {
          "output_type": "stream",
          "text": [
            "[[3759  390]\n",
            " [ 768  717]]\n"
          ],
          "name": "stdout"
        }
      ]
    },
    {
      "cell_type": "code",
      "metadata": {
        "id": "etDhs4eojo-F",
        "colab": {
          "base_uri": "https://localhost:8080/"
        },
        "outputId": "14680775-7be7-4079-d992-54b47e2144bb"
      },
      "source": [
        "print(classification_report(array_y, predict_y))"
      ],
      "execution_count": null,
      "outputs": [
        {
          "output_type": "stream",
          "text": [
            "              precision    recall  f1-score   support\n",
            "\n",
            "           0       0.83      0.91      0.87      4149\n",
            "           1       0.65      0.48      0.55      1485\n",
            "\n",
            "    accuracy                           0.79      5634\n",
            "   macro avg       0.74      0.69      0.71      5634\n",
            "weighted avg       0.78      0.79      0.78      5634\n",
            "\n"
          ],
          "name": "stdout"
        }
      ]
    },
    {
      "cell_type": "code",
      "metadata": {
        "id": "uvs_3IVGjo-F",
        "colab": {
          "base_uri": "https://localhost:8080/"
        },
        "outputId": "a80d3118-b8f9-422c-c5c6-12f4a646c10c"
      },
      "source": [
        "# probablities for each prediction\n",
        "proba_y = cross_val_predict(LRM, X, array_y, cv=10, method='predict_proba')\n",
        "proba_y"
      ],
      "execution_count": null,
      "outputs": [
        {
          "output_type": "execute_result",
          "data": {
            "text/plain": [
              "array([[0.92414102, 0.07585898],\n",
              "       [0.95034484, 0.04965516],\n",
              "       [0.96748083, 0.03251917],\n",
              "       ...,\n",
              "       [0.72077068, 0.27922932],\n",
              "       [0.5863754 , 0.4136246 ],\n",
              "       [0.65948345, 0.34051655]])"
            ]
          },
          "metadata": {
            "tags": []
          },
          "execution_count": 174
        }
      ]
    },
    {
      "cell_type": "code",
      "metadata": {
        "id": "8JYkxPg2jo-G"
      },
      "source": [
        "# Get the probabilities of being '0' for all instances at default threshold of 0.5\n",
        "proba_y_0 = proba_y[:,0]"
      ],
      "execution_count": null,
      "outputs": []
    },
    {
      "cell_type": "code",
      "metadata": {
        "id": "jVjaU0u3jo-G"
      },
      "source": [
        "# Set threshold for '0' to be 0.7\n",
        "proba_y_0_thresold7= [0 if i >= 0.7 else 1 for i in proba_y_0]"
      ],
      "execution_count": null,
      "outputs": []
    },
    {
      "cell_type": "code",
      "metadata": {
        "id": "_VizffaUjo-G",
        "colab": {
          "base_uri": "https://localhost:8080/"
        },
        "outputId": "50fdbca2-a6d3-419a-9b66-38de0f2906d0"
      },
      "source": [
        "print(\"Confusion Matrix:\", '\\n',confusion_matrix(y, proba_y_0_thresold7))"
      ],
      "execution_count": null,
      "outputs": [
        {
          "output_type": "stream",
          "text": [
            "Confusion Matrix: \n",
            " [[3235  914]\n",
            " [ 419 1066]]\n"
          ],
          "name": "stdout"
        }
      ]
    },
    {
      "cell_type": "code",
      "metadata": {
        "id": "l_wha6-Djo-G",
        "colab": {
          "base_uri": "https://localhost:8080/"
        },
        "outputId": "592418e3-0144-4161-96c2-c33710074f7f"
      },
      "source": [
        "print(\"Accuracy:\",accuracy_score(y, proba_y_0_thresold7, normalize=True, sample_weight=None))"
      ],
      "execution_count": null,
      "outputs": [
        {
          "output_type": "stream",
          "text": [
            "Accuracy: 0.763400780972666\n"
          ],
          "name": "stdout"
        }
      ]
    },
    {
      "cell_type": "code",
      "metadata": {
        "id": "-oCjDHD-jo-G"
      },
      "source": [
        "# calculate tpr and fpr based on different thresholds\n",
        "fpr, tpr, thresholds = metrics.roc_curve(array_y,proba_y_0,pos_label=0)"
      ],
      "execution_count": null,
      "outputs": []
    },
    {
      "cell_type": "code",
      "metadata": {
        "id": "d4_g0Bo3jo-G",
        "colab": {
          "base_uri": "https://localhost:8080/"
        },
        "outputId": "e3bd7d3d-2090-496c-9c40-9a1656b83631"
      },
      "source": [
        "display(\"Area under curve: \" + str(metrics.auc(fpr, tpr)), plt.plot(fpr,tpr))"
      ],
      "execution_count": null,
      "outputs": [
        {
          "output_type": "display_data",
          "data": {
            "application/vnd.google.colaboratory.intrinsic+json": {
              "type": "string"
            },
            "text/plain": [
              "'Area under curve: 0.8275626839618162'"
            ]
          },
          "metadata": {
            "tags": []
          }
        },
        {
          "output_type": "display_data",
          "data": {
            "text/plain": [
              "[<matplotlib.lines.Line2D at 0x7f152e61b4d0>]"
            ]
          },
          "metadata": {
            "tags": []
          }
        },
        {
          "output_type": "display_data",
          "data": {
            "image/png": "[encoded data removed]",
            "text/plain": [
              "<Figure size 432x288 with 1 Axes>"
            ]
          },
          "metadata": {
            "tags": [],
            "needs_background": "light"
          }
        }
      ]
    },
    {
      "cell_type": "code",
      "metadata": {
        "id": "bfTP8DGWjo-H",
        "colab": {
          "base_uri": "https://localhost:8080/"
        },
        "outputId": "3472f92b-014d-4a7b-f117-e2e890fb54b9"
      },
      "source": [
        "LRM.fit(X, array_y)"
      ],
      "execution_count": null,
      "outputs": [
        {
          "output_type": "execute_result",
          "data": {
            "text/plain": [
              "LogisticRegression(C=1, class_weight=None, dual=False, fit_intercept=True,\n",
              "                   intercept_scaling=1, l1_ratio=None, max_iter=100,\n",
              "                   multi_class='auto', n_jobs=None, penalty='l2',\n",
              "                   random_state=50, solver='newton-cg', tol=0.0001, verbose=0,\n",
              "                   warm_start=False)"
            ]
          },
          "metadata": {
            "tags": []
          },
          "execution_count": 181
        }
      ]
    },
    {
      "cell_type": "code",
      "metadata": {
        "id": "VjIdg3mljo-H",
        "colab": {
          "base_uri": "https://localhost:8080/"
        },
        "outputId": "e37b8fcb-26ff-4981-a25c-c1169e85ba3c"
      },
      "source": [
        "# show the intercept of the trained model (Theta_0)\n",
        "LRM.intercept_"
      ],
      "execution_count": null,
      "outputs": [
        {
          "output_type": "execute_result",
          "data": {
            "text/plain": [
              "array([-0.90052021])"
            ]
          },
          "metadata": {
            "tags": []
          },
          "execution_count": 182
        }
      ]
    },
    {
      "cell_type": "code",
      "metadata": {
        "id": "8CjO7O4Kjo-H",
        "colab": {
          "base_uri": "https://localhost:8080/"
        },
        "outputId": "a3df1282-8c18-461f-e804-a1d2c9ba795d"
      },
      "source": [
        "# show the coefficients of independent attributes\n",
        "coeff_df = pd.DataFrame(LRM.coef_.flatten(), X.columns, columns=['Coefficient'])  \n",
        "coeff_df"
      ],
      "execution_count": null,
      "outputs": [
        {
          "output_type": "execute_result",
          "data": {
            "text/html": [
              "<div>\n",
              "<style scoped>\n",
              "    .dataframe tbody tr th:only-of-type {\n",
              "        vertical-align: middle;\n",
              "    }\n",
              "\n",
              "    .dataframe tbody tr th {\n",
              "        vertical-align: top;\n",
              "    }\n",
              "\n",
              "    .dataframe thead th {\n",
              "        text-align: right;\n",
              "    }\n",
              "</style>\n",
              "<table border=\"1\" class=\"dataframe\">\n",
              "  <thead>\n",
              "    <tr style=\"text-align: right;\">\n",
              "      <th></th>\n",
              "      <th>Coefficient</th>\n",
              "    </tr>\n",
              "  </thead>\n",
              "  <tbody>\n",
              "    <tr>\n",
              "      <th>TotalCharges_minmax</th>\n",
              "      <td>-3.428656</td>\n",
              "    </tr>\n",
              "    <tr>\n",
              "      <th>StreamingMovies_No</th>\n",
              "      <td>-0.310345</td>\n",
              "    </tr>\n",
              "    <tr>\n",
              "      <th>StreamingMovies_No internet service</th>\n",
              "      <td>-0.255447</td>\n",
              "    </tr>\n",
              "    <tr>\n",
              "      <th>StreamingTV_No</th>\n",
              "      <td>-0.348358</td>\n",
              "    </tr>\n",
              "    <tr>\n",
              "      <th>StreamingTV_No internet service</th>\n",
              "      <td>-0.255447</td>\n",
              "    </tr>\n",
              "    <tr>\n",
              "      <th>TechSupport_No</th>\n",
              "      <td>0.442465</td>\n",
              "    </tr>\n",
              "    <tr>\n",
              "      <th>TechSupport_No internet service</th>\n",
              "      <td>-0.255447</td>\n",
              "    </tr>\n",
              "    <tr>\n",
              "      <th>OnlineSecurity_No</th>\n",
              "      <td>0.522901</td>\n",
              "    </tr>\n",
              "    <tr>\n",
              "      <th>OnlineSecurity_No internet service</th>\n",
              "      <td>-0.255447</td>\n",
              "    </tr>\n",
              "    <tr>\n",
              "      <th>OnlineBackup_No</th>\n",
              "      <td>0.127511</td>\n",
              "    </tr>\n",
              "    <tr>\n",
              "      <th>OnlineBackup_No internet service</th>\n",
              "      <td>-0.255447</td>\n",
              "    </tr>\n",
              "    <tr>\n",
              "      <th>InternetService_DSL</th>\n",
              "      <td>-0.521333</td>\n",
              "    </tr>\n",
              "    <tr>\n",
              "      <th>InternetService_Fiber optic</th>\n",
              "      <td>0.776764</td>\n",
              "    </tr>\n",
              "    <tr>\n",
              "      <th>PhoneService_No</th>\n",
              "      <td>0.209222</td>\n",
              "    </tr>\n",
              "    <tr>\n",
              "      <th>Dependents_No</th>\n",
              "      <td>0.289593</td>\n",
              "    </tr>\n",
              "    <tr>\n",
              "      <th>DeviceProtection_No</th>\n",
              "      <td>0.078908</td>\n",
              "    </tr>\n",
              "    <tr>\n",
              "      <th>DeviceProtection_No internet service</th>\n",
              "      <td>-0.255447</td>\n",
              "    </tr>\n",
              "    <tr>\n",
              "      <th>PaymentMethod_Bank transfer (automatic)</th>\n",
              "      <td>-0.192104</td>\n",
              "    </tr>\n",
              "    <tr>\n",
              "      <th>PaymentMethod_Credit card (automatic)</th>\n",
              "      <td>-0.293910</td>\n",
              "    </tr>\n",
              "    <tr>\n",
              "      <th>PaymentMethod_Electronic check</th>\n",
              "      <td>0.390523</td>\n",
              "    </tr>\n",
              "  </tbody>\n",
              "</table>\n",
              "</div>"
            ],
            "text/plain": [
              "                                         Coefficient\n",
              "TotalCharges_minmax                        -3.428656\n",
              "StreamingMovies_No                         -0.310345\n",
              "StreamingMovies_No internet service        -0.255447\n",
              "StreamingTV_No                             -0.348358\n",
              "StreamingTV_No internet service            -0.255447\n",
              "TechSupport_No                              0.442465\n",
              "TechSupport_No internet service            -0.255447\n",
              "OnlineSecurity_No                           0.522901\n",
              "OnlineSecurity_No internet service         -0.255447\n",
              "OnlineBackup_No                             0.127511\n",
              "OnlineBackup_No internet service           -0.255447\n",
              "InternetService_DSL                        -0.521333\n",
              "InternetService_Fiber optic                 0.776764\n",
              "PhoneService_No                             0.209222\n",
              "Dependents_No                               0.289593\n",
              "DeviceProtection_No                         0.078908\n",
              "DeviceProtection_No internet service       -0.255447\n",
              "PaymentMethod_Bank transfer (automatic)    -0.192104\n",
              "PaymentMethod_Credit card (automatic)      -0.293910\n",
              "PaymentMethod_Electronic check              0.390523"
            ]
          },
          "metadata": {
            "tags": []
          },
          "execution_count": 183
        }
      ]
    },
    {
      "cell_type": "code",
      "metadata": {
        "id": "4ICrPJbnjo-H",
        "colab": {
          "base_uri": "https://localhost:8080/"
        },
        "outputId": "d8aa0d09-56e5-4dd7-e2c4-3d6014ad60b3"
      },
      "source": [
        "print('Area Under Curve:', \"%.4f\" % metrics.auc(fpr, tpr))\n",
        "print('Cross Validation Score:', \"%.4f\" % score_cv.mean())\n",
        "for j in range(4, 7):\n",
        "    print('Confusion Matrix', 'with thresold', float(j)/float(10), ':', '\\n',\n",
        "          confusion_matrix(y, [0 if i >= float(j)/float(10) else 1 for i in proba_y_0]))\n",
        "    print(classification_report(y, [0 if i >= float(j)/float(10) else 1 for i in proba_y_0]))"
      ],
      "execution_count": null,
      "outputs": [
        {
          "output_type": "stream",
          "text": [
            "Area Under Curve: 0.8276\n",
            "Cross Validation Score: 0.7945\n",
            "Confusion Matrix with thresold 0.4 : \n",
            " [[3922  227]\n",
            " [ 951  534]]\n",
            "              precision    recall  f1-score   support\n",
            "\n",
            "           0       0.80      0.95      0.87      4149\n",
            "           1       0.70      0.36      0.48      1485\n",
            "\n",
            "    accuracy                           0.79      5634\n",
            "   macro avg       0.75      0.65      0.67      5634\n",
            "weighted avg       0.78      0.79      0.77      5634\n",
            "\n",
            "Confusion Matrix with thresold 0.5 : \n",
            " [[3759  390]\n",
            " [ 768  717]]\n",
            "              precision    recall  f1-score   support\n",
            "\n",
            "           0       0.83      0.91      0.87      4149\n",
            "           1       0.65      0.48      0.55      1485\n",
            "\n",
            "    accuracy                           0.79      5634\n",
            "   macro avg       0.74      0.69      0.71      5634\n",
            "weighted avg       0.78      0.79      0.78      5634\n",
            "\n",
            "Confusion Matrix with thresold 0.6 : \n",
            " [[3555  594]\n",
            " [ 591  894]]\n",
            "              precision    recall  f1-score   support\n",
            "\n",
            "           0       0.86      0.86      0.86      4149\n",
            "           1       0.60      0.60      0.60      1485\n",
            "\n",
            "    accuracy                           0.79      5634\n",
            "   macro avg       0.73      0.73      0.73      5634\n",
            "weighted avg       0.79      0.79      0.79      5634\n",
            "\n"
          ],
          "name": "stdout"
        }
      ]
    },
    {
      "cell_type": "markdown",
      "metadata": {
        "id": "vH-WccWVjo-H"
      },
      "source": [
        "## Predict testing data"
      ]
    },
    {
      "cell_type": "code",
      "metadata": {
        "id": "kJtsLdZRjo-I"
      },
      "source": [
        "pred_val_test = LRM.predict(X_test)"
      ],
      "execution_count": null,
      "outputs": []
    },
    {
      "cell_type": "code",
      "metadata": {
        "id": "JuKtpxcljo-I",
        "colab": {
          "base_uri": "https://localhost:8080/"
        },
        "outputId": "51553016-915c-45fa-f05c-d3700aec55c1"
      },
      "source": [
        "print(\"Accuracy from testing data: \", accuracy_score(y_test, pred_val_test, normalize = True, sample_weight = None))\n",
        "print(confusion_matrix(y_test, pred_val_test))\n",
        "print(\"Classification Report of Naive Bayes Model:\",\"\\n\",classification_report(y_test, pred_val_test))"
      ],
      "execution_count": null,
      "outputs": [
        {
          "output_type": "stream",
          "text": [
            "Accuracy from testing data:  0.7885024840312278\n",
            "[[927  98]\n",
            " [200 184]]\n",
            "Classification Report of Naive Bayes Model: \n",
            "               precision    recall  f1-score   support\n",
            "\n",
            "           0       0.82      0.90      0.86      1025\n",
            "           1       0.65      0.48      0.55       384\n",
            "\n",
            "    accuracy                           0.79      1409\n",
            "   macro avg       0.74      0.69      0.71      1409\n",
            "weighted avg       0.78      0.79      0.78      1409\n",
            "\n"
          ],
          "name": "stdout"
        }
      ]
    },
    {
      "cell_type": "markdown",
      "metadata": {
        "id": "I5vXw0IetRPD"
      },
      "source": [
        "# Logistic Regression (without dropping any columns) - L2-regularization"
      ]
    },
    {
      "cell_type": "code",
      "metadata": {
        "id": "ILbU1MqhtRPN"
      },
      "source": [
        "#split the data\n",
        "XnoDrop = XnoDrop.sort_values(['customerID'])\n",
        "ynoDrop = ynoDrop.sort_values(['customerID'])\n",
        "\n",
        "X, X_test, y, y_test = train_test_split(XnoDrop, ynoDrop, test_size=0.2, random_state = 10)\n"
      ],
      "execution_count": null,
      "outputs": []
    },
    {
      "cell_type": "code",
      "metadata": {
        "id": "7T3AF7zmtRPO"
      },
      "source": [
        "# define the model\n",
        "LRM = LogisticRegression(penalty='l2', C=1,random_state=50, solver='newton-cg')\n",
        "# change y column to datatype array\n",
        "array_y = y.values.ravel()\n",
        "# define cross val score\n",
        "score_cv = cross_val_score(LRM, X, array_y, cv=10)"
      ],
      "execution_count": null,
      "outputs": []
    },
    {
      "cell_type": "code",
      "metadata": {
        "id": "sjTCXvQ7tRPO"
      },
      "source": [
        "#predict value of target based on cross validation\n",
        "predict_y = cross_val_predict(LRM, X, array_y, cv=10)"
      ],
      "execution_count": null,
      "outputs": []
    },
    {
      "cell_type": "code",
      "metadata": {
        "id": "bNrQoXeStRPO",
        "colab": {
          "base_uri": "https://localhost:8080/"
        },
        "outputId": "ea8b7ef5-9f06-45d4-99e2-9c4e0982ddef"
      },
      "source": [
        "# Confusion matrix\n",
        "print(confusion_matrix(array_y, predict_y))"
      ],
      "execution_count": null,
      "outputs": [
        {
          "output_type": "stream",
          "text": [
            "[[3718  431]\n",
            " [ 673  812]]\n"
          ],
          "name": "stdout"
        }
      ]
    },
    {
      "cell_type": "code",
      "metadata": {
        "id": "X2sPruhGtRPO",
        "colab": {
          "base_uri": "https://localhost:8080/"
        },
        "outputId": "dcb4e384-4cb8-4553-aa7f-915d031e7e7d"
      },
      "source": [
        "print(classification_report(array_y, predict_y))"
      ],
      "execution_count": null,
      "outputs": [
        {
          "output_type": "stream",
          "text": [
            "              precision    recall  f1-score   support\n",
            "\n",
            "           0       0.85      0.90      0.87      4149\n",
            "           1       0.65      0.55      0.60      1485\n",
            "\n",
            "    accuracy                           0.80      5634\n",
            "   macro avg       0.75      0.72      0.73      5634\n",
            "weighted avg       0.80      0.80      0.80      5634\n",
            "\n"
          ],
          "name": "stdout"
        }
      ]
    },
    {
      "cell_type": "code",
      "metadata": {
        "id": "27WNKbwTtRPP",
        "colab": {
          "base_uri": "https://localhost:8080/"
        },
        "outputId": "b23bf9f1-ffec-4c22-f57d-ec980ec04495"
      },
      "source": [
        "# probablities for each prediction\n",
        "proba_y = cross_val_predict(LRM, X, array_y, cv=10, method='predict_proba')\n",
        "proba_y"
      ],
      "execution_count": null,
      "outputs": [
        {
          "output_type": "execute_result",
          "data": {
            "text/plain": [
              "array([[0.84065919, 0.15934081],\n",
              "       [0.95890448, 0.04109552],\n",
              "       [0.95291215, 0.04708785],\n",
              "       ...,\n",
              "       [0.88440107, 0.11559893],\n",
              "       [0.46655856, 0.53344144],\n",
              "       [0.64927157, 0.35072843]])"
            ]
          },
          "metadata": {
            "tags": []
          },
          "execution_count": 192
        }
      ]
    },
    {
      "cell_type": "code",
      "metadata": {
        "id": "EA0WqJHwtRPP"
      },
      "source": [
        "# Get the probabilities of being '0' for all instances at default threshold of 0.5\n",
        "proba_y_0 = proba_y[:,0]"
      ],
      "execution_count": null,
      "outputs": []
    },
    {
      "cell_type": "code",
      "metadata": {
        "id": "Vq0wbdietRPP"
      },
      "source": [
        "# Set threshold for '0' to be 0.7\n",
        "proba_y_0_thresold7= [0 if i >= 0.7 else 1 for i in proba_y_0]"
      ],
      "execution_count": null,
      "outputs": []
    },
    {
      "cell_type": "code",
      "metadata": {
        "id": "M8ci9vLttRPQ",
        "colab": {
          "base_uri": "https://localhost:8080/"
        },
        "outputId": "dc845ec1-adb7-4cb3-cad7-cc1e1e13aa6a"
      },
      "source": [
        "print(\"Confusion Matrix:\", '\\n',confusion_matrix(y, proba_y_0_thresold7))"
      ],
      "execution_count": null,
      "outputs": [
        {
          "output_type": "stream",
          "text": [
            "Confusion Matrix: \n",
            " [[3188  961]\n",
            " [ 353 1132]]\n"
          ],
          "name": "stdout"
        }
      ]
    },
    {
      "cell_type": "code",
      "metadata": {
        "id": "tfTc9gZFtRPQ",
        "colab": {
          "base_uri": "https://localhost:8080/"
        },
        "outputId": "44a20a2d-5fd2-4d6a-a253-3180675a7c5c"
      },
      "source": [
        "print(\"Accuracy:\",accuracy_score(y, proba_y_0_thresold7, normalize=True, sample_weight=None))"
      ],
      "execution_count": null,
      "outputs": [
        {
          "output_type": "stream",
          "text": [
            "Accuracy: 0.7667731629392971\n"
          ],
          "name": "stdout"
        }
      ]
    },
    {
      "cell_type": "code",
      "metadata": {
        "id": "rbdN4FyVtRPQ"
      },
      "source": [
        "# calculate tpr and fpr based on different thresholds\n",
        "fpr, tpr, thresholds = metrics.roc_curve(array_y,proba_y_0,pos_label=0)"
      ],
      "execution_count": null,
      "outputs": []
    },
    {
      "cell_type": "code",
      "metadata": {
        "id": "m1so7tcqtRPQ",
        "colab": {
          "base_uri": "https://localhost:8080/"
        },
        "outputId": "00a964c2-fa41-483b-95d4-5d5cf56966df"
      },
      "source": [
        "display(\"Area under curve: \" + str(metrics.auc(fpr, tpr)), plt.plot(fpr,tpr))"
      ],
      "execution_count": null,
      "outputs": [
        {
          "output_type": "display_data",
          "data": {
            "application/vnd.google.colaboratory.intrinsic+json": {
              "type": "string"
            },
            "text/plain": [
              "'Area under curve: 0.8450960151851934'"
            ]
          },
          "metadata": {
            "tags": []
          }
        },
        {
          "output_type": "display_data",
          "data": {
            "text/plain": [
              "[<matplotlib.lines.Line2D at 0x7f151271df50>]"
            ]
          },
          "metadata": {
            "tags": []
          }
        },
        {
          "output_type": "display_data",
          "data": {
            "image/png": "[encoded data removed]",
            "text/plain": [
              "<Figure size 432x288 with 1 Axes>"
            ]
          },
          "metadata": {
            "tags": [],
            "needs_background": "light"
          }
        }
      ]
    },
    {
      "cell_type": "code",
      "metadata": {
        "id": "Mq4kO0a1tRPR",
        "colab": {
          "base_uri": "https://localhost:8080/"
        },
        "outputId": "71fe9883-5b09-4b85-bf24-0cc229b1b527"
      },
      "source": [
        "LRM.fit(X, array_y)"
      ],
      "execution_count": null,
      "outputs": [
        {
          "output_type": "execute_result",
          "data": {
            "text/plain": [
              "LogisticRegression(C=1, class_weight=None, dual=False, fit_intercept=True,\n",
              "                   intercept_scaling=1, l1_ratio=None, max_iter=100,\n",
              "                   multi_class='auto', n_jobs=None, penalty='l2',\n",
              "                   random_state=50, solver='newton-cg', tol=0.0001, verbose=0,\n",
              "                   warm_start=False)"
            ]
          },
          "metadata": {
            "tags": []
          },
          "execution_count": 199
        }
      ]
    },
    {
      "cell_type": "code",
      "metadata": {
        "id": "Vkly-M_8tRPR",
        "colab": {
          "base_uri": "https://localhost:8080/"
        },
        "outputId": "cd43e109-3332-41b3-bae5-97d44e64606e"
      },
      "source": [
        "# show the intercept of the trained model (Theta_0)\n",
        "LRM.intercept_"
      ],
      "execution_count": null,
      "outputs": [
        {
          "output_type": "execute_result",
          "data": {
            "text/plain": [
              "array([-1.4849583])"
            ]
          },
          "metadata": {
            "tags": []
          },
          "execution_count": 200
        }
      ]
    },
    {
      "cell_type": "code",
      "metadata": {
        "id": "V6veUDrGtRPR",
        "colab": {
          "base_uri": "https://localhost:8080/"
        },
        "outputId": "8216ef81-a5d1-468f-fff2-9b46a501ed7e"
      },
      "source": [
        "# show the coefficients of independent attributes\n",
        "coeff_df = pd.DataFrame(LRM.coef_.flatten(), X.columns, columns=['Coefficient'])  \n",
        "coeff_df"
      ],
      "execution_count": null,
      "outputs": [
        {
          "output_type": "execute_result",
          "data": {
            "text/html": [
              "<div>\n",
              "<style scoped>\n",
              "    .dataframe tbody tr th:only-of-type {\n",
              "        vertical-align: middle;\n",
              "    }\n",
              "\n",
              "    .dataframe tbody tr th {\n",
              "        vertical-align: top;\n",
              "    }\n",
              "\n",
              "    .dataframe thead th {\n",
              "        text-align: right;\n",
              "    }\n",
              "</style>\n",
              "<table border=\"1\" class=\"dataframe\">\n",
              "  <thead>\n",
              "    <tr style=\"text-align: right;\">\n",
              "      <th></th>\n",
              "      <th>Coefficient</th>\n",
              "    </tr>\n",
              "  </thead>\n",
              "  <tbody>\n",
              "    <tr>\n",
              "      <th>tenure</th>\n",
              "      <td>-0.050316</td>\n",
              "    </tr>\n",
              "    <tr>\n",
              "      <th>MonthlyCharges_minmax</th>\n",
              "      <td>-0.004742</td>\n",
              "    </tr>\n",
              "    <tr>\n",
              "      <th>TotalCharges_minmax</th>\n",
              "      <td>1.751466</td>\n",
              "    </tr>\n",
              "    <tr>\n",
              "      <th>SeniorCitizen</th>\n",
              "      <td>-0.220050</td>\n",
              "    </tr>\n",
              "    <tr>\n",
              "      <th>gender_Female</th>\n",
              "      <td>-0.002405</td>\n",
              "    </tr>\n",
              "    <tr>\n",
              "      <th>Partner_No</th>\n",
              "      <td>0.036871</td>\n",
              "    </tr>\n",
              "    <tr>\n",
              "      <th>MultipleLines_No</th>\n",
              "      <td>-0.269336</td>\n",
              "    </tr>\n",
              "    <tr>\n",
              "      <th>MultipleLines_No phone service</th>\n",
              "      <td>0.197512</td>\n",
              "    </tr>\n",
              "    <tr>\n",
              "      <th>Contract_Month-to-month</th>\n",
              "      <td>1.371820</td>\n",
              "    </tr>\n",
              "    <tr>\n",
              "      <th>Contract_One year</th>\n",
              "      <td>0.749280</td>\n",
              "    </tr>\n",
              "    <tr>\n",
              "      <th>PaperlessBilling_No</th>\n",
              "      <td>-0.253727</td>\n",
              "    </tr>\n",
              "    <tr>\n",
              "      <th>StreamingMovies_No</th>\n",
              "      <td>-0.211696</td>\n",
              "    </tr>\n",
              "    <tr>\n",
              "      <th>StreamingMovies_No internet service</th>\n",
              "      <td>-0.108787</td>\n",
              "    </tr>\n",
              "    <tr>\n",
              "      <th>StreamingTV_No</th>\n",
              "      <td>-0.253576</td>\n",
              "    </tr>\n",
              "    <tr>\n",
              "      <th>StreamingTV_No internet service</th>\n",
              "      <td>-0.108787</td>\n",
              "    </tr>\n",
              "    <tr>\n",
              "      <th>TechSupport_No</th>\n",
              "      <td>0.336231</td>\n",
              "    </tr>\n",
              "    <tr>\n",
              "      <th>TechSupport_No internet service</th>\n",
              "      <td>-0.108787</td>\n",
              "    </tr>\n",
              "    <tr>\n",
              "      <th>OnlineSecurity_No</th>\n",
              "      <td>0.417702</td>\n",
              "    </tr>\n",
              "    <tr>\n",
              "      <th>OnlineSecurity_No internet service</th>\n",
              "      <td>-0.108787</td>\n",
              "    </tr>\n",
              "    <tr>\n",
              "      <th>OnlineBackup_No</th>\n",
              "      <td>0.169797</td>\n",
              "    </tr>\n",
              "    <tr>\n",
              "      <th>OnlineBackup_No internet service</th>\n",
              "      <td>-0.108787</td>\n",
              "    </tr>\n",
              "    <tr>\n",
              "      <th>InternetService_DSL</th>\n",
              "      <td>-0.348934</td>\n",
              "    </tr>\n",
              "    <tr>\n",
              "      <th>InternetService_Fiber optic</th>\n",
              "      <td>0.457720</td>\n",
              "    </tr>\n",
              "    <tr>\n",
              "      <th>PhoneService_No</th>\n",
              "      <td>0.197512</td>\n",
              "    </tr>\n",
              "    <tr>\n",
              "      <th>Dependents_No</th>\n",
              "      <td>0.105968</td>\n",
              "    </tr>\n",
              "    <tr>\n",
              "      <th>DeviceProtection_No</th>\n",
              "      <td>0.027106</td>\n",
              "    </tr>\n",
              "    <tr>\n",
              "      <th>DeviceProtection_No internet service</th>\n",
              "      <td>-0.108787</td>\n",
              "    </tr>\n",
              "    <tr>\n",
              "      <th>PaymentMethod_Bank transfer (automatic)</th>\n",
              "      <td>0.008293</td>\n",
              "    </tr>\n",
              "    <tr>\n",
              "      <th>PaymentMethod_Credit card (automatic)</th>\n",
              "      <td>-0.097898</td>\n",
              "    </tr>\n",
              "    <tr>\n",
              "      <th>PaymentMethod_Electronic check</th>\n",
              "      <td>0.397698</td>\n",
              "    </tr>\n",
              "  </tbody>\n",
              "</table>\n",
              "</div>"
            ],
            "text/plain": [
              "                                         Coefficient\n",
              "tenure                                     -0.050316\n",
              "MonthlyCharges_minmax                      -0.004742\n",
              "TotalCharges_minmax                         1.751466\n",
              "SeniorCitizen                              -0.220050\n",
              "gender_Female                              -0.002405\n",
              "Partner_No                                  0.036871\n",
              "MultipleLines_No                           -0.269336\n",
              "MultipleLines_No phone service              0.197512\n",
              "Contract_Month-to-month                     1.371820\n",
              "Contract_One year                           0.749280\n",
              "PaperlessBilling_No                        -0.253727\n",
              "StreamingMovies_No                         -0.211696\n",
              "StreamingMovies_No internet service        -0.108787\n",
              "StreamingTV_No                             -0.253576\n",
              "StreamingTV_No internet service            -0.108787\n",
              "TechSupport_No                              0.336231\n",
              "TechSupport_No internet service            -0.108787\n",
              "OnlineSecurity_No                           0.417702\n",
              "OnlineSecurity_No internet service         -0.108787\n",
              "OnlineBackup_No                             0.169797\n",
              "OnlineBackup_No internet service           -0.108787\n",
              "InternetService_DSL                        -0.348934\n",
              "InternetService_Fiber optic                 0.457720\n",
              "PhoneService_No                             0.197512\n",
              "Dependents_No                               0.105968\n",
              "DeviceProtection_No                         0.027106\n",
              "DeviceProtection_No internet service       -0.108787\n",
              "PaymentMethod_Bank transfer (automatic)     0.008293\n",
              "PaymentMethod_Credit card (automatic)      -0.097898\n",
              "PaymentMethod_Electronic check              0.397698"
            ]
          },
          "metadata": {
            "tags": []
          },
          "execution_count": 201
        }
      ]
    },
    {
      "cell_type": "code",
      "metadata": {
        "id": "tBfFvDpUtRPR",
        "colab": {
          "base_uri": "https://localhost:8080/"
        },
        "outputId": "a75b0342-7d47-4ff5-a90f-7b58cd98c9aa"
      },
      "source": [
        "print('Area Under Curve:', \"%.4f\" % metrics.auc(fpr, tpr))\n",
        "print('Cross Validation Score:', \"%.4f\" % score_cv.mean())\n",
        "for j in range(4, 7):\n",
        "    print('Confusion Matrix', 'with thresold', float(j)/float(10), ':', '\\n',\n",
        "          confusion_matrix(y, [0 if i >= float(j)/float(10) else 1 for i in proba_y_0]))\n",
        "    print(classification_report(y, [0 if i >= float(j)/float(10) else 1 for i in proba_y_0]))"
      ],
      "execution_count": null,
      "outputs": [
        {
          "output_type": "stream",
          "text": [
            "Area Under Curve: 0.8451\n",
            "Cross Validation Score: 0.8040\n",
            "Confusion Matrix with thresold 0.4 : \n",
            " [[3921  228]\n",
            " [ 906  579]]\n",
            "              precision    recall  f1-score   support\n",
            "\n",
            "           0       0.81      0.95      0.87      4149\n",
            "           1       0.72      0.39      0.51      1485\n",
            "\n",
            "    accuracy                           0.80      5634\n",
            "   macro avg       0.76      0.67      0.69      5634\n",
            "weighted avg       0.79      0.80      0.78      5634\n",
            "\n",
            "Confusion Matrix with thresold 0.5 : \n",
            " [[3718  431]\n",
            " [ 673  812]]\n",
            "              precision    recall  f1-score   support\n",
            "\n",
            "           0       0.85      0.90      0.87      4149\n",
            "           1       0.65      0.55      0.60      1485\n",
            "\n",
            "    accuracy                           0.80      5634\n",
            "   macro avg       0.75      0.72      0.73      5634\n",
            "weighted avg       0.80      0.80      0.80      5634\n",
            "\n",
            "Confusion Matrix with thresold 0.6 : \n",
            " [[3482  667]\n",
            " [ 517  968]]\n",
            "              precision    recall  f1-score   support\n",
            "\n",
            "           0       0.87      0.84      0.85      4149\n",
            "           1       0.59      0.65      0.62      1485\n",
            "\n",
            "    accuracy                           0.79      5634\n",
            "   macro avg       0.73      0.75      0.74      5634\n",
            "weighted avg       0.80      0.79      0.79      5634\n",
            "\n"
          ],
          "name": "stdout"
        }
      ]
    },
    {
      "cell_type": "markdown",
      "metadata": {
        "id": "O-Mq2HcrtRPS"
      },
      "source": [
        "## Predict testing data"
      ]
    },
    {
      "cell_type": "code",
      "metadata": {
        "id": "Ct5J0l-VtRPS"
      },
      "source": [
        "pred_val_test = LRM.predict(X_test)"
      ],
      "execution_count": null,
      "outputs": []
    },
    {
      "cell_type": "code",
      "metadata": {
        "id": "plBkT2oltRPS",
        "colab": {
          "base_uri": "https://localhost:8080/"
        },
        "outputId": "ac000939-4131-4484-d4b3-00b9ba580114"
      },
      "source": [
        "print(\"Accuracy from testing data: \", accuracy_score(y_test, pred_val_test, normalize = True, sample_weight = None))\n",
        "print(confusion_matrix(y_test, pred_val_test))\n",
        "print(\"Classification Report of Naive Bayes Model:\",\"\\n\",classification_report(y_test, pred_val_test))"
      ],
      "execution_count": null,
      "outputs": [
        {
          "output_type": "stream",
          "text": [
            "Accuracy from testing data:  0.7977288857345636\n",
            "[[913 112]\n",
            " [173 211]]\n",
            "Classification Report of Naive Bayes Model: \n",
            "               precision    recall  f1-score   support\n",
            "\n",
            "           0       0.84      0.89      0.86      1025\n",
            "           1       0.65      0.55      0.60       384\n",
            "\n",
            "    accuracy                           0.80      1409\n",
            "   macro avg       0.75      0.72      0.73      1409\n",
            "weighted avg       0.79      0.80      0.79      1409\n",
            "\n"
          ],
          "name": "stdout"
        }
      ]
    },
    {
      "cell_type": "markdown",
      "metadata": {
        "id": "eaOMwTtxL8xd"
      },
      "source": [
        "# Logistic Regression (on remained columns) - Without regularization\n"
      ]
    },
    {
      "cell_type": "code",
      "metadata": {
        "id": "Pd3yYNnIMhyc"
      },
      "source": [
        "#split the data\n",
        "Xdrop = Xdrop.sort_values(['customerID'])\n",
        "ydrop = ydrop.sort_values(['customerID'])\n",
        "\n",
        "X, X_test, y, y_test = train_test_split(Xdrop, ydrop, test_size=0.2, random_state = 10)"
      ],
      "execution_count": null,
      "outputs": []
    },
    {
      "cell_type": "code",
      "metadata": {
        "id": "fSqlr5WlNKqW",
        "colab": {
          "base_uri": "https://localhost:8080/"
        },
        "outputId": "dd9a6bfd-8595-4fac-c480-3f593a02626d"
      },
      "source": [
        "# define the model\n",
        "LRM = LogisticRegression(penalty=\"none\", C=1,random_state=50, solver='newton-cg')\n",
        "# change y column to datatype array\n",
        "array_y = y.values.ravel()\n",
        "# define cross val score\n",
        "score_cv = cross_val_score(LRM, X, array_y, cv=10)"
      ],
      "execution_count": null,
      "outputs": [
        {
          "output_type": "stream",
          "text": [
            "/usr/local/lib/python3.7/dist-packages/sklearn/utils/optimize.py:212: ConvergenceWarning: newton-cg failed to converge. Increase the number of iterations.\n",
            "  \"number of iterations.\", ConvergenceWarning)\n",
            "/usr/local/lib/python3.7/dist-packages/sklearn/utils/optimize.py:212: ConvergenceWarning: newton-cg failed to converge. Increase the number of iterations.\n",
            "  \"number of iterations.\", ConvergenceWarning)\n",
            "/usr/local/lib/python3.7/dist-packages/sklearn/utils/optimize.py:212: ConvergenceWarning: newton-cg failed to converge. Increase the number of iterations.\n",
            "  \"number of iterations.\", ConvergenceWarning)\n",
            "/usr/local/lib/python3.7/dist-packages/sklearn/utils/optimize.py:212: ConvergenceWarning: newton-cg failed to converge. Increase the number of iterations.\n",
            "  \"number of iterations.\", ConvergenceWarning)\n",
            "/usr/local/lib/python3.7/dist-packages/sklearn/utils/optimize.py:212: ConvergenceWarning: newton-cg failed to converge. Increase the number of iterations.\n",
            "  \"number of iterations.\", ConvergenceWarning)\n",
            "/usr/local/lib/python3.7/dist-packages/sklearn/utils/optimize.py:212: ConvergenceWarning: newton-cg failed to converge. Increase the number of iterations.\n",
            "  \"number of iterations.\", ConvergenceWarning)\n",
            "/usr/local/lib/python3.7/dist-packages/sklearn/utils/optimize.py:212: ConvergenceWarning: newton-cg failed to converge. Increase the number of iterations.\n",
            "  \"number of iterations.\", ConvergenceWarning)\n",
            "/usr/local/lib/python3.7/dist-packages/sklearn/utils/optimize.py:212: ConvergenceWarning: newton-cg failed to converge. Increase the number of iterations.\n",
            "  \"number of iterations.\", ConvergenceWarning)\n",
            "/usr/local/lib/python3.7/dist-packages/sklearn/utils/optimize.py:212: ConvergenceWarning: newton-cg failed to converge. Increase the number of iterations.\n",
            "  \"number of iterations.\", ConvergenceWarning)\n",
            "/usr/local/lib/python3.7/dist-packages/sklearn/utils/optimize.py:212: ConvergenceWarning: newton-cg failed to converge. Increase the number of iterations.\n",
            "  \"number of iterations.\", ConvergenceWarning)\n"
          ],
          "name": "stderr"
        }
      ]
    },
    {
      "cell_type": "code",
      "metadata": {
        "id": "Tf1gH7dcNKmp",
        "colab": {
          "base_uri": "https://localhost:8080/"
        },
        "outputId": "ca2bb8cb-1111-49b0-df19-b7708594704f"
      },
      "source": [
        "#predict value of target based on cross validation\n",
        "predict_y = cross_val_predict(LRM, X, array_y, cv=10)"
      ],
      "execution_count": null,
      "outputs": [
        {
          "output_type": "stream",
          "text": [
            "/usr/local/lib/python3.7/dist-packages/sklearn/utils/optimize.py:212: ConvergenceWarning: newton-cg failed to converge. Increase the number of iterations.\n",
            "  \"number of iterations.\", ConvergenceWarning)\n",
            "/usr/local/lib/python3.7/dist-packages/sklearn/utils/optimize.py:212: ConvergenceWarning: newton-cg failed to converge. Increase the number of iterations.\n",
            "  \"number of iterations.\", ConvergenceWarning)\n",
            "/usr/local/lib/python3.7/dist-packages/sklearn/utils/optimize.py:212: ConvergenceWarning: newton-cg failed to converge. Increase the number of iterations.\n",
            "  \"number of iterations.\", ConvergenceWarning)\n",
            "/usr/local/lib/python3.7/dist-packages/sklearn/utils/optimize.py:212: ConvergenceWarning: newton-cg failed to converge. Increase the number of iterations.\n",
            "  \"number of iterations.\", ConvergenceWarning)\n",
            "/usr/local/lib/python3.7/dist-packages/sklearn/utils/optimize.py:212: ConvergenceWarning: newton-cg failed to converge. Increase the number of iterations.\n",
            "  \"number of iterations.\", ConvergenceWarning)\n",
            "/usr/local/lib/python3.7/dist-packages/sklearn/utils/optimize.py:212: ConvergenceWarning: newton-cg failed to converge. Increase the number of iterations.\n",
            "  \"number of iterations.\", ConvergenceWarning)\n",
            "/usr/local/lib/python3.7/dist-packages/sklearn/utils/optimize.py:212: ConvergenceWarning: newton-cg failed to converge. Increase the number of iterations.\n",
            "  \"number of iterations.\", ConvergenceWarning)\n",
            "/usr/local/lib/python3.7/dist-packages/sklearn/utils/optimize.py:212: ConvergenceWarning: newton-cg failed to converge. Increase the number of iterations.\n",
            "  \"number of iterations.\", ConvergenceWarning)\n",
            "/usr/local/lib/python3.7/dist-packages/sklearn/utils/optimize.py:212: ConvergenceWarning: newton-cg failed to converge. Increase the number of iterations.\n",
            "  \"number of iterations.\", ConvergenceWarning)\n",
            "/usr/local/lib/python3.7/dist-packages/sklearn/utils/optimize.py:212: ConvergenceWarning: newton-cg failed to converge. Increase the number of iterations.\n",
            "  \"number of iterations.\", ConvergenceWarning)\n"
          ],
          "name": "stderr"
        }
      ]
    },
    {
      "cell_type": "code",
      "metadata": {
        "id": "sB8NX8ZRNKji",
        "colab": {
          "base_uri": "https://localhost:8080/"
        },
        "outputId": "706a1499-7d3d-41a8-dd97-6f8e7e1a8ec6"
      },
      "source": [
        "# Confusion matrix\n",
        "print(confusion_matrix(array_y, predict_y))"
      ],
      "execution_count": null,
      "outputs": [
        {
          "output_type": "stream",
          "text": [
            "[[3725  424]\n",
            " [ 718  767]]\n"
          ],
          "name": "stdout"
        }
      ]
    },
    {
      "cell_type": "code",
      "metadata": {
        "id": "S8UKsdEnNKgY",
        "colab": {
          "base_uri": "https://localhost:8080/"
        },
        "outputId": "da9640d9-56f9-4c9a-8cfd-edd870b7d755"
      },
      "source": [
        "print(classification_report(array_y, predict_y))"
      ],
      "execution_count": null,
      "outputs": [
        {
          "output_type": "stream",
          "text": [
            "              precision    recall  f1-score   support\n",
            "\n",
            "           0       0.84      0.90      0.87      4149\n",
            "           1       0.64      0.52      0.57      1485\n",
            "\n",
            "    accuracy                           0.80      5634\n",
            "   macro avg       0.74      0.71      0.72      5634\n",
            "weighted avg       0.79      0.80      0.79      5634\n",
            "\n"
          ],
          "name": "stdout"
        }
      ]
    },
    {
      "cell_type": "code",
      "metadata": {
        "id": "BBMjH1ujNKdK",
        "colab": {
          "base_uri": "https://localhost:8080/"
        },
        "outputId": "1b6e869d-42e1-4d73-b847-2f720953ebef"
      },
      "source": [
        "# probablities for each prediction\n",
        "proba_y = cross_val_predict(LRM, X, array_y, cv=10, method='predict_proba')\n",
        "proba_y"
      ],
      "execution_count": null,
      "outputs": [
        {
          "output_type": "stream",
          "text": [
            "/usr/local/lib/python3.7/dist-packages/sklearn/utils/optimize.py:212: ConvergenceWarning: newton-cg failed to converge. Increase the number of iterations.\n",
            "  \"number of iterations.\", ConvergenceWarning)\n",
            "/usr/local/lib/python3.7/dist-packages/sklearn/utils/optimize.py:212: ConvergenceWarning: newton-cg failed to converge. Increase the number of iterations.\n",
            "  \"number of iterations.\", ConvergenceWarning)\n",
            "/usr/local/lib/python3.7/dist-packages/sklearn/utils/optimize.py:212: ConvergenceWarning: newton-cg failed to converge. Increase the number of iterations.\n",
            "  \"number of iterations.\", ConvergenceWarning)\n",
            "/usr/local/lib/python3.7/dist-packages/sklearn/utils/optimize.py:212: ConvergenceWarning: newton-cg failed to converge. Increase the number of iterations.\n",
            "  \"number of iterations.\", ConvergenceWarning)\n",
            "/usr/local/lib/python3.7/dist-packages/sklearn/utils/optimize.py:212: ConvergenceWarning: newton-cg failed to converge. Increase the number of iterations.\n",
            "  \"number of iterations.\", ConvergenceWarning)\n",
            "/usr/local/lib/python3.7/dist-packages/sklearn/utils/optimize.py:212: ConvergenceWarning: newton-cg failed to converge. Increase the number of iterations.\n",
            "  \"number of iterations.\", ConvergenceWarning)\n",
            "/usr/local/lib/python3.7/dist-packages/sklearn/utils/optimize.py:212: ConvergenceWarning: newton-cg failed to converge. Increase the number of iterations.\n",
            "  \"number of iterations.\", ConvergenceWarning)\n",
            "/usr/local/lib/python3.7/dist-packages/sklearn/utils/optimize.py:212: ConvergenceWarning: newton-cg failed to converge. Increase the number of iterations.\n",
            "  \"number of iterations.\", ConvergenceWarning)\n",
            "/usr/local/lib/python3.7/dist-packages/sklearn/utils/optimize.py:212: ConvergenceWarning: newton-cg failed to converge. Increase the number of iterations.\n",
            "  \"number of iterations.\", ConvergenceWarning)\n",
            "/usr/local/lib/python3.7/dist-packages/sklearn/utils/optimize.py:212: ConvergenceWarning: newton-cg failed to converge. Increase the number of iterations.\n",
            "  \"number of iterations.\", ConvergenceWarning)\n"
          ],
          "name": "stderr"
        },
        {
          "output_type": "execute_result",
          "data": {
            "text/plain": [
              "array([[0.80354568, 0.19645432],\n",
              "       [0.92885066, 0.07114934],\n",
              "       [0.9211059 , 0.0788941 ],\n",
              "       ...,\n",
              "       [0.95562377, 0.04437623],\n",
              "       [0.5127549 , 0.4872451 ],\n",
              "       [0.72176083, 0.27823917]])"
            ]
          },
          "metadata": {
            "tags": []
          },
          "execution_count": 210
        }
      ]
    },
    {
      "cell_type": "code",
      "metadata": {
        "id": "Fk56MxxmNKM3"
      },
      "source": [
        "# Get the probabilities of being '0' for all instances at default threshold of 0.5\n",
        "proba_y_0 = proba_y[:,0]"
      ],
      "execution_count": null,
      "outputs": []
    },
    {
      "cell_type": "code",
      "metadata": {
        "id": "zRizBdy68MH6"
      },
      "source": [
        "# Set threshold for '0' to be 0.7\n",
        "proba_y_0_thresold7= [0 if i >= 0.7 else 1 for i in proba_y_0]"
      ],
      "execution_count": null,
      "outputs": []
    },
    {
      "cell_type": "code",
      "metadata": {
        "id": "SNi2S98I8MEY",
        "colab": {
          "base_uri": "https://localhost:8080/"
        },
        "outputId": "b6d2a793-0e99-4328-dee7-737b840c8677"
      },
      "source": [
        "print(\"Confusion Matrix:\", '\\n',confusion_matrix(y, proba_y_0_thresold7))"
      ],
      "execution_count": null,
      "outputs": [
        {
          "output_type": "stream",
          "text": [
            "Confusion Matrix: \n",
            " [[3119 1030]\n",
            " [ 367 1118]]\n"
          ],
          "name": "stdout"
        }
      ]
    },
    {
      "cell_type": "code",
      "metadata": {
        "id": "PinbkCk78MCi",
        "colab": {
          "base_uri": "https://localhost:8080/"
        },
        "outputId": "9e762ae9-eea1-4964-bf05-5a3fbe753e6e"
      },
      "source": [
        "print(\"Accuracy:\",accuracy_score(y, proba_y_0_thresold7, normalize=True, sample_weight=None))"
      ],
      "execution_count": null,
      "outputs": [
        {
          "output_type": "stream",
          "text": [
            "Accuracy: 0.7520411785587504\n"
          ],
          "name": "stdout"
        }
      ]
    },
    {
      "cell_type": "code",
      "metadata": {
        "id": "Q1oatUh28L-h"
      },
      "source": [
        "# calculate tpr and fpr based on different thresholds\n",
        "fpr, tpr, thresholds = metrics.roc_curve(array_y,proba_y_0,pos_label=0)"
      ],
      "execution_count": null,
      "outputs": []
    },
    {
      "cell_type": "code",
      "metadata": {
        "id": "AjF9PKXJ8Lwc",
        "colab": {
          "base_uri": "https://localhost:8080/"
        },
        "outputId": "c84570c6-434a-46d2-faf8-8989288e9433"
      },
      "source": [
        "display(\"Area under curve: \" + str(metrics.auc(fpr, tpr)), plt.plot(fpr,tpr))"
      ],
      "execution_count": null,
      "outputs": [
        {
          "output_type": "display_data",
          "data": {
            "application/vnd.google.colaboratory.intrinsic+json": {
              "type": "string"
            },
            "text/plain": [
              "'Area under curve: 0.8377247204916523'"
            ]
          },
          "metadata": {
            "tags": []
          }
        },
        {
          "output_type": "display_data",
          "data": {
            "text/plain": [
              "[<matplotlib.lines.Line2D at 0x7f152ebb0a10>]"
            ]
          },
          "metadata": {
            "tags": []
          }
        },
        {
          "output_type": "display_data",
          "data": {
            "image/png": "[encoded data removed]",
            "text/plain": [
              "<Figure size 432x288 with 1 Axes>"
            ]
          },
          "metadata": {
            "tags": [],
            "needs_background": "light"
          }
        }
      ]
    },
    {
      "cell_type": "code",
      "metadata": {
        "id": "a4m7-jnM8ZJd",
        "colab": {
          "base_uri": "https://localhost:8080/"
        },
        "outputId": "1f4699b9-aab4-4822-bf14-3e940bb755d3"
      },
      "source": [
        "LRM.fit(X, array_y)"
      ],
      "execution_count": null,
      "outputs": [
        {
          "output_type": "stream",
          "text": [
            "/usr/local/lib/python3.7/dist-packages/sklearn/utils/optimize.py:212: ConvergenceWarning: newton-cg failed to converge. Increase the number of iterations.\n",
            "  \"number of iterations.\", ConvergenceWarning)\n"
          ],
          "name": "stderr"
        },
        {
          "output_type": "execute_result",
          "data": {
            "text/plain": [
              "LogisticRegression(C=1, class_weight=None, dual=False, fit_intercept=True,\n",
              "                   intercept_scaling=1, l1_ratio=None, max_iter=100,\n",
              "                   multi_class='auto', n_jobs=None, penalty='none',\n",
              "                   random_state=50, solver='newton-cg', tol=0.0001, verbose=0,\n",
              "                   warm_start=False)"
            ]
          },
          "metadata": {
            "tags": []
          },
          "execution_count": 217
        }
      ]
    },
    {
      "cell_type": "code",
      "metadata": {
        "id": "hoXGUpiF8ZCR",
        "colab": {
          "base_uri": "https://localhost:8080/"
        },
        "outputId": "2ff3d7bb-2b4d-4f1c-b130-cb1a2b276f12"
      },
      "source": [
        "# show the intercept of the trained model (Theta_0)\n",
        "LRM.intercept_"
      ],
      "execution_count": null,
      "outputs": [
        {
          "output_type": "execute_result",
          "data": {
            "text/plain": [
              "array([-4.35405493])"
            ]
          },
          "metadata": {
            "tags": []
          },
          "execution_count": 218
        }
      ]
    },
    {
      "cell_type": "code",
      "metadata": {
        "id": "XkifQyk68Y7u",
        "colab": {
          "base_uri": "https://localhost:8080/"
        },
        "outputId": "7756a6f1-53f2-4edf-b8cb-473eb4575f6a"
      },
      "source": [
        "# show the coefficients of independent attributes\n",
        "coeff_df = pd.DataFrame(LRM.coef_.flatten(), X.columns, columns=['Coefficient'])  \n",
        "coeff_df"
      ],
      "execution_count": null,
      "outputs": [
        {
          "output_type": "execute_result",
          "data": {
            "text/html": [
              "<div>\n",
              "<style scoped>\n",
              "    .dataframe tbody tr th:only-of-type {\n",
              "        vertical-align: middle;\n",
              "    }\n",
              "\n",
              "    .dataframe tbody tr th {\n",
              "        vertical-align: top;\n",
              "    }\n",
              "\n",
              "    .dataframe thead th {\n",
              "        text-align: right;\n",
              "    }\n",
              "</style>\n",
              "<table border=\"1\" class=\"dataframe\">\n",
              "  <thead>\n",
              "    <tr style=\"text-align: right;\">\n",
              "      <th></th>\n",
              "      <th>Coefficient</th>\n",
              "    </tr>\n",
              "  </thead>\n",
              "  <tbody>\n",
              "    <tr>\n",
              "      <th>tenure</th>\n",
              "      <td>0.002800</td>\n",
              "    </tr>\n",
              "    <tr>\n",
              "      <th>MonthlyCharges_minmax</th>\n",
              "      <td>155.500134</td>\n",
              "    </tr>\n",
              "    <tr>\n",
              "      <th>SeniorCitizen</th>\n",
              "      <td>-1.111977</td>\n",
              "    </tr>\n",
              "    <tr>\n",
              "      <th>gender_Female</th>\n",
              "      <td>-0.008156</td>\n",
              "    </tr>\n",
              "    <tr>\n",
              "      <th>Partner_No</th>\n",
              "      <td>0.066658</td>\n",
              "    </tr>\n",
              "    <tr>\n",
              "      <th>MultipleLines_No</th>\n",
              "      <td>0.330438</td>\n",
              "    </tr>\n",
              "    <tr>\n",
              "      <th>MultipleLines_No phone service</th>\n",
              "      <td>1.198961</td>\n",
              "    </tr>\n",
              "    <tr>\n",
              "      <th>Contract_Month-to-month</th>\n",
              "      <td>4.155597</td>\n",
              "    </tr>\n",
              "    <tr>\n",
              "      <th>Contract_One year</th>\n",
              "      <td>2.156550</td>\n",
              "    </tr>\n",
              "    <tr>\n",
              "      <th>PaperlessBilling_No</th>\n",
              "      <td>-0.320778</td>\n",
              "    </tr>\n",
              "    <tr>\n",
              "      <th>MultipleLines_No_tenure</th>\n",
              "      <td>-0.004558</td>\n",
              "    </tr>\n",
              "    <tr>\n",
              "      <th>MultipleLines_No phone service_tenure</th>\n",
              "      <td>0.004537</td>\n",
              "    </tr>\n",
              "    <tr>\n",
              "      <th>Contract_Month-to-month_tenure</th>\n",
              "      <td>-0.050567</td>\n",
              "    </tr>\n",
              "    <tr>\n",
              "      <th>Contract_One year_tenure</th>\n",
              "      <td>-0.023989</td>\n",
              "    </tr>\n",
              "    <tr>\n",
              "      <th>SeniorCitizen_0_MonthlyCharges_minmax</th>\n",
              "      <td>104.840162</td>\n",
              "    </tr>\n",
              "    <tr>\n",
              "      <th>MultipleLines_No_MonthlyCharges_minmax</th>\n",
              "      <td>-74.528111</td>\n",
              "    </tr>\n",
              "    <tr>\n",
              "      <th>MultipleLines_No phone service_MonthlyCharges_minmax</th>\n",
              "      <td>-109.338514</td>\n",
              "    </tr>\n",
              "    <tr>\n",
              "      <th>Contract_Month-to-month_MonthlyCharges_minmax</th>\n",
              "      <td>51.870843</td>\n",
              "    </tr>\n",
              "    <tr>\n",
              "      <th>Contract_One year_MonthlyCharges_minmax</th>\n",
              "      <td>84.276227</td>\n",
              "    </tr>\n",
              "  </tbody>\n",
              "</table>\n",
              "</div>"
            ],
            "text/plain": [
              "                                                    Coefficient\n",
              "tenure                                                 0.002800\n",
              "MonthlyCharges_minmax                                155.500134\n",
              "SeniorCitizen                                         -1.111977\n",
              "gender_Female                                         -0.008156\n",
              "Partner_No                                             0.066658\n",
              "MultipleLines_No                                       0.330438\n",
              "MultipleLines_No phone service                         1.198961\n",
              "Contract_Month-to-month                                4.155597\n",
              "Contract_One year                                      2.156550\n",
              "PaperlessBilling_No                                   -0.320778\n",
              "MultipleLines_No_tenure                               -0.004558\n",
              "MultipleLines_No phone service_tenure                  0.004537\n",
              "Contract_Month-to-month_tenure                        -0.050567\n",
              "Contract_One year_tenure                              -0.023989\n",
              "SeniorCitizen_0_MonthlyCharges_minmax                104.840162\n",
              "MultipleLines_No_MonthlyCharges_minmax               -74.528111\n",
              "MultipleLines_No phone service_MonthlyCharges_m...  -109.338514\n",
              "Contract_Month-to-month_MonthlyCharges_minmax         51.870843\n",
              "Contract_One year_MonthlyCharges_minmax               84.276227"
            ]
          },
          "metadata": {
            "tags": []
          },
          "execution_count": 219
        }
      ]
    },
    {
      "cell_type": "code",
      "metadata": {
        "id": "41PBJTQ48Y1i",
        "colab": {
          "base_uri": "https://localhost:8080/"
        },
        "outputId": "f8cf7ae6-f641-42f0-f990-c5b4fdd22e8d"
      },
      "source": [
        "print('Area Under Curve:', \"%.4f\" % metrics.auc(fpr, tpr))\n",
        "print('Cross Validation Score:', \"%.4f\" % score_cv.mean())\n",
        "for j in range(4, 7):\n",
        "    print('Confusion Matrix', 'with thresold', float(j)/float(10), ':', '\\n',\n",
        "          confusion_matrix(y, [0 if i >= float(j)/float(10) else 1 for i in proba_y_0]))\n",
        "    print(classification_report(y, [0 if i >= float(j)/float(10) else 1 for i in proba_y_0]))"
      ],
      "execution_count": null,
      "outputs": [
        {
          "output_type": "stream",
          "text": [
            "Area Under Curve: 0.8377\n",
            "Cross Validation Score: 0.7973\n",
            "Confusion Matrix with thresold 0.4 : \n",
            " [[3932  217]\n",
            " [ 961  524]]\n",
            "              precision    recall  f1-score   support\n",
            "\n",
            "           0       0.80      0.95      0.87      4149\n",
            "           1       0.71      0.35      0.47      1485\n",
            "\n",
            "    accuracy                           0.79      5634\n",
            "   macro avg       0.76      0.65      0.67      5634\n",
            "weighted avg       0.78      0.79      0.76      5634\n",
            "\n",
            "Confusion Matrix with thresold 0.5 : \n",
            " [[3725  424]\n",
            " [ 718  767]]\n",
            "              precision    recall  f1-score   support\n",
            "\n",
            "           0       0.84      0.90      0.87      4149\n",
            "           1       0.64      0.52      0.57      1485\n",
            "\n",
            "    accuracy                           0.80      5634\n",
            "   macro avg       0.74      0.71      0.72      5634\n",
            "weighted avg       0.79      0.80      0.79      5634\n",
            "\n",
            "Confusion Matrix with thresold 0.6 : \n",
            " [[3421  728]\n",
            " [ 511  974]]\n",
            "              precision    recall  f1-score   support\n",
            "\n",
            "           0       0.87      0.82      0.85      4149\n",
            "           1       0.57      0.66      0.61      1485\n",
            "\n",
            "    accuracy                           0.78      5634\n",
            "   macro avg       0.72      0.74      0.73      5634\n",
            "weighted avg       0.79      0.78      0.78      5634\n",
            "\n"
          ],
          "name": "stdout"
        }
      ]
    },
    {
      "cell_type": "markdown",
      "metadata": {
        "id": "gjjo_nga80aI"
      },
      "source": [
        "## Predict testing data"
      ]
    },
    {
      "cell_type": "code",
      "metadata": {
        "id": "RztmkcEX8l-o"
      },
      "source": [
        "pred_val_test = LRM.predict(X_test)"
      ],
      "execution_count": null,
      "outputs": []
    },
    {
      "cell_type": "code",
      "metadata": {
        "id": "_qwamfsz8l6R",
        "colab": {
          "base_uri": "https://localhost:8080/"
        },
        "outputId": "68f9bb3e-b057-4ccc-d93d-e0e029638c88"
      },
      "source": [
        "print(\"Accuracy from testing data: \", accuracy_score(y_test, pred_val_test, normalize = True, sample_weight = None))\n",
        "print(confusion_matrix(y_test, pred_val_test))\n",
        "print(\"Classification Report of Naive Bayes Model:\",\"\\n\",classification_report(y_test, pred_val_test))"
      ],
      "execution_count": null,
      "outputs": [
        {
          "output_type": "stream",
          "text": [
            "Accuracy from testing data:  0.7934705464868701\n",
            "[[914 111]\n",
            " [180 204]]\n",
            "Classification Report of Naive Bayes Model: \n",
            "               precision    recall  f1-score   support\n",
            "\n",
            "           0       0.84      0.89      0.86      1025\n",
            "           1       0.65      0.53      0.58       384\n",
            "\n",
            "    accuracy                           0.79      1409\n",
            "   macro avg       0.74      0.71      0.72      1409\n",
            "weighted avg       0.78      0.79      0.79      1409\n",
            "\n"
          ],
          "name": "stdout"
        }
      ]
    },
    {
      "cell_type": "markdown",
      "metadata": {
        "id": "yQAVpzGX9I93"
      },
      "source": [
        "# Logistic Regression (on dropped columns) - Without regularization"
      ]
    },
    {
      "cell_type": "code",
      "metadata": {
        "id": "bnjnhnC48knn"
      },
      "source": [
        "#split the data\n",
        "Xdropped = Xdropped.sort_values(['customerID'])\n",
        "ydropped = ydropped.sort_values(['customerID'])\n",
        "\n",
        "X, X_test, y, y_test = train_test_split(Xdropped, ydropped, test_size=0.2, random_state = 10)"
      ],
      "execution_count": null,
      "outputs": []
    },
    {
      "cell_type": "code",
      "metadata": {
        "id": "WaCvdQjk9cGD"
      },
      "source": [
        "# define the model\n",
        "LRM = LogisticRegression(penalty='none', C=1,random_state=50, solver='newton-cg')\n",
        "# change y column to datatype array\n",
        "array_y = y.values.ravel()\n",
        "# define cross val score\n",
        "score_cv = cross_val_score(LRM, X, array_y, cv=10)"
      ],
      "execution_count": null,
      "outputs": []
    },
    {
      "cell_type": "code",
      "metadata": {
        "id": "0ard1fXS9b_b"
      },
      "source": [
        "#predict value of target based on cross validation\n",
        "predict_y = cross_val_predict(LRM, X, array_y, cv=10)"
      ],
      "execution_count": null,
      "outputs": []
    },
    {
      "cell_type": "code",
      "metadata": {
        "id": "hu9zkK509b9z",
        "colab": {
          "base_uri": "https://localhost:8080/"
        },
        "outputId": "e1f70d1a-bc89-4d50-8c3e-8e58cc29f7e0"
      },
      "source": [
        "# Confusion matrix\n",
        "print(confusion_matrix(array_y, predict_y))"
      ],
      "execution_count": null,
      "outputs": [
        {
          "output_type": "stream",
          "text": [
            "[[3755  394]\n",
            " [ 764  721]]\n"
          ],
          "name": "stdout"
        }
      ]
    },
    {
      "cell_type": "code",
      "metadata": {
        "id": "AfzRZ7iO9b7g",
        "colab": {
          "base_uri": "https://localhost:8080/"
        },
        "outputId": "4f2b8d1a-bd53-4712-a89f-4568b938b0cf"
      },
      "source": [
        "print(classification_report(array_y, predict_y))"
      ],
      "execution_count": null,
      "outputs": [
        {
          "output_type": "stream",
          "text": [
            "              precision    recall  f1-score   support\n",
            "\n",
            "           0       0.83      0.91      0.87      4149\n",
            "           1       0.65      0.49      0.55      1485\n",
            "\n",
            "    accuracy                           0.79      5634\n",
            "   macro avg       0.74      0.70      0.71      5634\n",
            "weighted avg       0.78      0.79      0.78      5634\n",
            "\n"
          ],
          "name": "stdout"
        }
      ]
    },
    {
      "cell_type": "code",
      "metadata": {
        "id": "-xVVWnBC9bwV",
        "colab": {
          "base_uri": "https://localhost:8080/"
        },
        "outputId": "f5099070-c814-465d-cf45-640c4f988c05"
      },
      "source": [
        "# probablities for each prediction\n",
        "proba_y = cross_val_predict(LRM, X, array_y, cv=10, method='predict_proba')\n",
        "proba_y"
      ],
      "execution_count": null,
      "outputs": [
        {
          "output_type": "execute_result",
          "data": {
            "text/plain": [
              "array([[0.92396986, 0.07603014],\n",
              "       [0.95165359, 0.04834641],\n",
              "       [0.96936812, 0.03063188],\n",
              "       ...,\n",
              "       [0.73091442, 0.26908558],\n",
              "       [0.58838021, 0.41161979],\n",
              "       [0.66335192, 0.33664808]])"
            ]
          },
          "metadata": {
            "tags": []
          },
          "execution_count": 228
        }
      ]
    },
    {
      "cell_type": "code",
      "metadata": {
        "id": "GkINA5aq9buH"
      },
      "source": [
        "# Get the probabilities of being '0' for all instances at default threshold of 0.5\n",
        "proba_y_0 = proba_y[:,0]"
      ],
      "execution_count": null,
      "outputs": []
    },
    {
      "cell_type": "code",
      "metadata": {
        "id": "n16lH_FF9bqs"
      },
      "source": [
        "# Set threshold for '0' to be 0.7\n",
        "proba_y_0_thresold7= [0 if i >= 0.7 else 1 for i in proba_y_0]"
      ],
      "execution_count": null,
      "outputs": []
    },
    {
      "cell_type": "code",
      "metadata": {
        "id": "wJsKJIyFATdR",
        "colab": {
          "base_uri": "https://localhost:8080/"
        },
        "outputId": "c25f7eb4-e222-4913-8919-fb93566c432a"
      },
      "source": [
        "print(\"Confusion Matrix:\", '\\n',confusion_matrix(y, proba_y_0_thresold7))"
      ],
      "execution_count": null,
      "outputs": [
        {
          "output_type": "stream",
          "text": [
            "Confusion Matrix: \n",
            " [[3248  901]\n",
            " [ 420 1065]]\n"
          ],
          "name": "stdout"
        }
      ]
    },
    {
      "cell_type": "code",
      "metadata": {
        "id": "pdSs7oKGATZ1",
        "colab": {
          "base_uri": "https://localhost:8080/"
        },
        "outputId": "048cbce4-4015-41fb-a340-b77315b4f808"
      },
      "source": [
        "print(\"Accuracy:\",accuracy_score(y, proba_y_0_thresold7, normalize=True, sample_weight=None))"
      ],
      "execution_count": null,
      "outputs": [
        {
          "output_type": "stream",
          "text": [
            "Accuracy: 0.7655307064252751\n"
          ],
          "name": "stdout"
        }
      ]
    },
    {
      "cell_type": "code",
      "metadata": {
        "id": "h_ZJkyEGATXK"
      },
      "source": [
        "# calculate tpr and fpr based on different thresholds\n",
        "fpr, tpr, thresholds = metrics.roc_curve(array_y,proba_y_0,pos_label=0)"
      ],
      "execution_count": null,
      "outputs": []
    },
    {
      "cell_type": "code",
      "metadata": {
        "id": "CKhQQM1yATUs",
        "colab": {
          "base_uri": "https://localhost:8080/"
        },
        "outputId": "f68fcf86-7818-4eca-f1d2-c1fedce1f411"
      },
      "source": [
        "display(\"Area under curve: \" + str(metrics.auc(fpr, tpr)), plt.plot(fpr,tpr))"
      ],
      "execution_count": null,
      "outputs": [
        {
          "output_type": "display_data",
          "data": {
            "application/vnd.google.colaboratory.intrinsic+json": {
              "type": "string"
            },
            "text/plain": [
              "'Area under curve: 0.8275870296116139'"
            ]
          },
          "metadata": {
            "tags": []
          }
        },
        {
          "output_type": "display_data",
          "data": {
            "text/plain": [
              "[<matplotlib.lines.Line2D at 0x7f1512692e90>]"
            ]
          },
          "metadata": {
            "tags": []
          }
        },
        {
          "output_type": "display_data",
          "data": {
            "image/png": "[encoded data removed]",
            "text/plain": [
              "<Figure size 432x288 with 1 Axes>"
            ]
          },
          "metadata": {
            "tags": [],
            "needs_background": "light"
          }
        }
      ]
    },
    {
      "cell_type": "code",
      "metadata": {
        "id": "jMCmkT95ATNq",
        "colab": {
          "base_uri": "https://localhost:8080/"
        },
        "outputId": "f86560f4-8980-40bb-826c-6a945cd1d6cb"
      },
      "source": [
        "LRM.fit(X, array_y)"
      ],
      "execution_count": null,
      "outputs": [
        {
          "output_type": "execute_result",
          "data": {
            "text/plain": [
              "LogisticRegression(C=1, class_weight=None, dual=False, fit_intercept=True,\n",
              "                   intercept_scaling=1, l1_ratio=None, max_iter=100,\n",
              "                   multi_class='auto', n_jobs=None, penalty='none',\n",
              "                   random_state=50, solver='newton-cg', tol=0.0001, verbose=0,\n",
              "                   warm_start=False)"
            ]
          },
          "metadata": {
            "tags": []
          },
          "execution_count": 235
        }
      ]
    },
    {
      "cell_type": "code",
      "metadata": {
        "id": "k2M9_8_mAji7",
        "colab": {
          "base_uri": "https://localhost:8080/"
        },
        "outputId": "7e12cf52-f810-4bfa-b073-a1fbceb6f171"
      },
      "source": [
        "# show the intercept of the trained model (Theta_0)\n",
        "LRM.intercept_"
      ],
      "execution_count": null,
      "outputs": [
        {
          "output_type": "execute_result",
          "data": {
            "text/plain": [
              "array([-0.55413723])"
            ]
          },
          "metadata": {
            "tags": []
          },
          "execution_count": 236
        }
      ]
    },
    {
      "cell_type": "code",
      "metadata": {
        "id": "8oHsbgCRAjfi",
        "colab": {
          "base_uri": "https://localhost:8080/"
        },
        "outputId": "695aa5bd-2183-418c-b5b8-24de18526e1e"
      },
      "source": [
        "# show the coefficients of independent attributes\n",
        "coeff_df = pd.DataFrame(LRM.coef_.flatten(), X.columns, columns=['Coefficient'])  \n",
        "coeff_df"
      ],
      "execution_count": null,
      "outputs": [
        {
          "output_type": "execute_result",
          "data": {
            "text/html": [
              "<div>\n",
              "<style scoped>\n",
              "    .dataframe tbody tr th:only-of-type {\n",
              "        vertical-align: middle;\n",
              "    }\n",
              "\n",
              "    .dataframe tbody tr th {\n",
              "        vertical-align: top;\n",
              "    }\n",
              "\n",
              "    .dataframe thead th {\n",
              "        text-align: right;\n",
              "    }\n",
              "</style>\n",
              "<table border=\"1\" class=\"dataframe\">\n",
              "  <thead>\n",
              "    <tr style=\"text-align: right;\">\n",
              "      <th></th>\n",
              "      <th>Coefficient</th>\n",
              "    </tr>\n",
              "  </thead>\n",
              "  <tbody>\n",
              "    <tr>\n",
              "      <th>TotalCharges_minmax</th>\n",
              "      <td>-3.610480</td>\n",
              "    </tr>\n",
              "    <tr>\n",
              "      <th>StreamingMovies_No</th>\n",
              "      <td>-0.328195</td>\n",
              "    </tr>\n",
              "    <tr>\n",
              "      <th>StreamingMovies_No internet service</th>\n",
              "      <td>-0.312232</td>\n",
              "    </tr>\n",
              "    <tr>\n",
              "      <th>StreamingTV_No</th>\n",
              "      <td>-0.365632</td>\n",
              "    </tr>\n",
              "    <tr>\n",
              "      <th>StreamingTV_No internet service</th>\n",
              "      <td>-0.312232</td>\n",
              "    </tr>\n",
              "    <tr>\n",
              "      <th>TechSupport_No</th>\n",
              "      <td>0.432741</td>\n",
              "    </tr>\n",
              "    <tr>\n",
              "      <th>TechSupport_No internet service</th>\n",
              "      <td>-0.312232</td>\n",
              "    </tr>\n",
              "    <tr>\n",
              "      <th>OnlineSecurity_No</th>\n",
              "      <td>0.509603</td>\n",
              "    </tr>\n",
              "    <tr>\n",
              "      <th>OnlineSecurity_No internet service</th>\n",
              "      <td>-0.312232</td>\n",
              "    </tr>\n",
              "    <tr>\n",
              "      <th>OnlineBackup_No</th>\n",
              "      <td>0.106153</td>\n",
              "    </tr>\n",
              "    <tr>\n",
              "      <th>OnlineBackup_No internet service</th>\n",
              "      <td>-0.312232</td>\n",
              "    </tr>\n",
              "    <tr>\n",
              "      <th>InternetService_DSL</th>\n",
              "      <td>-0.782970</td>\n",
              "    </tr>\n",
              "    <tr>\n",
              "      <th>InternetService_Fiber optic</th>\n",
              "      <td>0.541065</td>\n",
              "    </tr>\n",
              "    <tr>\n",
              "      <th>PhoneService_No</th>\n",
              "      <td>0.208414</td>\n",
              "    </tr>\n",
              "    <tr>\n",
              "      <th>Dependents_No</th>\n",
              "      <td>0.287615</td>\n",
              "    </tr>\n",
              "    <tr>\n",
              "      <th>DeviceProtection_No</th>\n",
              "      <td>0.063537</td>\n",
              "    </tr>\n",
              "    <tr>\n",
              "      <th>DeviceProtection_No internet service</th>\n",
              "      <td>-0.312232</td>\n",
              "    </tr>\n",
              "    <tr>\n",
              "      <th>PaymentMethod_Bank transfer (automatic)</th>\n",
              "      <td>-0.181230</td>\n",
              "    </tr>\n",
              "    <tr>\n",
              "      <th>PaymentMethod_Credit card (automatic)</th>\n",
              "      <td>-0.285430</td>\n",
              "    </tr>\n",
              "    <tr>\n",
              "      <th>PaymentMethod_Electronic check</th>\n",
              "      <td>0.391649</td>\n",
              "    </tr>\n",
              "  </tbody>\n",
              "</table>\n",
              "</div>"
            ],
            "text/plain": [
              "                                         Coefficient\n",
              "TotalCharges_minmax                        -3.610480\n",
              "StreamingMovies_No                         -0.328195\n",
              "StreamingMovies_No internet service        -0.312232\n",
              "StreamingTV_No                             -0.365632\n",
              "StreamingTV_No internet service            -0.312232\n",
              "TechSupport_No                              0.432741\n",
              "TechSupport_No internet service            -0.312232\n",
              "OnlineSecurity_No                           0.509603\n",
              "OnlineSecurity_No internet service         -0.312232\n",
              "OnlineBackup_No                             0.106153\n",
              "OnlineBackup_No internet service           -0.312232\n",
              "InternetService_DSL                        -0.782970\n",
              "InternetService_Fiber optic                 0.541065\n",
              "PhoneService_No                             0.208414\n",
              "Dependents_No                               0.287615\n",
              "DeviceProtection_No                         0.063537\n",
              "DeviceProtection_No internet service       -0.312232\n",
              "PaymentMethod_Bank transfer (automatic)    -0.181230\n",
              "PaymentMethod_Credit card (automatic)      -0.285430\n",
              "PaymentMethod_Electronic check              0.391649"
            ]
          },
          "metadata": {
            "tags": []
          },
          "execution_count": 237
        }
      ]
    },
    {
      "cell_type": "code",
      "metadata": {
        "id": "E6RGeJQAAjdA",
        "colab": {
          "base_uri": "https://localhost:8080/"
        },
        "outputId": "8b7b8555-4960-45d4-b2df-52f470c6244c"
      },
      "source": [
        "print('Area Under Curve:', \"%.4f\" % metrics.auc(fpr, tpr))\n",
        "print('Cross Validation Score:', \"%.4f\" % score_cv.mean())\n",
        "for j in range(4, 7):\n",
        "    print('Confusion Matrix', 'with thresold', float(j)/float(10), ':', '\\n',\n",
        "          confusion_matrix(y, [0 if i >= float(j)/float(10) else 1 for i in proba_y_0]))\n",
        "    print(classification_report(y, [0 if i >= float(j)/float(10) else 1 for i in proba_y_0]))"
      ],
      "execution_count": null,
      "outputs": [
        {
          "output_type": "stream",
          "text": [
            "Area Under Curve: 0.8276\n",
            "Cross Validation Score: 0.7945\n",
            "Confusion Matrix with thresold 0.4 : \n",
            " [[3916  233]\n",
            " [ 947  538]]\n",
            "              precision    recall  f1-score   support\n",
            "\n",
            "           0       0.81      0.94      0.87      4149\n",
            "           1       0.70      0.36      0.48      1485\n",
            "\n",
            "    accuracy                           0.79      5634\n",
            "   macro avg       0.75      0.65      0.67      5634\n",
            "weighted avg       0.78      0.79      0.77      5634\n",
            "\n",
            "Confusion Matrix with thresold 0.5 : \n",
            " [[3755  394]\n",
            " [ 764  721]]\n",
            "              precision    recall  f1-score   support\n",
            "\n",
            "           0       0.83      0.91      0.87      4149\n",
            "           1       0.65      0.49      0.55      1485\n",
            "\n",
            "    accuracy                           0.79      5634\n",
            "   macro avg       0.74      0.70      0.71      5634\n",
            "weighted avg       0.78      0.79      0.78      5634\n",
            "\n",
            "Confusion Matrix with thresold 0.6 : \n",
            " [[3553  596]\n",
            " [ 588  897]]\n",
            "              precision    recall  f1-score   support\n",
            "\n",
            "           0       0.86      0.86      0.86      4149\n",
            "           1       0.60      0.60      0.60      1485\n",
            "\n",
            "    accuracy                           0.79      5634\n",
            "   macro avg       0.73      0.73      0.73      5634\n",
            "weighted avg       0.79      0.79      0.79      5634\n",
            "\n"
          ],
          "name": "stdout"
        }
      ]
    },
    {
      "cell_type": "markdown",
      "metadata": {
        "id": "jkNQUtkMAr0m"
      },
      "source": [
        "## Predict testing data"
      ]
    },
    {
      "cell_type": "code",
      "metadata": {
        "id": "DY27LB8IArhl"
      },
      "source": [
        "pred_val_test = LRM.predict(X_test)"
      ],
      "execution_count": null,
      "outputs": []
    },
    {
      "cell_type": "code",
      "metadata": {
        "id": "jdRK3JzfAjaU",
        "colab": {
          "base_uri": "https://localhost:8080/"
        },
        "outputId": "b5778c39-ee9a-4c43-9f4b-1182e62e9f9b"
      },
      "source": [
        "print(\"Accuracy from testing data: \", accuracy_score(y_test, pred_val_test, normalize = True, sample_weight = None))\n",
        "print(confusion_matrix(y_test, pred_val_test))\n",
        "print(\"Classification Report of Naive Bayes Model:\",\"\\n\",classification_report(y_test, pred_val_test))"
      ],
      "execution_count": null,
      "outputs": [
        {
          "output_type": "stream",
          "text": [
            "Accuracy from testing data:  0.7885024840312278\n",
            "[[927  98]\n",
            " [200 184]]\n",
            "Classification Report of Naive Bayes Model: \n",
            "               precision    recall  f1-score   support\n",
            "\n",
            "           0       0.82      0.90      0.86      1025\n",
            "           1       0.65      0.48      0.55       384\n",
            "\n",
            "    accuracy                           0.79      1409\n",
            "   macro avg       0.74      0.69      0.71      1409\n",
            "weighted avg       0.78      0.79      0.78      1409\n",
            "\n"
          ],
          "name": "stdout"
        }
      ]
    },
    {
      "cell_type": "markdown",
      "metadata": {
        "id": "V_sVIsqGBZKH"
      },
      "source": [
        "# Logistic Regression (without dropping any columns)-Without regularization"
      ]
    },
    {
      "cell_type": "code",
      "metadata": {
        "id": "6KzWkdiWAjRT"
      },
      "source": [
        "#split the data\n",
        "XnoDrop = XnoDrop.sort_values(['customerID'])\n",
        "ynoDrop = ynoDrop.sort_values(['customerID'])\n",
        "\n",
        "X, X_test, y, y_test = train_test_split(XnoDrop, ynoDrop, test_size=0.2, random_state = 10)"
      ],
      "execution_count": null,
      "outputs": []
    },
    {
      "cell_type": "code",
      "metadata": {
        "id": "0_Xduv7zAmqc"
      },
      "source": [
        "# define the model\n",
        "LRM = LogisticRegression(penalty='none', C=1,random_state=50, solver='newton-cg')\n",
        "# change y column to datatype array\n",
        "array_y = y.values.ravel()\n",
        "# define cross val score\n",
        "score_cv = cross_val_score(LRM, X, array_y, cv=10)"
      ],
      "execution_count": null,
      "outputs": []
    },
    {
      "cell_type": "code",
      "metadata": {
        "id": "u9FdycQ_AmnV"
      },
      "source": [
        "#predict value of target based on cross validation\n",
        "predict_y = cross_val_predict(LRM, X, array_y, cv=10)"
      ],
      "execution_count": null,
      "outputs": []
    },
    {
      "cell_type": "code",
      "metadata": {
        "id": "_CRInhbUAmk4",
        "colab": {
          "base_uri": "https://localhost:8080/"
        },
        "outputId": "594f332b-b6e8-4566-ee25-d785bfd5a4ad"
      },
      "source": [
        "# Confusion matrix\n",
        "print(confusion_matrix(array_y, predict_y))"
      ],
      "execution_count": null,
      "outputs": [
        {
          "output_type": "stream",
          "text": [
            "[[3714  435]\n",
            " [ 670  815]]\n"
          ],
          "name": "stdout"
        }
      ]
    },
    {
      "cell_type": "code",
      "metadata": {
        "id": "N-l7joLLAmif",
        "colab": {
          "base_uri": "https://localhost:8080/"
        },
        "outputId": "45e27929-f35c-4c84-f1b9-d06ee2645c59"
      },
      "source": [
        "print(classification_report(array_y, predict_y))"
      ],
      "execution_count": null,
      "outputs": [
        {
          "output_type": "stream",
          "text": [
            "              precision    recall  f1-score   support\n",
            "\n",
            "           0       0.85      0.90      0.87      4149\n",
            "           1       0.65      0.55      0.60      1485\n",
            "\n",
            "    accuracy                           0.80      5634\n",
            "   macro avg       0.75      0.72      0.73      5634\n",
            "weighted avg       0.80      0.80      0.80      5634\n",
            "\n"
          ],
          "name": "stdout"
        }
      ]
    },
    {
      "cell_type": "code",
      "metadata": {
        "id": "aoDs1I1HAmf-",
        "colab": {
          "base_uri": "https://localhost:8080/"
        },
        "outputId": "3715a7c3-dd75-4f3f-9c9f-23ed83d4a329"
      },
      "source": [
        "# probablities for each prediction\n",
        "proba_y = cross_val_predict(LRM, X, array_y, cv=10, method='predict_proba')\n",
        "proba_y"
      ],
      "execution_count": null,
      "outputs": [
        {
          "output_type": "execute_result",
          "data": {
            "text/plain": [
              "array([[0.83435846, 0.16564154],\n",
              "       [0.96427653, 0.03572347],\n",
              "       [0.95439328, 0.04560672],\n",
              "       ...,\n",
              "       [0.88569537, 0.11430463],\n",
              "       [0.45835355, 0.54164645],\n",
              "       [0.63372416, 0.36627584]])"
            ]
          },
          "metadata": {
            "tags": []
          },
          "execution_count": 246
        }
      ]
    },
    {
      "cell_type": "code",
      "metadata": {
        "id": "OfycQVg9B8Bu",
        "colab": {
          "base_uri": "https://localhost:8080/"
        },
        "outputId": "e02435b0-245b-42c9-9023-3903880c97e7"
      },
      "source": [
        "# probablities for each prediction\n",
        "proba_y = cross_val_predict(LRM, X, array_y, cv=10, method='predict_proba')\n",
        "proba_y"
      ],
      "execution_count": null,
      "outputs": [
        {
          "output_type": "execute_result",
          "data": {
            "text/plain": [
              "array([[0.83435846, 0.16564154],\n",
              "       [0.96427653, 0.03572347],\n",
              "       [0.95439328, 0.04560672],\n",
              "       ...,\n",
              "       [0.88569537, 0.11430463],\n",
              "       [0.45835355, 0.54164645],\n",
              "       [0.63372416, 0.36627584]])"
            ]
          },
          "metadata": {
            "tags": []
          },
          "execution_count": 247
        }
      ]
    },
    {
      "cell_type": "code",
      "metadata": {
        "id": "ILmN-sMkB7_S"
      },
      "source": [
        "# Set threshold for '0' to be 0.7\n",
        "proba_y_0_thresold7= [0 if i >= 0.7 else 1 for i in proba_y_0]"
      ],
      "execution_count": null,
      "outputs": []
    },
    {
      "cell_type": "code",
      "metadata": {
        "id": "ehM5B7XOB78c",
        "colab": {
          "base_uri": "https://localhost:8080/"
        },
        "outputId": "2dde9d51-97eb-40a7-be4d-80afdc98db2c"
      },
      "source": [
        "print(\"Confusion Matrix:\", '\\n',confusion_matrix(y, proba_y_0_thresold7))"
      ],
      "execution_count": null,
      "outputs": [
        {
          "output_type": "stream",
          "text": [
            "Confusion Matrix: \n",
            " [[3248  901]\n",
            " [ 420 1065]]\n"
          ],
          "name": "stdout"
        }
      ]
    },
    {
      "cell_type": "code",
      "metadata": {
        "id": "TijouCc1B75r",
        "colab": {
          "base_uri": "https://localhost:8080/"
        },
        "outputId": "f4eac9c9-cf72-4fce-e35c-331f68f75190"
      },
      "source": [
        "print(\"Accuracy:\",accuracy_score(y, proba_y_0_thresold7, normalize=True, sample_weight=None))"
      ],
      "execution_count": null,
      "outputs": [
        {
          "output_type": "stream",
          "text": [
            "Accuracy: 0.7655307064252751\n"
          ],
          "name": "stdout"
        }
      ]
    },
    {
      "cell_type": "code",
      "metadata": {
        "id": "2wRYyxTFB720"
      },
      "source": [
        "# calculate tpr and fpr based on different thresholds\n",
        "fpr, tpr, thresholds = metrics.roc_curve(array_y,proba_y_0,pos_label=0)"
      ],
      "execution_count": null,
      "outputs": []
    },
    {
      "cell_type": "code",
      "metadata": {
        "id": "zDcfZ-gNB7z_",
        "colab": {
          "base_uri": "https://localhost:8080/"
        },
        "outputId": "8173613a-00e6-4de6-c3b9-5275192be863"
      },
      "source": [
        "display(\"Area under curve: \" + str(metrics.auc(fpr, tpr)), plt.plot(fpr,tpr))"
      ],
      "execution_count": null,
      "outputs": [
        {
          "output_type": "display_data",
          "data": {
            "application/vnd.google.colaboratory.intrinsic+json": {
              "type": "string"
            },
            "text/plain": [
              "'Area under curve: 0.8275870296116139'"
            ]
          },
          "metadata": {
            "tags": []
          }
        },
        {
          "output_type": "display_data",
          "data": {
            "text/plain": [
              "[<matplotlib.lines.Line2D at 0x7f1512707d10>]"
            ]
          },
          "metadata": {
            "tags": []
          }
        },
        {
          "output_type": "display_data",
          "data": {
            "image/png": "[encoded data removed]",
            "text/plain": [
              "<Figure size 432x288 with 1 Axes>"
            ]
          },
          "metadata": {
            "tags": [],
            "needs_background": "light"
          }
        }
      ]
    },
    {
      "cell_type": "code",
      "metadata": {
        "id": "zoS5M2FlB7ws",
        "colab": {
          "base_uri": "https://localhost:8080/"
        },
        "outputId": "44956f01-269e-4644-e38d-cb517fc91525"
      },
      "source": [
        "LRM.fit(X, array_y)"
      ],
      "execution_count": null,
      "outputs": [
        {
          "output_type": "execute_result",
          "data": {
            "text/plain": [
              "LogisticRegression(C=1, class_weight=None, dual=False, fit_intercept=True,\n",
              "                   intercept_scaling=1, l1_ratio=None, max_iter=100,\n",
              "                   multi_class='auto', n_jobs=None, penalty='none',\n",
              "                   random_state=50, solver='newton-cg', tol=0.0001, verbose=0,\n",
              "                   warm_start=False)"
            ]
          },
          "metadata": {
            "tags": []
          },
          "execution_count": 253
        }
      ]
    },
    {
      "cell_type": "code",
      "metadata": {
        "id": "UJP0QWt-B7pv",
        "colab": {
          "base_uri": "https://localhost:8080/"
        },
        "outputId": "9b44d7ca-55ff-4bb0-c044-9273639d69c9"
      },
      "source": [
        "# show the intercept of the trained model (Theta_0)\n",
        "LRM.intercept_"
      ],
      "execution_count": null,
      "outputs": [
        {
          "output_type": "execute_result",
          "data": {
            "text/plain": [
              "array([2.71292292])"
            ]
          },
          "metadata": {
            "tags": []
          },
          "execution_count": 254
        }
      ]
    },
    {
      "cell_type": "code",
      "metadata": {
        "id": "pBnbt0OoSGoO",
        "colab": {
          "base_uri": "https://localhost:8080/"
        },
        "outputId": "9823fe36-1704-480d-f5b7-f6b63706e787"
      },
      "source": [
        "# show the coefficients of independent attributes\n",
        "coeff_df = pd.DataFrame(LRM.coef_.flatten(), X.columns, columns=['Coefficient'])  \n",
        "coeff_df"
      ],
      "execution_count": null,
      "outputs": [
        {
          "output_type": "execute_result",
          "data": {
            "text/html": [
              "<div>\n",
              "<style scoped>\n",
              "    .dataframe tbody tr th:only-of-type {\n",
              "        vertical-align: middle;\n",
              "    }\n",
              "\n",
              "    .dataframe tbody tr th {\n",
              "        vertical-align: top;\n",
              "    }\n",
              "\n",
              "    .dataframe thead th {\n",
              "        text-align: right;\n",
              "    }\n",
              "</style>\n",
              "<table border=\"1\" class=\"dataframe\">\n",
              "  <thead>\n",
              "    <tr style=\"text-align: right;\">\n",
              "      <th></th>\n",
              "      <th>Coefficient</th>\n",
              "    </tr>\n",
              "  </thead>\n",
              "  <tbody>\n",
              "    <tr>\n",
              "      <th>tenure</th>\n",
              "      <td>-0.058206</td>\n",
              "    </tr>\n",
              "    <tr>\n",
              "      <th>MonthlyCharges_minmax</th>\n",
              "      <td>-628.502871</td>\n",
              "    </tr>\n",
              "    <tr>\n",
              "      <th>TotalCharges_minmax</th>\n",
              "      <td>2.631330</td>\n",
              "    </tr>\n",
              "    <tr>\n",
              "      <th>SeniorCitizen</th>\n",
              "      <td>-0.221893</td>\n",
              "    </tr>\n",
              "    <tr>\n",
              "      <th>gender_Female</th>\n",
              "      <td>-0.006191</td>\n",
              "    </tr>\n",
              "    <tr>\n",
              "      <th>Partner_No</th>\n",
              "      <td>0.040182</td>\n",
              "    </tr>\n",
              "    <tr>\n",
              "      <th>MultipleLines_No</th>\n",
              "      <td>-0.614581</td>\n",
              "    </tr>\n",
              "    <tr>\n",
              "      <th>MultipleLines_No phone service</th>\n",
              "      <td>-0.675466</td>\n",
              "    </tr>\n",
              "    <tr>\n",
              "      <th>Contract_Month-to-month</th>\n",
              "      <td>1.468993</td>\n",
              "    </tr>\n",
              "    <tr>\n",
              "      <th>Contract_One year</th>\n",
              "      <td>0.844122</td>\n",
              "    </tr>\n",
              "    <tr>\n",
              "      <th>PaperlessBilling_No</th>\n",
              "      <td>-0.252931</td>\n",
              "    </tr>\n",
              "    <tr>\n",
              "      <th>StreamingMovies_No</th>\n",
              "      <td>-0.912269</td>\n",
              "    </tr>\n",
              "    <tr>\n",
              "      <th>StreamingMovies_No internet service</th>\n",
              "      <td>-0.742810</td>\n",
              "    </tr>\n",
              "    <tr>\n",
              "      <th>StreamingTV_No</th>\n",
              "      <td>-0.956627</td>\n",
              "    </tr>\n",
              "    <tr>\n",
              "      <th>StreamingTV_No internet service</th>\n",
              "      <td>-0.742810</td>\n",
              "    </tr>\n",
              "    <tr>\n",
              "      <th>TechSupport_No</th>\n",
              "      <td>-0.015748</td>\n",
              "    </tr>\n",
              "    <tr>\n",
              "      <th>TechSupport_No internet service</th>\n",
              "      <td>-0.742810</td>\n",
              "    </tr>\n",
              "    <tr>\n",
              "      <th>OnlineSecurity_No</th>\n",
              "      <td>0.069943</td>\n",
              "    </tr>\n",
              "    <tr>\n",
              "      <th>OnlineSecurity_No internet service</th>\n",
              "      <td>-0.742810</td>\n",
              "    </tr>\n",
              "    <tr>\n",
              "      <th>OnlineBackup_No</th>\n",
              "      <td>-0.171394</td>\n",
              "    </tr>\n",
              "    <tr>\n",
              "      <th>OnlineBackup_No internet service</th>\n",
              "      <td>-0.742810</td>\n",
              "    </tr>\n",
              "    <tr>\n",
              "      <th>InternetService_DSL</th>\n",
              "      <td>0.442580</td>\n",
              "    </tr>\n",
              "    <tr>\n",
              "      <th>InternetService_Fiber optic</th>\n",
              "      <td>3.013153</td>\n",
              "    </tr>\n",
              "    <tr>\n",
              "      <th>PhoneService_No</th>\n",
              "      <td>-0.675466</td>\n",
              "    </tr>\n",
              "    <tr>\n",
              "      <th>Dependents_No</th>\n",
              "      <td>0.103087</td>\n",
              "    </tr>\n",
              "    <tr>\n",
              "      <th>DeviceProtection_No</th>\n",
              "      <td>-0.319535</td>\n",
              "    </tr>\n",
              "    <tr>\n",
              "      <th>DeviceProtection_No internet service</th>\n",
              "      <td>-0.742810</td>\n",
              "    </tr>\n",
              "    <tr>\n",
              "      <th>PaymentMethod_Bank transfer (automatic)</th>\n",
              "      <td>0.025142</td>\n",
              "    </tr>\n",
              "    <tr>\n",
              "      <th>PaymentMethod_Credit card (automatic)</th>\n",
              "      <td>-0.079190</td>\n",
              "    </tr>\n",
              "    <tr>\n",
              "      <th>PaymentMethod_Electronic check</th>\n",
              "      <td>0.412039</td>\n",
              "    </tr>\n",
              "  </tbody>\n",
              "</table>\n",
              "</div>"
            ],
            "text/plain": [
              "                                         Coefficient\n",
              "tenure                                     -0.058206\n",
              "MonthlyCharges_minmax                    -628.502871\n",
              "TotalCharges_minmax                         2.631330\n",
              "SeniorCitizen                              -0.221893\n",
              "gender_Female                              -0.006191\n",
              "Partner_No                                  0.040182\n",
              "MultipleLines_No                           -0.614581\n",
              "MultipleLines_No phone service             -0.675466\n",
              "Contract_Month-to-month                     1.468993\n",
              "Contract_One year                           0.844122\n",
              "PaperlessBilling_No                        -0.252931\n",
              "StreamingMovies_No                         -0.912269\n",
              "StreamingMovies_No internet service        -0.742810\n",
              "StreamingTV_No                             -0.956627\n",
              "StreamingTV_No internet service            -0.742810\n",
              "TechSupport_No                             -0.015748\n",
              "TechSupport_No internet service            -0.742810\n",
              "OnlineSecurity_No                           0.069943\n",
              "OnlineSecurity_No internet service         -0.742810\n",
              "OnlineBackup_No                            -0.171394\n",
              "OnlineBackup_No internet service           -0.742810\n",
              "InternetService_DSL                         0.442580\n",
              "InternetService_Fiber optic                 3.013153\n",
              "PhoneService_No                            -0.675466\n",
              "Dependents_No                               0.103087\n",
              "DeviceProtection_No                        -0.319535\n",
              "DeviceProtection_No internet service       -0.742810\n",
              "PaymentMethod_Bank transfer (automatic)     0.025142\n",
              "PaymentMethod_Credit card (automatic)      -0.079190\n",
              "PaymentMethod_Electronic check              0.412039"
            ]
          },
          "metadata": {
            "tags": []
          },
          "execution_count": 255
        }
      ]
    },
    {
      "cell_type": "code",
      "metadata": {
        "id": "z5jcV-y8SGkZ",
        "colab": {
          "base_uri": "https://localhost:8080/"
        },
        "outputId": "5055d61c-cf99-48f1-ee79-8d7077b1955b"
      },
      "source": [
        "print('Area Under Curve:', \"%.4f\" % metrics.auc(fpr, tpr))\n",
        "print('Cross Validation Score:', \"%.4f\" % score_cv.mean())\n",
        "for j in range(4, 7):\n",
        "    print('Confusion Matrix', 'with thresold', float(j)/float(10), ':', '\\n',\n",
        "          confusion_matrix(y, [0 if i >= float(j)/float(10) else 1 for i in proba_y_0]))\n",
        "    print(classification_report(y, [0 if i >= float(j)/float(10) else 1 for i in proba_y_0]))"
      ],
      "execution_count": null,
      "outputs": [
        {
          "output_type": "stream",
          "text": [
            "Area Under Curve: 0.8276\n",
            "Cross Validation Score: 0.8039\n",
            "Confusion Matrix with thresold 0.4 : \n",
            " [[3916  233]\n",
            " [ 947  538]]\n",
            "              precision    recall  f1-score   support\n",
            "\n",
            "           0       0.81      0.94      0.87      4149\n",
            "           1       0.70      0.36      0.48      1485\n",
            "\n",
            "    accuracy                           0.79      5634\n",
            "   macro avg       0.75      0.65      0.67      5634\n",
            "weighted avg       0.78      0.79      0.77      5634\n",
            "\n",
            "Confusion Matrix with thresold 0.5 : \n",
            " [[3755  394]\n",
            " [ 764  721]]\n",
            "              precision    recall  f1-score   support\n",
            "\n",
            "           0       0.83      0.91      0.87      4149\n",
            "           1       0.65      0.49      0.55      1485\n",
            "\n",
            "    accuracy                           0.79      5634\n",
            "   macro avg       0.74      0.70      0.71      5634\n",
            "weighted avg       0.78      0.79      0.78      5634\n",
            "\n",
            "Confusion Matrix with thresold 0.6 : \n",
            " [[3553  596]\n",
            " [ 588  897]]\n",
            "              precision    recall  f1-score   support\n",
            "\n",
            "           0       0.86      0.86      0.86      4149\n",
            "           1       0.60      0.60      0.60      1485\n",
            "\n",
            "    accuracy                           0.79      5634\n",
            "   macro avg       0.73      0.73      0.73      5634\n",
            "weighted avg       0.79      0.79      0.79      5634\n",
            "\n"
          ],
          "name": "stdout"
        }
      ]
    },
    {
      "cell_type": "markdown",
      "metadata": {
        "id": "qXFa-6sPSMUY"
      },
      "source": [
        "## Predict testing data"
      ]
    },
    {
      "cell_type": "code",
      "metadata": {
        "id": "uQYvyYjkSGi4"
      },
      "source": [
        "pred_val_test = LRM.predict(X_test)"
      ],
      "execution_count": null,
      "outputs": []
    },
    {
      "cell_type": "code",
      "metadata": {
        "id": "2PEr0bT5SGhQ",
        "colab": {
          "base_uri": "https://localhost:8080/"
        },
        "outputId": "fa6159ad-5722-45e1-cc20-9b74cca7cad3"
      },
      "source": [
        "print(\"Accuracy from testing data: \", accuracy_score(y_test, pred_val_test, normalize = True, sample_weight = None))\n",
        "print(confusion_matrix(y_test, pred_val_test))\n",
        "print(\"Classification Report of Naive Bayes Model:\",\"\\n\",classification_report(y_test, pred_val_test))"
      ],
      "execution_count": null,
      "outputs": [
        {
          "output_type": "stream",
          "text": [
            "Accuracy from testing data:  0.7977288857345636\n",
            "[[910 115]\n",
            " [170 214]]\n",
            "Classification Report of Naive Bayes Model: \n",
            "               precision    recall  f1-score   support\n",
            "\n",
            "           0       0.84      0.89      0.86      1025\n",
            "           1       0.65      0.56      0.60       384\n",
            "\n",
            "    accuracy                           0.80      1409\n",
            "   macro avg       0.75      0.72      0.73      1409\n",
            "weighted avg       0.79      0.80      0.79      1409\n",
            "\n"
          ],
          "name": "stdout"
        }
      ]
    },
    {
      "cell_type": "code",
      "metadata": {
        "id": "SXEXz3AaSGd9"
      },
      "source": [
        ""
      ],
      "execution_count": null,
      "outputs": []
    },
    {
      "cell_type": "code",
      "metadata": {
        "id": "f9ALgpE6SGZY"
      },
      "source": [
        ""
      ],
      "execution_count": null,
      "outputs": []
    },
    {
      "cell_type": "code",
      "metadata": {
        "id": "K0x8YTkIBVeH"
      },
      "source": [
        ""
      ],
      "execution_count": null,
      "outputs": []
    },
    {
      "cell_type": "markdown",
      "metadata": {
        "id": "j1KAUmtWBYWS"
      },
      "source": [
        "# Logistic Regression (L1-on remained columns)"
      ]
    },
    {
      "cell_type": "code",
      "metadata": {
        "id": "ZqCFbaPPBYWU"
      },
      "source": [
        "#split the data\n",
        "Xdrop = Xdrop.sort_values(['customerID'])\n",
        "ydrop = ydrop.sort_values(['customerID'])\n",
        "\n",
        "X, X_test, y, y_test = train_test_split(Xdrop, ydrop, test_size=0.2, random_state = 10)\n"
      ],
      "execution_count": null,
      "outputs": []
    },
    {
      "cell_type": "code",
      "metadata": {
        "colab": {
          "base_uri": "https://localhost:8080/"
        },
        "id": "uP0rS6yRBYWY",
        "outputId": "10ab220a-c23a-4c23-e058-705bb047da15"
      },
      "source": [
        "Xdrop.head()"
      ],
      "execution_count": null,
      "outputs": [
        {
          "output_type": "execute_result",
          "data": {
            "text/html": [
              "<div>\n",
              "<style scoped>\n",
              "    .dataframe tbody tr th:only-of-type {\n",
              "        vertical-align: middle;\n",
              "    }\n",
              "\n",
              "    .dataframe tbody tr th {\n",
              "        vertical-align: top;\n",
              "    }\n",
              "\n",
              "    .dataframe thead th {\n",
              "        text-align: right;\n",
              "    }\n",
              "</style>\n",
              "<table border=\"1\" class=\"dataframe\">\n",
              "  <thead>\n",
              "    <tr style=\"text-align: right;\">\n",
              "      <th></th>\n",
              "      <th>tenure</th>\n",
              "      <th>MonthlyCharges_minmax</th>\n",
              "      <th>SeniorCitizen</th>\n",
              "      <th>gender_Female</th>\n",
              "      <th>Partner_No</th>\n",
              "      <th>MultipleLines_No</th>\n",
              "      <th>MultipleLines_No phone service</th>\n",
              "      <th>Contract_Month-to-month</th>\n",
              "      <th>Contract_One year</th>\n",
              "      <th>PaperlessBilling_No</th>\n",
              "      <th>MultipleLines_No_tenure</th>\n",
              "      <th>MultipleLines_No phone service_tenure</th>\n",
              "      <th>Contract_Month-to-month_tenure</th>\n",
              "      <th>Contract_One year_tenure</th>\n",
              "      <th>SeniorCitizen_0_MonthlyCharges_minmax</th>\n",
              "      <th>MultipleLines_No_MonthlyCharges_minmax</th>\n",
              "      <th>MultipleLines_No phone service_MonthlyCharges_minmax</th>\n",
              "      <th>Contract_Month-to-month_MonthlyCharges_minmax</th>\n",
              "      <th>Contract_One year_MonthlyCharges_minmax</th>\n",
              "    </tr>\n",
              "    <tr>\n",
              "      <th>customerID</th>\n",
              "      <th></th>\n",
              "      <th></th>\n",
              "      <th></th>\n",
              "      <th></th>\n",
              "      <th></th>\n",
              "      <th></th>\n",
              "      <th></th>\n",
              "      <th></th>\n",
              "      <th></th>\n",
              "      <th></th>\n",
              "      <th></th>\n",
              "      <th></th>\n",
              "      <th></th>\n",
              "      <th></th>\n",
              "      <th></th>\n",
              "      <th></th>\n",
              "      <th></th>\n",
              "      <th></th>\n",
              "      <th></th>\n",
              "    </tr>\n",
              "  </thead>\n",
              "  <tbody>\n",
              "    <tr>\n",
              "      <th>0002-ORFBO</th>\n",
              "      <td>9</td>\n",
              "      <td>0.005400</td>\n",
              "      <td>1</td>\n",
              "      <td>1</td>\n",
              "      <td>0</td>\n",
              "      <td>1</td>\n",
              "      <td>0</td>\n",
              "      <td>0</td>\n",
              "      <td>1</td>\n",
              "      <td>0</td>\n",
              "      <td>9</td>\n",
              "      <td>0</td>\n",
              "      <td>0</td>\n",
              "      <td>9</td>\n",
              "      <td>0.005400</td>\n",
              "      <td>0.005400</td>\n",
              "      <td>0.0</td>\n",
              "      <td>0.000000</td>\n",
              "      <td>0.0054</td>\n",
              "    </tr>\n",
              "    <tr>\n",
              "      <th>0003-MKNFE</th>\n",
              "      <td>9</td>\n",
              "      <td>0.004743</td>\n",
              "      <td>1</td>\n",
              "      <td>0</td>\n",
              "      <td>1</td>\n",
              "      <td>0</td>\n",
              "      <td>0</td>\n",
              "      <td>1</td>\n",
              "      <td>0</td>\n",
              "      <td>1</td>\n",
              "      <td>0</td>\n",
              "      <td>0</td>\n",
              "      <td>9</td>\n",
              "      <td>0</td>\n",
              "      <td>0.004743</td>\n",
              "      <td>0.000000</td>\n",
              "      <td>0.0</td>\n",
              "      <td>0.004743</td>\n",
              "      <td>0.0000</td>\n",
              "    </tr>\n",
              "    <tr>\n",
              "      <th>0004-TLHLJ</th>\n",
              "      <td>4</td>\n",
              "      <td>0.006358</td>\n",
              "      <td>1</td>\n",
              "      <td>0</td>\n",
              "      <td>1</td>\n",
              "      <td>1</td>\n",
              "      <td>0</td>\n",
              "      <td>1</td>\n",
              "      <td>0</td>\n",
              "      <td>0</td>\n",
              "      <td>4</td>\n",
              "      <td>0</td>\n",
              "      <td>4</td>\n",
              "      <td>0</td>\n",
              "      <td>0.006358</td>\n",
              "      <td>0.006358</td>\n",
              "      <td>0.0</td>\n",
              "      <td>0.006358</td>\n",
              "      <td>0.0000</td>\n",
              "    </tr>\n",
              "    <tr>\n",
              "      <th>0011-IGKFF</th>\n",
              "      <td>13</td>\n",
              "      <td>0.009139</td>\n",
              "      <td>0</td>\n",
              "      <td>0</td>\n",
              "      <td>0</td>\n",
              "      <td>1</td>\n",
              "      <td>0</td>\n",
              "      <td>1</td>\n",
              "      <td>0</td>\n",
              "      <td>0</td>\n",
              "      <td>13</td>\n",
              "      <td>0</td>\n",
              "      <td>13</td>\n",
              "      <td>0</td>\n",
              "      <td>0.000000</td>\n",
              "      <td>0.009139</td>\n",
              "      <td>0.0</td>\n",
              "      <td>0.009139</td>\n",
              "      <td>0.0000</td>\n",
              "    </tr>\n",
              "    <tr>\n",
              "      <th>0013-EXCHZ</th>\n",
              "      <td>3</td>\n",
              "      <td>0.007512</td>\n",
              "      <td>0</td>\n",
              "      <td>1</td>\n",
              "      <td>0</td>\n",
              "      <td>1</td>\n",
              "      <td>0</td>\n",
              "      <td>1</td>\n",
              "      <td>0</td>\n",
              "      <td>0</td>\n",
              "      <td>3</td>\n",
              "      <td>0</td>\n",
              "      <td>3</td>\n",
              "      <td>0</td>\n",
              "      <td>0.000000</td>\n",
              "      <td>0.007512</td>\n",
              "      <td>0.0</td>\n",
              "      <td>0.007512</td>\n",
              "      <td>0.0000</td>\n",
              "    </tr>\n",
              "  </tbody>\n",
              "</table>\n",
              "</div>"
            ],
            "text/plain": [
              "            tenure  ...  Contract_One year_MonthlyCharges_minmax\n",
              "customerID          ...                                         \n",
              "0002-ORFBO       9  ...                                   0.0054\n",
              "0003-MKNFE       9  ...                                   0.0000\n",
              "0004-TLHLJ       4  ...                                   0.0000\n",
              "0011-IGKFF      13  ...                                   0.0000\n",
              "0013-EXCHZ       3  ...                                   0.0000\n",
              "\n",
              "[5 rows x 19 columns]"
            ]
          },
          "metadata": {
            "tags": []
          },
          "execution_count": 260
        }
      ]
    },
    {
      "cell_type": "code",
      "metadata": {
        "id": "QBZ_FzqiBYWZ"
      },
      "source": [
        "# define the model\n",
        "LRM = LogisticRegression(penalty='l1', C=1,random_state=50, solver='liblinear')\n",
        "# change y column to datatype array\n",
        "array_y = y.values.ravel()\n",
        "# define cross val score\n",
        "score_cv = cross_val_score(LRM, X, array_y, cv=10)"
      ],
      "execution_count": null,
      "outputs": []
    },
    {
      "cell_type": "code",
      "metadata": {
        "id": "d0p6H6ytBYWa"
      },
      "source": [
        "#predict value of target based on cross validation\n",
        "predict_y = cross_val_predict(LRM, X, array_y, cv=10)"
      ],
      "execution_count": null,
      "outputs": []
    },
    {
      "cell_type": "code",
      "metadata": {
        "colab": {
          "base_uri": "https://localhost:8080/"
        },
        "id": "s0gIkCF8BYWa",
        "outputId": "44f31c8d-2a2f-4e26-b852-7416b834e144"
      },
      "source": [
        "# Confusion matrix\n",
        "print(confusion_matrix(array_y, predict_y))"
      ],
      "execution_count": null,
      "outputs": [
        {
          "output_type": "stream",
          "text": [
            "[[3719  430]\n",
            " [ 804  681]]\n"
          ],
          "name": "stdout"
        }
      ]
    },
    {
      "cell_type": "code",
      "metadata": {
        "colab": {
          "base_uri": "https://localhost:8080/"
        },
        "id": "9nS6h7IyBYWa",
        "outputId": "d1216821-ba71-4004-b825-3c84228c4be0"
      },
      "source": [
        "print(classification_report(array_y, predict_y))"
      ],
      "execution_count": null,
      "outputs": [
        {
          "output_type": "stream",
          "text": [
            "              precision    recall  f1-score   support\n",
            "\n",
            "           0       0.82      0.90      0.86      4149\n",
            "           1       0.61      0.46      0.52      1485\n",
            "\n",
            "    accuracy                           0.78      5634\n",
            "   macro avg       0.72      0.68      0.69      5634\n",
            "weighted avg       0.77      0.78      0.77      5634\n",
            "\n"
          ],
          "name": "stdout"
        }
      ]
    },
    {
      "cell_type": "code",
      "metadata": {
        "colab": {
          "base_uri": "https://localhost:8080/"
        },
        "id": "HRbGOPBpBYWb",
        "outputId": "97eb5aef-8059-4834-bdbd-9c46d462917a"
      },
      "source": [
        "# probablities for each prediction\n",
        "proba_y = cross_val_predict(LRM, X, array_y, cv=10, method='predict_proba')\n",
        "proba_y"
      ],
      "execution_count": null,
      "outputs": [
        {
          "output_type": "execute_result",
          "data": {
            "text/plain": [
              "array([[0.54616127, 0.45383873],\n",
              "       [0.90525506, 0.09474494],\n",
              "       [0.9321917 , 0.0678083 ],\n",
              "       ...,\n",
              "       [0.97694913, 0.02305087],\n",
              "       [0.65015394, 0.34984606],\n",
              "       [0.67923291, 0.32076709]])"
            ]
          },
          "metadata": {
            "tags": []
          },
          "execution_count": 265
        }
      ]
    },
    {
      "cell_type": "code",
      "metadata": {
        "id": "VTL_4ylKBYWb"
      },
      "source": [
        "# Get the probabilities of being '0' for all instances at default threshold of 0.5\n",
        "proba_y_0 = proba_y[:,0]"
      ],
      "execution_count": null,
      "outputs": []
    },
    {
      "cell_type": "code",
      "metadata": {
        "id": "_nPxivzZBYWb"
      },
      "source": [
        "# Set threshold for '0' to be 0.7\n",
        "proba_y_0_thresold7= [0 if i >= 0.7 else 1 for i in proba_y_0]"
      ],
      "execution_count": null,
      "outputs": []
    },
    {
      "cell_type": "code",
      "metadata": {
        "colab": {
          "base_uri": "https://localhost:8080/"
        },
        "id": "SQkYThyoBYWc",
        "outputId": "bbbab406-e39d-4771-f775-f1f85694e21e"
      },
      "source": [
        "print(\"Confusion Matrix:\", '\\n',confusion_matrix(y, proba_y_0_thresold7))"
      ],
      "execution_count": null,
      "outputs": [
        {
          "output_type": "stream",
          "text": [
            "Confusion Matrix: \n",
            " [[2925 1224]\n",
            " [ 325 1160]]\n"
          ],
          "name": "stdout"
        }
      ]
    },
    {
      "cell_type": "code",
      "metadata": {
        "colab": {
          "base_uri": "https://localhost:8080/"
        },
        "id": "_MhQ1UUuBYWc",
        "outputId": "23ba42e6-0b36-4121-d574-4adcf517e63b"
      },
      "source": [
        "print(\"Accuracy:\",accuracy_score(y, proba_y_0_thresold7, normalize=True, sample_weight=None))"
      ],
      "execution_count": null,
      "outputs": [
        {
          "output_type": "stream",
          "text": [
            "Accuracy: 0.7250621228257011\n"
          ],
          "name": "stdout"
        }
      ]
    },
    {
      "cell_type": "code",
      "metadata": {
        "id": "YcllxvTUBYWc"
      },
      "source": [
        "# calculate tpr and fpr based on different thresholds\n",
        "fpr, tpr, thresholds = metrics.roc_curve(array_y,proba_y_0,pos_label=0)"
      ],
      "execution_count": null,
      "outputs": []
    },
    {
      "cell_type": "code",
      "metadata": {
        "colab": {
          "base_uri": "https://localhost:8080/"
        },
        "id": "ndBdGIdFBYWc",
        "outputId": "2d0cf206-a372-409c-eda1-0c9576ef3fb5"
      },
      "source": [
        "display(\"Area under curve: \" + str(metrics.auc(fpr, tpr)), plt.plot(fpr,tpr))"
      ],
      "execution_count": null,
      "outputs": [
        {
          "output_type": "display_data",
          "data": {
            "application/vnd.google.colaboratory.intrinsic+json": {
              "type": "string"
            },
            "text/plain": [
              "'Area under curve: 0.8149742788209888'"
            ]
          },
          "metadata": {
            "tags": []
          }
        },
        {
          "output_type": "display_data",
          "data": {
            "text/plain": [
              "[<matplotlib.lines.Line2D at 0x7f15126ce450>]"
            ]
          },
          "metadata": {
            "tags": []
          }
        },
        {
          "output_type": "display_data",
          "data": {
            "image/png": "[encoded data removed]",
            "text/plain": [
              "<Figure size 432x288 with 1 Axes>"
            ]
          },
          "metadata": {
            "tags": [],
            "needs_background": "light"
          }
        }
      ]
    },
    {
      "cell_type": "code",
      "metadata": {
        "colab": {
          "base_uri": "https://localhost:8080/"
        },
        "id": "5SvF4wyRBYWd",
        "outputId": "eb52656e-411a-47b0-b7c1-a9fc80e9b30b"
      },
      "source": [
        "LRM.fit(X, array_y)"
      ],
      "execution_count": null,
      "outputs": [
        {
          "output_type": "execute_result",
          "data": {
            "text/plain": [
              "LogisticRegression(C=1, class_weight=None, dual=False, fit_intercept=True,\n",
              "                   intercept_scaling=1, l1_ratio=None, max_iter=100,\n",
              "                   multi_class='auto', n_jobs=None, penalty='l1',\n",
              "                   random_state=50, solver='liblinear', tol=0.0001, verbose=0,\n",
              "                   warm_start=False)"
            ]
          },
          "metadata": {
            "tags": []
          },
          "execution_count": 272
        }
      ]
    },
    {
      "cell_type": "code",
      "metadata": {
        "colab": {
          "base_uri": "https://localhost:8080/"
        },
        "id": "rz52w53-BYWd",
        "outputId": "43c4d311-513b-4eaf-8b42-1bca363d0904"
      },
      "source": [
        "# show the intercept of the trained model (Theta_0)\n",
        "LRM.intercept_"
      ],
      "execution_count": null,
      "outputs": [
        {
          "output_type": "execute_result",
          "data": {
            "text/plain": [
              "array([-2.13014522])"
            ]
          },
          "metadata": {
            "tags": []
          },
          "execution_count": 273
        }
      ]
    },
    {
      "cell_type": "code",
      "metadata": {
        "colab": {
          "base_uri": "https://localhost:8080/"
        },
        "id": "_LInoLIRBYWd",
        "outputId": "fe992751-eeb2-4bbf-876b-32f6c5c043e6"
      },
      "source": [
        "# show the coefficients of independent attributes\n",
        "coeff_df = pd.DataFrame(LRM.coef_.flatten(), X.columns, columns=['Coefficient'])  \n",
        "coeff_df"
      ],
      "execution_count": null,
      "outputs": [
        {
          "output_type": "execute_result",
          "data": {
            "text/html": [
              "<div>\n",
              "<style scoped>\n",
              "    .dataframe tbody tr th:only-of-type {\n",
              "        vertical-align: middle;\n",
              "    }\n",
              "\n",
              "    .dataframe tbody tr th {\n",
              "        vertical-align: top;\n",
              "    }\n",
              "\n",
              "    .dataframe thead th {\n",
              "        text-align: right;\n",
              "    }\n",
              "</style>\n",
              "<table border=\"1\" class=\"dataframe\">\n",
              "  <thead>\n",
              "    <tr style=\"text-align: right;\">\n",
              "      <th></th>\n",
              "      <th>Coefficient</th>\n",
              "    </tr>\n",
              "  </thead>\n",
              "  <tbody>\n",
              "    <tr>\n",
              "      <th>tenure</th>\n",
              "      <td>-0.007646</td>\n",
              "    </tr>\n",
              "    <tr>\n",
              "      <th>MonthlyCharges_minmax</th>\n",
              "      <td>14.210322</td>\n",
              "    </tr>\n",
              "    <tr>\n",
              "      <th>SeniorCitizen</th>\n",
              "      <td>-0.564200</td>\n",
              "    </tr>\n",
              "    <tr>\n",
              "      <th>gender_Female</th>\n",
              "      <td>0.002021</td>\n",
              "    </tr>\n",
              "    <tr>\n",
              "      <th>Partner_No</th>\n",
              "      <td>0.028694</td>\n",
              "    </tr>\n",
              "    <tr>\n",
              "      <th>MultipleLines_No</th>\n",
              "      <td>-0.579941</td>\n",
              "    </tr>\n",
              "    <tr>\n",
              "      <th>MultipleLines_No phone service</th>\n",
              "      <td>-0.261513</td>\n",
              "    </tr>\n",
              "    <tr>\n",
              "      <th>Contract_Month-to-month</th>\n",
              "      <td>3.372030</td>\n",
              "    </tr>\n",
              "    <tr>\n",
              "      <th>Contract_One year</th>\n",
              "      <td>1.187078</td>\n",
              "    </tr>\n",
              "    <tr>\n",
              "      <th>PaperlessBilling_No</th>\n",
              "      <td>-0.611784</td>\n",
              "    </tr>\n",
              "    <tr>\n",
              "      <th>MultipleLines_No_tenure</th>\n",
              "      <td>-0.004982</td>\n",
              "    </tr>\n",
              "    <tr>\n",
              "      <th>MultipleLines_No phone service_tenure</th>\n",
              "      <td>-0.001151</td>\n",
              "    </tr>\n",
              "    <tr>\n",
              "      <th>Contract_Month-to-month_tenure</th>\n",
              "      <td>-0.029203</td>\n",
              "    </tr>\n",
              "    <tr>\n",
              "      <th>Contract_One year_tenure</th>\n",
              "      <td>0.004220</td>\n",
              "    </tr>\n",
              "    <tr>\n",
              "      <th>SeniorCitizen_0_MonthlyCharges_minmax</th>\n",
              "      <td>0.000000</td>\n",
              "    </tr>\n",
              "    <tr>\n",
              "      <th>MultipleLines_No_MonthlyCharges_minmax</th>\n",
              "      <td>0.000000</td>\n",
              "    </tr>\n",
              "    <tr>\n",
              "      <th>MultipleLines_No phone service_MonthlyCharges_minmax</th>\n",
              "      <td>0.000000</td>\n",
              "    </tr>\n",
              "    <tr>\n",
              "      <th>Contract_Month-to-month_MonthlyCharges_minmax</th>\n",
              "      <td>0.000000</td>\n",
              "    </tr>\n",
              "    <tr>\n",
              "      <th>Contract_One year_MonthlyCharges_minmax</th>\n",
              "      <td>0.000000</td>\n",
              "    </tr>\n",
              "  </tbody>\n",
              "</table>\n",
              "</div>"
            ],
            "text/plain": [
              "                                                    Coefficient\n",
              "tenure                                                -0.007646\n",
              "MonthlyCharges_minmax                                 14.210322\n",
              "SeniorCitizen                                         -0.564200\n",
              "gender_Female                                          0.002021\n",
              "Partner_No                                             0.028694\n",
              "MultipleLines_No                                      -0.579941\n",
              "MultipleLines_No phone service                        -0.261513\n",
              "Contract_Month-to-month                                3.372030\n",
              "Contract_One year                                      1.187078\n",
              "PaperlessBilling_No                                   -0.611784\n",
              "MultipleLines_No_tenure                               -0.004982\n",
              "MultipleLines_No phone service_tenure                 -0.001151\n",
              "Contract_Month-to-month_tenure                        -0.029203\n",
              "Contract_One year_tenure                               0.004220\n",
              "SeniorCitizen_0_MonthlyCharges_minmax                  0.000000\n",
              "MultipleLines_No_MonthlyCharges_minmax                 0.000000\n",
              "MultipleLines_No phone service_MonthlyCharges_m...     0.000000\n",
              "Contract_Month-to-month_MonthlyCharges_minmax          0.000000\n",
              "Contract_One year_MonthlyCharges_minmax                0.000000"
            ]
          },
          "metadata": {
            "tags": []
          },
          "execution_count": 274
        }
      ]
    },
    {
      "cell_type": "code",
      "metadata": {
        "colab": {
          "base_uri": "https://localhost:8080/"
        },
        "id": "aP3zchkTBYWd",
        "outputId": "c2204e5f-8d16-4664-d45d-9da3566af4b8"
      },
      "source": [
        "print('Area Under Curve:', \"%.4f\" % metrics.auc(fpr, tpr))\n",
        "print('Cross Validation Score:', \"%.4f\" % score_cv.mean())\n",
        "for j in range(4, 7):\n",
        "    print('Confusion Matrix', 'with thresold', float(j)/float(10), ':', '\\n',\n",
        "          confusion_matrix(y, [0 if i >= float(j)/float(10) else 1 for i in proba_y_0]))\n",
        "    print(classification_report(y, [0 if i >= float(j)/float(10) else 1 for i in proba_y_0]))"
      ],
      "execution_count": null,
      "outputs": [
        {
          "output_type": "stream",
          "text": [
            "Area Under Curve: 0.8150\n",
            "Cross Validation Score: 0.7810\n",
            "Confusion Matrix with thresold 0.4 : \n",
            " [[4007  142]\n",
            " [1162  323]]\n",
            "              precision    recall  f1-score   support\n",
            "\n",
            "           0       0.78      0.97      0.86      4149\n",
            "           1       0.69      0.22      0.33      1485\n",
            "\n",
            "    accuracy                           0.77      5634\n",
            "   macro avg       0.73      0.59      0.60      5634\n",
            "weighted avg       0.75      0.77      0.72      5634\n",
            "\n",
            "Confusion Matrix with thresold 0.5 : \n",
            " [[3719  430]\n",
            " [ 804  681]]\n",
            "              precision    recall  f1-score   support\n",
            "\n",
            "           0       0.82      0.90      0.86      4149\n",
            "           1       0.61      0.46      0.52      1485\n",
            "\n",
            "    accuracy                           0.78      5634\n",
            "   macro avg       0.72      0.68      0.69      5634\n",
            "weighted avg       0.77      0.78      0.77      5634\n",
            "\n",
            "Confusion Matrix with thresold 0.6 : \n",
            " [[3403  746]\n",
            " [ 588  897]]\n",
            "              precision    recall  f1-score   support\n",
            "\n",
            "           0       0.85      0.82      0.84      4149\n",
            "           1       0.55      0.60      0.57      1485\n",
            "\n",
            "    accuracy                           0.76      5634\n",
            "   macro avg       0.70      0.71      0.70      5634\n",
            "weighted avg       0.77      0.76      0.77      5634\n",
            "\n"
          ],
          "name": "stdout"
        }
      ]
    },
    {
      "cell_type": "markdown",
      "metadata": {
        "id": "McTrgpoaBYWe"
      },
      "source": [
        "## Predict testing data"
      ]
    },
    {
      "cell_type": "code",
      "metadata": {
        "id": "wXWyx_f5BYWe"
      },
      "source": [
        "pred_val_test = LRM.predict(X_test)"
      ],
      "execution_count": null,
      "outputs": []
    },
    {
      "cell_type": "code",
      "metadata": {
        "colab": {
          "base_uri": "https://localhost:8080/"
        },
        "id": "IAzvAlzxBYWe",
        "outputId": "e6579d0e-005c-4c8d-bc28-f462bf711cdf"
      },
      "source": [
        "print(\"Accuracy from testing data: \", accuracy_score(y_test, pred_val_test, normalize = True, sample_weight = None))\n",
        "print(confusion_matrix(y_test, pred_val_test))\n",
        "print(\"Classification Report of Naive Bayes Model:\",\"\\n\",classification_report(y_test, pred_val_test))"
      ],
      "execution_count": null,
      "outputs": [
        {
          "output_type": "stream",
          "text": [
            "Accuracy from testing data:  0.7828246983676366\n",
            "[[909 116]\n",
            " [190 194]]\n",
            "Classification Report of Naive Bayes Model: \n",
            "               precision    recall  f1-score   support\n",
            "\n",
            "           0       0.83      0.89      0.86      1025\n",
            "           1       0.63      0.51      0.56       384\n",
            "\n",
            "    accuracy                           0.78      1409\n",
            "   macro avg       0.73      0.70      0.71      1409\n",
            "weighted avg       0.77      0.78      0.78      1409\n",
            "\n"
          ],
          "name": "stdout"
        }
      ]
    },
    {
      "cell_type": "code",
      "metadata": {
        "id": "_9IUfRH0Bqa8"
      },
      "source": [
        ""
      ],
      "execution_count": null,
      "outputs": []
    },
    {
      "cell_type": "markdown",
      "metadata": {
        "id": "LXZkJpObBrXm"
      },
      "source": [
        "# Logistic Regression (on dropped columns) - L1 regularization"
      ]
    },
    {
      "cell_type": "code",
      "metadata": {
        "id": "wko3fYMPBrXs"
      },
      "source": [
        "#split the data\n",
        "Xdropped = Xdropped.sort_values(['customerID'])\n",
        "ydropped = ydropped.sort_values(['customerID'])\n",
        "\n",
        "X, X_test, y, y_test = train_test_split(Xdropped, ydropped, test_size=0.2, random_state = 10)"
      ],
      "execution_count": null,
      "outputs": []
    },
    {
      "cell_type": "code",
      "metadata": {
        "id": "Xi0EHvC5BrXu"
      },
      "source": [
        "# define the model\n",
        "LRM = LogisticRegression(penalty='l1', C=1,random_state=50, solver='liblinear')\n",
        "# change y column to datatype array\n",
        "array_y = y.values.ravel()\n",
        "# define cross val score\n",
        "score_cv = cross_val_score(LRM, X, array_y, cv=10)"
      ],
      "execution_count": null,
      "outputs": []
    },
    {
      "cell_type": "code",
      "metadata": {
        "id": "ZYrmJQffBrXv"
      },
      "source": [
        "#predict value of target based on cross validation\n",
        "predict_y = cross_val_predict(LRM, X, array_y, cv=10)"
      ],
      "execution_count": null,
      "outputs": []
    },
    {
      "cell_type": "code",
      "metadata": {
        "colab": {
          "base_uri": "https://localhost:8080/"
        },
        "id": "hIfdE1h2BrXx",
        "outputId": "38aaf55c-4723-4bd3-a7cb-ee786b520da6"
      },
      "source": [
        "# Confusion matrix\n",
        "print(confusion_matrix(array_y, predict_y))"
      ],
      "execution_count": null,
      "outputs": [
        {
          "output_type": "stream",
          "text": [
            "[[3757  392]\n",
            " [ 765  720]]\n"
          ],
          "name": "stdout"
        }
      ]
    },
    {
      "cell_type": "code",
      "metadata": {
        "colab": {
          "base_uri": "https://localhost:8080/"
        },
        "id": "_NlhHp-WBrX1",
        "outputId": "cac41863-21c3-477c-a51c-6ac27df5aae0"
      },
      "source": [
        "print(classification_report(array_y, predict_y))"
      ],
      "execution_count": null,
      "outputs": [
        {
          "output_type": "stream",
          "text": [
            "              precision    recall  f1-score   support\n",
            "\n",
            "           0       0.83      0.91      0.87      4149\n",
            "           1       0.65      0.48      0.55      1485\n",
            "\n",
            "    accuracy                           0.79      5634\n",
            "   macro avg       0.74      0.70      0.71      5634\n",
            "weighted avg       0.78      0.79      0.78      5634\n",
            "\n"
          ],
          "name": "stdout"
        }
      ]
    },
    {
      "cell_type": "code",
      "metadata": {
        "colab": {
          "base_uri": "https://localhost:8080/"
        },
        "id": "RboNwWzNBrX2",
        "outputId": "858ec2cc-8ec0-4738-f7a8-49bfb3a9af54"
      },
      "source": [
        "# probablities for each prediction\n",
        "proba_y = cross_val_predict(LRM, X, array_y, cv=10, method='predict_proba')\n",
        "proba_y"
      ],
      "execution_count": null,
      "outputs": [
        {
          "output_type": "execute_result",
          "data": {
            "text/plain": [
              "array([[0.92290157, 0.07709843],\n",
              "       [0.94989795, 0.05010205],\n",
              "       [0.96866489, 0.03133511],\n",
              "       ...,\n",
              "       [0.72986032, 0.27013968],\n",
              "       [0.58949589, 0.41050411],\n",
              "       [0.65869765, 0.34130235]])"
            ]
          },
          "metadata": {
            "tags": []
          },
          "execution_count": 283
        }
      ]
    },
    {
      "cell_type": "code",
      "metadata": {
        "id": "uYVa3F9zBrX4"
      },
      "source": [
        "# Get the probabilities of being '0' for all instances at default threshold of 0.5\n",
        "proba_y_0 = proba_y[:,0]"
      ],
      "execution_count": null,
      "outputs": []
    },
    {
      "cell_type": "code",
      "metadata": {
        "id": "QprmRRpgBrX5"
      },
      "source": [
        "# Set threshold for '0' to be 0.7\n",
        "proba_y_0_thresold7= [0 if i >= 0.7 else 1 for i in proba_y_0]"
      ],
      "execution_count": null,
      "outputs": []
    },
    {
      "cell_type": "code",
      "metadata": {
        "colab": {
          "base_uri": "https://localhost:8080/"
        },
        "id": "kOPl-0uIBrX6",
        "outputId": "6fe3b36b-6bca-4ab5-d498-3eb34e2708a8"
      },
      "source": [
        "print(\"Confusion Matrix:\", '\\n',confusion_matrix(y, proba_y_0_thresold7))"
      ],
      "execution_count": null,
      "outputs": [
        {
          "output_type": "stream",
          "text": [
            "Confusion Matrix: \n",
            " [[3246  903]\n",
            " [ 418 1067]]\n"
          ],
          "name": "stdout"
        }
      ]
    },
    {
      "cell_type": "code",
      "metadata": {
        "colab": {
          "base_uri": "https://localhost:8080/"
        },
        "id": "Pz8Z5tDtBrX7",
        "outputId": "2986dada-59a4-448b-e4f5-6c32518ed0b9"
      },
      "source": [
        "print(\"Accuracy:\",accuracy_score(y, proba_y_0_thresold7, normalize=True, sample_weight=None))"
      ],
      "execution_count": null,
      "outputs": [
        {
          "output_type": "stream",
          "text": [
            "Accuracy: 0.7655307064252751\n"
          ],
          "name": "stdout"
        }
      ]
    },
    {
      "cell_type": "code",
      "metadata": {
        "id": "HRTmmhafBrX8"
      },
      "source": [
        "# calculate tpr and fpr based on different thresholds\n",
        "fpr, tpr, thresholds = metrics.roc_curve(array_y,proba_y_0,pos_label=0)"
      ],
      "execution_count": null,
      "outputs": []
    },
    {
      "cell_type": "code",
      "metadata": {
        "colab": {
          "base_uri": "https://localhost:8080/",
          "height": 301
        },
        "id": "lOp-7NApBrX9",
        "outputId": "52a1f8a6-c9d9-456e-871f-e8174a258af5"
      },
      "source": [
        "display(\"Area under curve: \" + str(metrics.auc(fpr, tpr)), plt.plot(fpr,tpr))"
      ],
      "execution_count": null,
      "outputs": [
        {
          "output_type": "display_data",
          "data": {
            "application/vnd.google.colaboratory.intrinsic+json": {
              "type": "string"
            },
            "text/plain": [
              "'Area under curve: 0.8275706368740835'"
            ]
          },
          "metadata": {
            "tags": []
          }
        },
        {
          "output_type": "display_data",
          "data": {
            "text/plain": [
              "[<matplotlib.lines.Line2D at 0x7f1525a63e50>]"
            ]
          },
          "metadata": {
            "tags": []
          }
        },
        {
          "output_type": "display_data",
          "data": {
            "image/png": "[encoded data removed]",
            "text/plain": [
              "<Figure size 432x288 with 1 Axes>"
            ]
          },
          "metadata": {
            "tags": [],
            "needs_background": "light"
          }
        }
      ]
    },
    {
      "cell_type": "code",
      "metadata": {
        "colab": {
          "base_uri": "https://localhost:8080/"
        },
        "id": "Mm9exQJlBrX-",
        "outputId": "e7b5af31-5138-4fe0-e119-62a8d566add1"
      },
      "source": [
        "LRM.fit(X, array_y)"
      ],
      "execution_count": null,
      "outputs": [
        {
          "output_type": "execute_result",
          "data": {
            "text/plain": [
              "LogisticRegression(C=1, class_weight=None, dual=False, fit_intercept=True,\n",
              "                   intercept_scaling=1, l1_ratio=None, max_iter=100,\n",
              "                   multi_class='auto', n_jobs=None, penalty='l1',\n",
              "                   random_state=50, solver='liblinear', tol=0.0001, verbose=0,\n",
              "                   warm_start=False)"
            ]
          },
          "metadata": {
            "tags": []
          },
          "execution_count": 290
        }
      ]
    },
    {
      "cell_type": "code",
      "metadata": {
        "colab": {
          "base_uri": "https://localhost:8080/"
        },
        "id": "DxnKHCwgBrX_",
        "outputId": "918130ca-422a-4db4-c25b-98688d25891d"
      },
      "source": [
        "# show the intercept of the trained model (Theta_0)\n",
        "LRM.intercept_"
      ],
      "execution_count": null,
      "outputs": [
        {
          "output_type": "execute_result",
          "data": {
            "text/plain": [
              "array([-0.04973935])"
            ]
          },
          "metadata": {
            "tags": []
          },
          "execution_count": 291
        }
      ]
    },
    {
      "cell_type": "code",
      "metadata": {
        "colab": {
          "base_uri": "https://localhost:8080/",
          "height": 634
        },
        "id": "XI_nt0F6BrYA",
        "outputId": "f0c7a3a5-7907-4144-dcd7-3b6857448cce"
      },
      "source": [
        "# show the coefficients of independent attributes\n",
        "coeff_df = pd.DataFrame(LRM.coef_.flatten(), X.columns, columns=['Coefficient'])  \n",
        "coeff_df"
      ],
      "execution_count": null,
      "outputs": [
        {
          "output_type": "execute_result",
          "data": {
            "text/html": [
              "<div>\n",
              "<style scoped>\n",
              "    .dataframe tbody tr th:only-of-type {\n",
              "        vertical-align: middle;\n",
              "    }\n",
              "\n",
              "    .dataframe tbody tr th {\n",
              "        vertical-align: top;\n",
              "    }\n",
              "\n",
              "    .dataframe thead th {\n",
              "        text-align: right;\n",
              "    }\n",
              "</style>\n",
              "<table border=\"1\" class=\"dataframe\">\n",
              "  <thead>\n",
              "    <tr style=\"text-align: right;\">\n",
              "      <th></th>\n",
              "      <th>Coefficient</th>\n",
              "    </tr>\n",
              "  </thead>\n",
              "  <tbody>\n",
              "    <tr>\n",
              "      <th>TotalCharges_minmax</th>\n",
              "      <td>-3.572231</td>\n",
              "    </tr>\n",
              "    <tr>\n",
              "      <th>StreamingMovies_No</th>\n",
              "      <td>-0.318956</td>\n",
              "    </tr>\n",
              "    <tr>\n",
              "      <th>StreamingMovies_No internet service</th>\n",
              "      <td>-1.917797</td>\n",
              "    </tr>\n",
              "    <tr>\n",
              "      <th>StreamingTV_No</th>\n",
              "      <td>-0.356068</td>\n",
              "    </tr>\n",
              "    <tr>\n",
              "      <th>StreamingTV_No internet service</th>\n",
              "      <td>-0.291788</td>\n",
              "    </tr>\n",
              "    <tr>\n",
              "      <th>TechSupport_No</th>\n",
              "      <td>0.430336</td>\n",
              "    </tr>\n",
              "    <tr>\n",
              "      <th>TechSupport_No internet service</th>\n",
              "      <td>-0.047939</td>\n",
              "    </tr>\n",
              "    <tr>\n",
              "      <th>OnlineSecurity_No</th>\n",
              "      <td>0.508794</td>\n",
              "    </tr>\n",
              "    <tr>\n",
              "      <th>OnlineSecurity_No internet service</th>\n",
              "      <td>-0.010711</td>\n",
              "    </tr>\n",
              "    <tr>\n",
              "      <th>OnlineBackup_No</th>\n",
              "      <td>0.105267</td>\n",
              "    </tr>\n",
              "    <tr>\n",
              "      <th>OnlineBackup_No internet service</th>\n",
              "      <td>-0.081376</td>\n",
              "    </tr>\n",
              "    <tr>\n",
              "      <th>InternetService_DSL</th>\n",
              "      <td>-1.286727</td>\n",
              "    </tr>\n",
              "    <tr>\n",
              "      <th>InternetService_Fiber optic</th>\n",
              "      <td>0.021195</td>\n",
              "    </tr>\n",
              "    <tr>\n",
              "      <th>PhoneService_No</th>\n",
              "      <td>0.187844</td>\n",
              "    </tr>\n",
              "    <tr>\n",
              "      <th>Dependents_No</th>\n",
              "      <td>0.278104</td>\n",
              "    </tr>\n",
              "    <tr>\n",
              "      <th>DeviceProtection_No</th>\n",
              "      <td>0.060001</td>\n",
              "    </tr>\n",
              "    <tr>\n",
              "      <th>DeviceProtection_No internet service</th>\n",
              "      <td>-0.015626</td>\n",
              "    </tr>\n",
              "    <tr>\n",
              "      <th>PaymentMethod_Bank transfer (automatic)</th>\n",
              "      <td>-0.172620</td>\n",
              "    </tr>\n",
              "    <tr>\n",
              "      <th>PaymentMethod_Credit card (automatic)</th>\n",
              "      <td>-0.275625</td>\n",
              "    </tr>\n",
              "    <tr>\n",
              "      <th>PaymentMethod_Electronic check</th>\n",
              "      <td>0.396767</td>\n",
              "    </tr>\n",
              "  </tbody>\n",
              "</table>\n",
              "</div>"
            ],
            "text/plain": [
              "                                         Coefficient\n",
              "TotalCharges_minmax                        -3.572231\n",
              "StreamingMovies_No                         -0.318956\n",
              "StreamingMovies_No internet service        -1.917797\n",
              "StreamingTV_No                             -0.356068\n",
              "StreamingTV_No internet service            -0.291788\n",
              "TechSupport_No                              0.430336\n",
              "TechSupport_No internet service            -0.047939\n",
              "OnlineSecurity_No                           0.508794\n",
              "OnlineSecurity_No internet service         -0.010711\n",
              "OnlineBackup_No                             0.105267\n",
              "OnlineBackup_No internet service           -0.081376\n",
              "InternetService_DSL                        -1.286727\n",
              "InternetService_Fiber optic                 0.021195\n",
              "PhoneService_No                             0.187844\n",
              "Dependents_No                               0.278104\n",
              "DeviceProtection_No                         0.060001\n",
              "DeviceProtection_No internet service       -0.015626\n",
              "PaymentMethod_Bank transfer (automatic)    -0.172620\n",
              "PaymentMethod_Credit card (automatic)      -0.275625\n",
              "PaymentMethod_Electronic check              0.396767"
            ]
          },
          "metadata": {
            "tags": []
          },
          "execution_count": 292
        }
      ]
    },
    {
      "cell_type": "code",
      "metadata": {
        "colab": {
          "base_uri": "https://localhost:8080/"
        },
        "id": "ygxpofHmBrYB",
        "outputId": "8f0360b0-d9d9-427e-c16a-a75de467f63a"
      },
      "source": [
        "print('Area Under Curve:', \"%.4f\" % metrics.auc(fpr, tpr))\n",
        "print('Cross Validation Score:', \"%.4f\" % score_cv.mean())\n",
        "for j in range(4, 7):\n",
        "    print('Confusion Matrix', 'with thresold', float(j)/float(10), ':', '\\n',\n",
        "          confusion_matrix(y, [0 if i >= float(j)/float(10) else 1 for i in proba_y_0]))\n",
        "    print(classification_report(y, [0 if i >= float(j)/float(10) else 1 for i in proba_y_0]))"
      ],
      "execution_count": null,
      "outputs": [
        {
          "output_type": "stream",
          "text": [
            "Area Under Curve: 0.8276\n",
            "Cross Validation Score: 0.7946\n",
            "Confusion Matrix with thresold 0.4 : \n",
            " [[3917  232]\n",
            " [ 946  539]]\n",
            "              precision    recall  f1-score   support\n",
            "\n",
            "           0       0.81      0.94      0.87      4149\n",
            "           1       0.70      0.36      0.48      1485\n",
            "\n",
            "    accuracy                           0.79      5634\n",
            "   macro avg       0.75      0.65      0.67      5634\n",
            "weighted avg       0.78      0.79      0.77      5634\n",
            "\n",
            "Confusion Matrix with thresold 0.5 : \n",
            " [[3757  392]\n",
            " [ 765  720]]\n",
            "              precision    recall  f1-score   support\n",
            "\n",
            "           0       0.83      0.91      0.87      4149\n",
            "           1       0.65      0.48      0.55      1485\n",
            "\n",
            "    accuracy                           0.79      5634\n",
            "   macro avg       0.74      0.70      0.71      5634\n",
            "weighted avg       0.78      0.79      0.78      5634\n",
            "\n",
            "Confusion Matrix with thresold 0.6 : \n",
            " [[3557  592]\n",
            " [ 589  896]]\n",
            "              precision    recall  f1-score   support\n",
            "\n",
            "           0       0.86      0.86      0.86      4149\n",
            "           1       0.60      0.60      0.60      1485\n",
            "\n",
            "    accuracy                           0.79      5634\n",
            "   macro avg       0.73      0.73      0.73      5634\n",
            "weighted avg       0.79      0.79      0.79      5634\n",
            "\n"
          ],
          "name": "stdout"
        }
      ]
    },
    {
      "cell_type": "markdown",
      "metadata": {
        "id": "hroEKX1sBrYC"
      },
      "source": [
        "## Predict testing data"
      ]
    },
    {
      "cell_type": "code",
      "metadata": {
        "id": "6wTWdKi6BrYD"
      },
      "source": [
        "pred_val_test = LRM.predict(X_test)"
      ],
      "execution_count": null,
      "outputs": []
    },
    {
      "cell_type": "code",
      "metadata": {
        "colab": {
          "base_uri": "https://localhost:8080/"
        },
        "id": "G6IYZtJWBrYE",
        "outputId": "b72005ed-56f3-4df3-af46-2e5b1284d983"
      },
      "source": [
        "print(\"Accuracy from testing data: \", accuracy_score(y_test, pred_val_test, normalize = True, sample_weight = None))\n",
        "print(confusion_matrix(y_test, pred_val_test))\n",
        "print(\"Classification Report of Naive Bayes Model:\",\"\\n\",classification_report(y_test, pred_val_test))"
      ],
      "execution_count": null,
      "outputs": [
        {
          "output_type": "stream",
          "text": [
            "Accuracy from testing data:  0.7885024840312278\n",
            "[[927  98]\n",
            " [200 184]]\n",
            "Classification Report of Naive Bayes Model: \n",
            "               precision    recall  f1-score   support\n",
            "\n",
            "           0       0.82      0.90      0.86      1025\n",
            "           1       0.65      0.48      0.55       384\n",
            "\n",
            "    accuracy                           0.79      1409\n",
            "   macro avg       0.74      0.69      0.71      1409\n",
            "weighted avg       0.78      0.79      0.78      1409\n",
            "\n"
          ],
          "name": "stdout"
        }
      ]
    },
    {
      "cell_type": "markdown",
      "metadata": {
        "id": "o1C9XoBXB-DK"
      },
      "source": [
        "# Logistic Regression (without dropping any columns)-L1 regularization"
      ]
    },
    {
      "cell_type": "code",
      "metadata": {
        "id": "3dCXddXMB-DM"
      },
      "source": [
        "#split the data\n",
        "XnoDrop = XnoDrop.sort_values(['customerID'])\n",
        "ynoDrop = ynoDrop.sort_values(['customerID'])\n",
        "\n",
        "X, X_test, y, y_test = train_test_split(XnoDrop, ynoDrop, test_size=0.2, random_state = 10)"
      ],
      "execution_count": null,
      "outputs": []
    },
    {
      "cell_type": "code",
      "metadata": {
        "id": "ML7P43uqB-DN"
      },
      "source": [
        "# define the model\n",
        "LRM = LogisticRegression(penalty='l1', C=1,random_state=50, solver='liblinear')\n",
        "# change y column to datatype array\n",
        "array_y = y.values.ravel()\n",
        "# define cross val score\n",
        "score_cv = cross_val_score(LRM, X, array_y, cv=10)"
      ],
      "execution_count": null,
      "outputs": []
    },
    {
      "cell_type": "code",
      "metadata": {
        "id": "IhZ-eomNB-DR"
      },
      "source": [
        "#predict value of target based on cross validation\n",
        "predict_y = cross_val_predict(LRM, X, array_y, cv=10)"
      ],
      "execution_count": null,
      "outputs": []
    },
    {
      "cell_type": "code",
      "metadata": {
        "colab": {
          "base_uri": "https://localhost:8080/"
        },
        "id": "j1cs-mrfB-DS",
        "outputId": "eaebd286-1252-4718-9d51-42682676ff74"
      },
      "source": [
        "# Confusion matrix\n",
        "print(confusion_matrix(array_y, predict_y))"
      ],
      "execution_count": null,
      "outputs": [
        {
          "output_type": "stream",
          "text": [
            "[[3720  429]\n",
            " [ 675  810]]\n"
          ],
          "name": "stdout"
        }
      ]
    },
    {
      "cell_type": "code",
      "metadata": {
        "colab": {
          "base_uri": "https://localhost:8080/"
        },
        "id": "Kd99SstlB-DT",
        "outputId": "8b5d5b7e-c0ce-4f84-de8a-8fd7eb9de779"
      },
      "source": [
        "print(classification_report(array_y, predict_y))"
      ],
      "execution_count": null,
      "outputs": [
        {
          "output_type": "stream",
          "text": [
            "              precision    recall  f1-score   support\n",
            "\n",
            "           0       0.85      0.90      0.87      4149\n",
            "           1       0.65      0.55      0.59      1485\n",
            "\n",
            "    accuracy                           0.80      5634\n",
            "   macro avg       0.75      0.72      0.73      5634\n",
            "weighted avg       0.80      0.80      0.80      5634\n",
            "\n"
          ],
          "name": "stdout"
        }
      ]
    },
    {
      "cell_type": "code",
      "metadata": {
        "colab": {
          "base_uri": "https://localhost:8080/"
        },
        "id": "wiPZGAnjB-DU",
        "outputId": "34a085c6-d0cc-43ec-b015-1796f24ecfa4"
      },
      "source": [
        "# probablities for each prediction\n",
        "proba_y = cross_val_predict(LRM, X, array_y, cv=10, method='predict_proba')\n",
        "proba_y"
      ],
      "execution_count": null,
      "outputs": [
        {
          "output_type": "execute_result",
          "data": {
            "text/plain": [
              "array([[0.83579064, 0.16420936],\n",
              "       [0.96024264, 0.03975736],\n",
              "       [0.94746287, 0.05253713],\n",
              "       ...,\n",
              "       [0.88069291, 0.11930709],\n",
              "       [0.46588319, 0.53411681],\n",
              "       [0.6407846 , 0.3592154 ]])"
            ]
          },
          "metadata": {
            "tags": []
          },
          "execution_count": 301
        }
      ]
    },
    {
      "cell_type": "code",
      "metadata": {
        "colab": {
          "base_uri": "https://localhost:8080/"
        },
        "id": "4i54c4yDB-DW",
        "outputId": "fdae9b8a-caa8-48b1-dcb6-d023d0081b8b"
      },
      "source": [
        "# probablities for each prediction\n",
        "proba_y = cross_val_predict(LRM, X, array_y, cv=10, method='predict_proba')\n",
        "proba_y"
      ],
      "execution_count": null,
      "outputs": [
        {
          "output_type": "execute_result",
          "data": {
            "text/plain": [
              "array([[0.83579064, 0.16420936],\n",
              "       [0.96024264, 0.03975736],\n",
              "       [0.94746287, 0.05253713],\n",
              "       ...,\n",
              "       [0.88069291, 0.11930709],\n",
              "       [0.46588319, 0.53411681],\n",
              "       [0.6407846 , 0.3592154 ]])"
            ]
          },
          "metadata": {
            "tags": []
          },
          "execution_count": 302
        }
      ]
    },
    {
      "cell_type": "code",
      "metadata": {
        "id": "0_rb67nGB-DY"
      },
      "source": [
        "# Set threshold for '0' to be 0.7\n",
        "proba_y_0_thresold7= [0 if i >= 0.7 else 1 for i in proba_y_0]"
      ],
      "execution_count": null,
      "outputs": []
    },
    {
      "cell_type": "code",
      "metadata": {
        "colab": {
          "base_uri": "https://localhost:8080/"
        },
        "id": "WW2TmaGwB-Da",
        "outputId": "b20c4308-4d78-467b-b731-e80bc36e3580"
      },
      "source": [
        "print(\"Confusion Matrix:\", '\\n',confusion_matrix(y, proba_y_0_thresold7))"
      ],
      "execution_count": null,
      "outputs": [
        {
          "output_type": "stream",
          "text": [
            "Confusion Matrix: \n",
            " [[3246  903]\n",
            " [ 418 1067]]\n"
          ],
          "name": "stdout"
        }
      ]
    },
    {
      "cell_type": "code",
      "metadata": {
        "colab": {
          "base_uri": "https://localhost:8080/"
        },
        "id": "7pm_0BEgB-Db",
        "outputId": "2ff06566-7685-4e9c-daae-4b9c75b872e0"
      },
      "source": [
        "print(\"Accuracy:\",accuracy_score(y, proba_y_0_thresold7, normalize=True, sample_weight=None))"
      ],
      "execution_count": null,
      "outputs": [
        {
          "output_type": "stream",
          "text": [
            "Accuracy: 0.7655307064252751\n"
          ],
          "name": "stdout"
        }
      ]
    },
    {
      "cell_type": "code",
      "metadata": {
        "id": "MGZtt3-mB-Db"
      },
      "source": [
        "# calculate tpr and fpr based on different thresholds\n",
        "fpr, tpr, thresholds = metrics.roc_curve(array_y,proba_y_0,pos_label=0)"
      ],
      "execution_count": null,
      "outputs": []
    },
    {
      "cell_type": "code",
      "metadata": {
        "colab": {
          "base_uri": "https://localhost:8080/"
        },
        "id": "e610ttoEB-Dc",
        "outputId": "9727347e-9168-44db-fa0e-2b2e7131005b"
      },
      "source": [
        "display(\"Area under curve: \" + str(metrics.auc(fpr, tpr)), plt.plot(fpr,tpr))"
      ],
      "execution_count": null,
      "outputs": [
        {
          "output_type": "display_data",
          "data": {
            "application/vnd.google.colaboratory.intrinsic+json": {
              "type": "string"
            },
            "text/plain": [
              "'Area under curve: 0.8275706368740835'"
            ]
          },
          "metadata": {
            "tags": []
          }
        },
        {
          "output_type": "display_data",
          "data": {
            "text/plain": [
              "[<matplotlib.lines.Line2D at 0x7f152e2cbf90>]"
            ]
          },
          "metadata": {
            "tags": []
          }
        },
        {
          "output_type": "display_data",
          "data": {
            "image/png": "[encoded data removed]",
            "text/plain": [
              "<Figure size 432x288 with 1 Axes>"
            ]
          },
          "metadata": {
            "tags": [],
            "needs_background": "light"
          }
        }
      ]
    },
    {
      "cell_type": "code",
      "metadata": {
        "colab": {
          "base_uri": "https://localhost:8080/"
        },
        "id": "ipUPjjKgB-Dd",
        "outputId": "20629801-c9d9-44c3-db5b-916c38d410e4"
      },
      "source": [
        "LRM.fit(X, array_y)"
      ],
      "execution_count": null,
      "outputs": [
        {
          "output_type": "execute_result",
          "data": {
            "text/plain": [
              "LogisticRegression(C=1, class_weight=None, dual=False, fit_intercept=True,\n",
              "                   intercept_scaling=1, l1_ratio=None, max_iter=100,\n",
              "                   multi_class='auto', n_jobs=None, penalty='l1',\n",
              "                   random_state=50, solver='liblinear', tol=0.0001, verbose=0,\n",
              "                   warm_start=False)"
            ]
          },
          "metadata": {
            "tags": []
          },
          "execution_count": 308
        }
      ]
    },
    {
      "cell_type": "code",
      "metadata": {
        "colab": {
          "base_uri": "https://localhost:8080/"
        },
        "id": "pHmHWgnUB-Dd",
        "outputId": "5936c513-2e44-47e3-a358-82aceda34852"
      },
      "source": [
        "# show the intercept of the trained model (Theta_0)\n",
        "LRM.intercept_"
      ],
      "execution_count": null,
      "outputs": [
        {
          "output_type": "execute_result",
          "data": {
            "text/plain": [
              "array([-1.00358723])"
            ]
          },
          "metadata": {
            "tags": []
          },
          "execution_count": 309
        }
      ]
    },
    {
      "cell_type": "code",
      "metadata": {
        "colab": {
          "base_uri": "https://localhost:8080/"
        },
        "id": "9Nw4rDxEB-De",
        "outputId": "071d25e4-bc25-45a5-c3f6-92edd047ddd6"
      },
      "source": [
        "# show the coefficients of independent attributes\n",
        "coeff_df = pd.DataFrame(LRM.coef_.flatten(), X.columns, columns=['Coefficient'])  \n",
        "coeff_df"
      ],
      "execution_count": null,
      "outputs": [
        {
          "output_type": "execute_result",
          "data": {
            "text/html": [
              "<div>\n",
              "<style scoped>\n",
              "    .dataframe tbody tr th:only-of-type {\n",
              "        vertical-align: middle;\n",
              "    }\n",
              "\n",
              "    .dataframe tbody tr th {\n",
              "        vertical-align: top;\n",
              "    }\n",
              "\n",
              "    .dataframe thead th {\n",
              "        text-align: right;\n",
              "    }\n",
              "</style>\n",
              "<table border=\"1\" class=\"dataframe\">\n",
              "  <thead>\n",
              "    <tr style=\"text-align: right;\">\n",
              "      <th></th>\n",
              "      <th>Coefficient</th>\n",
              "    </tr>\n",
              "  </thead>\n",
              "  <tbody>\n",
              "    <tr>\n",
              "      <th>tenure</th>\n",
              "      <td>-0.053390</td>\n",
              "    </tr>\n",
              "    <tr>\n",
              "      <th>MonthlyCharges_minmax</th>\n",
              "      <td>0.000000</td>\n",
              "    </tr>\n",
              "    <tr>\n",
              "      <th>TotalCharges_minmax</th>\n",
              "      <td>2.051120</td>\n",
              "    </tr>\n",
              "    <tr>\n",
              "      <th>SeniorCitizen</th>\n",
              "      <td>-0.226276</td>\n",
              "    </tr>\n",
              "    <tr>\n",
              "      <th>gender_Female</th>\n",
              "      <td>-0.000029</td>\n",
              "    </tr>\n",
              "    <tr>\n",
              "      <th>Partner_No</th>\n",
              "      <td>0.029184</td>\n",
              "    </tr>\n",
              "    <tr>\n",
              "      <th>MultipleLines_No</th>\n",
              "      <td>-0.271135</td>\n",
              "    </tr>\n",
              "    <tr>\n",
              "      <th>MultipleLines_No phone service</th>\n",
              "      <td>0.277461</td>\n",
              "    </tr>\n",
              "    <tr>\n",
              "      <th>Contract_Month-to-month</th>\n",
              "      <td>1.348919</td>\n",
              "    </tr>\n",
              "    <tr>\n",
              "      <th>Contract_One year</th>\n",
              "      <td>0.724199</td>\n",
              "    </tr>\n",
              "    <tr>\n",
              "      <th>PaperlessBilling_No</th>\n",
              "      <td>-0.255917</td>\n",
              "    </tr>\n",
              "    <tr>\n",
              "      <th>StreamingMovies_No</th>\n",
              "      <td>-0.199296</td>\n",
              "    </tr>\n",
              "    <tr>\n",
              "      <th>StreamingMovies_No internet service</th>\n",
              "      <td>0.000000</td>\n",
              "    </tr>\n",
              "    <tr>\n",
              "      <th>StreamingTV_No</th>\n",
              "      <td>-0.241087</td>\n",
              "    </tr>\n",
              "    <tr>\n",
              "      <th>StreamingTV_No internet service</th>\n",
              "      <td>-1.035340</td>\n",
              "    </tr>\n",
              "    <tr>\n",
              "      <th>TechSupport_No</th>\n",
              "      <td>0.338040</td>\n",
              "    </tr>\n",
              "    <tr>\n",
              "      <th>TechSupport_No internet service</th>\n",
              "      <td>0.000000</td>\n",
              "    </tr>\n",
              "    <tr>\n",
              "      <th>OnlineSecurity_No</th>\n",
              "      <td>0.418235</td>\n",
              "    </tr>\n",
              "    <tr>\n",
              "      <th>OnlineSecurity_No internet service</th>\n",
              "      <td>0.000000</td>\n",
              "    </tr>\n",
              "    <tr>\n",
              "      <th>OnlineBackup_No</th>\n",
              "      <td>0.169692</td>\n",
              "    </tr>\n",
              "    <tr>\n",
              "      <th>OnlineBackup_No internet service</th>\n",
              "      <td>-0.019838</td>\n",
              "    </tr>\n",
              "    <tr>\n",
              "      <th>InternetService_DSL</th>\n",
              "      <td>-0.782004</td>\n",
              "    </tr>\n",
              "    <tr>\n",
              "      <th>InternetService_Fiber optic</th>\n",
              "      <td>0.000000</td>\n",
              "    </tr>\n",
              "    <tr>\n",
              "      <th>PhoneService_No</th>\n",
              "      <td>0.115234</td>\n",
              "    </tr>\n",
              "    <tr>\n",
              "      <th>Dependents_No</th>\n",
              "      <td>0.095631</td>\n",
              "    </tr>\n",
              "    <tr>\n",
              "      <th>DeviceProtection_No</th>\n",
              "      <td>0.024537</td>\n",
              "    </tr>\n",
              "    <tr>\n",
              "      <th>DeviceProtection_No internet service</th>\n",
              "      <td>0.000000</td>\n",
              "    </tr>\n",
              "    <tr>\n",
              "      <th>PaymentMethod_Bank transfer (automatic)</th>\n",
              "      <td>0.000000</td>\n",
              "    </tr>\n",
              "    <tr>\n",
              "      <th>PaymentMethod_Credit card (automatic)</th>\n",
              "      <td>-0.092522</td>\n",
              "    </tr>\n",
              "    <tr>\n",
              "      <th>PaymentMethod_Electronic check</th>\n",
              "      <td>0.395007</td>\n",
              "    </tr>\n",
              "  </tbody>\n",
              "</table>\n",
              "</div>"
            ],
            "text/plain": [
              "                                         Coefficient\n",
              "tenure                                     -0.053390\n",
              "MonthlyCharges_minmax                       0.000000\n",
              "TotalCharges_minmax                         2.051120\n",
              "SeniorCitizen                              -0.226276\n",
              "gender_Female                              -0.000029\n",
              "Partner_No                                  0.029184\n",
              "MultipleLines_No                           -0.271135\n",
              "MultipleLines_No phone service              0.277461\n",
              "Contract_Month-to-month                     1.348919\n",
              "Contract_One year                           0.724199\n",
              "PaperlessBilling_No                        -0.255917\n",
              "StreamingMovies_No                         -0.199296\n",
              "StreamingMovies_No internet service         0.000000\n",
              "StreamingTV_No                             -0.241087\n",
              "StreamingTV_No internet service            -1.035340\n",
              "TechSupport_No                              0.338040\n",
              "TechSupport_No internet service             0.000000\n",
              "OnlineSecurity_No                           0.418235\n",
              "OnlineSecurity_No internet service          0.000000\n",
              "OnlineBackup_No                             0.169692\n",
              "OnlineBackup_No internet service           -0.019838\n",
              "InternetService_DSL                        -0.782004\n",
              "InternetService_Fiber optic                 0.000000\n",
              "PhoneService_No                             0.115234\n",
              "Dependents_No                               0.095631\n",
              "DeviceProtection_No                         0.024537\n",
              "DeviceProtection_No internet service        0.000000\n",
              "PaymentMethod_Bank transfer (automatic)     0.000000\n",
              "PaymentMethod_Credit card (automatic)      -0.092522\n",
              "PaymentMethod_Electronic check              0.395007"
            ]
          },
          "metadata": {
            "tags": []
          },
          "execution_count": 310
        }
      ]
    },
    {
      "cell_type": "code",
      "metadata": {
        "colab": {
          "base_uri": "https://localhost:8080/"
        },
        "id": "yB2nMKXUB-Df",
        "outputId": "be61c3e6-cc92-48be-ec43-b5b043af11c4"
      },
      "source": [
        "print('Area Under Curve:', \"%.4f\" % metrics.auc(fpr, tpr))\n",
        "print('Cross Validation Score:', \"%.4f\" % score_cv.mean())\n",
        "for j in range(4, 7):\n",
        "    print('Confusion Matrix', 'with thresold', float(j)/float(10), ':', '\\n',\n",
        "          confusion_matrix(y, [0 if i >= float(j)/float(10) else 1 for i in proba_y_0]))\n",
        "    print(classification_report(y, [0 if i >= float(j)/float(10) else 1 for i in proba_y_0]))"
      ],
      "execution_count": null,
      "outputs": [
        {
          "output_type": "stream",
          "text": [
            "Area Under Curve: 0.8276\n",
            "Cross Validation Score: 0.8040\n",
            "Confusion Matrix with thresold 0.4 : \n",
            " [[3917  232]\n",
            " [ 946  539]]\n",
            "              precision    recall  f1-score   support\n",
            "\n",
            "           0       0.81      0.94      0.87      4149\n",
            "           1       0.70      0.36      0.48      1485\n",
            "\n",
            "    accuracy                           0.79      5634\n",
            "   macro avg       0.75      0.65      0.67      5634\n",
            "weighted avg       0.78      0.79      0.77      5634\n",
            "\n",
            "Confusion Matrix with thresold 0.5 : \n",
            " [[3757  392]\n",
            " [ 765  720]]\n",
            "              precision    recall  f1-score   support\n",
            "\n",
            "           0       0.83      0.91      0.87      4149\n",
            "           1       0.65      0.48      0.55      1485\n",
            "\n",
            "    accuracy                           0.79      5634\n",
            "   macro avg       0.74      0.70      0.71      5634\n",
            "weighted avg       0.78      0.79      0.78      5634\n",
            "\n",
            "Confusion Matrix with thresold 0.6 : \n",
            " [[3557  592]\n",
            " [ 589  896]]\n",
            "              precision    recall  f1-score   support\n",
            "\n",
            "           0       0.86      0.86      0.86      4149\n",
            "           1       0.60      0.60      0.60      1485\n",
            "\n",
            "    accuracy                           0.79      5634\n",
            "   macro avg       0.73      0.73      0.73      5634\n",
            "weighted avg       0.79      0.79      0.79      5634\n",
            "\n"
          ],
          "name": "stdout"
        }
      ]
    },
    {
      "cell_type": "markdown",
      "metadata": {
        "id": "S5ekmIuRB-Df"
      },
      "source": [
        "## Predict testing data"
      ]
    },
    {
      "cell_type": "code",
      "metadata": {
        "id": "rIFokOeyB-Dg"
      },
      "source": [
        "pred_val_test = LRM.predict(X_test)"
      ],
      "execution_count": null,
      "outputs": []
    },
    {
      "cell_type": "code",
      "metadata": {
        "colab": {
          "base_uri": "https://localhost:8080/"
        },
        "id": "ZyDF-9w1B-Dg",
        "outputId": "0a2913d3-fd82-4ab5-d18d-be1705ded72a"
      },
      "source": [
        "print(\"Accuracy from testing data: \", accuracy_score(y_test, pred_val_test, normalize = True, sample_weight = None))\n",
        "print(confusion_matrix(y_test, pred_val_test))\n",
        "print(\"Classification Report of Naive Bayes Model:\",\"\\n\",classification_report(y_test, pred_val_test))"
      ],
      "execution_count": null,
      "outputs": [
        {
          "output_type": "stream",
          "text": [
            "Accuracy from testing data:  0.7955997161107168\n",
            "[[910 115]\n",
            " [173 211]]\n",
            "Classification Report of Naive Bayes Model: \n",
            "               precision    recall  f1-score   support\n",
            "\n",
            "           0       0.84      0.89      0.86      1025\n",
            "           1       0.65      0.55      0.59       384\n",
            "\n",
            "    accuracy                           0.80      1409\n",
            "   macro avg       0.74      0.72      0.73      1409\n",
            "weighted avg       0.79      0.80      0.79      1409\n",
            "\n"
          ],
          "name": "stdout"
        }
      ]
    },
    {
      "cell_type": "markdown",
      "metadata": {
        "id": "CQDqJaAE8j7F"
      },
      "source": [
        "Among the models, the model including all variables with L2-regularization performs the best in cross\n",
        "validation score, recall and AUC. It also gets the same score with the model dropping the variables in\n",
        "precision. Therefore, we believe that the model including all variables with L2-regularization is the\n",
        "best model to predict testing data. \n",
        "\n",
        "We find that models including all variables perform better than the others in general. It is believed that\n",
        "models with more attributes acquire more predictive power. According to the MCA above, most of the\n",
        "dropped variables are much closer to the churn. It explains that models with dropped variables have\n",
        "strong predictive power, while the remaining variables have less predictive power, and therefore it\n",
        "performs better than models with remaining variables in all aspects.\n",
        "\n",
        "There is one finding very surprising. Models without regularization get higher scores in cross\n",
        "validation score, recall and AUC in average. It has the same score with models including\n",
        "L2-regularization in precision and accuracy. This result is disappointing. We expected models with\n",
        "regularization should perform better than models without regularization as the purpose of\n",
        "regularization is to avoid overfitting issues. Upon further investigation, we found that the complexity\n",
        "of logistics regression is not high (compared to decision tree) and the data set is rather large, therefore\n",
        "overfitting should not be a problem. L1-regularization can also shrink the less important feature’s\n",
        "coefficient to 0. This should work well for feature selection in case we have a huge number of\n",
        "features."
      ]
    },
    {
      "cell_type": "markdown",
      "metadata": {
        "id": "syjMLekH93UG"
      },
      "source": [
        "**Interaction effect**\n",
        "\n",
        "Tenure has 0.002976 coefficient in the “Remaining variable” model, it’s close to 0. While the one with\n",
        "L1 regularization has -0.007676 coefficient. The coefficient of all the interaction variables with tenure\n",
        "for L1 regularization is 0 or near 0. The difference in the sign is due to the interactions effect. This\n",
        "means that the longer the tenure is, the less likely customers are related to other variables as well.\n",
        "\n",
        "The relationship of the interaction variable and tenure would be explained below: clients with a longer\n",
        "tenure sign a longer contract (2 year). Those with multiple lines have a longer tenure. It means that\n",
        "those with longer tenure are loyal customers as they would sign up for multiple lines services.\n",
        "Therefore, we would like to explore whether those who stayed with Telco longer would also sign up\n",
        "for other services.\n",
        "\n",
        "For those who signed up for more Telco services except phone services have a longer tenure.\n",
        "Furthermore, the dropped variables model has a higher prediction power than the remaining variable\n",
        "model, and most of the dropped variables are columns on different services offered by Telco.\n",
        "Therefore, whether customers pay for more services have an extremely high impact on churn.\n",
        "\n",
        "Another way to interpret the result is that those who are more dependent on Telecom tend to stay with\n",
        "the company longer as the cost of changing to another company is higher than those who have less\n",
        "dependency on Telecom services."
      ]
    },
    {
      "cell_type": "markdown",
      "metadata": {
        "id": "jKKeYUFLAqeM"
      },
      "source": [
        "**Confounding variable**\n",
        "In the “Full model without regularization”, the coefficient for monthly charges is negative (-628),\n",
        "indicating the more you charge, the less likely customers will churn. This result is not logical at all, as\n",
        "it is expected that customers are price-sensitive and prefer a cheap plan.\n",
        "\n",
        "Therefore, “Monthly Charges” is an example of confounding variables, which is caused by\n",
        "multicollinearity. Such multicollinearity was proved by the “Remaining model”, which shows that a\n",
        "higher monthly charges would lead to a higher churn rate, with a positive coefficient of 149.\n",
        "\n",
        "The confusing coefficient from the full model of monthly charges is due to the fact that most\n",
        "customers who sign up for more services have high correlation with monthly charges, the correlation\n",
        "effect affects the full model coefficient. The implication of this is that Telco needs to strike a balance\n",
        "between cost and services provided."
      ]
    }
  ]
}