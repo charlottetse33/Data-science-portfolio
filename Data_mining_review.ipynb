{
  "nbformat": 4,
  "nbformat_minor": 0,
  "metadata": {
    "kernelspec": {
      "display_name": "Python 3",
      "language": "python",
      "name": "python3"
    },
    "language_info": {
      "codemirror_mode": {
        "name": "ipython",
        "version": 3
      },
      "file_extension": ".py",
      "mimetype": "text/x-python",
      "name": "python",
      "nbconvert_exporter": "python",
      "pygments_lexer": "ipython3",
      "version": "3.7.4"
    },
    "colab": {
      "name": "Data_mining_review.ipynb",
      "provenance": [],
      "include_colab_link": true
    }
  },
  "cells": [
    {
      "cell_type": "markdown",
      "metadata": {
        "id": "view-in-github",
        "colab_type": "text"
      },
      "source": [
        "<a href=\"https://colab.research.google.com/github/charlottetse33/portfolio/blob/main/Data_mining_review.ipynb\" target=\"_parent\"><img src=\"https://colab.research.google.com/assets/colab-badge.svg\" alt=\"Open In Colab\"/></a>"
      ]
    },
    {
      "cell_type": "markdown",
      "metadata": {
        "id": "JPet8KXjaGjL"
      },
      "source": [
        "# Data mining of reviews data for businesses in the US"
      ]
    },
    {
      "cell_type": "markdown",
      "metadata": {
        "id": "l0kYr-JtaGjQ"
      },
      "source": [
        "### Part 1: Explore features of dataset "
      ]
    },
    {
      "cell_type": "code",
      "metadata": {
        "id": "mtXzr7GRaGjR"
      },
      "source": [
        "#import pandas\n",
        "import pandas as pd\n",
        "import numpy as np\n",
        "#read csv\n",
        "data = pd.read_csv('https://raw.githubusercontent.com/charlottetse33/portfolio/main/US%20business%20reviews/review.csv')"
      ],
      "execution_count": 27,
      "outputs": []
    },
    {
      "cell_type": "code",
      "metadata": {
        "colab": {
          "base_uri": "https://localhost:8080/"
        },
        "id": "smcDziSvaGjT",
        "outputId": "724fed87-933a-4b8c-ef07-f64969215af6"
      },
      "source": [
        "#1.1 Shape of the dataset\n",
        "data.shape"
      ],
      "execution_count": 28,
      "outputs": [
        {
          "output_type": "execute_result",
          "data": {
            "text/plain": [
              "(10000, 10)"
            ]
          },
          "metadata": {},
          "execution_count": 28
        }
      ]
    },
    {
      "cell_type": "code",
      "metadata": {
        "colab": {
          "base_uri": "https://localhost:8080/",
          "height": 0
        },
        "id": "ReB1C_53aGjV",
        "outputId": "5ba44d25-4866-4000-89bb-5494a227d1aa"
      },
      "source": [
        "#1.1 descriptive statistics of all numeric columns\n",
        "data.describe()"
      ],
      "execution_count": 29,
      "outputs": [
        {
          "output_type": "execute_result",
          "data": {
            "text/html": [
              "<div>\n",
              "<style scoped>\n",
              "    .dataframe tbody tr th:only-of-type {\n",
              "        vertical-align: middle;\n",
              "    }\n",
              "\n",
              "    .dataframe tbody tr th {\n",
              "        vertical-align: top;\n",
              "    }\n",
              "\n",
              "    .dataframe thead th {\n",
              "        text-align: right;\n",
              "    }\n",
              "</style>\n",
              "<table border=\"1\" class=\"dataframe\">\n",
              "  <thead>\n",
              "    <tr style=\"text-align: right;\">\n",
              "      <th></th>\n",
              "      <th>stars</th>\n",
              "      <th>cool</th>\n",
              "      <th>useful</th>\n",
              "      <th>funny</th>\n",
              "    </tr>\n",
              "  </thead>\n",
              "  <tbody>\n",
              "    <tr>\n",
              "      <th>count</th>\n",
              "      <td>10000.000000</td>\n",
              "      <td>10000.000000</td>\n",
              "      <td>10000.000000</td>\n",
              "      <td>10000.000000</td>\n",
              "    </tr>\n",
              "    <tr>\n",
              "      <th>mean</th>\n",
              "      <td>3.777500</td>\n",
              "      <td>0.876800</td>\n",
              "      <td>1.409300</td>\n",
              "      <td>0.701300</td>\n",
              "    </tr>\n",
              "    <tr>\n",
              "      <th>std</th>\n",
              "      <td>1.214636</td>\n",
              "      <td>2.067861</td>\n",
              "      <td>2.336647</td>\n",
              "      <td>1.907942</td>\n",
              "    </tr>\n",
              "    <tr>\n",
              "      <th>min</th>\n",
              "      <td>1.000000</td>\n",
              "      <td>0.000000</td>\n",
              "      <td>0.000000</td>\n",
              "      <td>0.000000</td>\n",
              "    </tr>\n",
              "    <tr>\n",
              "      <th>25%</th>\n",
              "      <td>3.000000</td>\n",
              "      <td>0.000000</td>\n",
              "      <td>0.000000</td>\n",
              "      <td>0.000000</td>\n",
              "    </tr>\n",
              "    <tr>\n",
              "      <th>50%</th>\n",
              "      <td>4.000000</td>\n",
              "      <td>0.000000</td>\n",
              "      <td>1.000000</td>\n",
              "      <td>0.000000</td>\n",
              "    </tr>\n",
              "    <tr>\n",
              "      <th>75%</th>\n",
              "      <td>5.000000</td>\n",
              "      <td>1.000000</td>\n",
              "      <td>2.000000</td>\n",
              "      <td>1.000000</td>\n",
              "    </tr>\n",
              "    <tr>\n",
              "      <th>max</th>\n",
              "      <td>5.000000</td>\n",
              "      <td>77.000000</td>\n",
              "      <td>76.000000</td>\n",
              "      <td>57.000000</td>\n",
              "    </tr>\n",
              "  </tbody>\n",
              "</table>\n",
              "</div>"
            ],
            "text/plain": [
              "              stars          cool        useful         funny\n",
              "count  10000.000000  10000.000000  10000.000000  10000.000000\n",
              "mean       3.777500      0.876800      1.409300      0.701300\n",
              "std        1.214636      2.067861      2.336647      1.907942\n",
              "min        1.000000      0.000000      0.000000      0.000000\n",
              "25%        3.000000      0.000000      0.000000      0.000000\n",
              "50%        4.000000      0.000000      1.000000      0.000000\n",
              "75%        5.000000      1.000000      2.000000      1.000000\n",
              "max        5.000000     77.000000     76.000000     57.000000"
            ]
          },
          "metadata": {},
          "execution_count": 29
        }
      ]
    },
    {
      "cell_type": "code",
      "metadata": {
        "colab": {
          "base_uri": "https://localhost:8080/"
        },
        "id": "K92RX4bBaGjV",
        "outputId": "5a4cfb53-255c-4098-f190-046bd103551d"
      },
      "source": [
        "#1.1 check if there are any missing values in the dataset\n",
        "data.isnull().sum()"
      ],
      "execution_count": 30,
      "outputs": [
        {
          "output_type": "execute_result",
          "data": {
            "text/plain": [
              "business_id    0\n",
              "date           0\n",
              "review_id      0\n",
              "stars          0\n",
              "text           0\n",
              "type           0\n",
              "user_id        0\n",
              "cool           0\n",
              "useful         0\n",
              "funny          0\n",
              "dtype: int64"
            ]
          },
          "metadata": {},
          "execution_count": 30
        }
      ]
    },
    {
      "cell_type": "code",
      "metadata": {
        "colab": {
          "base_uri": "https://localhost:8080/",
          "height": 0
        },
        "id": "V6lUk86HaGjW",
        "outputId": "e4bc1b09-e027-40ea-e9d3-dcada58c72ca"
      },
      "source": [
        "#1.2 distribution of star ratings\n",
        "df = pd.DataFrame(data.stars.value_counts().sort_index()).reset_index()\n",
        "df.columns = ['Stars', 'Quantity']\n",
        "df"
      ],
      "execution_count": 31,
      "outputs": [
        {
          "output_type": "execute_result",
          "data": {
            "text/html": [
              "<div>\n",
              "<style scoped>\n",
              "    .dataframe tbody tr th:only-of-type {\n",
              "        vertical-align: middle;\n",
              "    }\n",
              "\n",
              "    .dataframe tbody tr th {\n",
              "        vertical-align: top;\n",
              "    }\n",
              "\n",
              "    .dataframe thead th {\n",
              "        text-align: right;\n",
              "    }\n",
              "</style>\n",
              "<table border=\"1\" class=\"dataframe\">\n",
              "  <thead>\n",
              "    <tr style=\"text-align: right;\">\n",
              "      <th></th>\n",
              "      <th>Stars</th>\n",
              "      <th>Quantity</th>\n",
              "    </tr>\n",
              "  </thead>\n",
              "  <tbody>\n",
              "    <tr>\n",
              "      <th>0</th>\n",
              "      <td>1</td>\n",
              "      <td>749</td>\n",
              "    </tr>\n",
              "    <tr>\n",
              "      <th>1</th>\n",
              "      <td>2</td>\n",
              "      <td>927</td>\n",
              "    </tr>\n",
              "    <tr>\n",
              "      <th>2</th>\n",
              "      <td>3</td>\n",
              "      <td>1461</td>\n",
              "    </tr>\n",
              "    <tr>\n",
              "      <th>3</th>\n",
              "      <td>4</td>\n",
              "      <td>3526</td>\n",
              "    </tr>\n",
              "    <tr>\n",
              "      <th>4</th>\n",
              "      <td>5</td>\n",
              "      <td>3337</td>\n",
              "    </tr>\n",
              "  </tbody>\n",
              "</table>\n",
              "</div>"
            ],
            "text/plain": [
              "   Stars  Quantity\n",
              "0      1       749\n",
              "1      2       927\n",
              "2      3      1461\n",
              "3      4      3526\n",
              "4      5      3337"
            ]
          },
          "metadata": {},
          "execution_count": 31
        }
      ]
    },
    {
      "cell_type": "code",
      "metadata": {
        "colab": {
          "base_uri": "https://localhost:8080/"
        },
        "id": "cT31o7qwaGjX",
        "outputId": "9d9fad48-5749-45f1-e154-ec9e006faf60"
      },
      "source": [
        "#1.3 How many businesses were reviewed\n",
        "data['business_id'].nunique()"
      ],
      "execution_count": 32,
      "outputs": [
        {
          "output_type": "execute_result",
          "data": {
            "text/plain": [
              "4174"
            ]
          },
          "metadata": {},
          "execution_count": 32
        }
      ]
    },
    {
      "cell_type": "code",
      "metadata": {
        "colab": {
          "base_uri": "https://localhost:8080/"
        },
        "id": "A7nxSvTfaGjX",
        "outputId": "1be8e77c-1c76-47b2-e2c6-9672cbe77c29"
      },
      "source": [
        "#1.4 top 10 businesses with best average ratings \n",
        "data.groupby('business_id').stars.mean().sort_values(ascending=False).head(10)"
      ],
      "execution_count": 33,
      "outputs": [
        {
          "output_type": "execute_result",
          "data": {
            "text/plain": [
              "business_id\n",
              "zyYRWnimLbQt9aCCI_2MZw    5.0\n",
              "o2rrTbAxGXrdQKQvKDcGiA    5.0\n",
              "oHjoahzL5F0m-OGDQouEGw    5.0\n",
              "PgcuQvFl76bx42xIFyhzVg    5.0\n",
              "oGYPsU7IJPhyVpd0F5lfTg    5.0\n",
              "PqJwKYHU_eHjw0q0NlULJw    5.0\n",
              "PrYz1XEnvGJ-5Q0VVPCLnQ    5.0\n",
              "oBVS96DtPGk9GU8zPx5Hjg    5.0\n",
              "PwtYeGu-19v9bU4nbP9UbA    5.0\n",
              "Q-dsvMlhEr9TgvX8FxW4uQ    5.0\n",
              "Name: stars, dtype: float64"
            ]
          },
          "metadata": {},
          "execution_count": 33
        }
      ]
    },
    {
      "cell_type": "code",
      "metadata": {
        "colab": {
          "base_uri": "https://localhost:8080/"
        },
        "id": "-cbozbktaGjY",
        "outputId": "2e3d0b49-f516-4f9f-986b-c3d7305ee912"
      },
      "source": [
        "#1.5 top 10 businesses with best average ratings, but only those businesses with more than 10 reviews\n",
        "after=data          #'after' is just another similar dataframe for easier manipulation without affecting the original data\n",
        "after['number']=after.groupby('business_id')['business_id'].transform(len)\n",
        "after[after.number>10].groupby('business_id').stars.mean().sort_values(ascending=False).head(10)"
      ],
      "execution_count": 34,
      "outputs": [
        {
          "output_type": "execute_result",
          "data": {
            "text/plain": [
              "business_id\n",
              "KBG28p3lGX17hOPoHhq5PQ    4.818182\n",
              "z3yFuLVrmH-3RJruPEMYKw    4.769231\n",
              "Bc4DoKgrKCtCuN-0O5He3A    4.750000\n",
              "6oRAC4uyJCsJl1X0WZpVSA    4.583333\n",
              "7SO_rX1F6rQEl-5s3wZxgQ    4.571429\n",
              "zp713qNhx8d9KCJJnrw1xA    4.545455\n",
              "I4bSn5gXsHuSPu7L-d_8nQ    4.545455\n",
              "IuAPYzf3NSyfyXYgT46YVA    4.545455\n",
              "hfl62LX14YqNpG0g0Tj6_Q    4.533333\n",
              "L9UYbtAUOcfTgZFimehlXw    4.526316\n",
              "Name: stars, dtype: float64"
            ]
          },
          "metadata": {},
          "execution_count": 34
        }
      ]
    },
    {
      "cell_type": "code",
      "metadata": {
        "colab": {
          "base_uri": "https://localhost:8080/"
        },
        "id": "0ZX9KBdyaGjZ",
        "outputId": "28c41e3d-68d2-40b1-870a-0b3721e83702"
      },
      "source": [
        "#1.6 list top 10 reviewers whose reviews got the most total number of useful ratings\n",
        "data.groupby('user_id').useful.sum().sort_values(ascending=False).head(10)"
      ],
      "execution_count": 35,
      "outputs": [
        {
          "output_type": "execute_result",
          "data": {
            "text/plain": [
              "user_id\n",
              "fczQCSmaWF78toLEmb0Zsw    293\n",
              "C8ZTiwa7qWoPSMIivTeSfw    143\n",
              "P2kVk4cIWyK4e4h14RhK-Q    132\n",
              "4ozupHULqGyO42s3zNUzOQ    130\n",
              "0bNXP9quoJEgyVZu9ipGgQ    115\n",
              "sEWeeq41k4ohBz4jS_iGRw    103\n",
              "wHg1YkCzdZq9WBJOTRgxHQ    100\n",
              "kGgAARL2UmvCcTRfiscjug     82\n",
              "73eZuIuXVD5sif7GrIMfuQ     76\n",
              "C6IOtaaYdLIT5fWd7ZYIuA     74\n",
              "Name: useful, dtype: int64"
            ]
          },
          "metadata": {},
          "execution_count": 35
        }
      ]
    },
    {
      "cell_type": "code",
      "metadata": {
        "colab": {
          "base_uri": "https://localhost:8080/",
          "height": 0
        },
        "id": "SJYBS9s8aGjZ",
        "outputId": "9538de80-9f49-4277-fa3c-7aad2fcc5823"
      },
      "source": [
        "#1.7 Plot a bar chart for star ratings\n",
        "data.stars.value_counts().sort_index().plot(kind= 'bar')"
      ],
      "execution_count": 36,
      "outputs": [
        {
          "output_type": "execute_result",
          "data": {
            "text/plain": [
              "<matplotlib.axes._subplots.AxesSubplot at 0x7f4a384261d0>"
            ]
          },
          "metadata": {},
          "execution_count": 36
        },
        {
          "output_type": "display_data",
          "data": {
            "image/png": "[encoded data removed]",
            "text/plain": [
              "<Figure size 432x288 with 1 Axes>"
            ]
          },
          "metadata": {
            "needs_background": "light"
          }
        }
      ]
    },
    {
      "cell_type": "code",
      "metadata": {
        "colab": {
          "base_uri": "https://localhost:8080/",
          "height": 0
        },
        "id": "08TzEk_xaGja",
        "outputId": "567565f0-45d0-4312-d48b-af719155dd5b"
      },
      "source": [
        "#1.8 Plot and see the relationship between review text's lengths and cool/useful/funny\n",
        "import matplotlib.pyplot as plt\n",
        "import seaborn as sns\n",
        "after['review_length']=after.text.str.len()\n",
        "sns.pairplot(after, x_vars=['review_length'], y_vars=['cool'], size=7, aspect=0.7, kind='reg')"
      ],
      "execution_count": 37,
      "outputs": [
        {
          "output_type": "stream",
          "name": "stderr",
          "text": [
            "/usr/local/lib/python3.7/dist-packages/seaborn/axisgrid.py:1969: UserWarning: The `size` parameter has been renamed to `height`; please update your code.\n",
            "  warnings.warn(msg, UserWarning)\n"
          ]
        },
        {
          "output_type": "execute_result",
          "data": {
            "text/plain": [
              "<seaborn.axisgrid.PairGrid at 0x7f4a4137d210>"
            ]
          },
          "metadata": {},
          "execution_count": 37
        },
        {
          "output_type": "display_data",
          "data": {
            "image/png": "[encoded data removed]",
            "text/plain": [
              "<Figure size 352.8x504 with 1 Axes>"
            ]
          },
          "metadata": {
            "needs_background": "light"
          }
        }
      ]
    },
    {
      "cell_type": "code",
      "metadata": {
        "colab": {
          "base_uri": "https://localhost:8080/",
          "height": 0
        },
        "id": "JH610Pv0aGja",
        "outputId": "0603cc5a-0f3a-4366-8527-409fe8c33ad9"
      },
      "source": [
        "sns.pairplot(after, x_vars=['review_length'], y_vars=['useful'], size=7, aspect=0.7, kind='reg')"
      ],
      "execution_count": 38,
      "outputs": [
        {
          "output_type": "stream",
          "name": "stderr",
          "text": [
            "/usr/local/lib/python3.7/dist-packages/seaborn/axisgrid.py:1969: UserWarning: The `size` parameter has been renamed to `height`; please update your code.\n",
            "  warnings.warn(msg, UserWarning)\n"
          ]
        },
        {
          "output_type": "execute_result",
          "data": {
            "text/plain": [
              "<seaborn.axisgrid.PairGrid at 0x7f4a413e85d0>"
            ]
          },
          "metadata": {},
          "execution_count": 38
        },
        {
          "output_type": "display_data",
          "data": {
            "image/png": "[encoded data removed]",
            "text/plain": [
              "<Figure size 352.8x504 with 1 Axes>"
            ]
          },
          "metadata": {
            "needs_background": "light"
          }
        }
      ]
    },
    {
      "cell_type": "code",
      "metadata": {
        "colab": {
          "base_uri": "https://localhost:8080/",
          "height": 0
        },
        "id": "jllNMdwZaGjb",
        "outputId": "aafc6bca-d868-492d-f71b-251b31f5175a"
      },
      "source": [
        "sns.pairplot(after, x_vars=['review_length'], y_vars=['funny'], size=7, aspect=0.7, kind='reg')"
      ],
      "execution_count": 39,
      "outputs": [
        {
          "output_type": "stream",
          "name": "stderr",
          "text": [
            "/usr/local/lib/python3.7/dist-packages/seaborn/axisgrid.py:1969: UserWarning: The `size` parameter has been renamed to `height`; please update your code.\n",
            "  warnings.warn(msg, UserWarning)\n"
          ]
        },
        {
          "output_type": "execute_result",
          "data": {
            "text/plain": [
              "<seaborn.axisgrid.PairGrid at 0x7f4a376f7390>"
            ]
          },
          "metadata": {},
          "execution_count": 39
        },
        {
          "output_type": "display_data",
          "data": {
            "image/png": "[encoded data removed]",
            "text/plain": [
              "<Figure size 352.8x504 with 1 Axes>"
            ]
          },
          "metadata": {
            "needs_background": "light"
          }
        }
      ]
    },
    {
      "cell_type": "code",
      "metadata": {
        "colab": {
          "base_uri": "https://localhost:8080/"
        },
        "id": "sWHAbJ4naGjb",
        "outputId": "6223d64c-7905-437b-9ce6-4f661b7ccb02"
      },
      "source": [
        "#1.9 Find the mean number of stars in reviews for different months at any year\n",
        "after['date'] = pd.to_datetime(after['date'])\n",
        "after.groupby(after['date'].dt.strftime('%B'))['stars'].mean().sort_values(ascending=False)"
      ],
      "execution_count": 40,
      "outputs": [
        {
          "output_type": "execute_result",
          "data": {
            "text/plain": [
              "date\n",
              "January      3.823402\n",
              "September    3.820153\n",
              "March        3.819890\n",
              "February     3.795670\n",
              "July         3.787879\n",
              "December     3.786946\n",
              "June         3.760256\n",
              "October      3.755528\n",
              "August       3.748652\n",
              "April        3.743163\n",
              "May          3.742925\n",
              "November     3.739130\n",
              "Name: stars, dtype: float64"
            ]
          },
          "metadata": {},
          "execution_count": 40
        }
      ]
    },
    {
      "cell_type": "code",
      "metadata": {
        "colab": {
          "base_uri": "https://localhost:8080/",
          "height": 0
        },
        "id": "Do-e5ZM9aGjb",
        "outputId": "81a6d19b-55f0-4685-c831-311dee615b0d"
      },
      "source": [
        "# 1.9 Plot showing relationship between date (year 2005~2013) and stars \n",
        "#The graph shows that a higher proportion of reviews in year 2012/2013 are of more stars compared to the previous years\n",
        "after.sort_values('date',inplace=True)\n",
        "after.groupby('date').stars.mean().plot(style='.')"
      ],
      "execution_count": 41,
      "outputs": [
        {
          "output_type": "execute_result",
          "data": {
            "text/plain": [
              "<matplotlib.axes._subplots.AxesSubplot at 0x7f4a41380790>"
            ]
          },
          "metadata": {},
          "execution_count": 41
        },
        {
          "output_type": "display_data",
          "data": {
            "image/png": "[encoded data removed]",
            "text/plain": [
              "<Figure size 432x288 with 1 Axes>"
            ]
          },
          "metadata": {
            "needs_background": "light"
          }
        }
      ]
    },
    {
      "cell_type": "markdown",
      "metadata": {
        "id": "3iC0pJ7OaGjc"
      },
      "source": [
        "### Part 2: Predict star ratings from review text (Naive Bayes Model vs Logistic regression)"
      ]
    },
    {
      "cell_type": "code",
      "metadata": {
        "id": "XrHTuxvpaGjc"
      },
      "source": [
        "#Read the csv file again\n",
        "data = pd.read_csv('https://raw.githubusercontent.com/charlottetse33/portfolio/main/US%20business%20reviews/review.csv')\n",
        "after=data"
      ],
      "execution_count": 42,
      "outputs": []
    },
    {
      "cell_type": "code",
      "metadata": {
        "scrolled": true,
        "id": "Dd2F-V3GaGjc"
      },
      "source": [
        "#2.1 Train/test split data, and then predict. Report prediction accuracy and confusion matrix\n",
        "from sklearn.feature_extraction.text import CountVectorizer\n",
        "\n",
        "#train/test split\n",
        "X=after.text\n",
        "y=after.stars\n",
        "from sklearn.model_selection import train_test_split\n",
        "X_train, X_test, y_train, y_test = train_test_split(X, y, random_state=1)\n",
        "vect_review = CountVectorizer()\n",
        "vect_review.fit(X_train)\n",
        "\n",
        "# 'document-term matrix'\n",
        "X_train_dtm = vect_review.transform(X_train)\n",
        "X_train_dtm = vect_review.fit_transform(X_train)\n",
        "X_test_dtm = vect_review.transform(X_test)"
      ],
      "execution_count": 43,
      "outputs": []
    },
    {
      "cell_type": "markdown",
      "metadata": {
        "id": "Ry57FT7stI04"
      },
      "source": [
        "Multinomial Naive Bayes model"
      ]
    },
    {
      "cell_type": "code",
      "metadata": {
        "colab": {
          "base_uri": "https://localhost:8080/"
        },
        "id": "7B_NH7e8aGjd",
        "outputId": "3d98758e-6a45-4783-eafc-23fe99d2e3ec"
      },
      "source": [
        "from sklearn.naive_bayes import MultinomialNB\n",
        "nb = MultinomialNB()\n",
        "nb.fit(X_train_dtm, y_train)\n",
        "y_pred_class = nb.predict(X_test_dtm)\n",
        "\n",
        "#prediction accuracy\n",
        "from sklearn import metrics\n",
        "metrics.accuracy_score(y_test, y_pred_class)"
      ],
      "execution_count": 44,
      "outputs": [
        {
          "output_type": "execute_result",
          "data": {
            "text/plain": [
              "0.4712"
            ]
          },
          "metadata": {},
          "execution_count": 44
        }
      ]
    },
    {
      "cell_type": "markdown",
      "metadata": {
        "collapsed": false,
        "id": "y-VfbtA9aGjd"
      },
      "source": [
        "The accuracy rate is too low."
      ]
    },
    {
      "cell_type": "code",
      "metadata": {
        "colab": {
          "base_uri": "https://localhost:8080/"
        },
        "id": "Gzly3nZ-aGjd",
        "outputId": "5260caf9-725c-404a-b672-6e386ac09399"
      },
      "source": [
        "#confusion matrix\n",
        "metrics.confusion_matrix(y_test, y_pred_class)"
      ],
      "execution_count": 45,
      "outputs": [
        {
          "output_type": "execute_result",
          "data": {
            "text/plain": [
              "array([[ 55,  14,  24,  65,  27],\n",
              "       [ 28,  16,  41, 122,  27],\n",
              "       [  5,   7,  35, 281,  37],\n",
              "       [  7,   0,  16, 629, 232],\n",
              "       [  6,   4,   6, 373, 443]])"
            ]
          },
          "metadata": {},
          "execution_count": 45
        }
      ]
    },
    {
      "cell_type": "markdown",
      "metadata": {
        "id": "q1x06vWasi7m"
      },
      "source": [
        "![Capture.JPG](data:image/jpeg;base64,/9j/4AAQSkZJRgABAQEAkACQAAD/4RD0RXhpZgAATU0AKgAAAAgABAE7AAIAAAAOAAAISodpAAQAAAABAAAIWJydAAEAAAAcAAAQ0OocAAcAAAgMAAAAPgAAAAAc6gAAAAgAAAAAAAAAAAAAAAAAAAAAAAAAAAAAAAAAAAAAAAAAAAAAAAAAAAAAAAAAAAAAAAAAAAAAAAAAAAAAAAAAAAAAAAAAAAAAAAAAAAAAAAAAAAAAAAAAAAAAAAAAAAAAAAAAAAAAAAAAAAAAAAAAAAAAAAAAAAAAAAAAAAAAAAAAAAAAAAAAAAAAAAAAAAAAAAAAAAAAAAAAAAAAAAAAAAAAAAAAAAAAAAAAAAAAAAAAAAAAAAAAAAAAAAAAAAAAAAAAAAAAAAAAAAAAAAAAAAAAAAAAAAAAAAAAAAAAAAAAAAAAAAAAAAAAAAAAAAAAAAAAAAAAAAAAAAAAAAAAAAAAAAAAAAAAAAAAAAAAAAAAAAAAAAAAAAAAAAAAAAAAAAAAAAAAAAAAAAAAAAAAAAAAAAAAAAAAAAAAAAAAAAAAAAAAAAAAAAAAAAAAAAAAAAAAAAAAAAAAAAAAAAAAAAAAAAAAAAAAAAAAAAAAAAAAAAAAAAAAAAAAAAAAAAAAAAAAAAAAAAAAAAAAAAAAAAAAAAAAAAAAAAAAAAAAAAAAAAAAAAAAAAAAAAAAAAAAAAAAAAAAAAAAAAAAAAAAAAAAAAAAAAAAAAAAAAAAAAAAAAAAAAAAAAAAAAAAAAAAAAAAAAAAAAAAAAAAAAAAAAAAAAAAAAAAAAAAAAAAAAAAAAAAAAAAAAAAAAAAAAAAAAAAAAAAAAAAAAAAAAAAAAAAAAAAAAAAAAAAAAAAAAAAAAAAAAAAAAAAAAAAAAAAAAAAAAAAAAAAAAAAAAAAAAAAAAAAAAAAAAAAAAAAAAAAAAAAAAAAAAAAAAAAAAAAAAAAAAAAAAAAAAAAAAAAAAAAAAAAAAAAAAAAAAAAAAAAAAAAAAAAAAAAAAAAAAAAAAAAAAAAAAAAAAAAAAAAAAAAAAAAAAAAAAAAAAAAAAAAAAAAAAAAAAAAAAAAAAAAAAAAAAAAAAAAAAAAAAAAAAAAAAAAAAAAAAAAAAAAAAAAAAAAAAAAAAAAAAAAAAAAAAAAAAAAAAAAAAAAAAAAAAAAAAAAAAAAAAAAAAAAAAAAAAAAAAAAAAAAAAAAAAAAAAAAAAAAAAAAAAAAAAAAAAAAAAAAAAAAAAAAAAAAAAAAAAAAAAAAAAAAAAAAAAAAAAAAAAAAAAAAAAAAAAAAAAAAAAAAAAAAAAAAAAAAAAAAAAAAAAAAAAAAAAAAAAAAAAAAAAAAAAAAAAAAAAAAAAAAAAAAAAAAAAAAAAAAAAAAAAAAAAAAAAAAAAAAAAAAAAAAAAAAAAAAAAAAAAAAAAAAAAAAAAAAAAAAAAAAAAAAAAAAAAAAAAAAAAAAAAAAAAAAAAAAAAAAAAAAAAAAAAAAAAAAAAAAAAAAAAAAAAAAAAAAAAAAAAAAAAAAAAAAAAAAAAAAAAAAAAAAAAAAAAAAAAAAAAAAAAAAAAAAAAAAAAAAAAAAAAAAAAAAAAAAAAAAAAAAAAAAAAAAAAAAAAAAAAAAAAAAAAAAAAAAAAAAAAAAAAAAAAAAAAAAAAAAAAAAAAAAAAAAAAAAAAAAAAAAAAAAAAAAAAAAAAAAAAAAAAAAAAAAAAAAAAAAAAAAAAAAAAAAAAAAAAAAAAAAAAAAAAAAAAAAAAAAAAAAAAAAAAAAAAAAAAAAAAAAAAAAAAAAAAAAAAAAAAAAAAAAAAAAAAAAAAAAAAAAAAAAAAAAAAAAAAAAAAAAAAAAAAAAAAAAAAAAAAAAAAAAAAAAAAAAAAAAAAAAAAAAAAAAAAAAAAAAAAAAAAAAAAAAAAAAAAAAAAAAAAAAAAAAAAAAAAAAAAAAAAAAAAAAAAAAAAAAAAAAAAAAAAAAAAAAAAAAAAAAAAAAAAAAAAAAAAAAAAAAAAAAAAAAAAAAAAAAAAAAAAAAAAAAAAAAAAAAAAAAAAAAAAAAAAAAAAAAAAAAAAAAAAAAAAAAAAAAAAAAAAAAAAAAAAAAAAAAAAAAAAAAAAAAAAAAAAAAAAAAAAAAAAAAAAAAAAAAAAAAAAAAAAAAAAAAAAAAAAAAAAAAAAAAAAAAAAAAAAAAAAAAAAAAAAAAAAAAAAAAAAAAAAAAAAAAAAAAAAAAAAAAAAAAAAAAAAAAAAAAAAAAAAAAAAAAAAAAAAAAAAAAAAAAAAAAAAAAAAAAAAAAAAAAAAAAAAAAAAAAAAAAAAAAAAAAAAAAAAAAAAAAAAAAAAAAAAAAAAAAAAAAAAAAAAAAAAAAAAAAAAAAAAAAAAAAAAAAAAAAAAAAAAAAAAAAAAAAAAAAAAAAAAAAAAAAAAAAAAAAAAAAAAAAAAAAAAAAAAAAAAAAAAAAAAAAAAAAAAAAAAAAAAAAAAAAAAAAAAAAAAAAAAAAAAAAAAAAAAAAAAAAAAAAAAAAAAAAAAAAAAAAAAAAAAAAAAAAAAAAAAAAAAAAAAAAAAAAAAAAAAAAAAAAAAAAAAAAAAAAAAAAAAAAAAAAAAAAAAAAAAAAAAAAAAAAAAAAAAAAAAAAAAAAAAAAAAAAAAAAAAAAAAAAAAAAAAAAAAAAAAAAAAAAAAAAAAAAAAAAAAAAAAAAAAAAAAAAAAAAAAAAAAAAAAAAAAAAAAAAAAAAAAAAAAAAAAAAAAAAAAAAAAAAAAAAAAAAAAAAAAAAAAAAAAAAAAAAAAAAAAAAAAAAAAAAAAAAAAAAAAAAAAAAAAAAAAAAAAAAAAAAAAAAAAAAAAAAAAAAAAAAAAAAAAAAAAAAAAAAAGNoYXJsb3R0ZSB0c2UAAAWQAwACAAAAFAAAEKaQBAACAAAAFAAAELqSkQACAAAAAzQ2AACSkgACAAAAAzQ2AADqHAAHAAAIDAAACJoAAAAAHOoAAAAIAAAAAAAAAAAAAAAAAAAAAAAAAAAAAAAAAAAAAAAAAAAAAAAAAAAAAAAAAAAAAAAAAAAAAAAAAAAAAAAAAAAAAAAAAAAAAAAAAAAAAAAAAAAAAAAAAAAAAAAAAAAAAAAAAAAAAAAAAAAAAAAAAAAAAAAAAAAAAAAAAAAAAAAAAAAAAAAAAAAAAAAAAAAAAAAAAAAAAAAAAAAAAAAAAAAAAAAAAAAAAAAAAAAAAAAAAAAAAAAAAAAAAAAAAAAAAAAAAAAAAAAAAAAAAAAAAAAAAAAAAAAAAAAAAAAAAAAAAAAAAAAAAAAAAAAAAAAAAAAAAAAAAAAAAAAAAAAAAAAAAAAAAAAAAAAAAAAAAAAAAAAAAAAAAAAAAAAAAAAAAAAAAAAAAAAAAAAAAAAAAAAAAAAAAAAAAAAAAAAAAAAAAAAAAAAAAAAAAAAAAAAAAAAAAAAAAAAAAAAAAAAAAAAAAAAAAAAAAAAAAAAAAAAAAAAAAAAAAAAAAAAAAAAAAAAAAAAAAAAAAAAAAAAAAAAAAAAAAAAAAAAAAAAAAAAAAAAAAAAAAAAAAAAAAAAAAAAAAAAAAAAAAAAAAAAAAAAAAAAAAAAAAAAAAAAAAAAAAAAAAAAAAAAAAAAAAAAAAAAAAAAAAAAAAAAAAAAAAAAAAAAAAAAAAAAAAAAAAAAAAAAAAAAAAAAAAAAAAAAAAAAAAAAAAAAAAAAAAAAAAAAAAAAAAAAAAAAAAAAAAAAAAAAAAAAAAAAAAAAAAAAAAAAAAAAAAAAAAAAAAAAAAAAAAAAAAAAAAAAAAAAAAAAAAAAAAAAAAAAAAAAAAAAAAAAAAAAAAAAAAAAAAAAAAAAAAAAAAAAAAAAAAAAAAAAAAAAAAAAAAAAAAAAAAAAAAAAAAAAAAAAAAAAAAAAAAAAAAAAAAAAAAAAAAAAAAAAAAAAAAAAAAAAAAAAAAAAAAAAAAAAAAAAAAAAAAAAAAAAAAAAAAAAAAAAAAAAAAAAAAAAAAAAAAAAAAAAAAAAAAAAAAAAAAAAAAAAAAAAAAAAAAAAAAAAAAAAAAAAAAAAAAAAAAAAAAAAAAAAAAAAAAAAAAAAAAAAAAAAAAAAAAAAAAAAAAAAAAAAAAAAAAAAAAAAAAAAAAAAAAAAAAAAAAAAAAAAAAAAAAAAAAAAAAAAAAAAAAAAAAAAAAAAAAAAAAAAAAAAAAAAAAAAAAAAAAAAAAAAAAAAAAAAAAAAAAAAAAAAAAAAAAAAAAAAAAAAAAAAAAAAAAAAAAAAAAAAAAAAAAAAAAAAAAAAAAAAAAAAAAAAAAAAAAAAAAAAAAAAAAAAAAAAAAAAAAAAAAAAAAAAAAAAAAAAAAAAAAAAAAAAAAAAAAAAAAAAAAAAAAAAAAAAAAAAAAAAAAAAAAAAAAAAAAAAAAAAAAAAAAAAAAAAAAAAAAAAAAAAAAAAAAAAAAAAAAAAAAAAAAAAAAAAAAAAAAAAAAAAAAAAAAAAAAAAAAAAAAAAAAAAAAAAAAAAAAAAAAAAAAAAAAAAAAAAAAAAAAAAAAAAAAAAAAAAAAAAAAAAAAAAAAAAAAAAAAAAAAAAAAAAAAAAAAAAAAAAAAAAAAAAAAAAAAAAAAAAAAAAAAAAAAAAAAAAAAAAAAAAAAAAAAAAAAAAAAAAAAAAAAAAAAAAAAAAAAAAAAAAAAAAAAAAAAAAAAAAAAAAAAAAAAAAAAAAAAAAAAAAAAAAAAAAAAAAAAAAAAAAAAAAAAAAAAAAAAAAAAAAAAAAAAAAAAAAAAAAAAAAAAAAAAAAAAAAAAAAAAAAAAAAAAAAAAAAAAAAAAAAAAAAAAAAAAAAAAAAAAAAAAAAAAAAAAAAAAAAAAAAAAAAAAAAAAAAAAAAAAAAAAAAAAAAAAAAAAAAAAAAAAAAAAAAAAAAAAAAAAAAAAAAAAAAAAAAAAAAAAAAAAAAAAAAAAAAAAAAAAAAAAAAAAAAAAAAAAAAAAAAAAAAAAAAAAAAAAAAAAAAAAAAAAAAAAAAAAAAAAAAAAAAAAAAAAAAAAAAAAAAAAAAAAAAAAAAAAAAAAAAAAAAAAAAAAAAAAAAAAAAAAAAAAAAAAAAAAAAAAAAAAAAAAAAAAAAAAAAAAAAAAAAAAAAAAAAAAAAAAAAAAAAAAAAAAAAAAAAAAAAAAAAAAAAAAAAAAAAAAAAAAAAAAAAAAAAAAAAAAAAAAAAAAAAAAAAAAAAAAAAAAAAAAAAAAAAAAAAAAAAAAAAAAAAAAAAAAAAAAAAAAAAAAAAAAAAAAAAAAAAAAAAAAAAAAAAAAAAAAAAAAAAAAAAAAAAAAAAAAAAAAAAAAAAAAAAAAAAAAAAAAAAAAAAAAAAAAAAAAAAAAAAAAAAAAAAAAAAAAAAAAAAAAAAAAAAAAAAAAAAAAAAAAAAAAAAAAAAAAAAAAAAAAAAAAAAAAAAAAAAAAAAAAAAAAAAAAAAAAAAAAAAAAAAAAAAAAAAAAAAAAAAAAAAAAAAAAAAAAAAAAAAAAAAAAAAAAAAAAAAAAAAAAAAAAAAAAAAAAAAAAAAAAAAAAAAAAAAAAAAAAAAAAAAAAAAAAAAAAAAAAAAAAAAAAAAAAAAAAAAAAAAAAAAAAAAAAAAAAAAAAAAAAAAAAAAAAAAAAAAAAAAAAAAAAAAAAAAAAAAAAAAAAAAAAAAAAAAAAAAAAAAAAAAAAAAAAAAAAAAAAAAAAAAAAAAAAAAAAAAAAAAAAAAAAAAAAAAAAAAyMDIxOjA5OjE3IDE4OjA4OjQ1ADIwMjE6MDk6MTcgMTg6MDg6NDUAAABjAGgAYQByAGwAbwB0AHQAZQAgAHQAcwBlAAAA/+ELIGh0dHA6Ly9ucy5hZG9iZS5jb20veGFwLzEuMC8APD94cGFja2V0IGJlZ2luPSfvu78nIGlkPSdXNU0wTXBDZWhpSHpyZVN6TlRjemtjOWQnPz4NCjx4OnhtcG1ldGEgeG1sbnM6eD0iYWRvYmU6bnM6bWV0YS8iPjxyZGY6UkRGIHhtbG5zOnJkZj0iaHR0cDovL3d3dy53My5vcmcvMTk5OS8wMi8yMi1yZGYtc3ludGF4LW5zIyI+PHJkZjpEZXNjcmlwdGlvbiByZGY6YWJvdXQ9InV1aWQ6ZmFmNWJkZDUtYmEzZC0xMWRhLWFkMzEtZDMzZDc1MTgyZjFiIiB4bWxuczpkYz0iaHR0cDovL3B1cmwub3JnL2RjL2VsZW1lbnRzLzEuMS8iLz48cmRmOkRlc2NyaXB0aW9uIHJkZjphYm91dD0idXVpZDpmYWY1YmRkNS1iYTNkLTExZGEtYWQzMS1kMzNkNzUxODJmMWIiIHhtbG5zOnhtcD0iaHR0cDovL25zLmFkb2JlLmNvbS94YXAvMS4wLyI+PHhtcDpDcmVhdGVEYXRlPjIwMjEtMDktMTdUMTg6MDg6NDUuNDU5PC94bXA6Q3JlYXRlRGF0ZT48L3JkZjpEZXNjcmlwdGlvbj48cmRmOkRlc2NyaXB0aW9uIHJkZjphYm91dD0idXVpZDpmYWY1YmRkNS1iYTNkLTExZGEtYWQzMS1kMzNkNzUxODJmMWIiIHhtbG5zOmRjPSJodHRwOi8vcHVybC5vcmcvZGMvZWxlbWVudHMvMS4xLyI+PGRjOmNyZWF0b3I+PHJkZjpTZXEgeG1sbnM6cmRmPSJodHRwOi8vd3d3LnczLm9yZy8xOTk5LzAyLzIyLXJkZi1zeW50YXgtbnMjIj48cmRmOmxpPmNoYXJsb3R0ZSB0c2U8L3JkZjpsaT48L3JkZjpTZXE+DQoJCQk8L2RjOmNyZWF0b3I+PC9yZGY6RGVzY3JpcHRpb24+PC9yZGY6UkRGPjwveDp4bXBtZXRhPg0KICAgICAgICAgICAgICAgICAgICAgICAgICAgICAgICAgICAgICAgICAgICAgICAgICAgICAgICAgICAgICAgICAgICAgICAgICAgICAgICAgICAgICAgICAgICAgICAgICAgIAogICAgICAgICAgICAgICAgICAgICAgICAgICAgICAgICAgICAgICAgICAgICAgICAgICAgICAgICAgICAgICAgICAgICAgICAgICAgICAgICAgICAgICAgICAgICAgICAgICAgCiAgICAgICAgICAgICAgICAgICAgICAgICAgICAgICAgICAgICAgICAgICAgICAgICAgICAgICAgICAgICAgICAgICAgICAgICAgICAgICAgICAgICAgICAgICAgICAgICAgICAKICAgICAgICAgICAgICAgICAgICAgICAgICAgICAgICAgICAgICAgICAgICAgICAgICAgICAgICAgICAgICAgICAgICAgICAgICAgICAgICAgICAgICAgICAgICAgICAgICAgIAogICAgICAgICAgICAgICAgICAgICAgICAgICAgICAgICAgICAgICAgICAgICAgICAgICAgICAgICAgICAgICAgICAgICAgICAgICAgICAgICAgICAgICAgICAgICAgICAgICAgCiAgICAgICAgICAgICAgICAgICAgICAgICAgICAgICAgICAgICAgICAgICAgICAgICAgICAgICAgICAgICAgICAgICAgICAgICAgICAgICAgICAgICAgICAgICAgICAgICAgICAKICAgICAgICAgICAgICAgICAgICAgICAgICAgICAgICAgICAgICAgICAgICAgICAgICAgICAgICAgICAgICAgICAgICAgICAgICAgICAgICAgICAgICAgICAgICAgICAgICAgIAogICAgICAgICAgICAgICAgICAgICAgICAgICAgICAgICAgICAgICAgICAgICAgICAgICAgICAgICAgICAgICAgICAgICAgICAgICAgICAgICAgICAgICAgICAgICAgICAgICAgCiAgICAgICAgICAgICAgICAgICAgICAgICAgICAgICAgICAgICAgICAgICAgICAgICAgICAgICAgICAgICAgICAgICAgICAgICAgICAgICAgICAgICAgICAgICAgICAgICAgICAKICAgICAgICAgICAgICAgICAgICAgICAgICAgICAgICAgICAgICAgICAgICAgICAgICAgICAgICAgICAgICAgICAgICAgICAgICAgICAgICAgICAgICAgICAgICAgICAgICAgIAogICAgICAgICAgICAgICAgICAgICAgICAgICAgICAgICAgICAgICAgICAgICAgICAgICAgICAgICAgICAgICAgICAgICAgICAgICAgICAgICAgICAgICAgICAgICAgICAgICAgCiAgICAgICAgICAgICAgICAgICAgICAgICAgICAgICAgICAgICAgICAgICAgICAgICAgICAgICAgICAgICAgICAgICAgICAgICAgICAgICAgICAgICAgICAgICAgICAgICAgICAKICAgICAgICAgICAgICAgICAgICAgICAgICAgICAgICAgICAgICAgICAgICAgICAgICAgICAgICAgICAgICAgICAgICAgICAgICAgICAgICAgICAgICAgICAgICAgICAgICAgIAogICAgICAgICAgICAgICAgICAgICAgICAgICAgICAgICAgICAgICAgICAgICAgICAgICAgICAgICAgICAgICAgICAgICAgICAgICAgICAgICAgICAgICAgICAgICAgICAgICAgCiAgICAgICAgICAgICAgICAgICAgICAgICAgICAgICAgICAgICAgICAgICAgICAgICAgICAgICAgICAgICAgICAgICAgICAgICAgICAgICAgICAgICAgICAgICAgICAgICAgICAKICAgICAgICAgICAgICAgICAgICAgICAgICAgICAgICAgICAgICAgICAgICAgICAgICAgICAgICAgICAgICAgICAgICAgICAgICAgICAgICAgICAgICAgICAgICAgICAgICAgIAogICAgICAgICAgICAgICAgICAgICAgICAgICAgICAgICAgICAgICAgICAgICAgICAgICAgICAgICAgICAgICAgICAgICAgICAgICAgICAgICAgICAgICAgICAgICAgICAgICAgCiAgICAgICAgICAgICAgICAgICAgICAgICAgICAgICAgICAgICAgICAgICAgICAgICAgICAgICAgICAgICAgICAgICAgICAgICAgICAgICAgICAgICAgICAgICAgICAgICAgICAKICAgICAgICAgICAgICAgICAgICAgICAgICAgICAgICAgICAgICAgICAgICAgICAgICAgICAgICAgICAgICAgICAgICAgICAgICAgICAgICAgICAgICAgICAgICAgICAgICAgIAogICAgICAgICAgICAgICAgICAgICAgICAgICAgICAgICAgICAgICAgICAgICAgICAgICAgICAgICAgICAgICAgICAgICAgICAgICAgICAgICAgICAgICAgICAgICAgICAgICAgCiAgICAgICAgICAgICAgICAgICAgICAgICAgICA8P3hwYWNrZXQgZW5kPSd3Jz8+/9sAQwAHBQUGBQQHBgUGCAcHCAoRCwoJCQoVDxAMERgVGhkYFRgXGx4nIRsdJR0XGCIuIiUoKSssKxogLzMvKjInKisq/9sAQwEHCAgKCQoUCwsUKhwYHCoqKioqKioqKioqKioqKioqKioqKioqKioqKioqKioqKioqKioqKioqKioqKioqKioq/8AAEQgBLQJyAwEiAAIRAQMRAf/EAB8AAAEFAQEBAQEBAAAAAAAAAAABAgMEBQYHCAkKC//EALUQAAIBAwMCBAMFBQQEAAABfQECAwAEEQUSITFBBhNRYQcicRQygZGhCCNCscEVUtHwJDNicoIJChYXGBkaJSYnKCkqNDU2Nzg5OkNERUZHSElKU1RVVldYWVpjZGVmZ2hpanN0dXZ3eHl6g4SFhoeIiYqSk5SVlpeYmZqio6Slpqeoqaqys7S1tre4ubrCw8TFxsfIycrS09TV1tfY2drh4uPk5ebn6Onq8fLz9PX29/j5+v/EAB8BAAMBAQEBAQEBAQEAAAAAAAABAgMEBQYHCAkKC//EALURAAIBAgQEAwQHBQQEAAECdwABAgMRBAUhMQYSQVEHYXETIjKBCBRCkaGxwQkjM1LwFWJy0QoWJDThJfEXGBkaJicoKSo1Njc4OTpDREVGR0hJSlNUVVZXWFlaY2RlZmdoaWpzdHV2d3h5eoKDhIWGh4iJipKTlJWWl5iZmqKjpKWmp6ipqrKztLW2t7i5usLDxMXGx8jJytLT1NXW19jZ2uLj5OXm5+jp6vLz9PX29/j5+v/aAAwDAQACEQMRAD8A+kaKKKACiiigAooooAKKKKACiiigAooooAKKKKACiiigAooooAKKKKACiiigAooooAKKKKACiiigAooooAKKKKACiiigAooooAK830bx7qM/iAWV5q2h30q6ldWU2l2FrIt5BHE0gE5AmkOMRqcFB98YOcBvSKw/DeiX+h6TeW11qFtdzz3lxdRyx2jRKnmuZNpUyMWwzNzkZGB1GSAM0zxtoOrmX7DdTMkCyNcSy2c0UdsYyQ6Su6BYnGMlHIbBBxggl0XjLRZNPvLx5rq3jswhmju7GeCUBzhMRSIHbcwKrtU7mBUZIxVPTfCNyPCOq6B4g1C2vYNSe6Zns7M25QXDvJIMPJID80jY9sZB5Jo6b8PBp+j3cELaJZXsskE0U+k6ItpGHhfzEMiB2MnzdRvAxwu05YgEcHippfDfi28fVtQt4YLySCzvJNId5bENbROC0AjDFY3kY/OvQDce9dNq/iHTvD8duNUlnaWfIjitrSW4lk2jLMI4lZto4y2MDIBPIzhv4S12XQ/ENnLr1g1zrsm+Sf8AstwsQMCQuAnn5PyxgqS3HfdV++0PW55tP1Cz1exg1a1hkt5pZNOeS3mRyrHEXnBlIMa4PmHvkHIwALe+NdMs9V02yEV/c/2jF50M9rp888RQ4wd6Iy85HfgcnAIzbuvE2l2esJps8s4nd0jLraytCjvjajzBTGjnK4VmBO9ePmXMOpaLqVydMmsdXSC7s1MctxPaCXzkZQHIVWQK5Kgg8qOflIrJuvh5Zz+Nn14Q6PIJ54rmU3ekJPdJIiqo8q4LDYpCJwVYg7iCMjaASX3iuG48a6Jpuk390f8AT5rW9jFm32eULbyuQJmj2l0eNQQj5BLBhxx11clH4Q1ODWbGWDWrcaZYalNfw2j2BMhMqyh0aXzQDgzvtIQYGAd3WutoAKKKKACiiigAooooAKKKKACiiigAooooAKKKKACiiigAooooAKKKKACiiigAooooAKKKKACiiigAooooAKKKKACiiigArn/FOparZz6JZ6HNZwXGqagbVpry2adI1FtPMSEWRCSTCB97ua6Cub8Uf8jF4M/7DUn/AKb7ygA+w+N/+hh8P/8Aghn/APkyj7D43/6GHw//AOCGf/5MrpKKAOb+w+N/+hh8P/8Aghn/APkyj7D43/6GHw//AOCGf/5MrpKKAOb+w+N/+hh8P/8Aghn/APkyj7D43/6GHw//AOCGf/5MrpKKAOb+w+N/+hh8P/8Aghn/APkyj7D43/6GHw//AOCGf/5MrpKKAOb+w+N/+hh8P/8Aghn/APkyj7D43/6GHw//AOCGf/5MrpKKAOb+w+N/+hh8P/8Aghn/APkys3S7nxvqWo6za/234fi/su9W03f2JOfNzbwzbsfa+P8AXbcc/dz3wO2rm/C//IxeM/8AsNR/+m+zoAPsPjf/AKGHw/8A+CGf/wCTKPsPjf8A6GHw/wD+CGf/AOTK6JpERkV3VTI21ATjccE4HqcAn8DTqAOb+w+N/wDoYfD/AP4IZ/8A5Mo+w+N/+hh8P/8Aghn/APkyukooA5v7D43/AOhh8P8A/ghn/wDkyj7D43/6GHw//wCCGf8A+TK6SigDm/sPjf8A6GHw/wD+CGf/AOTKPsPjf/oYfD//AIIZ/wD5MrpKKAOJ8R3Pjfw/4V1XWf7b8P3H9nWU135P9iTp5nloX27vtZxnGM4NaX2Hxv8A9DD4f/8ABDP/APJlHxH/AOSWeK/+wLef+iHrpKAOb+w+N/8AoYfD/wD4IZ//AJMo+w+N/wDoYfD/AP4IZ/8A5MrVsNd0jVbq6tdL1SyvbizbZcxW9wkjwNkjDhSSpyCMH0NX6AOb+w+N/wDoYfD/AP4IZ/8A5Mo+w+N/+hh8P/8Aghn/APkyukooA5v7D43/AOhh8P8A/ghn/wDkyj7D43/6GHw//wCCGf8A+TK6SigDm/sPjf8A6GHw/wD+CGf/AOTKPsPjf/oYfD//AIIZ/wD5MrpKKAOJ1S58b6bqOjWv9t+H5f7UvWtN39iTjysW8027H2vn/U7ccfez2wdL7D43/wChh8P/APghn/8AkyjxR/yMXgz/ALDUn/pvvK37q6t7G0lur2eO3t4ULyzSuESNQMlix4AA7mgDA+w+N/8AoYfD/wD4IZ//AJMo+w+N/wDoYfD/AP4IZ/8A5MrcsNRstVsY73S7yC9tJcmOe2lWSN8HBwykg8gj8KsUAc39h8b/APQw+H//AAQz/wDyZR9h8b/9DD4f/wDBDP8A/JldJRQBzf2Hxv8A9DD4f/8ABDP/APJlH2Hxv/0MPh//AMEM/wD8mV0lFAHN/YfG/wD0MPh//wAEM/8A8mUfYfG//Qw+H/8AwQz/APyZXSUUAc39h8b/APQw+H//AAQz/wDyZWbPc+N4fFVjo39t+H2+12Vzd+d/Yk/yeS8Cbdv2vnPn5znjb3zx21c3ff8AJU9C/wCwLqX/AKPsaAD7D43/AOhh8P8A/ghn/wDkyj7D43/6GHw//wCCGf8A+TK6So7e4hu7aK4tZUmgmQPHLGwZXUjIYEcEEc5oA5/7D43/AOhh8P8A/ghn/wDkyj7D43/6GHw//wCCGf8A+TK6SigDm/sPjf8A6GHw/wD+CGf/AOTKPsPjf/oYfD//AIIZ/wD5MrpKKAOb+w+N/wDoYfD/AP4IZ/8A5Mo+w+N/+hh8P/8Aghn/APkyukooA5v7D43/AOhh8P8A/ghn/wDkys3w5c+N/EHhXStZ/tvw/b/2jZQ3fk/2JO/l+Ygfbu+1jOM4zgV21c38OP8AklnhT/sC2f8A6ISgA+w+N/8AoYfD/wD4IZ//AJMo+w+N/wDoYfD/AP4IZ/8A5MrQi8T6BPrTaPBrmmyaopKtYpdxmcEDJHlg7uACTxWpQBzf2Hxv/wBDD4f/APBDP/8AJlH2Hxv/ANDD4f8A/BDP/wDJldJRQBzf2Hxv/wBDD4f/APBDP/8AJlH2Hxv/ANDD4f8A/BDP/wDJldJRQBzf2Hxv/wBDD4f/APBDP/8AJlH2Hxv/ANDD4f8A/BDP/wDJldJRQBxPiO58b+H/AArqus/234fuP7Osprvyf7EnTzPLQvt3fazjOMZwa0vsPjf/AKGHw/8A+CGf/wCTKPiP/wAks8V/9gW8/wDRD10lAHN/YfG//Qw+H/8AwQz/APyZR9h8b/8AQw+H/wDwQz//ACZXSUUAc39h8b/9DD4f/wDBDP8A/JlH2Hxv/wBDD4f/APBDP/8AJldJVexv7PVLKO8027gvLaTOye3kEiNgkHDDg4II/CgDD+w+N/8AoYfD/wD4IZ//AJMo+w+N/wDoYfD/AP4IZ/8A5MrpKKAOb+w+N/8AoYfD/wD4IZ//AJMo+w+N/wDoYfD/AP4IZ/8A5MrpKKAOb+w+N/8AoYfD/wD4IZ//AJMo+w+N/wDoYfD/AP4IZ/8A5MrpKKAOb+w+N/8AoYfD/wD4IZ//AJMo+w+N/wDoYfD/AP4IZ/8A5MrpKKAOb0HUNc/4SrVNG1660+7+y2VrdxTWVm9t/rXuEKsrSyZx5AIII6mukrm7H/kqeu/9gXTf/R99XSUAFFFFABXN+KP+Ri8Gf9hqT/033ldJXN+KP+Ri8Gf9hqT/ANN95QB0lFFFABRRRQAUUUUAFFFFABRRRQAVzfhf/kYvGf8A2Go//TfZ10lc34X/AORi8Z/9hqP/ANN9nQA3xJZWr+LPCF61tC13HqUsSXBjHmKhsrklQ3UAkAkewrpqzdT8OaJrVxBPrOjafqE1v/qZLq1SVouc/KWBI5A6VpUAclb67rjeNjZXJtYtLmlkitSLJ387YjFsXCSsoZWUgpJHGfvbS2wk1dL1jW9N0bXr7xBrOl3ZtGuTDGllLBgxnHOJJGKcqNqqW5H3iRnpbbw3odnrEurWmjafBqU27zbyK1RZpM9cuBuOe+TT/wCwdINze3B0qy8/UE8u8l+zpuuUxt2yHGXGOMHPFAHEJ4w8Ur4a8UT3CWcV/oduLyPz9PMYnj8tn2mJblyhITgs4I3coMc9vpK6uIHbXZrJpXbckVnE6rApH3C7MfMIPG/ameu1elUf+EG8J/ZTbf8ACL6L5BQIYv7Pi2lQxYDG3GNxJx6kmtazsrXTrOK00+2htbaFdscMEYREHoFHAFAE9FFFAHN/Ef8A5JZ4r/7At5/6Ieukrm/iP/ySzxX/ANgW8/8ARD10bKrqVcBlYYIIyCKAOT8Pafpy6vps+nQm0s7DTZNP0uMsWae33RFpCTklB5cYQk5O5j0YVu67dXdnod1PpqxPeKmLdJcbWkJAUYLICSSAFLLk4G5c5EOk+FPDug3L3Gh6Dpmmzumx5bOzjhZlyDtJUAkZAOPar19YWeqWMlnqdpBeWsoxJBcRiRHGc8qcg8igDirnWPEt54IuZ4tSsrPUba9SGdpNKmiKKSmUMZm+VgX++rujLgqfmBE3ijxJrukWNpBpVxYX2pfZ557kxWDOrCIqGIVp0SJQScl5s5XCqxJ29Pb6Bo9po76TaaTYwabIrK9lFbIsLBvvAoBtIOeeOaim8L6BcQ2MM+h6bLFp3Nkj2kZW26f6sEfJ0HTHQUAYDa54nv8AVtFt9Jk0mCDV9Ke933NtJI1oyGDPCyL5obzsBf3e3725sbW7NAwjUSEM+BuKjAJ9hziseDwd4Ztby2u7bw7pMNzaqFt5o7GJXhAzgKwXKjk9PWtmgAooooA5vxR/yMXgz/sNSf8ApvvK0PEJ046XGmrttie7tliOHOJ/OTyfuEHHm7O4Hrxms/xR/wAjF4M/7DUn/pvvK3ruzttQs5bS/t4rq2mUpLDMgdHU9QVPBH1oA5/wWDENbtpzHJeQ6o/2qeBSsU8jRxvuRSTsADBSuWIKnJJOTJ4u1PWNOhtRoKxF3dmuGNobt44lHLiBZY3cAkZ2Fm5ACNu42dP02x0iwjsdKs7extIs+Xb20SxxpkknCqABkkn6mq+r+HtF19Ik17SLDU1hJMa3tskwQnrjcDjOBQBzl3qGvz6n4euLTWtKtbG6smuLhZLGR1chVZmDGZCFw3GV+XknPQQ6l4w1e28bRWdnHbz6SNQhsJ2Fq2Ud0U/65pVBbLfdjjlAC/MykkL1t7o2malDbxajptpdx2siywJPAriF14VlBHykdiOlVrrwr4evtQlvr3QdMuLyYKstxNZxvJIFIKgsRk4KqRnptHpQBl6LfeKL/wARapa3dxpK2Ol3wgZ47SQSXKtBHKAAZSIyvmAbsvv5+VMZbqqzdN8OaJo91PdaRo+n2Fxcf66W1tUieXnPzFQCeeea0qACiiigArm77/kqehf9gXUv/R9jXSVzd9/yVPQv+wLqX/o+xoAd4zF/PpKWNjpmoX8F2/l3g0+aGKVYcZIDSSJjd90kHIBJGDgiL4bTyT/DLw6ZLKaz2abbxqkpQllESgONjMNp6jODjqB0roru0t7+zltb63iubaZSksMyB0kU9QVPBHsah03StP0ayWz0ewtrC1UkrBawrEgJ5JCqAOaAOe8X67rek3kR0k2yWccJlu5pbN7rysnCb1jlWSNDhhvVJAMMWChSS+SfXU+ITRNrGnx6SLaOQWslk/mHc5TAk84DcWAwdncDGeTr6h4b0PVr6C91XRtPvbu3x5M9zapJJFg5G1mBIweeO9T3Ok6de31re3lha3F3ZljbXEsKtJAT12MRlc45xQBx1h4v1u88aR2KratpV5LdQWtwtmyhXh3c72mDS/d52xKnzYWRsZbU8JX/AIk1ZJLrWZtLW2gubqz8u1tZA87QzvGJctIRGDsP7vD9M7+dq6B8I+GzeS3Z8PaUbmaXz5ZvsUe+ST5vnLbclvmbk8/MfU1Y0nQNH0CGSLQtJsdMjlbdIlnbJCHPTJCgZNAGhRRRQAVzfw4/5JZ4U/7Atn/6ISukrm/hx/ySzwp/2BbP/wBEJQBmWd7dWuv6ZNYa5Nf2OqapeWj2D2qQxw7RM7OhKiQlXi2lixVt2QBkV2N5N9msZ5wY18qNnzK+xBgZ+Zuw9T2qtBoWk22sT6tbaXZQ6lcLsmvY7dFmlXjhnA3EfKvBPYelXJoYrm3kguI0lhlUpJHIoZXUjBBB6gjtQBw9trXiq78Na4t3c2ljq9nbLKqy6TJGYMhycqLh0kBC/K6SkA5DDKkGe81zXNN8L6dHDfWGoa1dTCJPIsJH3fujJtEXnfewFyzyxoA24kcK3SaVoGj6FbyW+iaTY6dDK26SOztkiVzjGSFABOKrv4R8NyaOmkv4f0ptNjk81LI2UZhV+fmCbdoPJ5x3NAHMweKPE+oaR4YurAaWkur3EtlcR3EDYidY5m85SkrDA8nPlgtuzjzFHz13FotylnEt/NFNchQJZIYjGjN3IUsxUexY/WsqTwX4Wmljll8NaQ8kUjSxu1hESjsdxYHbwSeSeua26ACiiigDm/iP/wAks8V/9gW8/wDRD10MsUc8LwzxrJFIpV0dcqwPBBB6iue+I/8AySzxX/2Bbz/0Q9dDNDFc28kFxGksMqlJI5FDK6kYIIPUEdqAPK/hp4V1CHw/ouq6Vp2g6Cx0gILm2V5nvmdUKvcRqsQ42k43scscMOd27p/iXxJJ4Gsdf1F9Ihk1aKzW1gSGTZavOyKHkcyfOPnB2ALgkJvb756qPQNHh0Q6NFpNimllSpsVtkEBBOSPLxtwSSTx1NFt4f0az0eTSbPSbGDTZQyyWcVsiwuG+8CgG0578c0Acz/wkmveYdGE+lHVf7VFh/aAt5Ps4H2b7Tkw+ZuD7fl2eZ3DZ521T8J6tqUMMVk13pyxXS61ctcmBiiTxX5Af/WDMZErHbkHC/err/8AhGdB/sP+xf7E07+ys5+wfZI/Izu3f6vG373PTrzUbeEvDjW8UDeH9LMMM5uIozZR7UlPWQDGAx/vDmgDnrfxRruqxWj2E+j2Ih0e21S9N9G5WXzQxKoQ48pF8tsufM+8Pl+U5S88W+Ij41nstL0hZdKsbyCzupHEIyZBGxcSNcqy4EownkvuK4DfN8vRv4T8OyR2KSaBpbJpxzZK1nGRanIP7vj5OQDxjkCp59C0m51iDVrnS7KbUrddkN7Jbo00S88K5G4D5m4B7n1oAxNFvvFF/wCItUtbu40lbHS74QM8dpIJLlWgjlAAMpEZXzAN2X38/KmMtua3qI0nQb/UC0a/Zbd5QZd23IUkA7QWPOBhQT6Anio9N8OaJo91PdaRo+n2Fxcf66W1tUieXnPzFQCeeeavXFvDd20tvdRJNBMhSSKRQyupGCpB4II4xQBwNl408QLpusR6lb2qX9tcWkFtLNbfZox9pcIjyRieVgASG2lkYg7SEPNat3q+v2dtaac17osmrXeo/YxeLBIIIh5Jm+eDzN28quAnmc7lbOPlrWtvCXhyzt5YLPw/pdvDNAbeSOKyjVXiJJMZAGCpLE7emSfWnjwxoI0M6KNE07+yicmw+yR+Rnduz5eNv3uenXmgDJj1nV01O0srq90j99pt7JJcxRO0aXEEsaBuZBhcSMWjzlSpG/jNbXh+/l1Xwzpmo3Cos13ZxTyLGCFDMgYgZzxk0yfw1oVzZ2drc6Lp01tYkG0hktUZLcjoUUjC49sVcsrG002yis9OtYbS1hG2OCCMIiD0CjgUAYVj/wAlT13/ALAum/8Ao++rpK5ux/5Knrv/AGBdN/8AR99XSUAFFFFABXN+KP8AkYvBn/Yak/8ATfeV0lc34o/5GLwZ/wBhqT/033lAHSUUUUAFFFFABRRRQAUUUUAFFFFABXN+F/8AkYvGf/Yaj/8ATfZ10lc34X/5GLxn/wBhqP8A9N9nQB0lFFFABRRRQAUUUUAFFFFAHN/Ef/klniv/ALAt5/6Ieukrm/iP/wAks8V/9gW8/wDRD10lABRRRQAUUUUAFFFFABRRRQBzfij/AJGLwZ/2GpP/AE33ldJXN+KP+Ri8Gf8AYak/9N95XSUAFFFFABRRRQAUUUUAFFFFABXN33/JU9C/7Aupf+j7Gukrm77/AJKnoX/YF1L/ANH2NAHSUUUUAFFFFABRRRQAUUUUAFc38OP+SWeFP+wLZ/8AohK6Sub+HH/JLPCn/YFs/wD0QlAHSUUUUAFFFFABRRRQAUUUUAc38R/+SWeK/wDsC3n/AKIeuikYpEzKjSFVJCLjLewyQM/U1zvxH/5JZ4r/AOwLef8Aoh66KRS8TKrtGWUgOuMr7jIIz9RQBzek+NF1e3ubiHQNZigtPPSeSSGM7JoXZXhVVkLSNlTgxhkJ43bgVFfT/iNpeoabqd0lrdJNpsyW8lokkE8ryudqRqYZXTcW+XDMMHlto5q1aeC4YPC+p6DeavqOoWupGcyPciAOhmZmk2+XGoOWdjhgRzjGOKrw+AbeOC5SbWtUna4ihQSN5CGF4X3QyIEiVVZDgAY2EDlTk5AL6+JpBa201xoGq2zTXi2kscwhBtyxAV2IlKsh3DmMucnGMggX9H1NtX01bw2NzZB2ISO5MZZlB4YbGYbT1HPSsu90LUP+Edm0uK9m1SS+kKXN5qFz5UkUbLgvGIYwu5cLtVRGM5bcGyTvQQRWtvHb26COKJAiIvRVAwAPwoAkooooAKKKKACiiigAooooA5ux/wCSp67/ANgXTf8A0ffV0lc3Y/8AJU9d/wCwLpv/AKPvq6SgAooooAK5Lxxfw6ZqnhG7uUuHij1p9y21tJcSHNhdjiONWY9ewOBz0FdbXN+KP+Ri8Gf9hqT/ANN95QAf8J5pH/Pn4g/8JzUP/jFH/CeaR/z5+IP/AAnNQ/8AjFdJRQBzf/CeaR/z5+IP/Cc1D/4xR/wnmkf8+fiD/wAJzUP/AIxXSUUAc3/wnmkf8+fiD/wnNQ/+MUf8J5pH/Pn4g/8ACc1D/wCMV0lFAHN/8J5pH/Pn4g/8JzUP/jFH/CeaR/z5+IP/AAnNQ/8AjFdJRQBzf/CeaR/z5+IP/Cc1D/4xR/wnmkf8+fiD/wAJzUP/AIxXSUUAc3/wnmkf8+fiD/wnNQ/+MVz/AIc8aaXDr3ix3tdcIm1aN1CaBfMQPsNqvzAQkqcqeGwcYOMEE+iVzfhf/kYvGf8A2Go//TfZ0AH/AAnmkf8APn4g/wDCc1D/AOMUf8J5pH/Pn4g/8JzUP/jFdJRQBzf/AAnmkf8APn4g/wDCc1D/AOMUf8J5pH/Pn4g/8JzUP/jFdJRQBzf/AAnmkf8APn4g/wDCc1D/AOMUf8J5pH/Pn4g/8JzUP/jFdJRQBzf/AAnmkf8APn4g/wDCc1D/AOMUf8J5pH/Pn4g/8JzUP/jFdJRQB534+8aaXdfDbxLbxWuuK82k3SKZdAvo0BMLAbnaEKo9SSAOpNdB/wAJ5pH/AD5+IP8AwnNQ/wDjFHxH/wCSWeK/+wLef+iHrpKAOb/4TzSP+fPxB/4Tmof/ABij/hPNI/58/EH/AITmof8AxiukooA5v/hPNI/58/EH/hOah/8AGKP+E80j/nz8Qf8AhOah/wDGK6SigDm/+E80j/nz8Qf+E5qH/wAYo/4TzSP+fPxB/wCE5qH/AMYrpKKAOb/4TzSP+fPxB/4Tmof/ABij/hPNI/58/EH/AITmof8AxiukooA878R+NNLm17wm6WuuAQ6tI7B9AvlJH2G6X5QYQWOWHC5OMnGASOg/4TzSP+fPxB/4Tmof/GKPFH/IxeDP+w1J/wCm+8rpKAOb/wCE80j/AJ8/EH/hOah/8Yo/4TzSP+fPxB/4Tmof/GK6SigDm/8AhPNI/wCfPxB/4Tmof/GKP+E80j/nz8Qf+E5qH/xiukooA5v/AITzSP8Anz8Qf+E5qH/xij/hPNI/58/EH/hOah/8YrpKKAOb/wCE80j/AJ8/EH/hOah/8Yo/4TzSP+fPxB/4Tmof/GK6SigDm/8AhPNI/wCfPxB/4Tmof/GK5+88aaW3xJ0a4FrrmyPSb9CDoF8HJaazIwnk7iPlOSBgcAkbhn0Subvv+Sp6F/2BdS/9H2NAB/wnmkf8+fiD/wAJzUP/AIxR/wAJ5pH/AD5+IP8AwnNQ/wDjFdJRQBzf/CeaR/z5+IP/AAnNQ/8AjFH/AAnmkf8APn4g/wDCc1D/AOMV0lFAHN/8J5pH/Pn4g/8ACc1D/wCMUf8ACeaR/wA+fiD/AMJzUP8A4xXSUUAc3/wnmkf8+fiD/wAJzUP/AIxR/wAJ5pH/AD5+IP8AwnNQ/wDjFdJRQBzf/CeaR/z5+IP/AAnNQ/8AjFc/4B8aaXa/Dbw1by2uuM8Ok2qMYtAvpEJEKg7XWEqw9CCQeoNeiVzfw4/5JZ4U/wCwLZ/+iEoAP+E80j/nz8Qf+E5qH/xij/hPNI/58/EH/hOah/8AGK6SigDm/wDhPNI/58/EH/hOah/8Yo/4TzSP+fPxB/4Tmof/ABiukooA5v8A4TzSP+fPxB/4Tmof/GKP+E80j/nz8Qf+E5qH/wAYrpKKAOb/AOE80j/nz8Qf+E5qH/xij/hPNI/58/EH/hOah/8AGK6SigDzvx9400u6+G3iW3itdcV5tJukUy6BfRoCYWA3O0IVR6kkAdSa6D/hPNI/58/EH/hOah/8Yo+I/wDySzxX/wBgW8/9EPXSUAc3/wAJ5pH/AD5+IP8AwnNQ/wDjFH/CeaR/z5+IP/Cc1D/4xXSUUAc3/wAJ5pH/AD5+IP8AwnNQ/wDjFH/CeaR/z5+IP/Cc1D/4xXSUUAc3/wAJ5pH/AD5+IP8AwnNQ/wDjFH/CeaR/z5+IP/Cc1D/4xXSUUAc3/wAJ5pH/AD5+IP8AwnNQ/wDjFH/CeaR/z5+IP/Cc1D/4xXSUUAc3/wAJ5pH/AD5+IP8AwnNQ/wDjFH/CeaR/z5+IP/Cc1D/4xXSUUAc3/wAJ5pH/AD5+IP8AwnNQ/wDjFH/CeaR/z5+IP/Cc1D/4xXSUUAcb4c1e21n4k6/cWcd5Gi6TpyEXllNavnzr08JKqsRz1Ax1GeDXZVzdj/yVPXf+wLpv/o++rpKACiiigArm/FH/ACMXgz/sNSf+m+8rpK5vxR/yMXgz/sNSf+m+8oA3rtbl7OVbCaKG5KkRSTRGRFbsSoZSw9gw+tZ/hTULjVvBmi6jfMrXN5p8E8zIu0F3jVmIHYZJ4rQu1uXs5VsJoobkqRFJNEZEVuxKhlLD2DD61neFdIvNA8MWOk397BetYwpbxzQ2xgDRooVcqXf5sDk5wfQUATavrtlokcTXwunMzFUjtLOa6kOBknZErNgdzjAyOeRWdd+NtMtdS0y0EOo3A1KETwzW+m3Esew4wSyRkDqMg42jk4yMni3w3deI4bWO2udPhWBmf/TbB5yr8bZInSWN4pF+bDq2fmPfBqS90HUJItJbTtXWG6sEMUlxc25nMyMoVjjeuHJUEMdwBzlWoAmm8VaTb64NJkluPtRkWIstnM0KSMoZUaYL5asQVIUsD8y8cjMNl4z0XUNWfTLSW7kvYpTFND/Z9wGgOAwMmU/dqwOVZsK+DtJwcYureALzUvFLayNVsi8d1FdWhu9OaeW1KbAY0czAJGwVshFQkkFi2Dna0DRNU0vVtYu9Q1Kyu4tTuRciO3sWgaNhFHEMsZX3DZEvYc5PTAABvUUUUAFFFFABXN+F/wDkYvGf/Yaj/wDTfZ10lc34X/5GLxn/ANhqP/032dAGf4x1HULDU/OS78QWmm29sktxNpVvaNFEu598kjTozEKoBKx5IGTjkUmpanfW3jBXub3X7bSvtcEKyQW9n9hy6ptV2dDMQ7ttLJwCQMrgmtDxF4Y1DWprqO21n7NYajbC0vraWBpsxZbd5J8xVidldgWKv0Xj5cFL3wtfXmrNu1gHR5byG9lspIGeQPFsKJHIZNsce6NGKiMk/Pz83AB01FFFABRRRQAUUUUAc38R/wDklniv/sC3n/oh66Sub+I//JLPFf8A2Bbz/wBEPXSUAc9ourXiv4j/ALeureRNMvzGkkEBiVYfs0MoBUsxJHmHJzz2A6VH4N1bV9WbXDrsK20lvqQjgtVIJghNvBIqMR1f94S3UBiQCQAaXTvDN2t5rg8QXOm6rp+sT+c9n/ZpQKRHHGFYtK4cbYlyNo5yenAr+EPA0PhPWNYu7aLRootQlDxx6fpItWhUKqiMsJG3LhQ2MD5mc98AA6yiiigAooooAKKKKAOb8Uf8jF4M/wCw1J/6b7ytXWotSn0p4tFuI7a7d4186Qf6uMuvmMuVYbwm/bkFd23IIzWV4o/5GLwZ/wBhqT/033laXiDT7zVdEnstNvYrKaXaDLLC0q7dwLKVV0PzDK5DAjPFAGBYatrNnoeoRrN/bl19va20iecJGbtdiktIY1ChUfzQWVRlYsgEkZ2fCF9c6n4I0O/1CXzru6063mnkChd7tGpY4HAySeBWc/g46joUtn4kTQtXuFbdZedo+bW0ARVULA0jHAwScOM5xxirfgvw0PCPhOz0UNZyfZUCGWzs/syy4GN7JubLnGWbPJyeKAN6iiigAooooAKKKKACubvv+Sp6F/2BdS/9H2NdJXN33/JU9C/7Aupf+j7GgBvjTWb3TYNNs9LW6N1qV0YA1nEkkyqInkJQSfuwx2AZf5Rkk9MHCk1jWb3w3pkljdeJZ51+0pdnT7KyS58yKQJtlEwMKkfMPkI3kZXjius8QaLNqy2Vxp94tlqGn3Hn2s0kRljyUZGV0DKWUo7DAYEHBzxWTH4T1iws7dtH8QJBqANw1zLcWjy28zzv5juIFlQKwYYQlm2qSDkkmgDodHu4b7Q7G7tbp7yGe3SSO5kADTKVBDkAAAnqQAB7DpVyqekaZBoui2Wl2e429lAlvGXILFUUKCSO/HNXKACiiigAooooAK5v4cf8ks8Kf9gWz/8ARCV0lc38OP8AklnhT/sC2f8A6ISgCtF/wkVr4vshc6sLlLu5ufP02OOPyba0AfyZVbYJA+RCrBmYFpH2jAGJ9AstVg1qYX3ia91VLeBUuIporZY1nbDYXy4lcbVwcMx4kX0zRp3h/XbTxBLe3OtWEtrNcvNLHFpzxzyrhhHG0pnYbU3DgIM7e2TnT0bR30qbVJJLo3B1C+a75Tb5YKIgTqc4CdePpQBp0UUUAFFFFABRRRQBzfxH/wCSWeK/+wLef+iHrpK5v4j/APJLPFf/AGBbz/0Q9dG24qdhAbHBIyAfpQB57cah4t0C2v5bjUl1a5i0WS6u4lgRorC7BXYsQREd4yDKdr7nxEvzAtk6Pg3xFFqGu6hpNt4j/wCElt4LWC6j1DEJ5dpFZN0KrGwHlqRgEglgTwKn0bw14h0+GaO78Q2b+ZBKFls9MaKQ3D7f38heaQOwwcLgDnHQACSHw1rKW17ct4gjXXb026PqENgBGkML5ESxM7cENLkliQZWIxgAAGn4hhuJdNDwa1NosUDGa5uoUiZhEqMSB5qOo52kkr0BrmtYHiPT/CtrNJr2oRCOCaW4uY7OKW7MrEGGNkWAx+WAXDthMbVO4DdXTeJNHfX/AA3faVHdG0N3EY/OCb9oPXjIzkcde9Qa5pWsXd5Bd6DrMenTxwyQslzbNcQuHKnf5ayJ86lBhiTgMwxzQBx0/jy607xB5WsalGiS2sYNvZxCZY9yQMJ49qs7bmknRQdwYxrgcNn0iKVJ4UlhcPHIoZGU5DA8g1zl14P/AOKfstM0u++zf2bbxQ2Us8XnbDGVOXAZd+QijAK459eN7T7NNO022soSTHbQpChbqQoAH8qALFFFFABRRRQAUUUUAc3Y/wDJU9d/7Aum/wDo++rpK5ux/wCSp67/ANgXTf8A0ffV0lABRRRQAVzfij/kYvBn/Yak/wDTfeV0lcl44tZr3VPCNvbX9xp8r60+25tljMiYsLs8CRWXnGOVPB7HmgDraK5v/hF9X/6HvxB/340//wCRaP8AhF9X/wCh78Qf9+NP/wDkWgDpKK5v/hF9X/6HvxB/340//wCRaP8AhF9X/wCh78Qf9+NP/wDkWgDpKK5v/hF9X/6HvxB/340//wCRaP8AhF9X/wCh78Qf9+NP/wDkWgDpKK5v/hF9X/6HvxB/340//wCRaP8AhF9X/wCh78Qf9+NP/wDkWgDpKK5v/hF9X/6HvxB/340//wCRaP8AhF9X/wCh78Qf9+NP/wDkWgDpK5vwv/yMXjP/ALDUf/pvs6P+EX1f/oe/EH/fjT//AJFrn/DnhzVJNe8WKnjTXIjHq0as6Q2OZT9htTubNsRnBC/LgYUcZySAeiUVzf8Awi+r/wDQ9+IP+/Gn/wDyLR/wi+r/APQ9+IP+/Gn/APyLQB0lFc3/AMIvq/8A0PfiD/vxp/8A8i0f8Ivq/wD0PfiD/vxp/wD8i0AdJRXN/wDCL6v/AND34g/78af/APItH/CL6v8A9D34g/78af8A/ItAHSUVzf8Awi+r/wDQ9+IP+/Gn/wDyLR/wi+r/APQ9+IP+/Gn/APyLQAfEf/klniv/ALAt5/6Ieukrzvx94c1SD4beJZZfGmuXKR6TdM0MsNiEkAhYlW22wbB6HBB9CK6D/hF9X/6HvxB/340//wCRaAOkorm/+EX1f/oe/EH/AH40/wD+RaP+EX1f/oe/EH/fjT//AJFoA6Siub/4RfV/+h78Qf8AfjT/AP5Fo/4RfV/+h78Qf9+NP/8AkWgDpKK5v/hF9X/6HvxB/wB+NP8A/kWj/hF9X/6HvxB/340//wCRaAOkorm/+EX1f/oe/EH/AH40/wD+RaP+EX1f/oe/EH/fjT//AJFoAPFH/IxeDP8AsNSf+m+8rpK878R+HNUj17wmr+NNclMmrSKrvDY5iP2G6O5cWwGcAr82RhjxnBHQf8Ivq/8A0PfiD/vxp/8A8i0AdJRXN/8ACL6v/wBD34g/78af/wDItH/CL6v/AND34g/78af/APItAHSUVzf/AAi+r/8AQ9+IP+/Gn/8AyLR/wi+r/wDQ9+IP+/Gn/wDyLQB0lFc3/wAIvq//AEPfiD/vxp//AMi0f8Ivq/8A0PfiD/vxp/8A8i0AdJRXN/8ACL6v/wBD34g/78af/wDItH/CL6v/AND34g/78af/APItAHSVzd9/yVPQv+wLqX/o+xo/4RfV/wDoe/EH/fjT/wD5Frn7zw5qg+JOjRHxprjO2k37CYw2O9AJrMFR/o23B3AnIJ+UYI5yAeiUVzf/AAi+r/8AQ9+IP+/Gn/8AyLR/wi+r/wDQ9+IP+/Gn/wDyLQB0lFc3/wAIvq//AEPfiD/vxp//AMi0f8Ivq/8A0PfiD/vxp/8A8i0AdJRXN/8ACL6v/wBD34g/78af/wDItH/CL6v/AND34g/78af/APItAHSUVzf/AAi+r/8AQ9+IP+/Gn/8AyLR/wi+r/wDQ9+IP+/Gn/wDyLQB0lc38OP8AklnhT/sC2f8A6ISj/hF9X/6HvxB/340//wCRa5/wD4c1Sf4beGpYvGmuWySaTassMUNiUjBhUhV3WxbA6DJJ9SaAPRKK5v8A4RfV/wDoe/EH/fjT/wD5Fo/4RfV/+h78Qf8AfjT/AP5FoA6Siub/AOEX1f8A6HvxB/340/8A+RaP+EX1f/oe/EH/AH40/wD+RaAOkorm/wDhF9X/AOh78Qf9+NP/APkWj/hF9X/6HvxB/wB+NP8A/kWgDpKK5v8A4RfV/wDoe/EH/fjT/wD5Fo/4RfV/+h78Qf8AfjT/AP5FoAPiP/ySzxX/ANgW8/8ARD10led+PvDmqQfDbxLLL401y5SPSbpmhlhsQkgELEq222DYPQ4IPoRXQf8ACL6v/wBD34g/78af/wDItAHSUVzf/CL6v/0PfiD/AL8af/8AItH/AAi+r/8AQ9+IP+/Gn/8AyLQB0lFc3/wi+r/9D34g/wC/Gn//ACLR/wAIvq//AEPfiD/vxp//AMi0AdJRXN/8Ivq//Q9+IP8Avxp//wAi0f8ACL6v/wBD34g/78af/wDItAHSUVzf/CL6v/0PfiD/AL8af/8AItH/AAi+r/8AQ9+IP+/Gn/8AyLQB0lFc3/wi+r/9D34g/wC/Gn//ACLR/wAIvq//AEPfiD/vxp//AMi0AdJRXN/8Ivq//Q9+IP8Avxp//wAi0f8ACL6v/wBD34g/78af/wDItABY/wDJU9d/7Aum/wDo++rpK43w5YXOnfEnX4rzVrzVXbSdOYTXiQq6jzr0bR5UaLjjPIzyeemOyoAKKKKACub8Uf8AIxeDP+w1J/6b7yukrm/FH/IxeDP+w1J/6b7ygDa1HUbXSbCS9v5PLgjwCQhdmZiFVVVQSzMxChQCSSAASai0fW7HXrN7nTZJGSORopEmheGSJx1V43AZTgg4IHBB6EVX8U6npej+Hpr7XRbNawvGwW6ZFQy718vLP8qkPtIY/dIz2qn4MvNN1G01C90y/tNRluLzfe3VlKJIWm8qMbUYHkLGI1z325POaAOjorjPiJrz6La2Hl6/Do3mSO77rq3t5Z0UDKxPcRvEWywwjbM9d6gHNHWLp4b7wtqmpeLb/Srae22sDFbRrNMUVgCrxufMcbhsVieMLg5JAPQaK8v1zxvdWPxF+zR69Fb2drfW9vdWNzNbxYjkVAXEfltKy7pP9YzxLkqAH6tqeE9Vm1vxZrdtF43XUbfSr4LFaQC1Z5I2hjZvNZUyUWRmVdoQgqwZnPCgHeUUUUAFFFFABXN+F/8AkYvGf/Yaj/8ATfZ10lc34X/5GLxn/wBhqP8A9N9nQBb1jxZo2g3S2+p3MkblFkcx20sqQIzFVeV0UrEpIbDOVB2tz8pwT+LNHt9c/smW4lF0JEidltZWhjkcApG8wXy0dgy4VmBO5cD5hnnvG+v+GLa8utH1m/0qxe8sNuoyXE8cc8tp84EKAkM5bMgAH3dzEckZzdVvoF8YPCurC3upNZtTJ4ckClr5QIgLhBjzBtIWQsh8rEBVgD5jUAemUUUUAFFFFABRRRQBzfxH/wCSWeK/+wLef+iHrpK5v4j/APJLPFf/AGBbz/0Q9dJQBQsdc0rU4bubT9RtrmGylaG5lilDJE6qGZWYcAgMM+neotG8R6Zr5nGmSyubfbvEttJCcNkqyh1G5Tg4YZU4ODXD3mpWeu6N8S9O0C/t7+/eR9ttZzJLKw+w28ZwuTn5lZOeNwI61reCb2zu/EOqf8I9rVxrOjm1t3aeW8e6WO5Jk3qrMTtJXyy0YwF+X5VzyAdtRRRQAUUUUAFFFFAHN+KP+Ri8Gf8AYak/9N95XSVzfij/AJGLwZ/2GpP/AE33lXfFEGo3Ph+4g0gW5llwsn2i6a2HlE/PiRUcqduQCBxnORigAk8WaDDoEmtz6taw6ZHJJE13LJsTejtGwBPU7lYDHXHGcitevHdK17Tl+AnipGuNBs7O3XU7e3XT9SWaJS8kxSMfIgXO4BAM7lKkAZwPW7K+tNSsorzTrqG7tZhujngkDo49Qw4NAE9FFFABRRRQAUUUUAFc3ff8lT0L/sC6l/6Psa6Subvv+Sp6F/2BdS/9H2NAGvq2saboOmyahrV9b2NpF9+a4kCKPQZPc9h1NQa14j03w+sZ1KSfdKrMkVtaS3MhVcbn2RKzBV3KC2MAsoJyRnN+I97a2Pwz8RSX1zDbI+m3ESNNIEDO0bBVBPUkkADuaq+IfGHh21/sy5i1nRILi+jlWz1S5uoQkUOV81kcn5uQnyg/MQM8KSADTv8AxroGm/Zzc3xaOeFLgTQQSTRxxOcJLI6KVjRsHDuVU7W5+U43a8z1XXPBNlodroYvdL0+xutFiSZ7m4jSeXT9rCOFATvcsC4H93cx+8Rn0wHKgkY9j2oAKKKKACiiigArm/hx/wAks8Kf9gWz/wDRCV0lc38OP+SWeFP+wLZ/+iEoAt2/izRrrXP7JhuZDdF5I0ZraVYZXj++iTFfLdlw2VViRtbI+U4bpHi7StbvFtdP+373iMyNcaZcwRyICAWWSSNVYfMvQnOc1z9jr/hnVfGVtYWd9pYksb+4NrY2s8ZnkuikommdFOVADTDJHzFix/hJ3fD16upaprkqoFFneDT4wBjCRxo3/ocj/hj0oA3qKKKACiiigAooooA5v4j/APJLPFf/AGBbz/0Q9dJXN/Ef/klniv8A7At5/wCiHroLkSNayrAcSFCEOehxxQBm6d4n0nVtTmsLC4eWeJS+TBIqSKG2lo5GULIA3BKE4Jwat6nqdpo+nS32oy+Vbx7QWCM5JZgqqqqCWYsQAoBJJAAJNeY+CtW07RIdPlj1m9lh03QJH8Q21xcPMNOeFY8BoRkQuu2ZQiAbgpOGxmu18XXlrN4RjunnaGzlmt5DfLlTaJ5isJ+Rxt4bLAqOrgqGFAFgeMNGOk/2gJbox+f9n8gWM/2nzcbtn2fZ5u7b8+Nv3fm+7zTbjxpoVvp9jefaZ7iK/jaS2S0s5riR0XG5vLjRnUKWAYkDaSAcE4rktO1vSYdHubjVdajuoJtYkS38VIkAjR/s3yz73BhUqoNvuRSrMMYBZgKX9o20Oh6TM+vxeFB9mvRY626p5N0DMNhIlyjCRQs2Mh25KMF35APQofFOjXN21tbXomkFutyDHGzK8bbcFWA2uTvT5VJPzpx8wzrV5DqGn3Gn6XputW2o/wBg2v2O2nuITBltP3rBFlmlzwFhXAdMgoxbPQep6VPPdaNZXF5H5dxLbo8qYxtcqCR+dAFuiiigAooooAKKKKAObsf+Sp67/wBgXTf/AEffV0lc3Y/8lT13/sC6b/6Pvq6SgAooooAK5vxR/wAjF4M/7DUn/pvvK6SuS8cWs17qnhG3tr+40+V9afbc2yxmRMWF2eBIrLzjHKng9jzQB1tFc3/wi+r/APQ9+IP+/Gn/APyLR/wi+r/9D34g/wC/Gn//ACLQB0lFc3/wi+r/APQ9+IP+/Gn/APyLR/wi+r/9D34g/wC/Gn//ACLQB0lFc3/wi+r/APQ9+IP+/Gn/APyLR/wi+r/9D34g/wC/Gn//ACLQB0lFc3/wi+r/APQ9+IP+/Gn/APyLR/wi+r/9D34g/wC/Gn//ACLQB0lFc3/wi+r/APQ9+IP+/Gn/APyLR/wi+r/9D34g/wC/Gn//ACLQB0lc34X/AORi8Z/9hqP/ANN9nR/wi+r/APQ9+IP+/Gn/APyLXP8Ahzw5qkmveLFTxprkRj1aNWdIbHMp+w2p3Nm2IzghflwMKOM5JAPRKK5v/hF9X/6HvxB/340//wCRaP8AhF9X/wCh78Qf9+NP/wDkWgDpKK5v/hF9X/6HvxB/340//wCRaP8AhF9X/wCh78Qf9+NP/wDkWgDpKK5v/hF9X/6HvxB/340//wCRaP8AhF9X/wCh78Qf9+NP/wDkWgDpKK5v/hF9X/6HvxB/340//wCRaP8AhF9X/wCh78Qf9+NP/wDkWgA+I/8AySzxX/2Bbz/0Q9dJXnfj7w5qkHw28Syy+NNcuUj0m6ZoZYbEJIBCxKtttg2D0OCD6EV0H/CL6v8A9D34g/78af8A/ItAHSUVzf8Awi+r/wDQ9+IP+/Gn/wDyLR/wi+r/APQ9+IP+/Gn/APyLQB0lFc3/AMIvq/8A0PfiD/vxp/8A8i0f8Ivq/wD0PfiD/vxp/wD8i0AdJRXN/wDCL6v/AND34g/78af/APItH/CL6v8A9D34g/78af8A/ItAHSUVzf8Awi+r/wDQ9+IP+/Gn/wDyLR/wi+r/APQ9+IP+/Gn/APyLQAeKP+Ri8Gf9hqT/ANN95XSV534j8OapHr3hNX8aa5KZNWkVXeGxzEfsN0dy4tgM4BX5sjDHjOCOg/4RfV/+h78Qf9+NP/8AkWgDpKK5v/hF9X/6HvxB/wB+NP8A/kWj/hF9X/6HvxB/340//wCRaAOkorm/+EX1f/oe/EH/AH40/wD+RaP+EX1f/oe/EH/fjT//AJFoA6Siub/4RfV/+h78Qf8AfjT/AP5Fo/4RfV/+h78Qf9+NP/8AkWgDpKK5v/hF9X/6HvxB/wB+NP8A/kWj/hF9X/6HvxB/340//wCRaAOkrm77/kqehf8AYF1L/wBH2NH/AAi+r/8AQ9+IP+/Gn/8AyLXP3nhzVB8SdGiPjTXGdtJv2Exhsd6ATWYKj/RtuDuBOQT8owRzkA9Eorm/+EX1f/oe/EH/AH40/wD+RaP+EX1f/oe/EH/fjT//AJFoA6Siub/4RfV/+h78Qf8AfjT/AP5Fo/4RfV/+h78Qf9+NP/8AkWgDpKK5v/hF9X/6HvxB/wB+NP8A/kWj/hF9X/6HvxB/340//wCRaAOkorm/+EX1f/oe/EH/AH40/wD+RaP+EX1f/oe/EH/fjT//AJFoA6Sub+HH/JLPCn/YFs//AEQlH/CL6v8A9D34g/78af8A/Itc/wCAfDmqT/Dbw1LF401y2STSbVlhihsSkYMKkKu62LYHQZJPqTQB6JRXN/8ACL6v/wBD34g/78af/wDItH/CL6v/AND34g/78af/APItAHSUVzf/AAi+r/8AQ9+IP+/Gn/8AyLR/wi+r/wDQ9+IP+/Gn/wDyLQB0lFc3/wAIvq//AEPfiD/vxp//AMi0f8Ivq/8A0PfiD/vxp/8A8i0AdJRXN/8ACL6v/wBD34g/78af/wDItH/CL6v/AND34g/78af/APItAB8R/wDklniv/sC3n/oh66SvO/H3hzVIPht4lll8aa5cpHpN0zQyw2ISQCFiVbbbBsHocEH0IroP+EX1f/oe/EH/AH40/wD+RaAOkorm/wDhF9X/AOh78Qf9+NP/APkWj/hF9X/6HvxB/wB+NP8A/kWgDpKK5v8A4RfV/wDoe/EH/fjT/wD5Fo/4RfV/+h78Qf8AfjT/AP5FoA6Siub/AOEX1f8A6HvxB/340/8A+RaP+EX1f/oe/EH/AH40/wD+RaAOkorm/wDhF9X/AOh78Qf9+NP/APkWj/hF9X/6HvxB/wB+NP8A/kWgDpKK5v8A4RfV/wDoe/EH/fjT/wD5Fo/4RfV/+h78Qf8AfjT/AP5FoA6Siub/AOEX1f8A6HvxB/340/8A+RaP+EX1f/oe/EH/AH40/wD+RaACx/5Knrv/AGBdN/8AR99XSVxvhywudO+JOvxXmrXmqu2k6cwmvEhV1HnXo2jyo0XHGeRnk89MdlQAUUUUAFc34o/5GLwZ/wBhqT/033ldJXN+KP8AkYvBn/Yak/8ATfeUAbeoahbaVYSXl9IUhjwCVRnZiSAqqqglmJIAUAkkgAEmotI1iy1yx+16bK7xh2jdZInikjdTgq6OAykejAHoe9V/E17p+n6G1xrEPmWazQh3KIywEyrtmbf8qrG2HLH7oXPasvwFcQ3On6m9ndLqVr/aD+Tqq7T/AGgNibpCy/KxD7o8qAv7vAAxgAHVUVxnxE159FtbDy9fh0bzJHd911b28s6KBlYnuI3iLZYYRtmeu9QDmjrF08N94W1TUvFt/pVtPbbWBito1mmKKwBV43PmONw2KxPGFwckgHoNFeX6543urH4i/Zo9eit7O1vre3urG5mt4sRyKgLiPy2lZd0n+sZ4lyVAD9W1PCeqza34s1u2i8brqNvpV8FitIBas8kbQxs3msqZKLIzKu0IQVYMznhQDvKKKKACiiigArm/C/8AyMXjP/sNR/8Apvs66Sub8L/8jF4z/wCw1H/6b7OgC9qniXT9IvEtbqPUJZmQPts9MuLoKpJALGKNguSD1x0Na1eeeP8AUNPtb293anqGn62lgjaTEl8YI7243SeXHHGrAztv2hkYMuHXjk16Eu7YN+N2OcdM0ALRRRQAUUUUAFFFFAHN/Ef/AJJZ4r/7At5/6Ieukrm/iP8A8ks8V/8AYFvP/RD10lAGJpHi7StbvFtdP+373iMyNcaZcwRyICAWWSSNVYfMvQnOc1t1g+Hr1dS1TXJVQKLO8GnxgDGEjjRv/Q5H/DHpW9QAUUUUAFFFFABRRRQBzfij/kYvBn/Yak/9N95W3qGoW2lWEl5fSFIY8AlUZ2YkgKqqoJZiSAFAJJIABJrE8Uf8jF4M/wCw1J/6b7yr3ia90/T9Da41iHzLNZoQ7lEZYCZV2zNv+VVjbDlj90LntQBCPGGjto66nHJdywNObfy4tPnedZBnKNAEMikBSSCo456VqWF9FqVjHd26TpHJnatzbyQSDBxykiqy9O4HrXnNrqOitocj6lq1y+jvrThfENtdrbJdf6PzLLOjKAN5aHdHtBZEUADIrrvA881z4SglluJLqIzTi0uJnLvNbCZxA5Y8tujCHcfvAg85oA6CiiigAooooAKKKKACubvv+Sp6F/2BdS/9H2NdJXN33/JU9C/7Aupf+j7GgDW1bWbLRLVJ9QeQCSQRxRwQPPLK+CdqRxhnY7VZiADgKxPAJrOm8b6DDp1lei5uJ475XaCO1sp55WCEByYkQuu0kK25RtJAOCcUni/XNK0CxtLrVZNOjmNyFsZNRmSKOOYow372+7hC+SOSCQOTg8deX+jQWGn3GmeLYdBheG+eDxATE0FzcPOGlXD5jZWk3SbQQxC/IwUPkA9A/wCEh0c3WnWw1O1M+qIZLGISgtcoELlkHUrtGc9PzrRrz2513SdNs/h2mpXFporNMjrZ3Vx5bRL9gnTGJCGwGdV+bnJAPJxXoVABRRRQAUUUUAFc38OP+SWeFP8AsC2f/ohK6Sub+HH/ACSzwp/2BbP/ANEJQBdtvFOkXeuNpEFxIbsbwu63kWKQocOqSlQjsp4ZVYkEHIGDiPSPF2la3eLa6f8Ab97xGZGuNMuYI5EBALLJJGqsPmXoTnOa5q01bSrzx5p0WkSKbmO7u0utGZIlew/1u+8KJ8ymR9vzOTuWcEYLHPReHr1dS1TXJVQKLO8GnxgDGEjjRv8A0OR/wx6UAb1FFFABRRRQAUUUUAc38R/+SWeK/wDsC3n/AKIeukrm/iP/AMks8V/9gW8/9EPXQTwpc28kEoykqFGAOOCMGgDM0bxVpGvzNHpdxJIQnmIZLaSJZo848yJnUCVOnzoWXleeRm9qOoW+l2El5eeZ5UeMiKF5XJJAACICzEkgYAJrzPw5qcUWq2uqN4mt9V0Lw3odylzc29i0Rt1Bh2pKNzMZtsLsygLjav7sbhXbeJr+wbwl9suZrtLCVoHa4tHETRRmRD5hdiNiAcs2QVUEjkCgB7+MNJi0pNQm/tCGKSf7PHFLpdyk8sm3dtSExiR/lBOVUjCsf4Thtx410O3sbO6a4uJUvQ5hjt7KaaUhDiQtEiF02EhW3AbSQDg8VxUeo2QsBIviGa30GHWXGm+IZLzzxCn2Ybv38u9HQytLGGk3L1UHdsIZBqMGl6Ro2sSeJbXT7yaK9txcy2DSx6qvn7zNCu9QsshG9FBZW8whVdQCAD0GPxNo8189pDeCWVIFuP3aMyuh242sBtc/OnyqSfnTj5hnVrxp/D2p+GPD2kXV1rg05raxtmv28lCbN2WCJmLMSm0CBduVwCjE5HC+taVPPdaNZXF5H5dxLbo8qYxtcqCR+dAFuiiigAooooAKKKKAObsf+Sp67/2BdN/9H31dJXN2P/JU9d/7Aum/+j76ukoAKKKKACub8Uf8jF4M/wCw1J/6b7yukrkvHCX0uqeEU0q4t7a7OtP5ctzbtNGv+gXecoroTxkfeGDzz0IB1tFc39h8b/8AQw+H/wDwQz//ACZR9h8b/wDQw+H/APwQz/8AyZQB0lFc39h8b/8AQw+H/wDwQz//ACZR9h8b/wDQw+H/APwQz/8AyZQB0lFc39h8b/8AQw+H/wDwQz//ACZR9h8b/wDQw+H/APwQz/8AyZQB0lFc39h8b/8AQw+H/wDwQz//ACZR9h8b/wDQw+H/APwQz/8AyZQB0lFc39h8b/8AQw+H/wDwQz//ACZR9h8b/wDQw+H/APwQz/8AyZQB0lc34X/5GLxn/wBhqP8A9N9nR9h8b/8AQw+H/wDwQz//ACZXP+HLPxide8WCDXdDR11aMTM+izMHb7Da8qBdDaNu0YJPIJzzgAHolFc39h8b/wDQw+H/APwQz/8AyZR9h8b/APQw+H//AAQz/wDyZQB0lFc39h8b/wDQw+H/APwQz/8AyZR9h8b/APQw+H//AAQz/wDyZQB0lFc39h8b/wDQw+H/APwQz/8AyZR9h8b/APQw+H//AAQz/wDyZQB0lFc39h8b/wDQw+H/APwQz/8AyZR9h8b/APQw+H//AAQz/wDyZQAfEf8A5JZ4r/7At5/6Ieukrzvx9Z+MV+G3iVrzXdDltxpN0ZY4tFmR2XyWyFY3TBSR0JBx6HpXQfYfG/8A0MPh/wD8EM//AMmUAdJRXN/YfG//AEMPh/8A8EM//wAmUfYfG/8A0MPh/wD8EM//AMmUAdJRXN/YfG//AEMPh/8A8EM//wAmUfYfG/8A0MPh/wD8EM//AMmUAdJRXN/YfG//AEMPh/8A8EM//wAmUfYfG/8A0MPh/wD8EM//AMmUAdJRXN/YfG//AEMPh/8A8EM//wAmUfYfG/8A0MPh/wD8EM//AMmUAHij/kYvBn/Yak/9N95XSV534js/GI17wmJ9d0N3bVpBCyaLMoRvsN1ywN0dw27hgEckHPGD0H2Hxv8A9DD4f/8ABDP/APJlAHSUVzf2Hxv/ANDD4f8A/BDP/wDJlH2Hxv8A9DD4f/8ABDP/APJlAHSUVzf2Hxv/ANDD4f8A/BDP/wDJlH2Hxv8A9DD4f/8ABDP/APJlAHSUVzf2Hxv/ANDD4f8A/BDP/wDJlH2Hxv8A9DD4f/8ABDP/APJlAHSUVzf2Hxv/ANDD4f8A/BDP/wDJlH2Hxv8A9DD4f/8ABDP/APJlAHSVzd9/yVPQv+wLqX/o+xo+w+N/+hh8P/8Aghn/APkyufvLPxj/AMLJ0ZW13QzcHSb8pINFmCKvnWe4FftWSSSuDkYweDkEAHolFc39h8b/APQw+H//AAQz/wDyZR9h8b/9DD4f/wDBDP8A/JlAHSUVzf2Hxv8A9DD4f/8ABDP/APJlH2Hxv/0MPh//AMEM/wD8mUAdJRXN/YfG/wD0MPh//wAEM/8A8mUfYfG//Qw+H/8AwQz/APyZQB0lFc39h8b/APQw+H//AAQz/wDyZR9h8b/9DD4f/wDBDP8A/JlAHSVzfw4/5JZ4U/7Atn/6ISj7D43/AOhh8P8A/ghn/wDkyuf8A2fjFvht4aaz13Q4rc6TamKOXRZndV8lcBmF0oYgdSAM+g6UAeiUVzf2Hxv/ANDD4f8A/BDP/wDJlH2Hxv8A9DD4f/8ABDP/APJlAHSUVzf2Hxv/ANDD4f8A/BDP/wDJlH2Hxv8A9DD4f/8ABDP/APJlAHSUVzf2Hxv/ANDD4f8A/BDP/wDJlH2Hxv8A9DD4f/8ABDP/APJlAHSUVzf2Hxv/ANDD4f8A/BDP/wDJlH2Hxv8A9DD4f/8ABDP/APJlAB8R/wDklniv/sC3n/oh66SvO/H1n4xX4beJWvNd0OW3Gk3Rlji0WZHZfJbIVjdMFJHQkHHoeldB9h8b/wDQw+H/APwQz/8AyZQB0lFc39h8b/8AQw+H/wDwQz//ACZR9h8b/wDQw+H/APwQz/8AyZQB0lFc39h8b/8AQw+H/wDwQz//ACZR9h8b/wDQw+H/APwQz/8AyZQB0lFc39h8b/8AQw+H/wDwQz//ACZR9h8b/wDQw+H/APwQz/8AyZQB0lFc39h8b/8AQw+H/wDwQz//ACZR9h8b/wDQw+H/APwQz/8AyZQB0lFc39h8b/8AQw+H/wDwQz//ACZR9h8b/wDQw+H/APwQz/8AyZQB0lFc39h8b/8AQw+H/wDwQz//ACZR9h8b/wDQw+H/APwQz/8AyZQAWP8AyVPXf+wLpv8A6Pvq6SuN8ORarD8SdfXXLyzvLj+ydOKyWdo1ugXzr3AKtJISc55yOo44yeyoAKKKKACub8Uf8jF4M/7DUn/pvvK6Sub8Uf8AIxeDP+w1J/6b7ygDpKjhuIbmMvbypKgdkLRsGAZWKsuR3DAgjsQRWb4mm1KHQZv7FtLm6upCIwLVohLGrHDOvmsqblGSMnrjg9KwvhZmHwc9kul3mnQ2moXscS3cscjMPtUvG5ZHJK/dJY8kEgsOSAdnRXO+LtT1jTobUaCsRd3ZrhjaG7eOJRy4gWWN3AJGdhZuQAjbuM271DX59T8PXFprWlWtjdWTXFwsljI6uQqszBjMhC4bjK/LyTnoADtKK4XUvGGr23jaKzs47efSRqENhOwtWyjuin/XNKoLZb7sccoAX5mUkhdDRb7xRf8AiLVLW7uNJWx0u+EDPHaSCS5VoI5QADKRGV8wDdl9/PypjLAHVUUUUAFFFFABXN+F/wDkYvGf/Yaj/wDTfZ10lc34X/5GLxn/ANhqP/032dAF/VvFXh7QbhINd13TNNmkXekd5eRwsy5xkBiMjI61qghlBU5B5BHesHXZrdNV03TzGPO1ibyJX7mGJHlKn1B+7j0kNb1ABRRRQAUUUUAFFFFAHN/Ef/klniv/ALAt5/6Ieukrm/iP/wAks8V/9gW8/wDRD10Fx5v2WX7P/rdh2dPvY46+9AFey1jTNSurq207UbS7nsn8u6ignV2gbkbXAOVPB4PoauV514O+zfaPBH9m7c/8I5N9p2dcZt8+Z/teZv8AvfNu8z/ar0WgAooooAKKKKACiiigDm/FH/IxeDP+w1J/6b7yukrm/FH/ACMXgz/sNSf+m+8reu7O21CzltL+3iuraZSksMyB0dT1BU8EfWgBlxqNlaac2oXd5bwWSJ5jXMsqrGq/3ixOMe9PtLy21Cziu7C4iuraZQ8U0Lh0dT0IYcEfSvN4YZrjwR8MbOG9OnxSpbKZ1iVyjCxcpgOCgbI+UsCNwXgnFdZ4Gmll8NNHM8czW97dW4uI4kjE4Sd18wqgC7jjLFQAW3HAzgAHRUUUUAFFFFABRRRQAVzd9/yVPQv+wLqX/o+xrpK5u+/5KnoX/YF1L/0fY0Abt5e2unWct3qFzDa20K7pJp5AiIPUseAKpXXijQLHSrfU73XNNttPuSBBdzXcaRSkgkbXJw3AJ4PasXxxFPc6l4XtYr1rCObVGDXCxK5VhbzFMBwUDZHylgRuC8E4rP0NkfS7Zvs0Wo6zDNqOnWkyxiKOWH7RiWWREwmCY4y5A5bhQC2KAOvvNd0nT7y0tL/VLK1ub1ttrDNcIjznIGEUnLHJHTPUVfryTxBpsmh+E9Uh8PXGmajazeGrayQ3dwwulVFkjhKIFPmCVnAX5kAfJBbOB6xCJFgjE7BpAoDsOhOOaAH0UUUAFFFFABXN/Dj/AJJZ4U/7Atn/AOiErpK5v4cf8ks8Kf8AYFs//RCUAasWu6RPrM2kQapZSanAu+WyS4QzRrxyyA7gPmXkjuPWlsdc0nU5ruHTdTs7yWyfZdJb3CSNA3I2uAflPyng46H0rno7LTDrlibWI2tlpmo3VzHMWZjcXcqzeciZydg8yVm7bgAPukVkWVnoUt1DazmG58P6h4YkSzKebEYdPAjBSUsxcllkBDkqQFYYBySAdxpOuaTr1s9xoep2epQI+x5bO4SZVbAO0lSQDgg496vVz2hQpLr+o6rLE1tdXttboLV/vrBG0vlvIOzsXfjqAqg8g10NABRRRQAUUUUAc38R/wDklniv/sC3n/oh66Sub+I//JLPFf8A2Bbz/wBEPXSUAZOm+K/Dus3z2Wj69pl/dRqWeC1vI5ZFAIBJVSSACQPxrUSRJVLROrgMVJU55BwR9QQR+FYWhvaahfapHDCgttNkGlxRYyoVY0Z8DtkuFI9I1qn4NfTdB8GyqzWum2Fvqt/DGCVhijBv5kRR0A5IUD1IAoA6mSRIYmkldUjRSzOxwFA6knsKo6t4g0bQI45Nd1ax0xJSVja8uUhDkdQCxGayfiPZWt98M/EUd9bQ3KJptxKizRhwrrGxVgD0IIBB7Gn+Iomu9YtLW18QT6Ldi0uJQ8FqkjGMNFkl5EZFUErkEZOeCMGgDbF/ZtZQ3i3cBtp/L8qcSDZJvICbW6HcWUDHXIx1psep2E01xDFe2zy20ixTosqlonbG1WGflJyMA9civLvEeq6zreh+F9WvvD+pTwJJpV7H9int1he5kuISQyvMrkgHaoI2gyZY8Blnv21zwz4mkvokshA7tPslLPI6lrmcowXAEgEjxjDMBw3P3aAPVKKKKACiiigAooooA5ux/wCSp67/ANgXTf8A0ffV0lc3Y/8AJU9d/wCwLpv/AKPvq6SgAooooAK5vxR/yMXgz/sNSf8ApvvK6SuS8cSX0WqeEX0q3t7m7GtP5cVzcNDG3+gXecuqORxk/dOTxx1AB1jKrqVcBlYYIIyCKo6ToOkaDA8OhaVZabFI2947O3SFWbGMkKBk4rK+3eN/+he8P/8Ag+n/APkOj7d43/6F7w//AOD6f/5DoA09X8PaLr6RJr2kWGprCSY1vbZJghPXG4HGcCpL3RtM1KG3i1HTbS7jtZFlgSeBXELrwrKCPlI7EdKyPt3jf/oXvD//AIPp/wD5Do+3eN/+he8P/wDg+n/+Q6AL114V8PX2oS317oOmXF5MFWW4ms43kkCkFQWIycFVIz02j0qTTfDmiaPdT3WkaPp9hcXH+ultbVInl5z8xUAnnnms37d43/6F7w//AOD6f/5Do+3eN/8AoXvD/wD4Pp//AJDoA6Siub+3eN/+he8P/wDg+n/+Q6Pt3jf/AKF7w/8A+D6f/wCQ6AOkorm/t3jf/oXvD/8A4Pp//kOj7d43/wChe8P/APg+n/8AkOgDpK5vwv8A8jF4z/7DUf8A6b7Oj7d43/6F7w//AOD6f/5Drn/Dl54xGveLDBoWhu7atGZlfWplCN9hteFItTuG3ackDkkY4yQDv5LW3muIZ5oIpJrckwyMgLRkjB2nqMjg47VLXN/bvG//AEL3h/8A8H0//wAh0fbvG/8A0L3h/wD8H0//AMh0AdJRXN/bvG//AEL3h/8A8H0//wAh0fbvG/8A0L3h/wD8H0//AMh0AdJRXN/bvG//AEL3h/8A8H0//wAh0fbvG/8A0L3h/wD8H0//AMh0AdJRXN/bvG//AEL3h/8A8H0//wAh0fbvG/8A0L3h/wD8H0//AMh0AHxH/wCSWeK/+wLef+iHrpK878fXnjFvht4lW80LQ4rc6TdCWSLWpndV8lslVNqoYgdASM+o610H27xv/wBC94f/APB9P/8AIdAGxZ6RpunXV1c6fp9ra3F44e5lggVHnYZ+ZyBljyeT6mrlc39u8b/9C94f/wDB9P8A/IdH27xv/wBC94f/APB9P/8AIdAHSUVzf27xv/0L3h//AMH0/wD8h0fbvG//AEL3h/8A8H0//wAh0AdJRXN/bvG//QveH/8AwfT/APyHR9u8b/8AQveH/wDwfT//ACHQB0lFc39u8b/9C94f/wDB9P8A/IdH27xv/wBC94f/APB9P/8AIdAB4o/5GLwZ/wBhqT/033lb13Z22oWctpf28V1bTKUlhmQOjqeoKngj61wPiO88YnXvCZn0LQ0ddWkMKprUzB2+w3XDE2o2jbuOQDyAMc5HQfbvG/8A0L3h/wD8H0//AMh0AaEfhjQIdFk0eLQ9NTS5TuksVtIxA5yDkx42nkA9Owq/a2tvY2kVrZQR29vCgSKGJAiRqBgKFHAAHYVgfbvG/wD0L3h//wAH0/8A8h0fbvG//QveH/8AwfT/APyHQB0lFc39u8b/APQveH//AAfT/wDyHR9u8b/9C94f/wDB9P8A/IdAHSUVzf27xv8A9C94f/8AB9P/APIdH27xv/0L3h//AMH0/wD8h0AdJRXN/bvG/wD0L3h//wAH0/8A8h0fbvG//QveH/8AwfT/APyHQB0lc3ff8lT0L/sC6l/6PsaPt3jf/oXvD/8A4Pp//kOufvLzxj/wsnRmbQtDFwNJvwkY1qYoy+dZ7iW+y5BBC4GDnJ5GACAd5f6fZarYyWWqWcF7aS4EkFzEskb4ORlWBB5AP4Vn3vhDw1qVva2+o+HtKu4bOPy7aOexjdYE4+VAVwo4HA9BVP7d43/6F7w//wCD6f8A+Q6Pt3jf/oXvD/8A4Pp//kOgDTPh/Rjc2VwdIsDPp6eXZym2TdbLjG2M4ygxxgYrRrm/t3jf/oXvD/8A4Pp//kOj7d43/wChe8P/APg+n/8AkOgDpKK5v7d43/6F7w//AOD6f/5Do+3eN/8AoXvD/wD4Pp//AJDoA6Siub+3eN/+he8P/wDg+n/+Q6Pt3jf/AKF7w/8A+D6f/wCQ6AOkrm/hx/ySzwp/2BbP/wBEJR9u8b/9C94f/wDB9P8A/Idc/wCAbzxivw28NLZ6FoctuNJtRFJLrUyOy+SuCyi1YKSOoBOPU9aAOttfCXhyx1Y6pZeH9LttQLM5vIbKNJizZ3HeBnJyc885NOg8L+H7aO+jttC02FNR/wCP1Y7ONRddf9YAPn+83XPU+tUPt3jf/oXvD/8A4Pp//kOj7d43/wChe8P/APg+n/8AkOgDT0jw7onh9ZRoOj2GmCbBlFlapD5mM43bQM4yevqa0a5v7d43/wChe8P/APg+n/8AkOj7d43/AOhe8P8A/g+n/wDkOgDpKK5v7d43/wChe8P/APg+n/8AkOj7d43/AOhe8P8A/g+n/wDkOgDpKK5v7d43/wChe8P/APg+n/8AkOj7d43/AOhe8P8A/g+n/wDkOgA+I/8AySzxX/2Bbz/0Q9dJXnfj688Yt8NvEq3mhaHFbnSboSyRa1M7qvktkqptVDEDoCRn1HWug+3eN/8AoXvD/wD4Pp//AJDoA3Y7K0hWdYraFFuHLzBYwBKxGCW9SQAMn0rPtPCXhywsZrOx0DS7a1ndJJYIbKNEkZCCrMoGCQQCCehFUvt3jf8A6F7w/wD+D6f/AOQ6Pt3jf/oXvD//AIPp/wD5DoA2dS0rT9Zsms9YsLa/tWILQXUKyoSOQSrAjiqlz4U8PXmlW+mXeg6ZPp9scwWktnG0UR55VCML1PQdzVH7d43/AOhe8P8A/g+n/wDkOj7d43/6F7w//wCD6f8A+Q6ANXVtC0nXrdINc0uy1KGNt6R3lukyq2MZAYEA4J5qSbSdOuYkjuNPtZY45UmRXhVgsiYCOARwy4GD1GBisb7d43/6F7w//wCD6f8A+Q6Pt3jf/oXvD/8A4Pp//kOgDpKK5v7d43/6F7w//wCD6f8A+Q6Pt3jf/oXvD/8A4Pp//kOgDpKK5v7d43/6F7w//wCD6f8A+Q6Pt3jf/oXvD/8A4Pp//kOgDpKK5v7d43/6F7w//wCD6f8A+Q6Pt3jf/oXvD/8A4Pp//kOgAsf+Sp67/wBgXTf/AEffV0lcb4cl1Wb4k6+2uWdnZ3H9k6cFjs7trhCvnXuCWaOMg5zxg9BzzgdlQAUUUUAFc34o/wCRi8Gf9hqT/wBN95XSVzfij/kYvBn/AGGpP/TfeUAdJRWL4ut4rzw1NaztpwWeWGPbqfMDkyphGH8WegX+IkDjNUfA0EenWuqaQunaXZSadfeVK2k2X2W3nLRRyBxHltrbZFU5Y8r1xgAA6iisDxb4iuvDllbz2tlBcJJLtlmuppIYLdcE75JI4pNi/wC0wCAZyw4Bp3Wu+I31jQ49M03THtL+2M8xl1JgynClgpSF1YAMCCD83+yOSAdXRXH6h46ksfGkeirp0M9ubmK2luI7h3kieRVKlkSJkjB3AASSIzYJVSMbrWk+Idd1LXr/AE99CtIIdNu/s91df2iWVg0SSoYl8oFmxINwbYBkbWfnaAdNRRRQAUUUUAFc34X/AORi8Z/9hqP/ANN9nXSVzfhf/kYvGf8A2Go//TfZ0AdJRXmHjq3utU8Qa3I1vpd5baDpUF6lvqCSOdxM7MYijL5LsIwBL8xG3AHWvTIZVngjlQELIoYA9cEZoAfRRRQAUUUUAFFFFAHN/Ef/AJJZ4r/7At5/6Ieukrm/iP8A8ks8V/8AYFvP/RD10MsghheRlZgiliEUsxx6Ack+1AD6K858D601/wDETXJbw6r9pv7C0lWG60u4t47VVkucRAyRqAACPmJ+di5XptX0agAooooAKKKKACiiigDm/FH/ACMXgz/sNSf+m+8rpK5vxR/yMXgz/sNSf+m+8pvxAmuY/C6w2TIsl5fWloTJIyKVknRGUlecMCV45+bAIPNAHTUVyfgO2GlR6xoptNPtmsL7B/syBoLdw8UcgZYmZvLPzYKgkZG7qxFdZQAUUUUAFFFFABRRRQAVzd9/yVPQv+wLqX/o+xrpK5u+/wCSp6F/2BdS/wDR9jQB0lFYPizTLPV7K0tL1bW5c3BeDTr2VUgv5BE+IpAUfcoGZMBSQYw38NctHpOgXXgDS11fT7fUZbOeTSraLUIEnS3ne4EJCq24bUZcL1OxfegD0eivOfGXhzR7XT2mtIbeT+xLGAlBKnnaRbxM7ie2TblZGCkZ3KGEQ+9t2n0YEMoKnIPII70AFFFFABRRRQAVzfw4/wCSWeFP+wLZ/wDohK6Sub+HH/JLPCn/AGBbP/0QlAHSUV5na+IvO+L0N3eLrSqdOvba3s20i6VIlWW3O8MY8MXIYlgdoHlrwTlq2havBqfiTxYda1DV9O/tLR4HknnsZ7JdMjBuhhZJYwqbVIO9uGfeRwNqgHqtFcf4M0630TX9c02CwttKJEFyljY4+zCNt6LKoCrh2MZ3jaANq9fvHsKACiiigAooooA5v4j/APJLPFf/AGBbz/0Q9dJXN/Ef/klniv8A7At5/wCiHrpCQqkscAckntQAUV5do2mafpBeC6Hh6xttZ0O4mGuaFAtvLBGnlh3a5JIkB81HEmFGVyQeK6HwZp1vomv65psFhbaUSILlLGxx9mEbb0WVQFXDsYzvG0AbV6/eIB2FFYXizT9Jv9MgPiBWnsre4EpsvLWVLxirIsTxkHzBucMF/vqh7V5/4z87QvhRc+HUfULaJrS9mkexsprlbeLLvHZ+ZGrLGqhljLMQAkbYxkFQD12ivN/GUNlqpufEK6f4f1GPTNMW8ls9a0xpLsRK0rEKj7Wg3BSAzK2SvK/LVKW71Hwx4tvbifRvMt7mf7VcSPOieeqvPIsmBuJKRFUAYAloVGQoVqAPVaKKKACiiigAooooA5ux/wCSp67/ANgXTf8A0ffV0lc3Y/8AJU9d/wCwLpv/AKPvq6SgAooooAK5vxR/yMXgz/sNSf8ApvvK6SuS8cXU1lqnhG4trC41CVNafbbWzRrI+bC7HBkZV4znlhwO54oA6TUdOttVsXtL5GeJ8H5HZGUg5DKykMrAgEMCCCMg1FpGj2Wh2RtdOjkVGdpHeaZ5pJHPVnkclmPQZYngAdABWT/wlGr/APQieIP+/wDp/wD8lUf8JRq//QieIP8Av/p//wAlUAaOseHrDXHge+a8jktwwjks7+e1YBsbgWidSQdq8HI4pt94Z0rUbWytrmCQRWOBAsNxJDtXbt2EowLIRwVbKnuDVD/hKNX/AOhE8Qf9/wDT/wD5Ko/4SjV/+hE8Qf8Af/T/AP5KoAlvPBGh32oy3txDd+dLMk7CLULiOMSrtxIsauFV/lHzAAkZBJBObOk+GtO0S+vLyw+2edfP5lwZ7+edXbAG7bI7AHCqMgDhQOgAqj/wlGr/APQieIP+/wDp/wD8lUf8JRq//QieIP8Av/p//wAlUAdJRXN/8JRq/wD0IniD/v8A6f8A/JVH/CUav/0IniD/AL/6f/8AJVAHSUVzf/CUav8A9CJ4g/7/AOn/APyVR/wlGr/9CJ4g/wC/+n//ACVQB0lc34X/AORi8Z/9hqP/ANN9nR/wlGr/APQieIP+/wDp/wD8lVz/AIc8R6pHr3ixk8F65KZNWjZkSaxzEfsNqNrZuQM4Ab5cjDDnOQADrNY8KaPr11FcapavJJGnlnZcSRCVM58uRUYCVM/wOGXk8cnOxXN/8JRq/wD0IniD/v8A6f8A/JVH/CUav/0IniD/AL/6f/8AJVAHSUVzf/CUav8A9CJ4g/7/AOn/APyVR/wlGr/9CJ4g/wC/+n//ACVQB0lFc3/wlGr/APQieIP+/wDp/wD8lUf8JRq//QieIP8Av/p//wAlUAdJRXN/8JRq/wD0IniD/v8A6f8A/JVH/CUav/0IniD/AL/6f/8AJVAB8R/+SWeK/wDsC3n/AKIeukrzvx94j1Sf4beJYpfBeuWySaTdK00s1iUjBhYFm23JbA6nAJ9Aa6D/AISjV/8AoRPEH/f/AE//AOSqANCDw7p9v4iuNci+1/b7iNYpWa+maMoudo8ovsGMsRheCzHuc6lc3/wlGr/9CJ4g/wC/+n//ACVR/wAJRq//AEIniD/v/p//AMlUAdJRXN/8JRq//QieIP8Av/p//wAlUf8ACUav/wBCJ4g/7/6f/wDJVAHSUVzf/CUav/0IniD/AL/6f/8AJVH/AAlGr/8AQieIP+/+n/8AyVQB0lFc3/wlGr/9CJ4g/wC/+n//ACVR/wAJRq//AEIniD/v/p//AMlUAHij/kYvBn/Yak/9N95W3qOnWmradNY6jCJraddroSR7ggjkEHBBGCCAQQRXCeI/EeqSa94TZ/BeuRGPVpGVHmscyn7DdDauLkjOCW+bAwp5zgHoP+Eo1f8A6ETxB/3/ANP/APkqgDV0jRbHQ7NrbTo5FWSQyyPNO80krnALPJISzHAAyScAAdABV+ub/wCEo1f/AKETxB/3/wBP/wDkqj/hKNX/AOhE8Qf9/wDT/wD5KoA6Siub/wCEo1f/AKETxB/3/wBP/wDkqj/hKNX/AOhE8Qf9/wDT/wD5KoA6Siub/wCEo1f/AKETxB/3/wBP/wDkqj/hKNX/AOhE8Qf9/wDT/wD5KoA6Siub/wCEo1f/AKETxB/3/wBP/wDkqj/hKNX/AOhE8Qf9/wDT/wD5KoA6Subvv+Sp6F/2BdS/9H2NH/CUav8A9CJ4g/7/AOn/APyVXP3niPVD8SdGlPgvXFddJv1EJmsd7gzWZLD/AEnbgbQDkg/MMA84AO11fRbHXLeOHUEl/dP5kUlvcSQSxtgjKyRsrLkEg4IyCQeDUS+G9JXTLHT1tP8ARrCZJ7dPMbKyIdwctnLNnJJYncSSck1n/wDCUav/ANCJ4g/7/wCn/wDyVR/wlGr/APQieIP+/wDp/wD8lUAXNU8KaPrN8l3qFvK8oCq4jupYknVWLKsqIwWVQSflcMPmPHJrYrm/+Eo1f/oRPEH/AH/0/wD+SqP+Eo1f/oRPEH/f/T//AJKoA6Siub/4SjV/+hE8Qf8Af/T/AP5Ko/4SjV/+hE8Qf9/9P/8AkqgDpKK5v/hKNX/6ETxB/wB/9P8A/kqj/hKNX/6ETxB/3/0//wCSqAOkrm/hx/ySzwp/2BbP/wBEJR/wlGr/APQieIP+/wDp/wD8lVz/AIB8R6pB8NvDUUXgvXLlI9JtVWaKaxCSAQqAy7rkNg9RkA+oFAHYXHh3T7rxFb65L9r+3W0ZiiZL6ZIwhILAxBwhyQpOVOdq56DEMvhHR7jVr7UbiG4mm1C3+zXKS3szwyRYICeUX8sAbmxheCzEck5q/wDCUav/ANCJ4g/7/wCn/wDyVR/wlGr/APQieIP+/wDp/wD8lUAaWj+H9P0JZ/sC3DPcMGlmuruW5lfAwAZJWZto5wucDJwOTnSrm/8AhKNX/wChE8Qf9/8AT/8A5Ko/4SjV/wDoRPEH/f8A0/8A+SqAOkorm/8AhKNX/wChE8Qf9/8AT/8A5Ko/4SjV/wDoRPEH/f8A0/8A+SqAOkorm/8AhKNX/wChE8Qf9/8AT/8A5Ko/4SjV/wDoRPEH/f8A0/8A+SqAD4j/APJLPFf/AGBbz/0Q9dIQGUhhkHgg96878feI9Un+G3iWKXwXrlskmk3StNLNYlIwYWBZttyWwOpwCfQGqf8AwvbR/wDoW/EH/fNr/wDH6AOztfBmg2a3apZvKl3AbaSO5uZZ0WE5zFGsjERpz91No4Xj5Rhg8D6D/ZdzYTW1xcw3csU07XV7PPLI0TK8eZXcvtVlBC7sdeOTnj/+F7aP/wBC34g/75tf/j9H/C9tH/6FvxB/3za//H6AO/1nQrLXoYI9QN0ot5PNia1vZrZ1baVzuidT0YjGcc1Xl8J6TP4Yk8PypdNp0ocSIb+fzJA7FmDS7/MbcWOctyCQeOK4j/he2j/9C34g/wC+bX/4/R/wvbR/+hb8Qf8AfNr/APH6AOzufBmi3v2f7VFdy+QixkPf3B89VOVWb5/34BzxJu6n1Obeo+H9M1bb9vt2l2zrOCJXU7lGAOCPlxkFfunJyDk1wP8AwvbR/wDoW/EH/fNr/wDH6P8Ahe2j/wDQt+IP++bX/wCP0AeoUV5f/wAL20f/AKFvxB/3za//AB+j/he2j/8AQt+IP++bX/4/QB6hRXl//C9tH/6FvxB/3za//H6P+F7aP/0LfiD/AL5tf/j9AHqFFeX/APC9tH/6FvxB/wB82v8A8fo/4Xto/wD0LfiD/vm1/wDj9AHWWP8AyVPXf+wLpv8A6Pvq6SvPfAXiy28ZePPEWoWdleWSR6Zp8BjvBGHJEt42Rsdhj5vXPB4r0KgAooooAK5vxR/yMXgz/sNSf+m+8rpK5vxR/wAjF4M/7DUn/pvvKAOkorB8Yz3ttotvJp1/NYynUbKFpIkjYsktzHE64dWH3XPIGcgc9jTv/EH/AAjEOt6nq13dXttHexQw27NbRLCGjQ4Dv5agEueZH7AA5IBAOqorkdc+IumeHdOsZ9YtZ7O6vTJssLq5tbeVRGdrktLMsZAJX7rkkMCARkh7+PrZ7jTotO0fVNS/tWx+3ae9qkRW5jGwty0i+WVEikmTYpztBLEKQDq6KRGLRqzKUJAJVsZX2OOK5Oy8XW0/xIvdEGrW04FuxWzSSPfbNFs3swHzDf52Pm4/c8YySQDraK5yx8aWt3ZXGoXGm6lYaZFbNdxX9zCvl3EK/wAaBGZxkYYK6qxB4U4OBPF7LZJcX/h7WNP3XVtbeXcpDkefII0fKyspUMwDAEuO68jIB0dFc1qXja30q3uZ7rSdTMNpqKafcNDHHIY2fy/LcIrlnVvOTAQM/ONoPFR6145Tw/okWpavoWpWiuW3xTTWieSFIGXkacRDJYbVDljzgcHAB1Nc34X/AORi8Z/9hqP/ANN9nW9Z3cV/YW95bkmG4iWWMkYJVhkcfQ1g+F/+Ri8Z/wDYaj/9N9nQB0lFcP45hu4bqXVpLK9uNLsLMTXD2+v3FhsVWdpCkcJ/euFAOH2jgAN1qjrfjuy/4WRodhH4l02zsra9aC8tWu0WaeR7WYruUsCI1bywMj5ncdNo3AHo1FMllSCF5ZnCRxqWdmOAoHJNeaeH/GI8TeIPE8Vl4gsr57rSoZNK0+xvkLwjNwCAQ3+tP7tnPG3cgPChiAenUV57ZW17HZ6zoa6ffxaoFtZxEvia6ufMgeQjKzykNCfkkDBBnABBY4rKuNQv9MhgihttWgm0vUCl3BDql1qCNMTbugaaT5jE0DycOAoY4xu2kgHq9FYvhPWI9b0CK5WO5jkBxKl0AH3EBs4BIAYMGAzwGAwMYG1QBzfxH/5JZ4r/AOwLef8Aoh66Sub+I/8AySzxX/2Bbz/0Q9dJQAUV5qbfX9GbWLKzvtUn1NtGd0NxKZPt9wpG+4tkZ3WHBfHl5UbmX5AoBOn4L1GI+J9U0rTv7abTorK2uozrH2gyiR3mRiPtH70KfLGA2BlWKjkmgDt6K5vxYZbu80PR1ubi2t9RvWW5e1maGVo0hkk2K6kMmWRclSDgEd81gxwPqHh9P7a1vUls9Nur2wEdpcyw3N5Is+y3bzY3VmdUUrtOQ7PuYZAwAehUV5/rWj62+h2TX+v3Q8QHTYbeyhs55IU/tBQxkmcIwWWMnYWV1KqsZwPmINMeJbzQ/F99DqsWry28t1vkPzeXGqyTFWQuQBGIRCzbDglGGGYsCAemUUUUAc34o/5GLwZ/2GpP/TfeV0lc34o/5GLwZ/2GpP8A033lamu2cuoaPLbQ6g+nbmQy3CEhhEHVpFDAqV3IGXeCCu7cDkCgDQorziS2vU0SKG3utYvtLuNXMlnbQ6jIl9cWnkZ2id3D4EoaQZkUmMKNxyEbqfBNy134QtJmmuJQzShBdljPEglYLFLu+bzEUBHzk7lbJJ5IBvUV5x421DVZdd1NbWG9ex0TT4b2Q2mqmyZSTKXYbVPnMFjGI5MR/eyeRhdQu5/+EzF0s+rFJdTtYbW+hu3FhbxlYy8EsIYDe+XAdkYb5owHVhtQA9GoryW81TWLG9RbYa9/wkN/e3trKlwJvse3yrh4BCG/c8CKJgYwWwp3kEtW54J8S+bqQ0m4i1banmpaTX+/JTzJGVZPMPmGQon8QJAjOSC2CAd9RRRQAVzd9/yVPQv+wLqX/o+xrpK5u+/5KnoX/YF1L/0fY0AdJRXO+M/EkHh7SUVtU0/S7q9fyLa51CVUiiOMs53EbtqgkLn5jgZGcjmtLmtvEfw38NaleeJbye1j0xIrlNOvpEuLq9ZIwv72J1YyKRIDGcgmTLDKigD0eiqOiR6hD4f06LWpVm1JLWJbuVB8rzBBvYdOC2TWJqWiW1x4vtWOo6oLyeT7UIotTuIoo4YQgKiJHEZBcpkMpyHb04AOporzewuL+PxjEVl1Q3V1d3uy7uLt3068iUSbII4922N1IjP3EJEMpDuMlsa31O+h+xafD/wlLT3unGbWRdi580PHNbecYAeQQkso/wBHAQll2kkLQB7DRXF+AfEsurQ/Y9RivUvoraPMlzgLLtRN2OclgXDMSBnzAATt47SgArm/hx/ySzwp/wBgWz/9EJXSVzfw4/5JZ4U/7Atn/wCiEoA6SiuGto7rTPHFvPq1lepFqF5cQWtwdeuJVL4kdA1pnylQxo2CCSCBlQTkaHhvRLay127e11HVLo2Ua2s5u9TuJ1kmZVkZvLkdkUhSmCoGN7DtQB1NFYXjI3H/AAjMqWcs0csk0KbbebypplMq7oo3/hd13KGyuCc7k++vOaXbXOq+G7yK3l11Laz1R9+ly3bjUDGsI/0c3BmVlJlIlV/NIKFBna2AAegUV529lqep+ArCYX+r37WsNxC8Fjcvb3DTh9iM8odGYw7XVgQ28kttYgA583iPUrDWILqWTVdWgvrOELJZoyQ3MbJb7XiDFUV2czjIKlQ67iAEoA9UoqK1uYr2zhurdt0M8ayRtjqrDIP5GpaAOb+I/wDySzxX/wBgW8/9EPXzpX0X8R/+SWeK/wDsC3n/AKIevnSgAooooAKKKKACiiigAooooAKKKKACiiigD0n4Ff8AIw+J/wDr1sP/AEO6r2avGfgV/wAjD4n/AOvWw/8AQ7qvZqACiiigArm/FH/IxeDP+w1J/wCm+8rpK5vxR/yMXgz/ALDUn/pvvKANXWtJh1zSnsZ5ZoAzxypNAwDxSRusiOuQRkMqnBBBxggjIrPPheUaV9mj8Q6tHdNcG4l1BTAZZm27NrKYjFt27RgIB8oP3sk7dzcwWdrLdXk0cFvChklllcKkagZLMTwAAMkms+LxPoFxa2lzBrmmywX03kWsqXcZW4kzjYhBwzZ4wMmgDNj8D21ppmm2uk6nfaXNpySRxXdokAdkkIZ0KNEYtpYKcKg27QF2jINlvDDHxFYasut6mpsbdrZLUmFo3RthfczRmQljGhJ35+XjGTnT0/U7DVrX7TpV9bX0G4p5ttMsi7hwRlSRkelWqACueTwiqrpXmaxqMsmm3Ut0JXEG64Mm/csmIgNuJGGFC9jnIBroaKAOcsvBdva6dcabc6pqV/pslq1nFZXMqCO3hbjapRFZsAABnZmAHBGTl3/CJNLo9xY3/iDVr6SVoXju52hEkDROHjKKsSx5DgHLISeASQAB0NFAHIzeAWmtJ4T4p1wG4vYb6WXFqWaaLy9p5gIAzEjYAxxgYXir2s+EYdav7C9l1K9t7myhkg82AQ7pUk27wS0bbC20ZaPY3PXpjoKKAKej6aNH0a005bma6W1iWJZp9u9lUYGdqqOmBwBWP4X/AORi8Z/9hqP/ANN9nXSVzfhf/kYvGf8A2Go//TfZ0AP1rwdaa3fy3L3t5aLdQJbX0Nt5YW9hUsRE5ZGYL87j5GQkOeemLOteH21jUdMuxq19YnTZzPHHbLCVkcoyHdvjY/cd14I+8T1AI2KKAKWl6b/ZkVwn228vPPuZbjddy+YY97FvLXjhFzhV7Disq78G2+oatqt3qGpX1zb6rZiyuLBxCIfKG/ABEYfgySHlz945yAAOiooA5keB7aSyu49Q1TUNQu7loGF9cCESQ+S2+EIqRrHhHLMAUOSxzkYFXdP8NQWNlJBPd3V/JcXJubq4uSm+5faFG8IqqAFVAAoX7i++dmigDM0DQoPD2m/Y7eee4Bcu0twVLtwFAO0AcKqqOM4UZyck6dFFAHN/Ef8A5JZ4r/7At5/6IeujZQ6FWGQwwRXOfEf/AJJZ4r/7At5/6IeukoA5jTPAtppkJiGqalOkdidPsQ8kaHT4CACsLRopBwqfMxZvkXnrmWPwfGmmXVu+tas95dyQvNqfnolywiZSqZRFUJhSpAUZDPnlia6KigDN1vRYtbtoUe4uLSe2mE9td2xUSQSAFdy7gynKsykMCCGIxWU/glEg06PTdc1TTmsRKRLAtvI00krbpJX82FxvZixJUL99uxxXT0UAcrdeB2nMXkeJtZtAliti3ki2JkQZyxZ4WYM2csVK5IHoKv6x4Ws9b2/aZ7iIrIrZhKjMYUqYuVPyMGbPf5jgjjG3RQAUUUUAc34o/wCRi8Gf9hqT/wBN95WprukDXdHl09ry4s1kZSZbcRlsKwbGJEZSDjBBU5BIrL8Uf8jF4M/7DUn/AKb7yukoA5v/AIQ9mth5niHV31Bbk3EepE24mjJjEZQKIhEU2j7rIeTu+8ARZsPDEWnTafJDqWpN9jFwZEecbbySZgzyTKAAzBgSuMBdxAAGANuigDn9c8HWmuX0ly19fWJubcWt6lo6Kt7ACSI5NysQBvcZQq2HbnphJvB9vLqZnTUtQhsnuI7qXTI3jFvJKm0qxynmKMohKq6qSvKnc27oaKAMS08MRW+utqdxqWoXxV5JLa3upVaO0aT7/l4UN04G4ttBIXaCRSw+F7SHXYNVFxctLFFtMbMuyR/m/et8ud+HccEL8x44GNqigAooooAK5u+/5KnoX/YF1L/0fY10lc3ff8lT0L/sC6l/6PsaAN+7he4s5YYbmW0kkUqs8IUvGf7wDqy5HuCPauYh8CPa6bpFnZ+KNZgGkQtBbyiOzZthAUA7oCuVVdoYAHBOScmusooAytN0FdNvIrhNS1CcR2MVl5E0wMTbCT5xUADzW3YZu4A4GKmbR4G8SJrRkl+0JaNaBNw2bGdXJxjOcqO/TtV+igDn7TwjBaatDdDU9RltbaaSe206SRDBBI4YFgQgkb774VnZV3cAbV2u0nwrHpck0z6rqWoXLQG2iub2VHkt4s52oQozzglm3McLuJwMb1FAGRp/hqz0zWrjUbaSbM0YRYGKmOEYUMU43fNsTOSfujGMnOvRRQAVzfw4/wCSWeFP+wLZ/wDohK6Sub+HH/JLPCn/AGBbP/0QlAD7HwdaWGspex3t49vDPNc2+nt5Yggml3eZKNqB2Y75PvuwHmNgDjFhPDUEWna1aW97ewHWJZZZbiKULLA8iBMxMB8pAUEE5wa2aKAM2/0SPUNGisJLq6jaHy2iu0kHnJIhBWTJBBORyGBVuQQQSKy28EQtbITrGpnUo7w3q6qTCZxKYjDkKY/KA8o7MCPHf7xLV01FAHLv4Etlt7Madq2padeW0U0TX9u0LTTiZxJMX8yNly7qHJVVII4wOKuXfhKwuNHi022kuLGG2hjhtGtmXdbBCCCm8MCflUHcGztHvncooAitbaKys4bW3XbDBGsca+iqMAfkKloooA5v4j/8ks8V/wDYFvP/AEQ9fOlfRfxH/wCSWeK/+wLef+iHr50oAKKKKACiiigAooooAKKKKACiiigAooooA9J+BX/Iw+J/+vWw/wDQ7qvZq8Z+BX/Iw+J/+vWw/wDQ7qvZqACiiigArm/FH/IxeDP+w1J/6b7yukrm/FH/ACMXgz/sNSf+m+8oAu+KNKn1nQXtrPyDOk0NxHHc58qVopVkCPgEhW2Yzg4znBxg5eojUYvDlw17YW1tq95dBrRNMhlukScKPLaVwiEjMY3OwRQpCk9z1dFAFewtBYafBaq5k8pApkYcue7H3JyT7mrFFFABRRRQAUUUUAFFFFABXN+F/wDkYvGf/Yaj/wDTfZ10lc34X/5GLxn/ANhqP/032dAHSUUUUAFFFFABRRRQAUUUUAc38R/+SWeK/wDsC3n/AKIeukrm/iP/AMks8V/9gW8/9EPXSUAFFFFABRRRQAUUUUAFFFFAHN+KP+Ri8Gf9hqT/ANN95XSVzfij/kYvBn/Yak/9N95XSUAFFFFABRRRQAUUUUAFFFFABXN33/JU9C/7Aupf+j7Gukrm77/kqehf9gXUv/R9jQB0lFFFABRRRQAUUUUAFFFFABXN/Dj/AJJZ4U/7Atn/AOiErpK5v4cf8ks8Kf8AYFs//RCUAdJRRRQAUUUUAFFFFABRRRQBzfxH/wCSWeK/+wLef+iHr50r6L+I/wDySzxX/wBgW8/9EPXzpQAUUUUAFFFFABRRRQAUUUUAFFFFABRRRQB6T8Cv+Rh8T/8AXrYf+h3VezV4z8Cv+Rh8T/8AXrYf+h3VezUAFFFFABVHVdF0rXrVbXXNMs9St0cSLFeW6zIrAEBgGBGcEjPuavUUAc3/AMK48Ef9Cb4f/wDBXB/8TR/wrjwR/wBCb4f/APBXB/8AE10lFAHN/wDCuPBH/Qm+H/8AwVwf/E0f8K48Ef8AQm+H/wDwVwf/ABNdJRQBzf8AwrjwR/0Jvh//AMFcH/xNH/CuPBH/AEJvh/8A8FcH/wATXSUUAc3/AMK48Ef9Cb4f/wDBXB/8TR/wrjwR/wBCb4f/APBXB/8AE10lFAHN/wDCuPBH/Qm+H/8AwVwf/E0f8K48Ef8AQm+H/wDwVwf/ABNdJRQBzf8AwrjwR/0Jvh//AMFcH/xNH/CuPBH/AEJvh/8A8FcH/wATXSUUAc3/AMK48Ef9Cb4f/wDBXB/8TR/wrjwR/wBCb4f/APBXB/8AE10lFAHN/wDCuPBH/Qm+H/8AwVwf/E0f8K48Ef8AQm+H/wDwVwf/ABNdJRQBzf8AwrjwR/0Jvh//AMFcH/xNH/CuPBH/AEJvh/8A8FcH/wATXSUUAc3/AMK48Ef9Cb4f/wDBXB/8TR/wrjwR/wBCb4f/APBXB/8AE10lFAHN/wDCuPBH/Qm+H/8AwVwf/E0f8K48Ef8AQm+H/wDwVwf/ABNdJRQBzf8AwrjwR/0Jvh//AMFcH/xNH/CuPBH/AEJvh/8A8FcH/wATXSUUAc3/AMK48Ef9Cb4f/wDBXB/8TR/wrjwR/wBCb4f/APBXB/8AE10lFAHN/wDCuPBH/Qm+H/8AwVwf/E0f8K48Ef8AQm+H/wDwVwf/ABNdJRQBzf8AwrjwR/0Jvh//AMFcH/xNH/CuPBH/AEJvh/8A8FcH/wATXSUUAc3/AMK48Ef9Cb4f/wDBXB/8TR/wrjwR/wBCb4f/APBXB/8AE10lFAHN/wDCuPBH/Qm+H/8AwVwf/E0f8K48Ef8AQm+H/wDwVwf/ABNdJRQBzf8AwrjwR/0Jvh//AMFcH/xNH/CuPBH/AEJvh/8A8FcH/wATXSUUAc3/AMK48Ef9Cb4f/wDBXB/8TR/wrjwR/wBCb4f/APBXB/8AE10lFAHN/wDCuPBH/Qm+H/8AwVwf/E0f8K48Ef8AQm+H/wDwVwf/ABNdJRQBzf8AwrjwR/0Jvh//AMFcH/xNH/CuPBH/AEJvh/8A8FcH/wATXSUUAc3/AMK48Ef9Cb4f/wDBXB/8TR/wrjwR/wBCb4f/APBXB/8AE10lFAHN/wDCuPBH/Qm+H/8AwVwf/E0f8K48Ef8AQm+H/wDwVwf/ABNdJRQBzf8AwrjwR/0Jvh//AMFcH/xNH/CuPBH/AEJvh/8A8FcH/wATXSUUAc3/AMK48Ef9Cb4f/wDBXB/8TR/wrjwR/wBCb4f/APBXB/8AE10lFAHN/wDCuPBH/Qm+H/8AwVwf/E0f8K48Ef8AQm+H/wDwVwf/ABNdJRQBzf8AwrjwR/0Jvh//AMFcH/xNH/CuPBH/AEJvh/8A8FcH/wATXSUUAc3/AMK48Ef9Cb4f/wDBXB/8TR/wrjwR/wBCb4f/APBXB/8AE10lFAHN/wDCuPBH/Qm+H/8AwVwf/E0f8K48Ef8AQm+H/wDwVwf/ABNdJRQBzf8AwrjwR/0Jvh//AMFcH/xNH/CuPBH/AEJvh/8A8FcH/wATXSUUAc3/AMK48Ef9Cb4f/wDBXB/8TR/wrjwR/wBCb4f/APBXB/8AE10lFAHN/wDCuPBH/Qm+H/8AwVwf/E0f8K48Ef8AQm+H/wDwVwf/ABNdJRQBzf8AwrjwR/0Jvh//AMFcH/xNH/CuPBH/AEJvh/8A8FcH/wATXSUUAc3/AMK48Ef9Cb4f/wDBXB/8TR/wrjwR/wBCb4f/APBXB/8AE10lFAHN/wDCuPBH/Qm+H/8AwVwf/E0f8K48Ef8AQm+H/wDwVwf/ABNdJRQBzf8AwrjwR/0Jvh//AMFcH/xNH/CuPBH/AEJvh/8A8FcH/wATXSUUAc3/AMK48Ef9Cb4f/wDBXB/8TR/wrjwR/wBCb4f/APBXB/8AE10lFAGbpHhzQ/D/AJ39g6Np+meft837FapD5m3ON20DOMnGfU1pUUUAFFFFAH//2Q==)"
      ]
    },
    {
      "cell_type": "markdown",
      "metadata": {
        "id": "RAEYHiAEyzeO"
      },
      "source": [
        "The accuracy between different stars are relatively spread out compare to the Naive Bayes Classifier. While, 1 star and 5 stars have the highest accuracy among the others."
      ]
    },
    {
      "cell_type": "markdown",
      "metadata": {
        "collapsed": false,
        "pycharm": {
          "name": "#%% md\n"
        },
        "id": "cJ59IwLtaGjh"
      },
      "source": [
        "Logistic Regression"
      ]
    },
    {
      "cell_type": "code",
      "metadata": {
        "pycharm": {
          "name": "#%%\n"
        },
        "colab": {
          "base_uri": "https://localhost:8080/"
        },
        "id": "qTCYKIXVaGjh",
        "outputId": "a1134262-4e75-477b-f7e0-9c9da941b7ad"
      },
      "source": [
        "from sklearn.linear_model import LogisticRegression\n",
        "logreg = LogisticRegression()\n",
        "logreg.fit(X_train_dtm, y_train)\n",
        "y_pred_logreg = logreg.predict(X_test_dtm)\n",
        "metrics.accuracy_score(y_test, y_pred_logreg)"
      ],
      "execution_count": 46,
      "outputs": [
        {
          "output_type": "stream",
          "name": "stderr",
          "text": [
            "/usr/local/lib/python3.7/dist-packages/sklearn/linear_model/_logistic.py:940: ConvergenceWarning: lbfgs failed to converge (status=1):\n",
            "STOP: TOTAL NO. of ITERATIONS REACHED LIMIT.\n",
            "\n",
            "Increase the number of iterations (max_iter) or scale the data as shown in:\n",
            "    https://scikit-learn.org/stable/modules/preprocessing.html\n",
            "Please also refer to the documentation for alternative solver options:\n",
            "    https://scikit-learn.org/stable/modules/linear_model.html#logistic-regression\n",
            "  extra_warning_msg=_LOGISTIC_SOLVER_CONVERGENCE_MSG)\n"
          ]
        },
        {
          "output_type": "execute_result",
          "data": {
            "text/plain": [
              "0.4992"
            ]
          },
          "metadata": {},
          "execution_count": 46
        }
      ]
    },
    {
      "cell_type": "code",
      "metadata": {
        "colab": {
          "base_uri": "https://localhost:8080/"
        },
        "id": "yskMWP3PaGjh",
        "outputId": "ec750492-1ccf-497a-cf4a-88982521b82c"
      },
      "source": [
        "#2.2 Repeat step 1, but only with reviews that give start ratings 1 or 5\n",
        "review1_5=after[(after.stars==1) | (after.stars==5)]\n",
        "\n",
        "X=review1_5.text\n",
        "y=review1_5.stars\n",
        "from sklearn.model_selection import train_test_split\n",
        "X_train, X_test, y_train, y_test = train_test_split(X, y, random_state=1)\n",
        "vect_review1_5 = CountVectorizer()\n",
        "vect_review1_5.fit(X_train)\n",
        "\n",
        "# 'document-term matrix'\n",
        "X_train_dtm = vect_review1_5.transform(X_train)\n",
        "X_train_dtm = vect_review1_5.fit_transform(X_train)\n",
        "X_test_dtm = vect_review1_5.transform(X_test)\n",
        "\n",
        "#Multinomial Naive Bayes model\n",
        "from sklearn.naive_bayes import MultinomialNB\n",
        "nb = MultinomialNB()\n",
        "nb.fit(X_train_dtm, y_train)\n",
        "y_pred_class = nb.predict(X_test_dtm)\n",
        "\n",
        "#prediction accuracy\n",
        "from sklearn import metrics\n",
        "metrics.accuracy_score(y_test, y_pred_class)"
      ],
      "execution_count": 47,
      "outputs": [
        {
          "output_type": "execute_result",
          "data": {
            "text/plain": [
              "0.9187866927592955"
            ]
          },
          "metadata": {},
          "execution_count": 47
        }
      ]
    },
    {
      "cell_type": "code",
      "metadata": {
        "colab": {
          "base_uri": "https://localhost:8080/"
        },
        "id": "GJwBz_UiaGji",
        "outputId": "5505dbae-6b8a-4fc8-d1ac-245c6b8d1c44"
      },
      "source": [
        "metrics.confusion_matrix(y_test, y_pred_class)"
      ],
      "execution_count": 48,
      "outputs": [
        {
          "output_type": "execute_result",
          "data": {
            "text/plain": [
              "array([[126,  58],\n",
              "       [ 25, 813]])"
            ]
          },
          "metadata": {},
          "execution_count": 48
        }
      ]
    },
    {
      "cell_type": "markdown",
      "metadata": {
        "id": "bFHddi2suk81"
      },
      "source": [
        "![Capture.JPG](data:image/jpeg;base64,/9j/4AAQSkZJRgABAQEAkACQAAD/4RD0RXhpZgAATU0AKgAAAAgABAE7AAIAAAAOAAAISodpAAQAAAABAAAIWJydAAEAAAAcAAAQ0OocAAcAAAgMAAAAPgAAAAAc6gAAAAgAAAAAAAAAAAAAAAAAAAAAAAAAAAAAAAAAAAAAAAAAAAAAAAAAAAAAAAAAAAAAAAAAAAAAAAAAAAAAAAAAAAAAAAAAAAAAAAAAAAAAAAAAAAAAAAAAAAAAAAAAAAAAAAAAAAAAAAAAAAAAAAAAAAAAAAAAAAAAAAAAAAAAAAAAAAAAAAAAAAAAAAAAAAAAAAAAAAAAAAAAAAAAAAAAAAAAAAAAAAAAAAAAAAAAAAAAAAAAAAAAAAAAAAAAAAAAAAAAAAAAAAAAAAAAAAAAAAAAAAAAAAAAAAAAAAAAAAAAAAAAAAAAAAAAAAAAAAAAAAAAAAAAAAAAAAAAAAAAAAAAAAAAAAAAAAAAAAAAAAAAAAAAAAAAAAAAAAAAAAAAAAAAAAAAAAAAAAAAAAAAAAAAAAAAAAAAAAAAAAAAAAAAAAAAAAAAAAAAAAAAAAAAAAAAAAAAAAAAAAAAAAAAAAAAAAAAAAAAAAAAAAAAAAAAAAAAAAAAAAAAAAAAAAAAAAAAAAAAAAAAAAAAAAAAAAAAAAAAAAAAAAAAAAAAAAAAAAAAAAAAAAAAAAAAAAAAAAAAAAAAAAAAAAAAAAAAAAAAAAAAAAAAAAAAAAAAAAAAAAAAAAAAAAAAAAAAAAAAAAAAAAAAAAAAAAAAAAAAAAAAAAAAAAAAAAAAAAAAAAAAAAAAAAAAAAAAAAAAAAAAAAAAAAAAAAAAAAAAAAAAAAAAAAAAAAAAAAAAAAAAAAAAAAAAAAAAAAAAAAAAAAAAAAAAAAAAAAAAAAAAAAAAAAAAAAAAAAAAAAAAAAAAAAAAAAAAAAAAAAAAAAAAAAAAAAAAAAAAAAAAAAAAAAAAAAAAAAAAAAAAAAAAAAAAAAAAAAAAAAAAAAAAAAAAAAAAAAAAAAAAAAAAAAAAAAAAAAAAAAAAAAAAAAAAAAAAAAAAAAAAAAAAAAAAAAAAAAAAAAAAAAAAAAAAAAAAAAAAAAAAAAAAAAAAAAAAAAAAAAAAAAAAAAAAAAAAAAAAAAAAAAAAAAAAAAAAAAAAAAAAAAAAAAAAAAAAAAAAAAAAAAAAAAAAAAAAAAAAAAAAAAAAAAAAAAAAAAAAAAAAAAAAAAAAAAAAAAAAAAAAAAAAAAAAAAAAAAAAAAAAAAAAAAAAAAAAAAAAAAAAAAAAAAAAAAAAAAAAAAAAAAAAAAAAAAAAAAAAAAAAAAAAAAAAAAAAAAAAAAAAAAAAAAAAAAAAAAAAAAAAAAAAAAAAAAAAAAAAAAAAAAAAAAAAAAAAAAAAAAAAAAAAAAAAAAAAAAAAAAAAAAAAAAAAAAAAAAAAAAAAAAAAAAAAAAAAAAAAAAAAAAAAAAAAAAAAAAAAAAAAAAAAAAAAAAAAAAAAAAAAAAAAAAAAAAAAAAAAAAAAAAAAAAAAAAAAAAAAAAAAAAAAAAAAAAAAAAAAAAAAAAAAAAAAAAAAAAAAAAAAAAAAAAAAAAAAAAAAAAAAAAAAAAAAAAAAAAAAAAAAAAAAAAAAAAAAAAAAAAAAAAAAAAAAAAAAAAAAAAAAAAAAAAAAAAAAAAAAAAAAAAAAAAAAAAAAAAAAAAAAAAAAAAAAAAAAAAAAAAAAAAAAAAAAAAAAAAAAAAAAAAAAAAAAAAAAAAAAAAAAAAAAAAAAAAAAAAAAAAAAAAAAAAAAAAAAAAAAAAAAAAAAAAAAAAAAAAAAAAAAAAAAAAAAAAAAAAAAAAAAAAAAAAAAAAAAAAAAAAAAAAAAAAAAAAAAAAAAAAAAAAAAAAAAAAAAAAAAAAAAAAAAAAAAAAAAAAAAAAAAAAAAAAAAAAAAAAAAAAAAAAAAAAAAAAAAAAAAAAAAAAAAAAAAAAAAAAAAAAAAAAAAAAAAAAAAAAAAAAAAAAAAAAAAAAAAAAAAAAAAAAAAAAAAAAAAAAAAAAAAAAAAAAAAAAAAAAAAAAAAAAAAAAAAAAAAAAAAAAAAAAAAAAAAAAAAAAAAAAAAAAAAAAAAAAAAAAAAAAAAAAAAAAAAAAAAAAAAAAAAAAAAAAAAAAAAAAAAAAAAAAAAAAAAAAAAAAAAAAAAAAAAAAAAAAAAAAAAAAAAAAAAAAAAAAAAAAAAAAAAAAAAAAAAAAAAAAAAAAAAAAAAAAAAAAAAAAAAAAAAAAAAAAAAAAAAAAAAAAAAAAAAAAAAAAAAAAAAAAAAAAAAAAAAAAAAAAAAAAAAAAAAAAAAAAAAAAAAAAAAAAAAAAAAAAAAAAAAAAAAAAAAAAAAAAAAAAAAAAAAAAAAAAAAAAAAAAAAAAAAAAAAAAAAAAAAAAAAAAAAAAAAAAAAAAAAAAAAAAAAAAAAAAAAAAAAAAAAAAAAAAAAAAAAAAAAAAAAAAAAAAAAAAAAAAAAAAAAAAAAAAAAAAAAAAAAAAAAAAAAAAAAAAAAAAAAAAAAAAAAAAAAAAAAAAAAAAAAAAAAAAAAAAAAAAAAAAAAAAAAAAAAAAAAAAAAAAAAAAAAAAAAAAAAAAAAAAAAAAAAAAAAAAAAAAAAAAAAAAAAAAAAAAAAAAAAAAAAAAAAAAAAAAAAAAAAAAAAAAAAAAAAAAAAAAAAAAAAAAAAAAAAAAAAAAAAAAAAAAAAAAAAAAAAAAAAAAAAAAAAAAAAAAAAAAAAAAAAAAAAAAAAAAAAAAAAAAAAAAAAAAAAAAAAAAAAAAAAAAAAAAAAAAAAAAAAAAAAAAAAAAAAAAAAAAAAAAAAAAAAAAAAAAAAAAAAAAAAAGNoYXJsb3R0ZSB0c2UAAAWQAwACAAAAFAAAEKaQBAACAAAAFAAAELqSkQACAAAAAzE3AACSkgACAAAAAzE3AADqHAAHAAAIDAAACJoAAAAAHOoAAAAIAAAAAAAAAAAAAAAAAAAAAAAAAAAAAAAAAAAAAAAAAAAAAAAAAAAAAAAAAAAAAAAAAAAAAAAAAAAAAAAAAAAAAAAAAAAAAAAAAAAAAAAAAAAAAAAAAAAAAAAAAAAAAAAAAAAAAAAAAAAAAAAAAAAAAAAAAAAAAAAAAAAAAAAAAAAAAAAAAAAAAAAAAAAAAAAAAAAAAAAAAAAAAAAAAAAAAAAAAAAAAAAAAAAAAAAAAAAAAAAAAAAAAAAAAAAAAAAAAAAAAAAAAAAAAAAAAAAAAAAAAAAAAAAAAAAAAAAAAAAAAAAAAAAAAAAAAAAAAAAAAAAAAAAAAAAAAAAAAAAAAAAAAAAAAAAAAAAAAAAAAAAAAAAAAAAAAAAAAAAAAAAAAAAAAAAAAAAAAAAAAAAAAAAAAAAAAAAAAAAAAAAAAAAAAAAAAAAAAAAAAAAAAAAAAAAAAAAAAAAAAAAAAAAAAAAAAAAAAAAAAAAAAAAAAAAAAAAAAAAAAAAAAAAAAAAAAAAAAAAAAAAAAAAAAAAAAAAAAAAAAAAAAAAAAAAAAAAAAAAAAAAAAAAAAAAAAAAAAAAAAAAAAAAAAAAAAAAAAAAAAAAAAAAAAAAAAAAAAAAAAAAAAAAAAAAAAAAAAAAAAAAAAAAAAAAAAAAAAAAAAAAAAAAAAAAAAAAAAAAAAAAAAAAAAAAAAAAAAAAAAAAAAAAAAAAAAAAAAAAAAAAAAAAAAAAAAAAAAAAAAAAAAAAAAAAAAAAAAAAAAAAAAAAAAAAAAAAAAAAAAAAAAAAAAAAAAAAAAAAAAAAAAAAAAAAAAAAAAAAAAAAAAAAAAAAAAAAAAAAAAAAAAAAAAAAAAAAAAAAAAAAAAAAAAAAAAAAAAAAAAAAAAAAAAAAAAAAAAAAAAAAAAAAAAAAAAAAAAAAAAAAAAAAAAAAAAAAAAAAAAAAAAAAAAAAAAAAAAAAAAAAAAAAAAAAAAAAAAAAAAAAAAAAAAAAAAAAAAAAAAAAAAAAAAAAAAAAAAAAAAAAAAAAAAAAAAAAAAAAAAAAAAAAAAAAAAAAAAAAAAAAAAAAAAAAAAAAAAAAAAAAAAAAAAAAAAAAAAAAAAAAAAAAAAAAAAAAAAAAAAAAAAAAAAAAAAAAAAAAAAAAAAAAAAAAAAAAAAAAAAAAAAAAAAAAAAAAAAAAAAAAAAAAAAAAAAAAAAAAAAAAAAAAAAAAAAAAAAAAAAAAAAAAAAAAAAAAAAAAAAAAAAAAAAAAAAAAAAAAAAAAAAAAAAAAAAAAAAAAAAAAAAAAAAAAAAAAAAAAAAAAAAAAAAAAAAAAAAAAAAAAAAAAAAAAAAAAAAAAAAAAAAAAAAAAAAAAAAAAAAAAAAAAAAAAAAAAAAAAAAAAAAAAAAAAAAAAAAAAAAAAAAAAAAAAAAAAAAAAAAAAAAAAAAAAAAAAAAAAAAAAAAAAAAAAAAAAAAAAAAAAAAAAAAAAAAAAAAAAAAAAAAAAAAAAAAAAAAAAAAAAAAAAAAAAAAAAAAAAAAAAAAAAAAAAAAAAAAAAAAAAAAAAAAAAAAAAAAAAAAAAAAAAAAAAAAAAAAAAAAAAAAAAAAAAAAAAAAAAAAAAAAAAAAAAAAAAAAAAAAAAAAAAAAAAAAAAAAAAAAAAAAAAAAAAAAAAAAAAAAAAAAAAAAAAAAAAAAAAAAAAAAAAAAAAAAAAAAAAAAAAAAAAAAAAAAAAAAAAAAAAAAAAAAAAAAAAAAAAAAAAAAAAAAAAAAAAAAAAAAAAAAAAAAAAAAAAAAAAAAAAAAAAAAAAAAAAAAAAAAAAAAAAAAAAAAAAAAAAAAAAAAAAAAAAAAAAAAAAAAAAAAAAAAAAAAAAAAAAAAAAAAAAAAAAAAAAAAAAAAAAAAAAAAAAAAAAAAAAAAAAAAAAAAAAAAAAAAAAAAAAAAAAAAAAAAAAAAAAAAAAAAAAAAAAAAAAAAAAAAAAAAAAAAAAAAAAAAAAAAAAAAAAAAAAAAAAAAAAAAAAAAAAAAAAAAAAAAAAAAAAAAAAAAAAAAAAAAAAAAAAAAAAAAAAAAAAAAAAAAAAAAAAAAAAAAAAAAAAAAAAAAAAAAAAAAAAAAAAAAAAAAAAAAAAAAAAAAAAAAAAAAAAAAAAAAAAAAAAAAAAAAAAAAAAAAAAAAAAAAAAAAAAAAAAAAAAAAAAAAAAAAAAAAAAAAAAAAAAAAAAAAAAAAAAAAAAAAAAAAAAAAAAAAAAAAAAAAAAAAAAAAAAAAAAAAAAAAAAAAAAAAAAAAAAAAAAAAAAAAAAAAAAAAAAAAAAAAAAAAAAAAAAAAAAAAAAAAAAAAAAAAAAAAAAAAAAAAAAAAAAAAAAAAAAAAAAAAAAAAAAAAAAAAAAAAAAAAAAAAAAAAAAAAAAAAAAAAAAAAAAAAAAAAAAAAAAAAAAAAAAAAAAAAAAAAAAAAAAAAAAAAAAAAAAAAAAAAAAAAAAAAAAAAAAAAAAAAAAAAAAAAAAAAAAAAAAAAAAAAAAAAAAAAAAAAAAAAAAAAAAAAAAAAAAAAAAAAAAAAAAAAAAAAAAAAAAAAAAAAAAAAAAAAAAAAAAAAAAAAAAAAAAAAAAAAAAAAAAAAAAAAAAAAAAAAAAAAAAAAAAAAAAAAAAAAAAAAAAAAAAAAAAAAAAAAAAAAAAAAAAAAAAAAAAAAAAAAAAAAAAAAAAAAAAAAAAAAAAAAAAAAAAAAAAAAAAAAAAAAAAAAAAAAAAAAAAAAAAyMDIxOjA5OjE3IDIwOjEwOjEzADIwMjE6MDk6MTcgMjA6MTA6MTMAAABjAGgAYQByAGwAbwB0AHQAZQAgAHQAcwBlAAAA/+ELIGh0dHA6Ly9ucy5hZG9iZS5jb20veGFwLzEuMC8APD94cGFja2V0IGJlZ2luPSfvu78nIGlkPSdXNU0wTXBDZWhpSHpyZVN6TlRjemtjOWQnPz4NCjx4OnhtcG1ldGEgeG1sbnM6eD0iYWRvYmU6bnM6bWV0YS8iPjxyZGY6UkRGIHhtbG5zOnJkZj0iaHR0cDovL3d3dy53My5vcmcvMTk5OS8wMi8yMi1yZGYtc3ludGF4LW5zIyI+PHJkZjpEZXNjcmlwdGlvbiByZGY6YWJvdXQ9InV1aWQ6ZmFmNWJkZDUtYmEzZC0xMWRhLWFkMzEtZDMzZDc1MTgyZjFiIiB4bWxuczpkYz0iaHR0cDovL3B1cmwub3JnL2RjL2VsZW1lbnRzLzEuMS8iLz48cmRmOkRlc2NyaXB0aW9uIHJkZjphYm91dD0idXVpZDpmYWY1YmRkNS1iYTNkLTExZGEtYWQzMS1kMzNkNzUxODJmMWIiIHhtbG5zOnhtcD0iaHR0cDovL25zLmFkb2JlLmNvbS94YXAvMS4wLyI+PHhtcDpDcmVhdGVEYXRlPjIwMjEtMDktMTdUMjA6MTA6MTMuMTY2PC94bXA6Q3JlYXRlRGF0ZT48L3JkZjpEZXNjcmlwdGlvbj48cmRmOkRlc2NyaXB0aW9uIHJkZjphYm91dD0idXVpZDpmYWY1YmRkNS1iYTNkLTExZGEtYWQzMS1kMzNkNzUxODJmMWIiIHhtbG5zOmRjPSJodHRwOi8vcHVybC5vcmcvZGMvZWxlbWVudHMvMS4xLyI+PGRjOmNyZWF0b3I+PHJkZjpTZXEgeG1sbnM6cmRmPSJodHRwOi8vd3d3LnczLm9yZy8xOTk5LzAyLzIyLXJkZi1zeW50YXgtbnMjIj48cmRmOmxpPmNoYXJsb3R0ZSB0c2U8L3JkZjpsaT48L3JkZjpTZXE+DQoJCQk8L2RjOmNyZWF0b3I+PC9yZGY6RGVzY3JpcHRpb24+PC9yZGY6UkRGPjwveDp4bXBtZXRhPg0KICAgICAgICAgICAgICAgICAgICAgICAgICAgICAgICAgICAgICAgICAgICAgICAgICAgICAgICAgICAgICAgICAgICAgICAgICAgICAgICAgICAgICAgICAgICAgICAgICAgIAogICAgICAgICAgICAgICAgICAgICAgICAgICAgICAgICAgICAgICAgICAgICAgICAgICAgICAgICAgICAgICAgICAgICAgICAgICAgICAgICAgICAgICAgICAgICAgICAgICAgCiAgICAgICAgICAgICAgICAgICAgICAgICAgICAgICAgICAgICAgICAgICAgICAgICAgICAgICAgICAgICAgICAgICAgICAgICAgICAgICAgICAgICAgICAgICAgICAgICAgICAKICAgICAgICAgICAgICAgICAgICAgICAgICAgICAgICAgICAgICAgICAgICAgICAgICAgICAgICAgICAgICAgICAgICAgICAgICAgICAgICAgICAgICAgICAgICAgICAgICAgIAogICAgICAgICAgICAgICAgICAgICAgICAgICAgICAgICAgICAgICAgICAgICAgICAgICAgICAgICAgICAgICAgICAgICAgICAgICAgICAgICAgICAgICAgICAgICAgICAgICAgCiAgICAgICAgICAgICAgICAgICAgICAgICAgICAgICAgICAgICAgICAgICAgICAgICAgICAgICAgICAgICAgICAgICAgICAgICAgICAgICAgICAgICAgICAgICAgICAgICAgICAKICAgICAgICAgICAgICAgICAgICAgICAgICAgICAgICAgICAgICAgICAgICAgICAgICAgICAgICAgICAgICAgICAgICAgICAgICAgICAgICAgICAgICAgICAgICAgICAgICAgIAogICAgICAgICAgICAgICAgICAgICAgICAgICAgICAgICAgICAgICAgICAgICAgICAgICAgICAgICAgICAgICAgICAgICAgICAgICAgICAgICAgICAgICAgICAgICAgICAgICAgCiAgICAgICAgICAgICAgICAgICAgICAgICAgICAgICAgICAgICAgICAgICAgICAgICAgICAgICAgICAgICAgICAgICAgICAgICAgICAgICAgICAgICAgICAgICAgICAgICAgICAKICAgICAgICAgICAgICAgICAgICAgICAgICAgICAgICAgICAgICAgICAgICAgICAgICAgICAgICAgICAgICAgICAgICAgICAgICAgICAgICAgICAgICAgICAgICAgICAgICAgIAogICAgICAgICAgICAgICAgICAgICAgICAgICAgICAgICAgICAgICAgICAgICAgICAgICAgICAgICAgICAgICAgICAgICAgICAgICAgICAgICAgICAgICAgICAgICAgICAgICAgCiAgICAgICAgICAgICAgICAgICAgICAgICAgICAgICAgICAgICAgICAgICAgICAgICAgICAgICAgICAgICAgICAgICAgICAgICAgICAgICAgICAgICAgICAgICAgICAgICAgICAKICAgICAgICAgICAgICAgICAgICAgICAgICAgICAgICAgICAgICAgICAgICAgICAgICAgICAgICAgICAgICAgICAgICAgICAgICAgICAgICAgICAgICAgICAgICAgICAgICAgIAogICAgICAgICAgICAgICAgICAgICAgICAgICAgICAgICAgICAgICAgICAgICAgICAgICAgICAgICAgICAgICAgICAgICAgICAgICAgICAgICAgICAgICAgICAgICAgICAgICAgCiAgICAgICAgICAgICAgICAgICAgICAgICAgICAgICAgICAgICAgICAgICAgICAgICAgICAgICAgICAgICAgICAgICAgICAgICAgICAgICAgICAgICAgICAgICAgICAgICAgICAKICAgICAgICAgICAgICAgICAgICAgICAgICAgICAgICAgICAgICAgICAgICAgICAgICAgICAgICAgICAgICAgICAgICAgICAgICAgICAgICAgICAgICAgICAgICAgICAgICAgIAogICAgICAgICAgICAgICAgICAgICAgICAgICAgICAgICAgICAgICAgICAgICAgICAgICAgICAgICAgICAgICAgICAgICAgICAgICAgICAgICAgICAgICAgICAgICAgICAgICAgCiAgICAgICAgICAgICAgICAgICAgICAgICAgICAgICAgICAgICAgICAgICAgICAgICAgICAgICAgICAgICAgICAgICAgICAgICAgICAgICAgICAgICAgICAgICAgICAgICAgICAKICAgICAgICAgICAgICAgICAgICAgICAgICAgICAgICAgICAgICAgICAgICAgICAgICAgICAgICAgICAgICAgICAgICAgICAgICAgICAgICAgICAgICAgICAgICAgICAgICAgIAogICAgICAgICAgICAgICAgICAgICAgICAgICAgICAgICAgICAgICAgICAgICAgICAgICAgICAgICAgICAgICAgICAgICAgICAgICAgICAgICAgICAgICAgICAgICAgICAgICAgCiAgICAgICAgICAgICAgICAgICAgICAgICAgICA8P3hwYWNrZXQgZW5kPSd3Jz8+/9sAQwAHBQUGBQQHBgUGCAcHCAoRCwoJCQoVDxAMERgVGhkYFRgXGx4nIRsdJR0XGCIuIiUoKSssKxogLzMvKjInKisq/9sAQwEHCAgKCQoUCwsUKhwYHCoqKioqKioqKioqKioqKioqKioqKioqKioqKioqKioqKioqKioqKioqKioqKioqKioq/8AAEQgA9wNQAwEiAAIRAQMRAf/EAB8AAAEFAQEBAQEBAAAAAAAAAAABAgMEBQYHCAkKC//EALUQAAIBAwMCBAMFBQQEAAABfQECAwAEEQUSITFBBhNRYQcicRQygZGhCCNCscEVUtHwJDNicoIJChYXGBkaJSYnKCkqNDU2Nzg5OkNERUZHSElKU1RVVldYWVpjZGVmZ2hpanN0dXZ3eHl6g4SFhoeIiYqSk5SVlpeYmZqio6Slpqeoqaqys7S1tre4ubrCw8TFxsfIycrS09TV1tfY2drh4uPk5ebn6Onq8fLz9PX29/j5+v/EAB8BAAMBAQEBAQEBAQEAAAAAAAABAgMEBQYHCAkKC//EALURAAIBAgQEAwQHBQQEAAECdwABAgMRBAUhMQYSQVEHYXETIjKBCBRCkaGxwQkjM1LwFWJy0QoWJDThJfEXGBkaJicoKSo1Njc4OTpDREVGR0hJSlNUVVZXWFlaY2RlZmdoaWpzdHV2d3h5eoKDhIWGh4iJipKTlJWWl5iZmqKjpKWmp6ipqrKztLW2t7i5usLDxMXGx8jJytLT1NXW19jZ2uLj5OXm5+jp6vLz9PX29/j5+v/aAAwDAQACEQMRAD8A+kaKKKACiiigAooooAKKKKACiiigAooooAKKKKACiiigAooooAKKKKACiiigAooooAKKKKACiiigAooooAKKKKACiiigAooooAKKKKACiiigAooooAKKKKACiiigAooooAKKKKACiiigAooooAKKKKACiiigAooooAKKKKACiiigAooooAKKKKACiiigAooooAKKKKACiiigAooooAKKKKACiiigAooooAKKKKACiiigAooooAKKKKACiiigAooooAKKKKACiiigAooooAKKKKACiiigAooooAKKKKACiiigAooooAKKKKACiiigAooooAKKKKACiiigAooooAKKKKACiiigAooooAKKKKACiiigAooooAKKKKACiiigAooooAKKKKACiiigAooooAKKKKACiiigAooooAKK5rVvGL6Z4ni0K38O6tqV1NatdRvaNbBGjVlVjmSZCCC6DBHfjPNaWg6/a+ILSaW1jmglt5jBc21wgWW3kABKMASM4ZTkEgggg0AadFFFABRWL4v8QP4V8J3+tpYtfLYxNNJCsojJUDJOTV/U759OsHuY7G6vmVlHkWiqZDlgMgMwGBnJ56A0AW6KKKACiore6guxIbeQSCORonI7MpwR+BqWgAopkzOkEjQx+bIqkqm7G444Ge2azPC+u/8ACSeHbfVfsrWhmaRTCzhyhSRk6jg/doA1qKKKACiiigAooooAKKKKACiiigAooooAKKKKACiiigAooooAKKKKACiiigAooooAKKKKACiiigAooooAKKKKACiiigAooooAKKKKACiiigAooooAKKKKACiiigAooooAKKKKACiiigAooooAKKKKACiiigAooooAKKKKACiiigAooooAKKKKACiiigAooooAKKKKACiiigAooooAKKKKACiiigAooooAKKKKACiiigAooooAKKKKACiiigDhPEEWqzfFzR10O8s7O4/sO9LSXlo1whXz7XICrJGQc45yeh45yM/xf4buPDnwt8UajDrd8NYkSbUp760f7MZJhGFUAL91AqKAMk8ZJJJrtJvC+l3HiiDxDKlz/aVvEYY5FvZlRUOMr5YfYQSASCvJAPUCneIfDWm+KdONhrSXMtqwIeKG8mgEgIwVfy3XcMdjkUAZGqWN14a0vWPFCajqF/qFvpc7mzkuGNrJIq+YpWLohBXaNvOCc7jzXP6CfEEeoaFd2+neJP8ASJFGp3Oq6nbSW88bRt86RLcPsYPsIEaKMZBHNegabpVtpWniztmuZYck/wCl3Utyxz23yszEe2cVR0zwjo2jXguNPt5oymfKia6leGDIwfLiZikfHHyAcHFAHnHi63m8QfDTx1reoalqCTWz39rb20V06QRRQs0QUxA7H3hdxLAn5/lIwK7X4gWKyaLBfrcXsNxa3dqE+z3ssSMGuYgwdFYK4IJHzA9Tirep+A/DmsT3cmo2DSi+GLqFbmVIpzjbuaNWCM+AAGI3DA54p+q+C9F1nT7axvkvfstqAIobfUbiBeCCpYRyLuIKggtkgjigCt43vLuGHRdPsrmSzGrarHZz3MRw8UflySHaexbywme2/jnFTab4cXTpNRsH1m/ubG8jUw2s17M09vgFZGWcyGXDEqeo2kcdauz+HNMu9BGjXsMl3ZDGBdXEk0mQ24N5jsX3A8ht2RgYIxT9I0Gw0NJBYLOWlx5ktzdS3ErgZwDJIzMQMnAzgZOOtAHIfDDQbHS7PUJ45r9ZRrOo20cc+pXEkZVbqTH7t3Kltq53Y3HkknJNYT6l4l1mx1jVtO0vxHJqsF7dxWEsGo28VjD5ErxojwtcLuU+WN5eMt8zbeNtekWnhnSrLWJ9TtoJEuZ3Mjg3EhiDkYZ1iLbFYjqwUE5OTyain8IaLcarJqD20qzSsHmSK6ljhnYdDJErCOQ8DllPQUAYs6XHiX4gXmlX95fWNppum21ylvZXbwNLLM8wLM8ZDME8kALnaSxyDxib4XKU+HOnqZGlKy3ILtjLf6RJycADP0rZ1XwzpWtXcN1fwSfaIVKLNBcSQOUJyUYxspZCR91sj2qTQ/D+l+GtONjodotpamRpPKRiQGPUjJOPp0oA0aKKKACiiigAooooAKKKKACiiigAooooAKKKKACiiigAooooAKKKKACiiigAooooAKKKKACiiigAooooAKKKKACiiigAooooAKKKKACiiigAooooAKKKKACuf1zXNVs9f07SND0yzvri8tbi6Zry+a2SNYWhUgFYpCSTOOw+6a6Cubvv+Sp6F/2BdS/9H2NAB9u8b/8AQveH/wDwfT//ACHR9u8b/wDQveH/APwfT/8AyHXSUUAc39u8b/8AQveH/wDwfT//ACHR9u8b/wDQveH/APwfT/8AyHXSUUAc39u8b/8AQveH/wDwfT//ACHR9u8b/wDQveH/APwfT/8AyHXSUUAc39u8b/8AQveH/wDwfT//ACHR9u8b/wDQveH/APwfT/8AyHXSUUAc39u8b/8AQveH/wDwfT//ACHR9u8b/wDQveH/APwfT/8AyHXSUUAc39u8b/8AQveH/wDwfT//ACHR9u8b/wDQveH/APwfT/8AyHXSUUAc39u8b/8AQveH/wDwfT//ACHR9u8b/wDQveH/APwfT/8AyHXSUUAc39u8b/8AQveH/wDwfT//ACHR9u8b/wDQveH/APwfT/8AyHXSUUAc39u8b/8AQveH/wDwfT//ACHR9u8b/wDQveH/APwfT/8AyHXSUUAc39u8b/8AQveH/wDwfT//ACHR9u8b/wDQveH/APwfT/8AyHXSUUAc39u8b/8AQveH/wDwfT//ACHR9u8b/wDQveH/APwfT/8AyHXSUUAc39u8b/8AQveH/wDwfT//ACHR9u8b/wDQveH/APwfT/8AyHXSUUAc39u8b/8AQveH/wDwfT//ACHVHRPEfjHXtA0/V7Pw3oaW+oWsd1EsuuzB1V1DAMBaEZwecE12Vc38OP8AklnhT/sC2f8A6ISgA+3eN/8AoXvD/wD4Pp//AJDo+3eN/wDoXvD/AP4Pp/8A5DrpKKAOb+3eN/8AoXvD/wD4Pp//AJDo+3eN/wDoXvD/AP4Pp/8A5DrpKKAOb+3eN/8AoXvD/wD4Pp//AJDo+3eN/wDoXvD/AP4Pp/8A5DrpKKAOb+3eN/8AoXvD/wD4Pp//AJDo+3eN/wDoXvD/AP4Pp/8A5DrpKKAOb+3eN/8AoXvD/wD4Pp//AJDo+3eN/wDoXvD/AP4Pp/8A5DrpKKAOb+3eN/8AoXvD/wD4Pp//AJDo+3eN/wDoXvD/AP4Pp/8A5DrpKKAOb+3eN/8AoXvD/wD4Pp//AJDo+3eN/wDoXvD/AP4Pp/8A5DrpKKAOb+3eN/8AoXvD/wD4Pp//AJDo+3eN/wDoXvD/AP4Pp/8A5DrpKKAOb+3eN/8AoXvD/wD4Pp//AJDo+3eN/wDoXvD/AP4Pp/8A5DrpKKAOb+3eN/8AoXvD/wD4Pp//AJDo+3eN/wDoXvD/AP4Pp/8A5DrpKKAOb+3eN/8AoXvD/wD4Pp//AJDo+3eN/wDoXvD/AP4Pp/8A5DrpKKAOb+3eN/8AoXvD/wD4Pp//AJDo+3eN/wDoXvD/AP4Pp/8A5DrpKKAONl8R+MYdftNIbw3oZuLq1nukYa7NsCxNErAn7JnOZlxx2PTjN77d43/6F7w//wCD6f8A+Q6L7/kqehf9gXUv/R9jXSUAc39u8b/9C94f/wDB9P8A/IdH27xv/wBC94f/APB9P/8AIddJRQBzf27xv/0L3h//AMH0/wD8h0fbvG//AEL3h/8A8H0//wAh10lFAHN/bvG//QveH/8AwfT/APyHR9u8b/8AQveH/wDwfT//ACHXSUUAc39u8b/9C94f/wDB9P8A/IdH27xv/wBC94f/APB9P/8AIddJRQBzf27xv/0L3h//AMH0/wD8h0fbvG//AEL3h/8A8H0//wAh10lFAHN/bvG//QveH/8AwfT/APyHR9u8b/8AQveH/wDwfT//ACHXSUUAc39u8b/9C94f/wDB9P8A/IdH27xv/wBC94f/APB9P/8AIddJRQBzf27xv/0L3h//AMH0/wD8h0fbvG//AEL3h/8A8H0//wAh10lFAHN/bvG//QveH/8AwfT/APyHR9u8b/8AQveH/wDwfT//ACHXSUUAc39u8b/9C94f/wDB9P8A/IdH27xv/wBC94f/APB9P/8AIddJRQBzf27xv/0L3h//AMH0/wD8h0fbvG//AEL3h/8A8H0//wAh10lFAHN/bvG//QveH/8AwfT/APyHVHW/EfjHQdA1DV7zw3ob2+n2sl1KsWuzF2VFLEKDaAZwOMkV2Vc38R/+SWeK/wDsC3n/AKIegA+3eN/+he8P/wDg+n/+Q6Pt3jf/AKF7w/8A+D6f/wCQ66SigDm/t3jf/oXvD/8A4Pp//kOj7d43/wChe8P/APg+n/8AkOukooA5v7d43/6F7w//AOD6f/5Do+3eN/8AoXvD/wD4Pp//AJDrpKKAOb+3eN/+he8P/wDg+n/+Q6Pt3jf/AKF7w/8A+D6f/wCQ66SigDm/t3jf/oXvD/8A4Pp//kOj7d43/wChe8P/APg+n/8AkOukooA5v7d43/6F7w//AOD6f/5Do+3eN/8AoXvD/wD4Pp//AJDrpKKAOb+3eN/+he8P/wDg+n/+Q6Pt3jf/AKF7w/8A+D6f/wCQ66SigDm/t3jf/oXvD/8A4Pp//kOj7d43/wChe8P/APg+n/8AkOukooA5v7d43/6F7w//AOD6f/5Do+3eN/8AoXvD/wD4Pp//AJDrpKKAOb+3eN/+he8P/wDg+n/+Q6Pt3jf/AKF7w/8A+D6f/wCQ66SigDm/t3jf/oXvD/8A4Pp//kOj7d43/wChe8P/APg+n/8AkOukooA5v7d43/6F7w//AOD6f/5Do+3eN/8AoXvD/wD4Pp//AJDrpKKAOb+3eN/+he8P/wDg+n/+Q6k0PXNVvNf1HSNc0yzsbiztbe6VrO+a5SRZmmUAlooyCDAex+8K6Cubsf8Akqeu/wDYF03/ANH31AHSUUUUAFc3ff8AJU9C/wCwLqX/AKPsa6Subvv+Sp6F/wBgXUv/AEfY0AdJRRRQAUUUUAFFFFABRRRQAUUUUAFFFFABRRRQAUUUUAFFFFABRRRQAUUUUAFFFFABXN/Dj/klnhT/ALAtn/6ISukrm/hx/wAks8Kf9gWz/wDRCUAW/E3irTPCWnfbdYNwIzwogt3lJPAwSoIXkjliB71s1ynxP/5JnrX/AFwH/oa11dABRTZC4jYxAF8HaD0J7VwHh3VNbbxBptvrOuX0V5KD9t0vULCOGIny2J+zSqg3gNjje52gkkY5AO/MiCVYy6iRlLKmeSBjJx6DI/MU6vPTo+oyfGO5C+KtYjj/ALLS4WJUtSqKbhv3QBhOEwBz9892NX/FWqXq+IYtNsNXvrf/AEXzTa6PZxz3RYsQGcyo8cceBgbtpJBweKAOzorzS78TeIrr4Kp4ltb/AOxalbo5lxbRsZSkpjwQcqpOMnGRk+ldnpun61Bq0t5qWtfabeaED+z1tkVIJM5ykgAcjHGGzk88dKANiiiigAooooAKKKKACiiigAooooAKKKKACiiigAooooA5u+/5KnoX/YF1L/0fY10lc3ff8lT0L/sC6l/6Psa3ryUQWM8rzJAscbMZZCAsYAzuOew60Ac7ovjS51qa08vwjr9rbXSh0u7lbYRqpGQzBZiwGP8AZzz0rqK8/jn1bw1a+FrtPEQ1iw1Ce3sZYFhiWDZImElgZRv4IU/M75Uk8V6BQAUVynjK61e2ubT7Lc6lZaX5UhubrSrNLqdJMrsBRkf5MFySqE8Dkd87VTqGq/B+/uF8SzG4itrqX7fpyRoZ1QSbUYMh2cbdwUKwZSMjnIB3UciTRLJE6vG6hldTkMD0IPcU6uV0KK50P4fi6udekuSunrNHPqghSK2xFkZMSJ8g6nOTjvWDofiPWF8XaHazX+rX9nqqTCV9Q0+K2iDJGXBgARJcZB++DkEc0AekUVwVsfFWo+KvEmhp4kNvDaxW8kF2lnEZITIrkKqlSrDKjJbJwMDGSR3Fqk0VnDHdTCedY1WSUJs8xgOW29snnHagCWiiigAooooAKKKKACiiigAooooAKKKKACiiigArm/iP/wAks8V/9gW8/wDRD10lc38R/wDklniv/sC3n/oh6AOkrm7vx9oNlrF3pcx1N7uzVWuEg0e7mEatnaxZIiu07Ww2cfKeeDXSV5+Ztdi+LXiQeH7DT7stpenea19evb+X891tICxPu75yV6DrngA7iwv7XVLCG906dLi2nXfHLGchhVivNdQ07XvAng/Rk0rV42uH1mEXkQgXy7l7q8BkQFtxjT96wGOcc9a2NYuNf8L6XdXU2trqk+oXVpZ2Mc9mkcdnNNKIi3yYLJl1baSWG3G45yADsqytc8QWvh8WLXsVw6Xt5FZo8Me4JJI4RNxzwMsOax4J9X8P+LNL03UdZm1m11ZJlDXMEUckE0ah/lMaqChUMMEEgheTzXIX1zrPiDwf4b8T3usP9n1LW9MnTTBbxiKGJryIxgNjfvA27mLFTzhRwQAeuUVx9ne6pPq3jSwfVrjbZtGbOURQ77bfAHwvyYYAnjeG981m6f4h1vWdD8DafDqBtb7XdI+33uorDGzqEhhL7FIKBmeZeqkABuOlAHoVFcVrWra94P8ABd5NqV2mo3Zv47WxuhbmSTy5pEjR5YolXe6l2O2Nfm2qByah8Pa3qlx4ibS4rzW9Qs7iylk+36noclmbSdWUKuTDErqwdiBgkeXyTmgDu6K4Dw7/AMJbr1pfrL4m+zPp2rzW6TpYxMblI5ACrqRgKVBUbSGyc5OMHv6ACiuR8XapdwaxY6fZ6tdWYmhkkaDSrRbi8kYFQpAdHRI/vAswGTtAPWsiw8Y61L8P4pmx/a0+tPo0c1zEqmMi6aESSIh27wq5Kr8pYcYFAHotFc5Zw63oDajcarq7axpkVoJo3njjS4WVdxdcRoibNoTGctndk4xWf4dTxXqNpomvS61HJHfqs97pjwosEEMkZYCJlTzC6sUGWbBG7gcUAdnRXALq2snwz8QD/bFx9p0i9nWxufJh3wotrDMqY2bWAZ2HzAnB655o1TVPEian4LbT9VjWPWCYbi3ltkKlvskkpkJ68MgO0Fc4xkA0Ad/RXH6vJq/hvw5ILzxQZ5rjUEWC5ksFM6xNjMMcca4kl4cqdnfkHaTWd4f8V6jaXXiqHVm1K8t9FsIL+FtSghhuZA4mLKREqrj9yMZUHk57UAeg0VyGg23iyb+x9Wu9cjuorxPM1CweFEihRoyyiAqm8sG2j53IK7jwcVm6rda5p+p6/pI8S332q8igl0V2t7Y+SXl8tlA8r5wrld27OEccggtQB6DRUNnDJbWUMM91JdyxoFe4lVQ0h/vEKAoJ9gBU1ABXN2P/ACVPXf8AsC6b/wCj76ukrm7H/kqeu/8AYF03/wBH31AHSUUUUAFc3ff8lT0L/sC6l/6Psa6Subvv+Sp6F/2BdS/9H2NAHSUUUUAFFFFABRRRQAUUUUAFFFFABRRRQAUUUUAFFFFABRRRQAUUUUAFFFFABRRRQAVzfw4/5JZ4U/7Atn/6ISukrm/hx/ySzwp/2BbP/wBEJQBN4u8Kr4v0dtMuNW1HTrWTiZbAxKZhkEAl42IAI/hx75rU020lsdPitri/uNQkjzm5uhGJH5J58tVXjpwo4HOTk1aooAiurdbuzmt3ZkWaNkLIcMARjIPrWHaeEfJv7O4vtd1bU47F/Mtre8eEpG+wpuJSNXc4Zvvs3XPWuhooAxNW8MRarqsOoLqF9YzJC1vKLR0AuIiQSjblYgZHVSrDJwaivvCUVzrratY6pqGl3E0EdvcLZNHsuI0LFAwdGxje2Cm089a6CigDjJ/hrayeF5vD8HiDWrbTppZHaNJIHO1m3eWGeJiFDZIP3jk5Y8V1Om2k1jYpBc6hc6jIpJNxdLGrtk9xGiLx04UVaooAKKKKACiiigAooooAKKKKACiiigAooooAKKKKACiiigDm77/kqehf9gXUv/R9jXQXNtDeWsttdRrLBMhjkjYcMpGCD9Qa5++/5KnoX/YF1L/0fY10lAHM2Pgi2tL2wmudV1LUINMO6ws7p4zFanYUBG1FZyFYgF2YjPrzXTUUUAY+q6DLqN8t3aa5qelTLF5RNm0RVhnOSksbqTz1xmpdP0C00/Q5NLDS3EMxlM8k7ZeZpCWdmIAGSWPQADsAK06KAOcg8E2Q8OXmi6lfX+qWt3bfY2N3IgZIMEBFMarjGfvHLHjJOBUH/CCrLeafd3viLW7u506XfBLLLEpClSrRkJGoIYHlsb/9oc56qigDmdM8Gy6Z4kuNZ/4SbWLqW72C4gnS18uUIGCA7YFYY3H7pBPcmumoooAKKKKACiiigAooooAKKKKACiiigAooooAKKKKACub+I/8AySzxX/2Bbz/0Q9dJXN/Ef/klniv/ALAt5/6IegDpKwrLwutl4w1DxCuq38st/DHDLayeT5KrGWKbcRh+N79WOdxznjG7RQBz/ijwp/wlK20cmt6lp0VtNHcLHZCDDSxuHRyZInOQyg4BAPcGrt1ocOo+Hm0jV557+N0CvPKVSVmByHzGFCsCAQVAwQCK06KAMPS/C6WGqLqN9qmoavdxRNDBLfNH+4RiCwVY0QZO1csQWOOtZVx8NbC4tEshq+rw6fBcpdWtlDOix2siSCQFDs34DDhWZgOwGBjsaKAOevfB8N3qtxexatqdmLyFYbuC3lQJcBQQCSULK2DjKMpPGagTwHYQeH9H0y0v9RtpNFTZYX8cym4iXbt25KlWXbgbWUjgcZANdRRQBiHwtZz6Lc6dqc91qJuyrT3VxIBMzKQUYFAoQqVBXYFAIyBkkl1l4fntIZxLr+qXlxJC0MVzcGHfbg90VYwhIIBy6seBnIyK2aKAOd8NeEn8NXF1Imv6pqEd1LJPJBeLb7PNdgzSAxwowPHTO3k8dMdFRRQBhar4WTUtbh1e11TUNLvY4PszyWbR4mi3btjLIjjg5IIAYZPNU4Ph/pUOj3+mPc6hPbXt19rAluPmtpfMMu+NgAwbzCX3Ek54zgADqaKAMjS9A+wSPLfapfaxO0ZiWW/8rKIeSoWNEXnAySMnAyeBVLSvBVvpBggg1XU5dMtWDW2mTSo0EG37oB2CQheMKzkDA44GOkooA5jUvA1rqV1qz/2rqlrbawuL6zt5Y1imbyhFvyULqdiqDtYA7RkGq938P/tEmkND4n1y1Gjj/Q1j+ytsby2jLEvAxYlHYcnHPAFdfRQBj654ch16xs4bi9u7e4sZ1uba9t2RZY5VVl34KlDlXYEFSPmPFVLDwXbWWuT6rNqeo3093bLb3a3UiGO5C79rMqoAMCVxtXCc525ANdHRQBzmk+DIdIa3iTV9UudPtCDa6fcyo0UG3hcEIJGC9g7sBgHqAQSabJrPjK0v9Q0hrZdEab7JdSSo3nmRFXKBWJC43ZDAHIUjNdHRQAUUUUAFc3Y/8lT13/sC6b/6Pvq6Subsf+Sp67/2BdN/9H31AHSUUUUAFcb4jsLnUfiToEVnq15pTrpOosZrNIWdh51kNp82N1xzngZ4HPXPZVzd9/yVPQv+wLqX/o+xoAP+EX1f/oe/EH/fjT//AJFo/wCEX1f/AKHvxB/340//AORa6SigDm/+EX1f/oe/EH/fjT//AJFo/wCEX1f/AKHvxB/340//AORa6SigDm/+EX1f/oe/EH/fjT//AJFo/wCEX1f/AKHvxB/340//AORa6SigDm/+EX1f/oe/EH/fjT//AJFo/wCEX1f/AKHvxB/340//AORa6SigDm/+EX1f/oe/EH/fjT//AJFo/wCEX1f/AKHvxB/340//AORa6SigDm/+EX1f/oe/EH/fjT//AJFo/wCEX1f/AKHvxB/340//AORa6SigDm/+EX1f/oe/EH/fjT//AJFo/wCEX1f/AKHvxB/340//AORa6SigDm/+EX1f/oe/EH/fjT//AJFo/wCEX1f/AKHvxB/340//AORa6SigDm/+EX1f/oe/EH/fjT//AJFo/wCEX1f/AKHvxB/340//AORa6SigDm/+EX1f/oe/EH/fjT//AJFo/wCEX1f/AKHvxB/340//AORa6SigDm/+EX1f/oe/EH/fjT//AJFo/wCEX1f/AKHvxB/340//AORa6SigDm/+EX1f/oe/EH/fjT//AJFo/wCEX1f/AKHvxB/340//AORa6SigDm/+EX1f/oe/EH/fjT//AJFrn/APhzVJ/ht4ali8aa5bJJpNqywxQ2JSMGFSFXdbFsDoMkn1Jr0Sub+HH/JLPCn/AGBbP/0QlAB/wi+r/wDQ9+IP+/Gn/wDyLR/wi+r/APQ9+IP+/Gn/APyLXSUUAc3/AMIvq/8A0PfiD/vxp/8A8i0f8Ivq/wD0PfiD/vxp/wD8i10lFAHN/wDCL6v/AND34g/78af/APItH/CL6v8A9D34g/78af8A/ItdJRQBzf8Awi+r/wDQ9+IP+/Gn/wDyLR/wi+r/APQ9+IP+/Gn/APyLXSUUAc3/AMIvq/8A0PfiD/vxp/8A8i0f8Ivq/wD0PfiD/vxp/wD8i10lFAHN/wDCL6v/AND34g/78af/APItH/CL6v8A9D34g/78af8A/ItdJRQBzf8Awi+r/wDQ9+IP+/Gn/wDyLR/wi+r/APQ9+IP+/Gn/APyLXSUUAc3/AMIvq/8A0PfiD/vxp/8A8i0f8Ivq/wD0PfiD/vxp/wD8i10lFAHN/wDCL6v/AND34g/78af/APItH/CL6v8A9D34g/78af8A/ItdJRQBzf8Awi+r/wDQ9+IP+/Gn/wDyLR/wi+r/APQ9+IP+/Gn/APyLXSUUAc3/AMIvq/8A0PfiD/vxp/8A8i0f8Ivq/wD0PfiD/vxp/wD8i10lFAHN/wDCL6v/AND34g/78af/APItH/CL6v8A9D34g/78af8A/ItdJRQB53eeHNUHxJ0aI+NNcZ20m/YTGGx3oBNZgqP9G24O4E5BPyjBHOeg/wCEX1f/AKHvxB/340//AORaL7/kqehf9gXUv/R9jXSUAc3/AMIvq/8A0PfiD/vxp/8A8i0f8Ivq/wD0PfiD/vxp/wD8i10lFAHN/wDCL6v/AND34g/78af/APItH/CL6v8A9D34g/78af8A/ItdJRQBzf8Awi+r/wDQ9+IP+/Gn/wDyLR/wi+r/APQ9+IP+/Gn/APyLXSUUAc3/AMIvq/8A0PfiD/vxp/8A8i0f8Ivq/wD0PfiD/vxp/wD8i10lFAHN/wDCL6v/AND34g/78af/APItH/CL6v8A9D34g/78af8A/ItdJRQBzf8Awi+r/wDQ9+IP+/Gn/wDyLR/wi+r/APQ9+IP+/Gn/APyLXSUUAc3/AMIvq/8A0PfiD/vxp/8A8i0f8Ivq/wD0PfiD/vxp/wD8i10lFAHN/wDCL6v/AND34g/78af/APItH/CL6v8A9D34g/78af8A/ItdJRQBzf8Awi+r/wDQ9+IP+/Gn/wDyLR/wi+r/APQ9+IP+/Gn/APyLXSUUAc3/AMIvq/8A0PfiD/vxp/8A8i0f8Ivq/wD0PfiD/vxp/wD8i10lFAHN/wDCL6v/AND34g/78af/APItH/CL6v8A9D34g/78af8A/ItdJRQBzf8Awi+r/wDQ9+IP+/Gn/wDyLXP+PvDmqQfDbxLLL401y5SPSbpmhlhsQkgELEq222DYPQ4IPoRXolc38R/+SWeK/wDsC3n/AKIegA/4RfV/+h78Qf8AfjT/AP5Fo/4RfV/+h78Qf9+NP/8AkWukooA5v/hF9X/6HvxB/wB+NP8A/kWj/hF9X/6HvxB/340//wCRa6SigDm/+EX1f/oe/EH/AH40/wD+RaP+EX1f/oe/EH/fjT//AJFrpKKAOb/4RfV/+h78Qf8AfjT/AP5Fo/4RfV/+h78Qf9+NP/8AkWukooA5v/hF9X/6HvxB/wB+NP8A/kWj/hF9X/6HvxB/340//wCRa6SigDm/+EX1f/oe/EH/AH40/wD+RaP+EX1f/oe/EH/fjT//AJFrpKKAOb/4RfV/+h78Qf8AfjT/AP5Fo/4RfV/+h78Qf9+NP/8AkWukooA5v/hF9X/6HvxB/wB+NP8A/kWj/hF9X/6HvxB/340//wCRa6SigDm/+EX1f/oe/EH/AH40/wD+RaP+EX1f/oe/EH/fjT//AJFrpKKAOb/4RfV/+h78Qf8AfjT/AP5Fo/4RfV/+h78Qf9+NP/8AkWukooA5v/hF9X/6HvxB/wB+NP8A/kWj/hF9X/6HvxB/340//wCRa6SigDm/+EX1f/oe/EH/AH40/wD+RaP+EX1f/oe/EH/fjT//AJFrpKKAOb/4RfV/+h78Qf8AfjT/AP5Fqj4csLnTviTr8V5q15qrtpOnMJrxIVdR516No8qNFxxnkZ5PPTHZVzdj/wAlT13/ALAum/8Ao++oA6SiiigArm77/kqehf8AYF1L/wBH2NdJXN33/JU9C/7Aupf+j7GgDpK5vw74g1TVPEmt6Zq2nW9idNEBjENwZjIJA53E7Vx90cY455PbpK5HQJY3+KHi5FkVnWGw3KG5HySUAddRRXG+MtDj13WLOMRaRqstvbyH+xdWYiKYMy/vRw2GXYRnY2N3buAdbd3UFjZzXV5KsNvAhkkkc4CKBkk0lndJfWMF3EGEc8ayKGHIDDIz781wL6Ro+tfBnUbMaTHPFaR33kW14qXH2edWlH7tjkHaxZVcc4981Zs28NeFfhfd3On2cNlEmjreXg0mJIpXBiPzgqAN5w2Ce49qAO7oryTTNPTw5498LSfZtD0gXsc6zpp8m6WdBCWVppcKJfmAOSvXoea09P8AB2iaj4+8X6dfWgn094bNpLN2Jjd3WXLsM5JHb0PI5wQAekUVFa20VlZw2tspWGCNY41LFsKBgDJ5PA6mpaACiiigAooooAKKKKACiiigAooooAKKKKACiiigArm/hx/ySzwp/wBgWz/9EJXSVzfw4/5JZ4U/7Atn/wCiEoAPHXiDVPDHhubU9K063vRCMyme4MYjGQAwAU7+vTK9OtW/E2sXOj2FsbG3E1zeXkVnEXRmjiaQ43vtGdo/DnAyM5GX8UpEi+GOtNK6ovkqMscD761uaxrNvo2nrcTfvHlcRW8SsAZpDnCg9OxJPQAEngGgDBtPE+o6Rq+raf4vlsZI7DThqYvrKF4UMOXDho2dyGXZnIYgg9qm0a/8XXl3pt5fWenJpd+jPLbxhhPYqV3RlpC+JCeFKqi4Jzkgc4ninTFv/Bnim1hmh1DxJqujzM4tzuARFISFO4UFztz95i54yQKMdnoNvH4K1vwp5banqN3Cj3UbZmvYGjYzecergKC3zfdZVxjpQB6lRRRQAUUUUAFFFFABRRRQAUUUUAFFFFABRRRQAUUUUAFFFFABRRRQBzd9/wAlT0L/ALAupf8Ao+xrpK5u+/5KnoX/AGBdS/8AR9jWzqs6Wuj3s80csscVu7vHCMu4CkkKO5PagDnfDr+N72PT77VtQ0A2c8SSywW2nTLIAy52q7TkZBPUr+FVpvEfiG8j1vUdGbSUstGnmgazuY3aa4MQy2ZFcCHPbKPxg98DFfT9C09fA+qeFbRbPUdRu4F3Bg1xc2zRM0qzuCTIFUZySwDKuD0qvqek2Osab4p8TPqI0nV7K7uIp0WTbC0du5WKO6iOFlWRFVst8xWQAHAFAHqGn3i6hptrexo6JcwpKqOMMoYA4I7HmrFVNKupb7RrK7uYDbzXFvHLJCesbMoJX8CcVboAKKKKACiiigAooooAKKKKACiiigAooooAKKKKACiiigAooooAK5v4j/8AJLPFf/YFvP8A0Q9dJXN/Ef8A5JZ4r/7At5/6IegDpK5jUdZ1m/8AEF5o/hc2MMmnwJLdXV7C8y75MlIlRXTnC5LFuAy8HPHT15jbeHdD1D4reM4PFVtBdfaVtb21t7zBj8kW6xPKqnjcGjILdV4xjPIB3ceqy2fhdNU8RQrYTR2wlu4Y380RPtyyqR97ngY68VneBfEV94o8OSahqlktjcrfXNs1sOTEIpmjCscnLYXkjjOcVzHhyHxHqfgzw7NZ21lqlnbSTyIuo6hJA0qJMwtJCyxSbx5QVucZba3UVY+G+rXFp4c1y88QjS9OsIta1B2uV1AuqubuTeGLxoAoJAVs/MCCQvSgD0OuS1fxlLafEPQfDdhbLNFeTSJf3LA4gIt5JY0Xn758vJ64XHHzA11Mju1qz2nlvIUJi3H5SccZI7fSvKNRi8U6V4j8GQz6Rohu31S5m8z+2pW+1TNZz72cm1BQYJxgNjCqAByADrteu/F9vcajd6fd6LYaVZqChvLGa4llAQMzDZKg6kqBgkke9Jc634hibw/orHTbfXdUtpZ555YXaCLygm9UjEgZ2zIMDeOFY54xS+MdQB8R+EtAY4XVNSaWX3S2iecD/v4kf4A1D4vs7HXvFWiaDrOIrSSKe7hlVzFK1xGUVFjlGGRgru3ykMQvpuBAIf8AhKtea8bQFj09dbTUPshuzFIbVk+zG43hN24EgBCu84J3ZI4O54X8Rf8ACT6fBqNvEI7Wazt5wCSWWSWMSFPwV4+fVj6VyGl6bHLpmv6dd6reSp4e1Ay2us2rJ9qctBl1dipWSQLI0ZJGSCvAYZqDwpBc6B4jstOjuZlZNUbTZbJZ2MMVuNP+0bghOMiXaA+M7WC5wAKAPU6KKKACiiigAooooAKKKKACiiigAooooAKKKKACubsf+Sp67/2BdN/9H31dJXN2P/JU9d/7Aum/+j76gDpKKKKACubvv+Sp6F/2BdS/9H2NdJXG+I9b0rQfiToF1rmp2em276TqMay3lwsKMxmsiFBYgZwCcexoA7KsWx8GeF9M1JNQ03w3pFneoWK3NvYxRyKSCDhguRkEg/U1V/4WP4I/6HLw/wD+DSD/AOKo/wCFj+CP+hy8P/8Ag0g/+KoA6Ss7VPD2i64ANa0iw1EAYAu7ZJcDOf4ge9Zn/Cx/BH/Q5eH/APwaQf8AxVH/AAsfwR/0OXh//wAGkH/xVAG/bWtvZ2qW1pBFBbxrtSKJAqKPQAcAVWsNE0nSrWW20vTLOygmYtLFbW6RrITwSwUAEn3rJ/4WP4I/6HLw/wD+DSD/AOKo/wCFj+CP+hy8P/8Ag0g/+KoAu23hLw5Zxolp4f0uBI5xcIsVlGoWUZxIMDhhk/N15qOz8FeFtO1BL/T/AA1o9reRsWS5gsIkkUngkMFyCcn86rf8LH8Ef9Dl4f8A/BpB/wDFUf8ACx/BH/Q5eH//AAaQf/FUAdJRXN/8LH8Ef9Dl4f8A/BpB/wDFUf8ACx/BH/Q5eH//AAaQf/FUAdJRXN/8LH8Ef9Dl4f8A/BpB/wDFUf8ACx/BH/Q5eH//AAaQf/FUAdJRXN/8LH8Ef9Dl4f8A/BpB/wDFUf8ACx/BH/Q5eH//AAaQf/FUAdJRXN/8LH8Ef9Dl4f8A/BpB/wDFUf8ACx/BH/Q5eH//AAaQf/FUAdJRXN/8LH8Ef9Dl4f8A/BpB/wDFUf8ACx/BH/Q5eH//AAaQf/FUAdJRXN/8LH8Ef9Dl4f8A/BpB/wDFUf8ACx/BH/Q5eH//AAaQf/FUAdJRXN/8LH8Ef9Dl4f8A/BpB/wDFUf8ACx/BH/Q5eH//AAaQf/FUAdJRXN/8LH8Ef9Dl4f8A/BpB/wDFUf8ACx/BH/Q5eH//AAaQf/FUAdJXN/Dj/klnhT/sC2f/AKISj/hY/gj/AKHLw/8A+DSD/wCKrn/APj7wfZ/Dbw1a3nizQ4LiHSbWOWKXUoVeNhCoKsC2QQRgg0Adnq/h7RdfSJNe0iw1NYSTGt7bJMEJ643A4zgVDL4T8OT6NDpE+gaXJplu5khsnsozDG3PzKhG0H5m5A/iPrVL/hY/gj/ocvD/AP4NIP8A4qj/AIWP4I/6HLw//wCDSD/4qgDR0jwzoOgPK+g6Jp2mNMAJGsrSOEuB0B2gZxk0+z0DR9O1Ce/0/SbG1vLn/X3MFsiSS/7zAZP41l/8LH8Ef9Dl4f8A/BpB/wDFUf8ACx/BH/Q5eH//AAaQf/FUAdJRXN/8LH8Ef9Dl4f8A/BpB/wDFUf8ACx/BH/Q5eH//AAaQf/FUAdJRXN/8LH8Ef9Dl4f8A/BpB/wDFUf8ACx/BH/Q5eH//AAaQf/FUAdJRXN/8LH8Ef9Dl4f8A/BpB/wDFUf8ACx/BH/Q5eH//AAaQf/FUAdJRXN/8LH8Ef9Dl4f8A/BpB/wDFUf8ACx/BH/Q5eH//AAaQf/FUAdJRXN/8LH8Ef9Dl4f8A/BpB/wDFUf8ACx/BH/Q5eH//AAaQf/FUAdJRXN/8LH8Ef9Dl4f8A/BpB/wDFUf8ACx/BH/Q5eH//AAaQf/FUAdJRXN/8LH8Ef9Dl4f8A/BpB/wDFUf8ACx/BH/Q5eH//AAaQf/FUAdJRXN/8LH8Ef9Dl4f8A/BpB/wDFUf8ACx/BH/Q5eH//AAaQf/FUAdJRXN/8LH8Ef9Dl4f8A/BpB/wDFUf8ACx/BH/Q5eH//AAaQf/FUAdJRXN/8LH8Ef9Dl4f8A/BpB/wDFUf8ACx/BH/Q5eH//AAaQf/FUAF9/yVPQv+wLqX/o+xrpK87vPH3g9viTo10vizQzbx6TfxvKNSh2KzTWZVSd2ASEYgd9p9DXQf8ACx/BH/Q5eH//AAaQf/FUAaVl4d0TTNQmvtN0fT7S8uP9dcQWqRySd/mYDJ/Gi68OaJf6pFqV9o+n3N/Djyrqa1R5Y8dMORkfgazf+Fj+CP8AocvD/wD4NIP/AIqj/hY/gj/ocvD/AP4NIP8A4qgDpKK5v/hY/gj/AKHLw/8A+DSD/wCKo/4WP4I/6HLw/wD+DSD/AOKoA6Siub/4WP4I/wChy8P/APg0g/8AiqP+Fj+CP+hy8P8A/g0g/wDiqAOkorm/+Fj+CP8AocvD/wD4NIP/AIqj/hY/gj/ocvD/AP4NIP8A4qgDpKK5v/hY/gj/AKHLw/8A+DSD/wCKo/4WP4I/6HLw/wD+DSD/AOKoA6Siub/4WP4I/wChy8P/APg0g/8AiqP+Fj+CP+hy8P8A/g0g/wDiqAOkorm/+Fj+CP8AocvD/wD4NIP/AIqj/hY/gj/ocvD/AP4NIP8A4qgDpKK5v/hY/gj/AKHLw/8A+DSD/wCKo/4WP4I/6HLw/wD+DSD/AOKoA6Siub/4WP4I/wChy8P/APg0g/8AiqP+Fj+CP+hy8P8A/g0g/wDiqAOkorm/+Fj+CP8AocvD/wD4NIP/AIqj/hY/gj/ocvD/AP4NIP8A4qgDpKK5v/hY/gj/AKHLw/8A+DSD/wCKo/4WP4I/6HLw/wD+DSD/AOKoA6Sub+I//JLPFf8A2Bbz/wBEPR/wsfwR/wBDl4f/APBpB/8AFVz/AI+8feD7z4beJbWz8WaHPcTaTdRxRRalCzyMYWAVQGySScACgD0SqGp6FpGtiIazpVlqAhbdF9rt0l8s+o3A4P0rK/4WP4I/6HLw/wD+DSD/AOKo/wCFj+CP+hy8P/8Ag0g/+KoA357W3urOS0uYIpraWMxSQyIGR0IwVKnggjjFZdr4O8MWNndWdl4c0m3trwKLmCGxiRJwpJXeoXDYJOM9M1U/4WP4I/6HLw//AODSD/4qj/hY/gj/AKHLw/8A+DSD/wCKoA6NVVFCoAqqMAAYAFZWpeE/Dus3y3ur6Bpd/dooVZ7qzjlkUA5ADMCcAk1R/wCFj+CP+hy8P/8Ag0g/+Ko/4WP4I/6HLw//AODSD/4qgDemsrW4ure5ntoZZ7Ys0ErxgtEWG0lSeVyCQcdQaj1LStP1izNpq9jbX9sxBMN1CsqEjvtYEVi/8LH8Ef8AQ5eH/wDwaQf/ABVH/Cx/BH/Q5eH/APwaQf8AxVAG1baZYWdhHY2dlbwWkWPLt4olWNMHIwoGBg8/Wl/sywGqHUvsVv8AbzF5JuvKXzfLznZvxnbnnGcVif8ACx/BH/Q5eH//AAaQf/FUf8LH8Ef9Dl4f/wDBpB/8VQB0lFc3/wALH8Ef9Dl4f/8ABpB/8VR/wsfwR/0OXh//AMGkH/xVAHSUVzf/AAsfwR/0OXh//wAGkH/xVH/Cx/BH/Q5eH/8AwaQf/FUAdJRXN/8ACx/BH/Q5eH//AAaQf/FUf8LH8Ef9Dl4f/wDBpB/8VQB0lFc3/wALH8Ef9Dl4f/8ABpB/8VR/wsfwR/0OXh//AMGkH/xVAHSUVzf/AAsfwR/0OXh//wAGkH/xVH/Cx/BH/Q5eH/8AwaQf/FUAdJRXN/8ACx/BH/Q5eH//AAaQf/FUf8LH8Ef9Dl4f/wDBpB/8VQB0lFc3/wALH8Ef9Dl4f/8ABpB/8VR/wsfwR/0OXh//AMGkH/xVAHSVzdj/AMlT13/sC6b/AOj76j/hY/gj/ocvD/8A4NIP/iqo+HNb0rXviTr91oep2epW6aTp0bS2dwsyKwmvSVJUkZwQce4oA7KiiigArm77/kqehf8AYF1L/wBH2NdJXN33/JU9C/7Aupf+j7GgDpKKKKACiiigAooooAKKKKACiiigAooooAKKKKACiiigAooooAKKKKACiiigAooooAK5v4cf8ks8Kf8AYFs//RCV0lc38OP+SWeFP+wLZ/8AohKAOkooooAKKKKACiiigAooooAKKKKACiiigAooooAKKKKACiiigAooooAKKKKACiiigDm77/kqehf9gXUv/R9jXSVzd9/yVPQv+wLqX/o+xrpKACiiigAooooAKKKKACiiigAooooAKKKKACiiigAooooAKKKKACiiigAooooAK5v4j/8AJLPFf/YFvP8A0Q9dJXN/Ef8A5JZ4r/7At5/6IegDpKKKKACiiigAooooAKKKKACiiigAooooAKKKKACiiigAooooAKKKKACiiigAooooAK5ux/5Knrv/AGBdN/8AR99XSVzdj/yVPXf+wLpv/o++oA6SiiigArm77/kqehf9gXUv/R9jXSVzd9/yVPQv+wLqX/o+xoA6GWQQwvIwJCKWIUcnHpXl/hLTPBuj3Ph9n8ENpV3cRpHZarcWUSiafy8kZDGRGIDEeYq5wa9Lv4rmbTbmKxnFvdPC6wzFdwjcghWx3wcHFcWbPxJr/wDwjunavpU9qNKuobu/1G4ngZbp4kOPKWNifmfBJZUwM8c4oA7ysfWfES6TeQWVvpl9qt7PG8y21kI9wjQqGYmR0UDLKMZyc8A1sVyvi2ze9u4Vl8MXerQRxEx3WnXqW9zA5PIVmkjIBAUnDDp0PYAdqfjKWDwJP4i0rRL69aJZt1oxjieExbwxk3uMAMhBC7m5GAecWPD/AIhuLvwoup61pt7pwhtVmle58ljKAm5nUQu/HXg4PtUFjpOqXvw9vNK1h3W7u4bmFPOkV5I43LiMO68M4UrkjOTnk9TXt/8AhKbnwDdWdnp/9i6rBpwt7NrmWOTdcBCN4KMyhMgYzyecqMcgFzTfGUV9qlnZXOkanpp1BGeymu1i2XIVdxA2SMynbzhwpqs3xBtftmp2MGiazcX+nKrvZx26eZKhBO5AXAIwvcjJIAyTiuctfD2oQ+JvD2sWPhG+t5LOWSO8l1DU4prhxJEV3l/MfcgJyed3TCemxoL6ynxC1m+u/CupWlnqaW0cdzLNaEJ5SyZLhJi2CWGMAnnkCgDsrWf7VZw3AjkiEsav5cybXTIzhh2I7ipaKKACiiigAooooAKKKKACiiigAooooAKKKKACiiigArm/hx/ySzwp/wBgWz/9EJXSVzfw4/5JZ4U/7Atn/wCiEoANb8MQa34gjutfWzvtDgsmQ2F3HvRZt4PmkH5D8oI5GR2Iya5e10+3HwtkstT0+5vtIudXBsrIxmZms/tatEu3rtKgYB6KRnAzjc8WT62+tW9pB4YvNZ0ZYhLKLW5t4xNLuIEbiWRDtUANgAhiwB4BBkuJ/Fuo6HHewWMmlXUWopK2mtLC8s1quA0W8FkDPyevAOMjrQBB4Lt/DGn6xf2Oj+Fh4Z1RIkkntnt4keSEkhXDRMysuQw4bII5Ars65TRrPU9S8bXHiPU9Mk0mFLBbG2tbiSJ5mzIXd28tmUDhAAGPRicZrq6ACiiigAooooAKKKKACiiigAooooAKKKKACiiigAooooAKKKKACiiigDm77/kqehf9gXUv/R9jWzqsd1No97Fp0ywXb27rBK3RJCp2sfocGsa+/wCSp6F/2BdS/wDR9jWn4i02XWfC+qaXbXBtZr2zmt45xn90zoVDcc8E5oA8y8LyaDe6h4ft/D+nNoviWORZ9QaZNsl1AqlZWabpdKxI2sC/JDcYOOq16y8n4o+FbxLq8P2iS5R4GuXMPy27YIjztB9wM8moprPWfEF1oFvdeGjo50i8juZLtriF41CKQUg2MXIYHb8yp8pPXpS+KpNd/wCE50G603wrqGo2WmPM81xDc2qb/MhKAIskqkkE85C9OM0AW/GGj6O9wda8T2surafb23lJposGuwshbPmqigkNjjdjgDORVn4ex3EXgDSlu7wXj+WxWUTCXEZdiiFwTuKoVUnJyVPJp2rXviPTvEiz2WmSato72gT7NaPCk0dxvJLsZXQFCu0YBJBB4o8EaHd6D4fki1Eotzd3tzfSQxNuS3M0rSeWp4yF3Yz3OaAOiooooAKKKKACiiigAooooAKKKKACiiigAooooAKKKKACiiigArm/iP8A8ks8V/8AYFvP/RD10lc38R/+SWeK/wDsC3n/AKIegDpK86ew0LXvG3i8+MY7ecaWbdbX7U3FrbmBXMsefuEyNIN64PygZ+WvRa4vxNaanceIi8Xg3TtYMdsv9l6lN5O60ny27zDId6r90jy1Y9c0AZ3hTTNO8f8Aw18Oah4xhTUo7WGQlb1cq7KTGJXBx821T1HVjW18PtC0nS9Fl1HRdMt9Ni1eQXSwwQiMCLGIgQB124Y56F2qnqXhO/0n4J3fhbw0Tc6gmlPawsXCGaRlIZtxIALFmOSep610N5LqGk+Fd2kaWNSvreBFisROsAkIwCu88LgZP4UAaU8ogtpJiMiNCxA74Ga8dih+x/CbTPiIfm8RyS2+o3N7/HNHLMoe3J7xiNyoToMA8EZr2IDzrYLPHt3ph0JzjI5Ga81g8J6+3hOw8BXNj/xK7O6iEmrechSazilEiRhM7/MIVUOV29Tk9KANrxzZY17wtfpdXiMdXhgaBLlxC67ZG+aPO0nIHJGeBWt4l8L6D4gMF14ntLe8tLCOVxFdKGiUnblyDxkBTz23Gsnx4dbm1HQU0bw3e6rFZahFfTzQ3FvGoVVkUoBJIrF/mB6BcH72eKtfEGx1jXfhfrFjoNsw1O+sjFHbySIrDfgMhbdtztLDrj3oA5B9D8OaL4Z0i8vdLtNM8P6pqLXuoW5hEcUaG2k+zrIBwMER9f8AloRjkitv4deIo7+3tINXuZDrZsLeGSOSN/vRRgyZcjb5hdnbbncU2NjGDXaX63CaXNHpiqLgpsh6AITwGx6L1x6DiuNsPC1/YeL7aGCzKaVa6kdSjvPNUhl+w/ZRCVzv3AktnG3aq854AB3lFFFABRRRQAUUUUAFFFFABRRRQAUUUUAFFFFABXN2P/JU9d/7Aum/+j76ukrm7H/kqeu/9gXTf/R99QB0lFFFABXN33/JU9C/7Aupf+j7GukrjfEd/c6d8SdAls9JvNVdtJ1FTDZvCrqPOsjuPmyIuOMcHPI464AOyorm/wDhKNX/AOhE8Qf9/wDT/wD5Ko/4SjV/+hE8Qf8Af/T/AP5KoA6Siub/AOEo1f8A6ETxB/3/ANP/APkqj/hKNX/6ETxB/wB/9P8A/kqgDpKK5v8A4SjV/wDoRPEH/f8A0/8A+SqP+Eo1f/oRPEH/AH/0/wD+SqAOkorm/wDhKNX/AOhE8Qf9/wDT/wD5Ko/4SjV/+hE8Qf8Af/T/AP5KoA6Siub/AOEo1f8A6ETxB/3/ANP/APkqj/hKNX/6ETxB/wB/9P8A/kqgDpKK5v8A4SjV/wDoRPEH/f8A0/8A+SqP+Eo1f/oRPEH/AH/0/wD+SqAOkorm/wDhKNX/AOhE8Qf9/wDT/wD5Ko/4SjV/+hE8Qf8Af/T/AP5KoA6Siub/AOEo1f8A6ETxB/3/ANP/APkqj/hKNX/6ETxB/wB/9P8A/kqgDpKK5v8A4SjV/wDoRPEH/f8A0/8A+SqP+Eo1f/oRPEH/AH/0/wD+SqAOkorm/wDhKNX/AOhE8Qf9/wDT/wD5Ko/4SjV/+hE8Qf8Af/T/AP5KoA6Siub/AOEo1f8A6ETxB/3/ANP/APkqj/hKNX/6ETxB/wB/9P8A/kqgDpKK5v8A4SjV/wDoRPEH/f8A0/8A+SqP+Eo1f/oRPEH/AH/0/wD+SqAOkrm/hx/ySzwp/wBgWz/9EJR/wlGr/wDQieIP+/8Ap/8A8lVz/gHxHqkHw28NRReC9cuUj0m1VZoprEJIBCoDLuuQ2D1GQD6gUAeiUVzf/CUav/0IniD/AL/6f/8AJVH/AAlGr/8AQieIP+/+n/8AyVQB0lFc3/wlGr/9CJ4g/wC/+n//ACVR/wAJRq//AEIniD/v/p//AMlUAdJRXN/8JRq//QieIP8Av/p//wAlUf8ACUav/wBCJ4g/7/6f/wDJVAHSUVzf/CUav/0IniD/AL/6f/8AJVH/AAlGr/8AQieIP+/+n/8AyVQB0lFc3/wlGr/9CJ4g/wC/+n//ACVR/wAJRq//AEIniD/v/p//AMlUAdJRXN/8JRq//QieIP8Av/p//wAlUf8ACUav/wBCJ4g/7/6f/wDJVAHSUVzf/CUav/0IniD/AL/6f/8AJVH/AAlGr/8AQieIP+/+n/8AyVQB0lFc3/wlGr/9CJ4g/wC/+n//ACVR/wAJRq//AEIniD/v/p//AMlUAdJRXN/8JRq//QieIP8Av/p//wAlUf8ACUav/wBCJ4g/7/6f/wDJVAHSUVzf/CUav/0IniD/AL/6f/8AJVH/AAlGr/8AQieIP+/+n/8AyVQB0lFc3/wlGr/9CJ4g/wC/+n//ACVR/wAJRq//AEIniD/v/p//AMlUAdJRXN/8JRq//QieIP8Av/p//wAlUf8ACUav/wBCJ4g/7/6f/wDJVABff8lT0L/sC6l/6Psa6SvO7zxHqh+JOjSnwXriuuk36iEzWO9wZrMlh/pO3A2gHJB+YYB5x0H/AAlGr/8AQieIP+/+n/8AyVQB0lFc3/wlGr/9CJ4g/wC/+n//ACVR/wAJRq//AEIniD/v/p//AMlUAdJRXN/8JRq//QieIP8Av/p//wAlUf8ACUav/wBCJ4g/7/6f/wDJVAHSUVzf/CUav/0IniD/AL/6f/8AJVH/AAlGr/8AQieIP+/+n/8AyVQB0lFc3/wlGr/9CJ4g/wC/+n//ACVR/wAJRq//AEIniD/v/p//AMlUAdJRXN/8JRq//QieIP8Av/p//wAlUf8ACUav/wBCJ4g/7/6f/wDJVAHSUVzf/CUav/0IniD/AL/6f/8AJVH/AAlGr/8AQieIP+/+n/8AyVQB0lFc3/wlGr/9CJ4g/wC/+n//ACVR/wAJRq//AEIniD/v/p//AMlUAdJRXN/8JRq//QieIP8Av/p//wAlUf8ACUav/wBCJ4g/7/6f/wDJVAHSUVzf/CUav/0IniD/AL/6f/8AJVH/AAlGr/8AQieIP+/+n/8AyVQB0lFc3/wlGr/9CJ4g/wC/+n//ACVR/wAJRq//AEIniD/v/p//AMlUAdJRXN/8JRq//QieIP8Av/p//wAlUf8ACUav/wBCJ4g/7/6f/wDJVAHSVzfxH/5JZ4r/AOwLef8Aoh6P+Eo1f/oRPEH/AH/0/wD+Sq5/x94j1Sf4beJYpfBeuWySaTdK00s1iUjBhYFm23JbA6nAJ9AaAPRKK8+/4W5b/wDQp+IPzs//AJIo/wCFuW//AEKfiD87P/5IoA9Borz7/hblv/0KfiD87P8A+SKP+FuW/wD0KfiD87P/AOSKAPQaK8+/4W5b/wDQp+IPzs//AJIo/wCFuW//AEKfiD87P/5IoA9Borz7/hblv/0KfiD87P8A+SKP+FuW/wD0KfiD87P/AOSKAPQaK8+/4W5b/wDQp+IPzs//AJIo/wCFuW//AEKfiD87P/5IoA9Borz7/hblv/0KfiD87P8A+SKP+FuW/wD0KfiD87P/AOSKAPQaK8+/4W5b/wDQp+IPzs//AJIo/wCFuW//AEKfiD87P/5IoA9Borz7/hblv/0KfiD87P8A+SKP+FuW/wD0KfiD87P/AOSKAPQaK8+/4W5b/wDQp+IPzs//AJIo/wCFuW//AEKfiD87P/5IoA9Borz7/hblv/0KfiD87P8A+SKP+FuW/wD0KfiD87P/AOSKAPQaK8+/4W5b/wDQp+IPzs//AJIo/wCFuW//AEKfiD87P/5IoA9Borz7/hblv/0KfiD87P8A+SKP+FuW/wD0KfiD87P/AOSKAPQa5ux/5Knrv/YF03/0ffVhf8Lct/8AoU/EH52f/wAkVJ4L8Rp4n+IHiG8j0+808R6Xp0XlXnlbziW8O4eW7jHzY654PFAHe0UUUAFc3ff8lT0L/sC6l/6Psa6Subvv+Sp6F/2BdS/9H2NAHSUVXvr+z0uxkvNTu4LO1iGZJ7iQRogzjljgDk1TfxPoEen2t/JrmmrZ3r+Xa3DXcYjnfn5UbOGPB4HpQBqUUUUAFFFFABRRUL3trFexWclzClzOrPFA0gDyKuNxVepA3LkjpketAE1FFFABRRRQAUUUUAFFFFABRRRQAUUUUAFFFFABRRRQAVzfw4/5JZ4U/wCwLZ/+iErpK5v4cf8AJLPCn/YFs/8A0QlAHSUVl6v4k0zQ5IYr+WZp5wWit7W1luZnUYywjiVm2jIycYGR60n/AAk+jf2CNZF8jWLNsEiqxJfdt2BQNxfd8u3G7PGM0AatFZmjeIdN15Z/7NmkaS3YLPDPBJBLESMjdHIqsuRyMjntWnQAUVS1TWdP0WO2fVLlbdbq6itINwJMk0jbUQAdyT+AyTgAmrNzcQ2drLc3UqwwQoZJJHOFRQMkk9gAKAJKKrabqFrq+lWmpafL51peQpPBJtK70dQynBAIyCOCM1R/4SrRfsep3S3yvDpdz9ku2RGYpPhD5YAGXb94gwuSWO3rxQBr0VSstYsdQjtns5xILqNpYhtIJVSA2QRlSCwBBwQeOtXaACiiigAooooAKKKKACiiigAooooAKKKKACiiigDm77/kqehf9gXUv/R9jXSVzd9/yVPQv+wLqX/o+xro2ZUUs5CqoySTgAUALRWFpXjTQdavY7XTrx3knUvbtJbSxJcqOrRO6hZQBzlCeOaL7xroOm6g9neXro8TrHNKLaVoYXbGFkmCmNCdw4ZgeR60AbtFFU9U1Wz0ayN3qM3lRbggwjOzseAqqoLMx9ACaALlFZ2j6/p2vRTPpkzu1u/lzRTQvDLC2AcPG4DKcEHkDIqRtZ09dfj0Q3K/2lJatdrbgEt5KsqFz2A3MBz15xnBwAXaKzm8QaQuupov9pWx1RgW+xrKGlAC7slRyowRycdR60i+INMbX20VbnN+i5aPy22g7Q23fjbv2kNszu2kHGOaANKiora5ivLWK5tn8yGZA8bgY3KRkGpaACiiigAooooAKKKKACiiigAooooAKKKKACub+I//ACSzxX/2Bbz/ANEPXSVzfxH/AOSWeK/+wLef+iHoA8vooooAKKKKACiiigAooooAKKKKACiiigAooooAKKKKACiiigAooooAKKKKACiiigArpPhb/wAjl4k/68NP/wDRl3XN10nwt/5HLxJ/14af/wCjLugD1CiiigArm77/AJKnoX/YF1L/ANH2NdJXN33/ACVPQv8AsC6l/wCj7GgDT8Q8+GNUz/z5zf8AoBrnLAY+HXg8DgY07+SV191bR3lnNbTZMc0bRvg4OCMH+dc1o3hTVLCHTrHUdcivdM0sILWFLERSvsXanmyb2DY4PyqnIB9qAM7xD4r1y01690/T7vRdOmiKrYWurQyA6oTEr5jlEiqvzFkxtc5Qk4GKl8U+Oo9K8RQaIms6JoUzWYvJbnW5BtCs5VURPMTcxKPk7vlwODmruteGtd1aPULP+3rP+zL8srW91pfnPChUAqj+Yo9Tllbk9KnvvDN2uowal4e1NLG+jtVs5Gu7Y3Mc8SklQ6h0bcCWwQw+8c5oA566+IGpXHwzufE2hjS7iWwmlhuSGaaGXy5Nm6EqRuDDDDJ6HHWur01vEb6tLJqq6dHpskIaGGEP9ohkz912yVcbe4AweORzWb4m8L6xr/hN9Fh123ha5Ui7ubiwMxfJBHlqsqBACMYO7jHfJPQabHfxWKLq9zbXV0Cd0trbtAhGeMIzuRx/tH8KALVeZeKtasrbx3aak0d6LjS9RtbTzVsJ2gEUqlJczhPLUZuFJBbOYV74r02uQuvB+q6h8PdV8O32tWj3movMft8ensixiWQucR+aSWXJCnfxhcg4OQCxqWs6xe+K5tA8NNZW0lnaR3V3eX0DzKvmM6xxrGroST5bkndgDHBzxFfeJNatNF0OCXTILfxDrE/2VbeSTfDA4R5HclTyoSNmABycgZHJDn8Ma1FqUOr2Gu2sOrvaJa38kunF7e7CFijeUJVZGBd8EOR8xyDxixqfhabUdNsANWmj1XT7n7Xb6g0YfEpDKwMeQChV2XaCMA8HIzQBnavrHi3Q/Bfia+vU0xrvSbZ7qzvFt2EF2iR+YymHzS6EbWTO/uGwelXrzXdRt/E3hm1T7KbPVkmE6mJvMV1iMgKtuwBxjBU/WpzoF5qWianY+JNSS9bUbZ7WT7LbmCGONlKnbGzudx3HJLHPHQCs2Dwhrcmq6Ffap4khnbRmbYlvpwiWZWTYd2ZG+bHcYHoooAq22ueNNR1XxBpFnFosV5pjR+TcyxytC2+LeqMAwYkk4LDAUc4bpUviLxNq+maolkNQ0bTG+ypKv2iCW8kupCWDqkMbo6quF+chs7unFWdB8N+ItM8T3+q6hrmmXcWosjXMEGlSQtlI9i7HNw+3oCchs84xniaXwxqUPiu+1fR9ZhtI9SSJbuKax86QeWpUGJ96heD0ZXGcnHNAGfB43vdV8LeFrnSrOGPVPEsatEs5LQ2w8oySM2MFgAMADBJI5HJrTt38XvpWqW840yLUoJALG++zsbe6XarEmES705LJy/UbuRxWZY/D+50/wvo2nW+uFb7QZM6de/ZBtRBGY/LePd84KE7vmBJ5G3AA3rcX+j6beahrd3Jqlwqb2jsLRkUKoJCxQ7nYscn+IknHYAAAxNC1/XtbuNBaG6037PPp32rVE+wyCSN9wUIv74hCTvGCGwYm9eOzrm/B+iw6f/auowRTwrq141zHDcKVeKM87dpAKhnaWTaRkGU55zXSUAFFFFABRRRQAUUUUAFc38OP+SWeFP8AsC2f/ohK6Sub+HH/ACSzwp/2BbP/ANEJQBmeIW1W2+IEN54Vig1C/j03bf6fcv5StAZGMbLLg7JC4kABBVgGyV2gl/hCz07XfDcl1cWzNdtqr3tzaz5jNpeo4Pl8E/cIXkZDfexhsVq6poGoSa7/AGz4f1SKwvZLdbW4W6tTcwzRozMmUDowZTI+CG/iOQeMUZfApfQRbJq0y6j/AGkuqte+WNslwGBG6MEZjwAuzPQDnPNAFXws83/CwtdbxBbx2eu3FpbssFtKZYDaI0gRkchS7b2fcSq4yoA7nt65my8L38d/f6xqGrxz65dWf2OG6gs/KitYwWZdsTO5J3NuO5jnAHAFbml293aaTbW+p3v9oXccarNdeUIvOYDltg4XPoKAPI/GvinwxrGoWOo3fiLSN+na7Yx2lob+PfCiXcfnzumcqSFIyfuoueNzCuk8ZeKfDGpldH1HxFpFvpzWq3k4mv40+2KwJhRMn50bG5iOCAq8hjjd8Z+HNW8S29jBpmr2mmx2t3DeN59g1wzyRSLIgBEqYXK8jBJ7EVqanaand6C9rZX1rb38kYRrmS0aSMEjDERiRTzzgbzjjOe4BwPh7xro9j8GfC8dt4h0u1nmsLawN1NeRiO0lW3QybiTgOi87DySVBwDkZXhP+xrqz8S6T4NvrHUZbPxFb6lb2dvexvJdQxR2ZdwS3zFmVhvJwX6kcmvSPCWiX3hzwjY6LeahBfPYW6W0FxHamEGNECruUu2TxyQRn0FUPDPhnXdEu9bnvtcsbw6tcG7xDpjQ+TMY0jBGZnyoWNflPOf4qAOX8J69d6Tq1ymoad+7e+KzSNcAm0+2Xs3loFAIc+cxRiGAASMjdnj1OuUuPA6yapaS29+YrKNbQXVs8O9pzayGSFg+4bTvOWyG3YHTknq6ACiiigAooooAKKKKACiiigAooooAKKKKACiiigDm77/AJKnoX/YF1L/ANH2NXfF2nXWseCdb03Tm23d5p88EBLbcO8bKvPbkjmqV9/yVPQv+wLqX/o+xroZUMsLxh2jLKV3p95c9x70AeWa74ga9TwNbW2j6hYTQa3aJN9rtHgEDeW6tGhYASfLv5TK7QeegO18QdKe18I6xDp+mxHSdQElxrc0czG4VCoEjRREbWYovd1xjIVjxWhpHg/UIb3TLjxJrp1k6OrCy/0byjuK7PNlJdvMk2kjcNo+Zjtyahu/BGoy/wBs2dn4g8jSdbmklvIXtTJcL5iBHWKUyAIpA4yjYzwaAOss5oLixgms3ElvJGrxODkMpGQfyqHUdOt9Qjha4t0nktZRc24dyoWVQdpyOnU9j16GqsGk3lnq9o1lqQg0a1svsw0sWykFwRtk8z7wwoxt6d6Z4l0GTXrWzFtfPY3VjdpeW8oUuhdQwAdAV3rhjkZHbnigDltH1mLQ9e8W6l4sWKw1Zba3ubmGGXdB9lUSLEySNt3ZYSAllTBwMYAJw9A13w5/wuDTr9/EmjXepanpV1HcSW+oRyL5zz23lW6HPOFBCrwWwzYyTXoGieHJrHWbzW9Yvk1DVruGO3aWK38iKKFCzKiIWYgbnYkliST7Cqlx4a1ub4hW3iNNasUtbe2e0WyOmsXMUjRu+ZfO+9mIYO3AHY9aAItbijX4o+FZFjUSNBfBnC8n5Iuprl/GkWpaHqFzdPbSixGpyaot7FMuWU2DQPEFzu8wDzHBxt+VBuycDqda8M+IdR8Zafrdjr+n2kGnLIsFpLpTylhIqh97idcnK5GAuM8561ra54eh1+C6gvJnWGeyktFEYwY/M+84J4J4XHHGD1zQAnhvVH1Gzube5so7C702f7JcW0Mvmxxt5aSKFfauQUkQ/dHXHatisjw9o0+kQ3kl/eJe31/cm5up44PJRm2JGNqbmwAkaDqema16ACiiigAooooAKKKKACiiigAooooAKKKKACub+I//ACSzxX/2Bbz/ANEPXSVzfxH/AOSWeK/+wLef+iHoA8vooooAKKKKACiiigAooooAKKKKACiiigAooooAKKKKACiiigAooooAKKKKACiiigArpPhb/wAjl4k/68NP/wDRl3XN10nwt/5HLxJ/14af/wCjLugD1CiiigArm77/AJKnoX/YF1L/ANH2NdJXP65oeq3mv6dq+h6nZ2NxZ2txast5YtcpIszQsSAssZBBgHc/eNAHQUVzf2Hxv/0MPh//AMEM/wD8mUfYfG//AEMPh/8A8EM//wAmUAdJRXN/YfG//Qw+H/8AwQz/APyZR9h8b/8AQw+H/wDwQz//ACZQB0lFc39h8b/9DD4f/wDBDP8A/JlH2Hxv/wBDD4f/APBDP/8AJlAHSUVzf2Hxv/0MPh//AMEM/wD8mUfYfG//AEMPh/8A8EM//wAmUAdJRXN/YfG//Qw+H/8AwQz/APyZR9h8b/8AQw+H/wDwQz//ACZQB0lFc39h8b/9DD4f/wDBDP8A/JlH2Hxv/wBDD4f/APBDP/8AJlAHSUVzf2Hxv/0MPh//AMEM/wD8mUfYfG//AEMPh/8A8EM//wAmUAdJRXN/YfG//Qw+H/8AwQz/APyZR9h8b/8AQw+H/wDwQz//ACZQB0lFc39h8b/9DD4f/wDBDP8A/JlH2Hxv/wBDD4f/APBDP/8AJlAHSUVzf2Hxv/0MPh//AMEM/wD8mUfYfG//AEMPh/8A8EM//wAmUAdJRXN/YfG//Qw+H/8AwQz/APyZR9h8b/8AQw+H/wDwQz//ACZQB0lFc39h8b/9DD4f/wDBDP8A/JlH2Hxv/wBDD4f/APBDP/8AJlAHSVzfw4/5JZ4U/wCwLZ/+iEo+w+N/+hh8P/8Aghn/APkyqOieHPGOg6Bp+kWfiTQ3t9PtY7WJpdCmLsqKFBYi7Azgc4AoA7Kiub+w+N/+hh8P/wDghn/+TKPsPjf/AKGHw/8A+CGf/wCTKAOkorm/sPjf/oYfD/8A4IZ//kyj7D43/wChh8P/APghn/8AkygDpKK5v7D43/6GHw//AOCGf/5Mo+w+N/8AoYfD/wD4IZ//AJMoA6Siub+w+N/+hh8P/wDghn/+TKPsPjf/AKGHw/8A+CGf/wCTKAOkorm/sPjf/oYfD/8A4IZ//kyj7D43/wChh8P/APghn/8AkygDpKK5v7D43/6GHw//AOCGf/5Mo+w+N/8AoYfD/wD4IZ//AJMoA6Siub+w+N/+hh8P/wDghn/+TKPsPjf/AKGHw/8A+CGf/wCTKAOkorm/sPjf/oYfD/8A4IZ//kyj7D43/wChh8P/APghn/8AkygDpKK5v7D43/6GHw//AOCGf/5Mo+w+N/8AoYfD/wD4IZ//AJMoA6Siub+w+N/+hh8P/wDghn/+TKPsPjf/AKGHw/8A+CGf/wCTKAOkorm/sPjf/oYfD/8A4IZ//kyj7D43/wChh8P/APghn/8AkygDpKK5v7D43/6GHw//AOCGf/5Mo+w+N/8AoYfD/wD4IZ//AJMoAL7/AJKnoX/YF1L/ANH2NdJXGy+HPGM2v2mrt4k0MXFraz2qKNCm2FZWiZiR9rznMK457nrxi99h8b/9DD4f/wDBDP8A/JlAHSUVzf2Hxv8A9DD4f/8ABDP/APJlH2Hxv/0MPh//AMEM/wD8mUAdJRXN/YfG/wD0MPh//wAEM/8A8mUfYfG//Qw+H/8AwQz/APyZQB0lFc39h8b/APQw+H//AAQz/wDyZR9h8b/9DD4f/wDBDP8A/JlAHSUVzf2Hxv8A9DD4f/8ABDP/APJlH2Hxv/0MPh//AMEM/wD8mUAdJRXN/YfG/wD0MPh//wAEM/8A8mUfYfG//Qw+H/8AwQz/APyZQB0lFc39h8b/APQw+H//AAQz/wDyZR9h8b/9DD4f/wDBDP8A/JlAHSUVzf2Hxv8A9DD4f/8ABDP/APJlH2Hxv/0MPh//AMEM/wD8mUAdJRXN/YfG/wD0MPh//wAEM/8A8mUfYfG//Qw+H/8AwQz/APyZQB0lFc39h8b/APQw+H//AAQz/wDyZR9h8b/9DD4f/wDBDP8A/JlAHSUVzf2Hxv8A9DD4f/8ABDP/APJlH2Hxv/0MPh//AMEM/wD8mUAdJRXN/YfG/wD0MPh//wAEM/8A8mUfYfG//Qw+H/8AwQz/APyZQB0lc38R/wDklniv/sC3n/oh6PsPjf8A6GHw/wD+CGf/AOTKo634c8Y69oGoaReeJNDS31C1ktZWi0KYOqupUlSbsjODxkGgDz2iuz/4V7rH/QS8P/8Agnuv/k6j/hXusf8AQS8P/wDgnuv/AJOoA4yiuz/4V7rH/QS8P/8Agnuv/k6j/hXusf8AQS8P/wDgnuv/AJOoA4yiuz/4V7rH/QS8P/8Agnuv/k6j/hXusf8AQS8P/wDgnuv/AJOoA4yiuz/4V7rH/QS8P/8Agnuv/k6j/hXusf8AQS8P/wDgnuv/AJOoA4yiuz/4V7rH/QS8P/8Agnuv/k6j/hXusf8AQS8P/wDgnuv/AJOoA4yiuz/4V7rH/QS8P/8Agnuv/k6j/hXusf8AQS8P/wDgnuv/AJOoA4yiuz/4V7rH/QS8P/8Agnuv/k6j/hXusf8AQS8P/wDgnuv/AJOoA4yiuz/4V7rH/QS8P/8Agnuv/k6j/hXusf8AQS8P/wDgnuv/AJOoA4yiuz/4V7rH/QS8P/8Agnuv/k6j/hXusf8AQS8P/wDgnuv/AJOoA4yiuz/4V7rH/QS8P/8Agnuv/k6j/hXusf8AQS8P/wDgnuv/AJOoA4yiuz/4V7rH/QS8P/8Agnuv/k6j/hXusf8AQS8P/wDgnuv/AJOoA4yiuz/4V7rH/QS8P/8Agnuv/k6j/hXusf8AQS8P/wDgnuv/AJOoA4yuk+Fv/I5eJP8Arw0//wBGXdX/APhXusf9BLw//wCCe6/+Tq1vCXg+58O6vqWoXl7Z3D30FvAI7OzkgRBE0rZO+aUknzvUAbRxQB1dFFFABRRRQAUUUUAFFFFABRRRQAUUUUAFFFFABRRRQAUUUUAFFFFABRRRQAUUUUAFFFFABRRRQAUUUUAFFFFABRRRQAUUUUAFFFFABRRRQAUUUUAFFFFABRRRQAUUUUAFFFFABRRRQAUUUUAFFFFABRRRQAUUUUAFFFFABRRRQAUUUUAFFFFABRRRQAUUUUAFFFFABRRRQAUUUUAFFFFABRRRQAUUUUAFFFFABRRRQAUUUUAFFFFABRRRQAUUUUAFFFFABRRRQAUUUUAFFFFABRRRQAUUUUAf/9k=)"
      ]
    },
    {
      "cell_type": "markdown",
      "metadata": {
        "id": "aJvk4bomzrvV"
      },
      "source": [
        "The prediction for accuracy on 1 stars is lower than 5 stars."
      ]
    },
    {
      "cell_type": "code",
      "metadata": {
        "colab": {
          "base_uri": "https://localhost:8080/"
        },
        "id": "3JmqsvFQaGji",
        "outputId": "d5a53a11-757b-4ba6-d239-bf89693a7866"
      },
      "source": [
        "#2.2 False Positive reviews\n",
        "X_test[(y_test == 1) & (y_pred_class==5)]"
      ],
      "execution_count": 49,
      "outputs": [
        {
          "output_type": "execute_result",
          "data": {
            "text/plain": [
              "2175    This has to be the worst restaurant in terms o...\n",
              "1781    If you like the stuck up Scottsdale vibe this ...\n",
              "2674    I'm sorry to be what seems to be the lone one ...\n",
              "9984    Went last night to Whore Foods to get basics t...\n",
              "3392    I found Lisa G's while driving through phoenix...\n",
              "8283    Don't know where I should start. Grand opening...\n",
              "2765    Went last week, and ordered a dozen variety. I...\n",
              "2839    Never Again,\\nI brought my Mountain Bike in (w...\n",
              "321     My wife and I live around the corner, hadn't e...\n",
              "1919                                         D-scust-ing.\n",
              "2490    Lazy Q CLOSED in 2010.  New Owners cleaned up ...\n",
              "9125    La Grande Orange Grocery has a problem. It can...\n",
              "9185    For frozen yogurt quality, I give this place a...\n",
              "436     this another place that i would give no stars ...\n",
              "2051    Sadly with new owners comes changes on menu.  ...\n",
              "1721    This is the closest to a New York hipster styl...\n",
              "3447    If you want a school that cares more about you...\n",
              "842     Boy is the name a temptation.Seriously :)  I'l...\n",
              "6159    Really, if I could, I would give this place ze...\n",
              "943     Don't waste your time...Arrowhead mall on the ...\n",
              "5977    You want good food? You'd be better off smuggl...\n",
              "8833    The owner has changed hands & this place isn't...\n",
              "6584    Jimmy Johns is cheaper and better ... The Capr...\n",
              "1899    Buca Di Beppo is literally, italian restaurant...\n",
              "9953    \"Hipster,Trendy\" ????-I think NOT !!!! Very di...\n",
              "2060                This place is closed.  Good riddance.\n",
              "3082    Currently having a liquidation sale, but it's ...\n",
              "8220    Maybe I ate at a different restaurant than the...\n",
              "3634    Seriously?! With grocery stores like Fresh & E...\n",
              "3266    Absolutely awful... these guys have NO idea wh...\n",
              "7397    This place sucks!! I moved to the valley and h...\n",
              "4473    It is what you would expect from any themed pl...\n",
              "5502    Angry Bro Bar !  Please go here if you wear si...\n",
              "2615    Great in its day, now leaves a lot to be desir...\n",
              "3413    I purchased the Enotria groupon when it was re...\n",
              "2999    I can't even believe I actually went to this r...\n",
              "1372    No offense to everyone who gave this place 5 s...\n",
              "1291    Every time I come here the staff is so rude! I...\n",
              "6222    My mother always told me, if I didn't have any...\n",
              "9296    My boyfriend and I tried this place last year ...\n",
              "7975    What are you all talking about?! This place is...\n",
              "4630    I used to always go here for tires until my me...\n",
              "7130    I was not impressed. The food was bad & expens...\n",
              "5818    Most horrible buffet I have ever been to.\\n\\nM...\n",
              "3704    Staff is nice, and that's it.\\nThey use very c...\n",
              "8741    They served us stale rice.  Average main dishe...\n",
              "3938    We were so disappointed!  We were on vacation ...\n",
              "7631    this is a business located in the fry's grocer...\n",
              "8681    As I promised myself, I'd go back again to try...\n",
              "1532    Cold, under done chips. If a Mexican food rest...\n",
              "113     Unless you are a regular or look like your wal...\n",
              "4165    OMG! what is the rave about? this place is dis...\n",
              "9299    The salad plates were not chilled... As they u...\n",
              "4311    Donuts are really good, if they have any when ...\n",
              "7035    Totally excited to try this place out, my gran...\n",
              "8000    Still a place that is unacceptable in my book-...\n",
              "3755    Have been going to LGO since 2003 and have alw...\n",
              "507     HELLISH HELLISH SUMMER WEATHER (March thru Oct...\n",
              "Name: text, dtype: object"
            ]
          },
          "metadata": {},
          "execution_count": 49
        }
      ]
    },
    {
      "cell_type": "code",
      "metadata": {
        "colab": {
          "base_uri": "https://localhost:8080/"
        },
        "id": "wS6GIqBjaGjj",
        "outputId": "93cf686f-5345-461b-84a2-1879aa84cb63"
      },
      "source": [
        "#2.2 False Negative message\n",
        "X_test[(y_test == 5) & (y_pred_class==1)]"
      ],
      "execution_count": 50,
      "outputs": [
        {
          "output_type": "execute_result",
          "data": {
            "text/plain": [
              "7148    I now consider myself an Arizonian. If you dri...\n",
              "4963    This is by far my favourite department store, ...\n",
              "6318    Since I have ranted recently on poor customer ...\n",
              "380     This is a must try for any Mani Pedi fan. I us...\n",
              "5565    I`ve had work done by this shop a few times th...\n",
              "3448    I was there last week with my sisters and whil...\n",
              "6050    I went to sears today to check on a layaway th...\n",
              "2504    I've passed by prestige nails in walmart 100s ...\n",
              "2475    This place is so great! I am a nanny and had t...\n",
              "241     I was sad to come back to lai lai's and they n...\n",
              "3149    I was told to see Greg after a local shop diag...\n",
              "423     These guys helped me out with my rear windshie...\n",
              "763     Here's the deal. I said I was done with OT, bu...\n",
              "8956    I took my computer to RedSeven recently when m...\n",
              "750     This store has the most pleasant employees of ...\n",
              "9765    You can't give anything less than 5 stars to a...\n",
              "6334    I came here today for a manicure and pedicure....\n",
              "1282    Loved my haircut. Walked in and waited for jus...\n",
              "1266    I've never been to this location before. My hu...\n",
              "402     Once again Wildflower proves why it's my favor...\n",
              "4034    \"Fine dining\" is not just a setting.  it isn't...\n",
              "2444    EXCELLENT CUSTOMER SERVICE! \\n\\nEven with Happ...\n",
              "2494    What a great surprise stumbling across this ba...\n",
              "5736    Thank goodness for Sue at Mill Avenue Travel. ...\n",
              "7903    First, I'm sorry this review is lengthy, but i...\n",
              "Name: text, dtype: object"
            ]
          },
          "metadata": {},
          "execution_count": 50
        }
      ]
    },
    {
      "cell_type": "markdown",
      "metadata": {
        "id": "8WrcVoTd0B26"
      },
      "source": [
        "For False positive reviews, we were able to identify common wordings in the reviews, such as ‘good’,’nice’,’impressive’ in it, generally positive, however these words are used in a sarcastic manner or are combined with other wordings that might result in a negative meaning . The machine learning correlates wordings with 5 star ratings training data set, resulting in these False positive reviews.\n",
        "\n",
        "For False negative reviews, there are negative words, such as ‘sad’ in it. The machine learning correlates negative wordings with 1 star ratings, resulting in these false negative reviews. \n",
        "\n",
        "The percentage of False positive reviews (93.341%) is lower than the percentage of False negative reviews(83.44%). \n"
      ]
    },
    {
      "cell_type": "code",
      "metadata": {
        "colab": {
          "base_uri": "https://localhost:8080/",
          "height": 359
        },
        "id": "jTC_KXK7aGjk",
        "outputId": "d2ad4ecc-8252-42da-efaf-61794263f20b"
      },
      "source": [
        "#2.3 top 10 token words in the training data that are most predictive of 5-star reviews\n",
        "X_train_tokens = vect_review1_5.get_feature_names()\n",
        "tokens = pd.DataFrame({'one':nb.feature_count_[0, :], 'five':nb.feature_count_[1, :]}, index=X_train_tokens)\n",
        "tokens['one'] = tokens['one'] + 1\n",
        "tokens['five'] = tokens['five'] + 1\n",
        "tokens['one'] = tokens.one/nb.class_count_[0]\n",
        "tokens['five'] = tokens.five/nb.class_count_[1]\n",
        "tokens['rating_5_ratio'] = tokens.five/tokens.one\n",
        "tokens.sort_values('rating_5_ratio', ascending=False).head(10)"
      ],
      "execution_count": 51,
      "outputs": [
        {
          "output_type": "execute_result",
          "data": {
            "text/html": [
              "<div>\n",
              "<style scoped>\n",
              "    .dataframe tbody tr th:only-of-type {\n",
              "        vertical-align: middle;\n",
              "    }\n",
              "\n",
              "    .dataframe tbody tr th {\n",
              "        vertical-align: top;\n",
              "    }\n",
              "\n",
              "    .dataframe thead th {\n",
              "        text-align: right;\n",
              "    }\n",
              "</style>\n",
              "<table border=\"1\" class=\"dataframe\">\n",
              "  <thead>\n",
              "    <tr style=\"text-align: right;\">\n",
              "      <th></th>\n",
              "      <th>one</th>\n",
              "      <th>five</th>\n",
              "      <th>rating_5_ratio</th>\n",
              "    </tr>\n",
              "  </thead>\n",
              "  <tbody>\n",
              "    <tr>\n",
              "      <th>fantastic</th>\n",
              "      <td>0.003540</td>\n",
              "      <td>0.077231</td>\n",
              "      <td>21.817727</td>\n",
              "    </tr>\n",
              "    <tr>\n",
              "      <th>perfect</th>\n",
              "      <td>0.005310</td>\n",
              "      <td>0.098039</td>\n",
              "      <td>18.464052</td>\n",
              "    </tr>\n",
              "    <tr>\n",
              "      <th>yum</th>\n",
              "      <td>0.001770</td>\n",
              "      <td>0.024810</td>\n",
              "      <td>14.017607</td>\n",
              "    </tr>\n",
              "    <tr>\n",
              "      <th>favorite</th>\n",
              "      <td>0.012389</td>\n",
              "      <td>0.138055</td>\n",
              "      <td>11.143029</td>\n",
              "    </tr>\n",
              "    <tr>\n",
              "      <th>outstanding</th>\n",
              "      <td>0.001770</td>\n",
              "      <td>0.019608</td>\n",
              "      <td>11.078431</td>\n",
              "    </tr>\n",
              "    <tr>\n",
              "      <th>brunch</th>\n",
              "      <td>0.001770</td>\n",
              "      <td>0.016807</td>\n",
              "      <td>9.495798</td>\n",
              "    </tr>\n",
              "    <tr>\n",
              "      <th>gem</th>\n",
              "      <td>0.001770</td>\n",
              "      <td>0.016006</td>\n",
              "      <td>9.043617</td>\n",
              "    </tr>\n",
              "    <tr>\n",
              "      <th>mozzarella</th>\n",
              "      <td>0.001770</td>\n",
              "      <td>0.015606</td>\n",
              "      <td>8.817527</td>\n",
              "    </tr>\n",
              "    <tr>\n",
              "      <th>pasty</th>\n",
              "      <td>0.001770</td>\n",
              "      <td>0.015606</td>\n",
              "      <td>8.817527</td>\n",
              "    </tr>\n",
              "    <tr>\n",
              "      <th>amazing</th>\n",
              "      <td>0.021239</td>\n",
              "      <td>0.185274</td>\n",
              "      <td>8.723323</td>\n",
              "    </tr>\n",
              "  </tbody>\n",
              "</table>\n",
              "</div>"
            ],
            "text/plain": [
              "                  one      five  rating_5_ratio\n",
              "fantastic    0.003540  0.077231       21.817727\n",
              "perfect      0.005310  0.098039       18.464052\n",
              "yum          0.001770  0.024810       14.017607\n",
              "favorite     0.012389  0.138055       11.143029\n",
              "outstanding  0.001770  0.019608       11.078431\n",
              "brunch       0.001770  0.016807        9.495798\n",
              "gem          0.001770  0.016006        9.043617\n",
              "mozzarella   0.001770  0.015606        8.817527\n",
              "pasty        0.001770  0.015606        8.817527\n",
              "amazing      0.021239  0.185274        8.723323"
            ]
          },
          "metadata": {},
          "execution_count": 51
        }
      ]
    },
    {
      "cell_type": "markdown",
      "metadata": {
        "id": "hsobvCep02-m"
      },
      "source": [
        "The top ten token words in the training data for 5 star reviews are mostly positive adjectives, yet, some are totally unrelated or neutral words that does not necessary correlates to the star ratings, such as ‘brunch’ and ‘gem’. "
      ]
    },
    {
      "cell_type": "code",
      "metadata": {
        "colab": {
          "base_uri": "https://localhost:8080/",
          "height": 359
        },
        "id": "luDhpbIEaGjl",
        "outputId": "46756c79-6193-4caa-c64c-c7ca9dc2c8da"
      },
      "source": [
        "#2.3 top 10 token words that are most predictive for 1-star reviews\n",
        "tokens.drop('rating_5_ratio',axis=1,inplace=True)\n",
        "tokens['rating_1_ratio'] = tokens.one/tokens.five\n",
        "tokens.sort_values('rating_1_ratio', ascending=False).head(10)"
      ],
      "execution_count": 52,
      "outputs": [
        {
          "output_type": "execute_result",
          "data": {
            "text/html": [
              "<div>\n",
              "<style scoped>\n",
              "    .dataframe tbody tr th:only-of-type {\n",
              "        vertical-align: middle;\n",
              "    }\n",
              "\n",
              "    .dataframe tbody tr th {\n",
              "        vertical-align: top;\n",
              "    }\n",
              "\n",
              "    .dataframe thead th {\n",
              "        text-align: right;\n",
              "    }\n",
              "</style>\n",
              "<table border=\"1\" class=\"dataframe\">\n",
              "  <thead>\n",
              "    <tr style=\"text-align: right;\">\n",
              "      <th></th>\n",
              "      <th>one</th>\n",
              "      <th>five</th>\n",
              "      <th>rating_1_ratio</th>\n",
              "    </tr>\n",
              "  </thead>\n",
              "  <tbody>\n",
              "    <tr>\n",
              "      <th>staffperson</th>\n",
              "      <td>0.030088</td>\n",
              "      <td>0.0004</td>\n",
              "      <td>75.191150</td>\n",
              "    </tr>\n",
              "    <tr>\n",
              "      <th>refused</th>\n",
              "      <td>0.024779</td>\n",
              "      <td>0.0004</td>\n",
              "      <td>61.922124</td>\n",
              "    </tr>\n",
              "    <tr>\n",
              "      <th>disgusting</th>\n",
              "      <td>0.042478</td>\n",
              "      <td>0.0008</td>\n",
              "      <td>53.076106</td>\n",
              "    </tr>\n",
              "    <tr>\n",
              "      <th>filthy</th>\n",
              "      <td>0.019469</td>\n",
              "      <td>0.0004</td>\n",
              "      <td>48.653097</td>\n",
              "    </tr>\n",
              "    <tr>\n",
              "      <th>unacceptable</th>\n",
              "      <td>0.015929</td>\n",
              "      <td>0.0004</td>\n",
              "      <td>39.807080</td>\n",
              "    </tr>\n",
              "    <tr>\n",
              "      <th>acknowledge</th>\n",
              "      <td>0.015929</td>\n",
              "      <td>0.0004</td>\n",
              "      <td>39.807080</td>\n",
              "    </tr>\n",
              "    <tr>\n",
              "      <th>unprofessional</th>\n",
              "      <td>0.015929</td>\n",
              "      <td>0.0004</td>\n",
              "      <td>39.807080</td>\n",
              "    </tr>\n",
              "    <tr>\n",
              "      <th>ugh</th>\n",
              "      <td>0.030088</td>\n",
              "      <td>0.0008</td>\n",
              "      <td>37.595575</td>\n",
              "    </tr>\n",
              "    <tr>\n",
              "      <th>yuck</th>\n",
              "      <td>0.028319</td>\n",
              "      <td>0.0008</td>\n",
              "      <td>35.384071</td>\n",
              "    </tr>\n",
              "    <tr>\n",
              "      <th>fuse</th>\n",
              "      <td>0.014159</td>\n",
              "      <td>0.0004</td>\n",
              "      <td>35.384071</td>\n",
              "    </tr>\n",
              "  </tbody>\n",
              "</table>\n",
              "</div>"
            ],
            "text/plain": [
              "                     one    five  rating_1_ratio\n",
              "staffperson     0.030088  0.0004       75.191150\n",
              "refused         0.024779  0.0004       61.922124\n",
              "disgusting      0.042478  0.0008       53.076106\n",
              "filthy          0.019469  0.0004       48.653097\n",
              "unacceptable    0.015929  0.0004       39.807080\n",
              "acknowledge     0.015929  0.0004       39.807080\n",
              "unprofessional  0.015929  0.0004       39.807080\n",
              "ugh             0.030088  0.0008       37.595575\n",
              "yuck            0.028319  0.0008       35.384071\n",
              "fuse            0.014159  0.0004       35.384071"
            ]
          },
          "metadata": {},
          "execution_count": 52
        }
      ]
    },
    {
      "cell_type": "markdown",
      "metadata": {
        "id": "ObiqoNZh05nv"
      },
      "source": [
        "While the top ten token words in the training data for 1 star reviews are mostly negative adjectives, such as ‘disgusting’, ‘filthy’ , however some are totally unrelated or neutral words that does not necessary correlates to the star ratings,such as ‘staff person’ bring the number 1 on the list, this might imply that a lot of the dissatisfaction of the restaurant in the data set are correlated to the staffs or service in the restaurants."
      ]
    },
    {
      "cell_type": "markdown",
      "metadata": {
        "id": "6TC7ILqI3Uyz"
      },
      "source": [
        "Logistics regression"
      ]
    },
    {
      "cell_type": "code",
      "metadata": {
        "colab": {
          "base_uri": "https://localhost:8080/"
        },
        "id": "eW4IJ97LaGjl",
        "outputId": "1b485db2-01d7-4d55-ea94-0bf422eda1fa"
      },
      "source": [
        "from sklearn.linear_model import LogisticRegression\n",
        "logreg = LogisticRegression()\n",
        "logreg.fit(X_train_dtm, y_train)\n",
        "y_pred_logreg = logreg.predict(X_test_dtm)\n",
        "metrics.accuracy_score(y_test, y_pred_logreg)"
      ],
      "execution_count": 53,
      "outputs": [
        {
          "output_type": "stream",
          "name": "stderr",
          "text": [
            "/usr/local/lib/python3.7/dist-packages/sklearn/linear_model/_logistic.py:940: ConvergenceWarning: lbfgs failed to converge (status=1):\n",
            "STOP: TOTAL NO. of ITERATIONS REACHED LIMIT.\n",
            "\n",
            "Increase the number of iterations (max_iter) or scale the data as shown in:\n",
            "    https://scikit-learn.org/stable/modules/preprocessing.html\n",
            "Please also refer to the documentation for alternative solver options:\n",
            "    https://scikit-learn.org/stable/modules/linear_model.html#logistic-regression\n",
            "  extra_warning_msg=_LOGISTIC_SOLVER_CONVERGENCE_MSG)\n"
          ]
        },
        {
          "output_type": "execute_result",
          "data": {
            "text/plain": [
              "0.9256360078277887"
            ]
          },
          "metadata": {},
          "execution_count": 53
        }
      ]
    },
    {
      "cell_type": "markdown",
      "metadata": {
        "id": "ynNjh2WSaGjl"
      },
      "source": [
        "Conclusion: Logistic Regression gives a higher accuracy rate than naive bayes in the sama dataset using the default test and train split rate"
      ]
    },
    {
      "cell_type": "markdown",
      "metadata": {
        "id": "R4ktmVhiaGjm"
      },
      "source": [
        "### Part 3: Filter unreliable reviews "
      ]
    },
    {
      "cell_type": "code",
      "metadata": {
        "colab": {
          "base_uri": "https://localhost:8080/"
        },
        "id": "faj-obKqaGjm",
        "outputId": "63cab191-dbb4-4b8a-9778-92ae79a3f134"
      },
      "source": [
        "#3.1 better prediction accuracy by filtering out some unreliable reviews\n",
        "new=data[(data.cool<10) & (data.useful < 10) & (data.funny<10)]\n",
        "X=new.text\n",
        "y=new.stars\n",
        "from sklearn.model_selection import train_test_split\n",
        "X_train, X_test, y_train, y_test = train_test_split(X, y, random_state=1)\n",
        "vect_new = CountVectorizer()\n",
        "vect_new.fit(X_train)\n",
        "\n",
        "# 'document-term matrix'\n",
        "X_train_dtm = vect_new.transform(X_train)\n",
        "X_train_dtm = vect_new.fit_transform(X_train)\n",
        "X_test_dtm = vect_new.transform(X_test)\n",
        "\n",
        "#Multinomial Naive Bayes model\n",
        "from sklearn.naive_bayes import MultinomialNB\n",
        "nb = MultinomialNB()\n",
        "nb.fit(X_train_dtm, y_train)\n",
        "y_pred_class = nb.predict(X_test_dtm)\n",
        "\n",
        "#prediction accuracy\n",
        "from sklearn import metrics\n",
        "metrics.accuracy_score(y_test, y_pred_class)"
      ],
      "execution_count": 54,
      "outputs": [
        {
          "output_type": "execute_result",
          "data": {
            "text/plain": [
              "0.4804719283970708"
            ]
          },
          "metadata": {},
          "execution_count": 54
        }
      ]
    },
    {
      "cell_type": "code",
      "metadata": {
        "colab": {
          "base_uri": "https://localhost:8080/"
        },
        "id": "ahMiClFbaGjm",
        "outputId": "e0568e08-5e9b-40ec-f0df-bd37663197cd"
      },
      "source": [
        "len(new)"
      ],
      "execution_count": 55,
      "outputs": [
        {
          "output_type": "execute_result",
          "data": {
            "text/plain": [
              "9830"
            ]
          },
          "metadata": {},
          "execution_count": 55
        }
      ]
    },
    {
      "cell_type": "markdown",
      "metadata": {
        "id": "RWPUUS5UaGjm"
      },
      "source": [
        "3.1) After removing 170 reviews out of 10000 with abnormally high scores in 'cool','useful' and 'funny', the prediction accuracy improves to 0.48 (previous rate is 0.471)."
      ]
    },
    {
      "cell_type": "code",
      "metadata": {
        "colab": {
          "base_uri": "https://localhost:8080/"
        },
        "id": "DwtHVTrFaGjm",
        "outputId": "30d8f0ce-5c9b-416b-b4dd-358860bf4df1"
      },
      "source": [
        "from sklearn.linear_model import LogisticRegression\n",
        "logreg = LogisticRegression()\n",
        "logreg.fit(X_train_dtm, y_train)\n",
        "y_pred_logreg = logreg.predict(X_test_dtm)\n",
        "metrics.accuracy_score(y_test, y_pred_logreg)"
      ],
      "execution_count": 56,
      "outputs": [
        {
          "output_type": "stream",
          "name": "stderr",
          "text": [
            "/usr/local/lib/python3.7/dist-packages/sklearn/linear_model/_logistic.py:940: ConvergenceWarning: lbfgs failed to converge (status=1):\n",
            "STOP: TOTAL NO. of ITERATIONS REACHED LIMIT.\n",
            "\n",
            "Increase the number of iterations (max_iter) or scale the data as shown in:\n",
            "    https://scikit-learn.org/stable/modules/preprocessing.html\n",
            "Please also refer to the documentation for alternative solver options:\n",
            "    https://scikit-learn.org/stable/modules/linear_model.html#logistic-regression\n",
            "  extra_warning_msg=_LOGISTIC_SOLVER_CONVERGENCE_MSG)\n"
          ]
        },
        {
          "output_type": "execute_result",
          "data": {
            "text/plain": [
              "0.5069161920260374"
            ]
          },
          "metadata": {},
          "execution_count": 56
        }
      ]
    },
    {
      "cell_type": "markdown",
      "metadata": {
        "id": "TDk8FeA76ZX9"
      },
      "source": [
        "The accuracy increased by 0.01 after filtering some unreliable reviews. However, the accuracy score is still very low. This might mean that we need to weight the analysis on 1 to 5 stars together into lower ranking ,or consider another an alternative for evaluating the reviews of the restaurants are taking the 2 cases (i.e 1 and 5 stars) to predict the stars from the text, it is proven to be more accurate which will be demonstrated in the following tasks."
      ]
    }
  ]
}